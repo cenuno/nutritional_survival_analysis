{
 "cells": [
  {
   "cell_type": "code",
   "execution_count": 1,
   "metadata": {},
   "outputs": [],
   "source": [
    "import pandas as pd\n",
    "import numpy as np\n",
    "import json"
   ]
  },
  {
   "cell_type": "code",
   "execution_count": 90,
   "metadata": {
    "scrolled": true
   },
   "outputs": [],
   "source": [
    "# !head data/mfp-diaries.tsv"
   ]
  },
  {
   "cell_type": "markdown",
   "metadata": {},
   "source": [
    "## Exploratory Data Analysis"
   ]
  },
  {
   "cell_type": "code",
   "execution_count": 87,
   "metadata": {},
   "outputs": [],
   "source": [
    "df = pd.read_csv('data/mfp-diaries.tsv',\n",
    "                  sep='\\t',\n",
    "                  header=None,\n",
    "                  names=['userId','diary_date','food_entries','daily_goal'])"
   ]
  },
  {
   "cell_type": "code",
   "execution_count": 88,
   "metadata": {},
   "outputs": [
    {
     "data": {
      "text/html": [
       "<div>\n",
       "<style scoped>\n",
       "    .dataframe tbody tr th:only-of-type {\n",
       "        vertical-align: middle;\n",
       "    }\n",
       "\n",
       "    .dataframe tbody tr th {\n",
       "        vertical-align: top;\n",
       "    }\n",
       "\n",
       "    .dataframe thead th {\n",
       "        text-align: right;\n",
       "    }\n",
       "</style>\n",
       "<table border=\"1\" class=\"dataframe\">\n",
       "  <thead>\n",
       "    <tr style=\"text-align: right;\">\n",
       "      <th></th>\n",
       "      <th>userId</th>\n",
       "      <th>diary_date</th>\n",
       "      <th>food_entries</th>\n",
       "      <th>daily_goal</th>\n",
       "    </tr>\n",
       "  </thead>\n",
       "  <tbody>\n",
       "    <tr>\n",
       "      <th>0</th>\n",
       "      <td>1</td>\n",
       "      <td>2014-09-14</td>\n",
       "      <td>[{\"meal\": \"MY food\", \"dishes\": [{\"nutritions\":...</td>\n",
       "      <td>{\"total\": [{\"name\": \"Calories\", \"value\": 2924}...</td>\n",
       "    </tr>\n",
       "    <tr>\n",
       "      <th>1</th>\n",
       "      <td>1</td>\n",
       "      <td>2014-09-15</td>\n",
       "      <td>[{\"meal\": \"MY food\", \"dishes\": [{\"nutritions\":...</td>\n",
       "      <td>{\"total\": [{\"name\": \"Calories\", \"value\": 2430}...</td>\n",
       "    </tr>\n",
       "    <tr>\n",
       "      <th>2</th>\n",
       "      <td>1</td>\n",
       "      <td>2014-09-16</td>\n",
       "      <td>[{\"meal\": \"MY food\", \"dishes\": [{\"nutritions\":...</td>\n",
       "      <td>{\"total\": [{\"name\": \"Calories\", \"value\": 1862}...</td>\n",
       "    </tr>\n",
       "    <tr>\n",
       "      <th>3</th>\n",
       "      <td>1</td>\n",
       "      <td>2014-09-17</td>\n",
       "      <td>[{\"meal\": \"MY food\", \"dishes\": [{\"nutritions\":...</td>\n",
       "      <td>{\"total\": [{\"name\": \"Calories\", \"value\": 2251}...</td>\n",
       "    </tr>\n",
       "    <tr>\n",
       "      <th>4</th>\n",
       "      <td>1</td>\n",
       "      <td>2014-09-18</td>\n",
       "      <td>[{\"meal\": \"MY food\", \"dishes\": [{\"nutritions\":...</td>\n",
       "      <td>{\"total\": [{\"name\": \"Calories\", \"value\": 2001}...</td>\n",
       "    </tr>\n",
       "  </tbody>\n",
       "</table>\n",
       "</div>"
      ],
      "text/plain": [
       "   userId  diary_date                                       food_entries  \\\n",
       "0       1  2014-09-14  [{\"meal\": \"MY food\", \"dishes\": [{\"nutritions\":...   \n",
       "1       1  2014-09-15  [{\"meal\": \"MY food\", \"dishes\": [{\"nutritions\":...   \n",
       "2       1  2014-09-16  [{\"meal\": \"MY food\", \"dishes\": [{\"nutritions\":...   \n",
       "3       1  2014-09-17  [{\"meal\": \"MY food\", \"dishes\": [{\"nutritions\":...   \n",
       "4       1  2014-09-18  [{\"meal\": \"MY food\", \"dishes\": [{\"nutritions\":...   \n",
       "\n",
       "                                          daily_goal  \n",
       "0  {\"total\": [{\"name\": \"Calories\", \"value\": 2924}...  \n",
       "1  {\"total\": [{\"name\": \"Calories\", \"value\": 2430}...  \n",
       "2  {\"total\": [{\"name\": \"Calories\", \"value\": 1862}...  \n",
       "3  {\"total\": [{\"name\": \"Calories\", \"value\": 2251}...  \n",
       "4  {\"total\": [{\"name\": \"Calories\", \"value\": 2001}...  "
      ]
     },
     "execution_count": 88,
     "metadata": {},
     "output_type": "execute_result"
    }
   ],
   "source": [
    "df.head()"
   ]
  },
  {
   "cell_type": "code",
   "execution_count": 89,
   "metadata": {},
   "outputs": [
    {
     "data": {
      "text/plain": [
       "9896"
      ]
     },
     "execution_count": 89,
     "metadata": {},
     "output_type": "execute_result"
    }
   ],
   "source": [
    "len(df['userId'].unique())"
   ]
  },
  {
   "cell_type": "code",
   "execution_count": 118,
   "metadata": {},
   "outputs": [
    {
     "data": {
      "text/plain": [
       "[{'meal': 'MY food',\n",
       "  'dishes': [{'nutritions': [{'name': 'Calories', 'value': '147'},\n",
       "     {'name': 'Carbs', 'value': '36'},\n",
       "     {'name': 'Fat', 'value': '0'},\n",
       "     {'name': 'Protein', 'value': '0'},\n",
       "     {'name': 'Sodium', 'value': '306'},\n",
       "     {'name': 'Sugar', 'value': '36'}],\n",
       "    'name': 'Gatorade - Lemon-Lime (Australia), 600 ml'},\n",
       "   {'nutritions': [{'name': 'Calories', 'value': '412'},\n",
       "     {'name': 'Carbs', 'value': '29'},\n",
       "     {'name': 'Fat', 'value': '24'},\n",
       "     {'name': 'Protein', 'value': '21'},\n",
       "     {'name': 'Sodium', 'value': '258'},\n",
       "     {'name': 'Sugar', 'value': '29'}],\n",
       "    'name': 'my - McDonalds Espresso Pronto® Flat White, 2 TALL'},\n",
       "   {'nutritions': [{'name': 'Calories', 'value': '176'},\n",
       "     {'name': 'Carbs', 'value': '33'},\n",
       "     {'name': 'Fat', 'value': '1'},\n",
       "     {'name': 'Protein', 'value': '5'},\n",
       "     {'name': 'Sodium', 'value': '195'},\n",
       "     {'name': 'Sugar', 'value': '0'}],\n",
       "    'name': 'Uncle Tobys Australia - Vita Brits, 3 Biscuits 33.3g'},\n",
       "   {'nutritions': [{'name': 'Calories', 'value': '342'},\n",
       "     {'name': 'Carbs', 'value': '34'},\n",
       "     {'name': 'Fat', 'value': '12'},\n",
       "     {'name': 'Protein', 'value': '24'},\n",
       "     {'name': 'Sodium', 'value': '402'},\n",
       "     {'name': 'Sugar', 'value': '34'}],\n",
       "    'name': 'Pauls - Smarter White Milk, 600 ml'},\n",
       "   {'nutritions': [{'name': 'Calories', 'value': '145'},\n",
       "     {'name': 'Carbs', 'value': '2'},\n",
       "     {'name': 'Fat', 'value': '1'},\n",
       "     {'name': 'Protein', 'value': '32'},\n",
       "     {'name': 'Sodium', 'value': '70'},\n",
       "     {'name': 'Sugar', 'value': '1'}],\n",
       "    'name': 'Redbak - Sting-chocolate, 40 g'},\n",
       "   {'nutritions': [{'name': 'Calories', 'value': '640'},\n",
       "     {'name': 'Carbs', 'value': '24'},\n",
       "     {'name': 'Fat', 'value': '16'},\n",
       "     {'name': 'Protein', 'value': '32'},\n",
       "     {'name': 'Sodium', 'value': '984'},\n",
       "     {'name': 'Sugar', 'value': '0'}],\n",
       "    'name': 'Generic - Pork Dumplings - Steamed, 8 Dumpling'}],\n",
       "  'sequence': 1}]"
      ]
     },
     "execution_count": 118,
     "metadata": {},
     "output_type": "execute_result"
    }
   ],
   "source": [
    "entry = json.loads(df.iloc[2, 2])\n",
    "entry"
   ]
  },
  {
   "cell_type": "code",
   "execution_count": 119,
   "metadata": {},
   "outputs": [
    {
     "data": {
      "text/plain": [
       "dict_keys(['meal', 'dishes', 'sequence'])"
      ]
     },
     "execution_count": 119,
     "metadata": {},
     "output_type": "execute_result"
    }
   ],
   "source": [
    "entry[0].keys()"
   ]
  },
  {
   "cell_type": "code",
   "execution_count": 120,
   "metadata": {},
   "outputs": [
    {
     "data": {
      "text/plain": [
       "{'nutritions': [{'name': 'Calories', 'value': '412'},\n",
       "  {'name': 'Carbs', 'value': '29'},\n",
       "  {'name': 'Fat', 'value': '24'},\n",
       "  {'name': 'Protein', 'value': '21'},\n",
       "  {'name': 'Sodium', 'value': '258'},\n",
       "  {'name': 'Sugar', 'value': '29'}],\n",
       " 'name': 'my - McDonalds Espresso Pronto® Flat White, 2 TALL'}"
      ]
     },
     "execution_count": 120,
     "metadata": {},
     "output_type": "execute_result"
    }
   ],
   "source": [
    "entry[0]['dishes'][1]"
   ]
  },
  {
   "cell_type": "markdown",
   "metadata": {},
   "source": [
    "## UserId, Entry_Date, Daily_Goal  (Need to Parse Data)"
   ]
  },
  {
   "cell_type": "code",
   "execution_count": 14,
   "metadata": {},
   "outputs": [
    {
     "data": {
      "text/plain": [
       "{'total': [{'name': 'Calories', 'value': 2924},\n",
       "  {'name': 'Carbs', 'value': 340},\n",
       "  {'name': 'Fat', 'value': 114},\n",
       "  {'name': 'Protein', 'value': 186},\n",
       "  {'name': 'Sodium', 'value': 3658},\n",
       "  {'name': 'Sugar', 'value': 109}],\n",
       " 'goal': [{'name': 'Calories', 'value': 3173},\n",
       "  {'name': 'Carbs', 'value': 396},\n",
       "  {'name': 'Fat', 'value': 105},\n",
       "  {'name': 'Protein', 'value': 160},\n",
       "  {'name': 'Sodium', 'value': 2300},\n",
       "  {'name': 'Sugar', 'value': 119}]}"
      ]
     },
     "execution_count": 14,
     "metadata": {},
     "output_type": "execute_result"
    }
   ],
   "source": [
    "goals = json.loads(df.iloc[0, 3])\n",
    "goals"
   ]
  },
  {
   "cell_type": "code",
   "execution_count": 15,
   "metadata": {},
   "outputs": [],
   "source": [
    "df_goal = df.drop(['food_entries'], axis=1)"
   ]
  },
  {
   "cell_type": "code",
   "execution_count": 16,
   "metadata": {
    "scrolled": true
   },
   "outputs": [
    {
     "data": {
      "text/html": [
       "<div>\n",
       "<style scoped>\n",
       "    .dataframe tbody tr th:only-of-type {\n",
       "        vertical-align: middle;\n",
       "    }\n",
       "\n",
       "    .dataframe tbody tr th {\n",
       "        vertical-align: top;\n",
       "    }\n",
       "\n",
       "    .dataframe thead th {\n",
       "        text-align: right;\n",
       "    }\n",
       "</style>\n",
       "<table border=\"1\" class=\"dataframe\">\n",
       "  <thead>\n",
       "    <tr style=\"text-align: right;\">\n",
       "      <th></th>\n",
       "      <th>userId</th>\n",
       "      <th>entry_date</th>\n",
       "      <th>daily_goal</th>\n",
       "    </tr>\n",
       "  </thead>\n",
       "  <tbody>\n",
       "    <tr>\n",
       "      <th>0</th>\n",
       "      <td>1</td>\n",
       "      <td>2014-09-14</td>\n",
       "      <td>{\"total\": [{\"name\": \"Calories\", \"value\": 2924}...</td>\n",
       "    </tr>\n",
       "    <tr>\n",
       "      <th>1</th>\n",
       "      <td>1</td>\n",
       "      <td>2014-09-15</td>\n",
       "      <td>{\"total\": [{\"name\": \"Calories\", \"value\": 2430}...</td>\n",
       "    </tr>\n",
       "    <tr>\n",
       "      <th>2</th>\n",
       "      <td>1</td>\n",
       "      <td>2014-09-16</td>\n",
       "      <td>{\"total\": [{\"name\": \"Calories\", \"value\": 1862}...</td>\n",
       "    </tr>\n",
       "    <tr>\n",
       "      <th>3</th>\n",
       "      <td>1</td>\n",
       "      <td>2014-09-17</td>\n",
       "      <td>{\"total\": [{\"name\": \"Calories\", \"value\": 2251}...</td>\n",
       "    </tr>\n",
       "    <tr>\n",
       "      <th>4</th>\n",
       "      <td>1</td>\n",
       "      <td>2014-09-18</td>\n",
       "      <td>{\"total\": [{\"name\": \"Calories\", \"value\": 2001}...</td>\n",
       "    </tr>\n",
       "  </tbody>\n",
       "</table>\n",
       "</div>"
      ],
      "text/plain": [
       "   userId  entry_date                                         daily_goal\n",
       "0       1  2014-09-14  {\"total\": [{\"name\": \"Calories\", \"value\": 2924}...\n",
       "1       1  2014-09-15  {\"total\": [{\"name\": \"Calories\", \"value\": 2430}...\n",
       "2       1  2014-09-16  {\"total\": [{\"name\": \"Calories\", \"value\": 1862}...\n",
       "3       1  2014-09-17  {\"total\": [{\"name\": \"Calories\", \"value\": 2251}...\n",
       "4       1  2014-09-18  {\"total\": [{\"name\": \"Calories\", \"value\": 2001}..."
      ]
     },
     "execution_count": 16,
     "metadata": {},
     "output_type": "execute_result"
    }
   ],
   "source": [
    "df_goal.head()"
   ]
  },
  {
   "cell_type": "code",
   "execution_count": 85,
   "metadata": {},
   "outputs": [
    {
     "data": {
      "text/html": [
       "<div>\n",
       "<style scoped>\n",
       "    .dataframe tbody tr th:only-of-type {\n",
       "        vertical-align: middle;\n",
       "    }\n",
       "\n",
       "    .dataframe tbody tr th {\n",
       "        vertical-align: top;\n",
       "    }\n",
       "\n",
       "    .dataframe thead th {\n",
       "        text-align: right;\n",
       "    }\n",
       "</style>\n",
       "<table border=\"1\" class=\"dataframe\">\n",
       "  <thead>\n",
       "    <tr style=\"text-align: right;\">\n",
       "      <th></th>\n",
       "      <th>daily_goal</th>\n",
       "    </tr>\n",
       "  </thead>\n",
       "  <tbody>\n",
       "    <tr>\n",
       "      <th>587182</th>\n",
       "      <td>{\"total\": [{\"name\": \"Calories\", \"value\": 1979}...</td>\n",
       "    </tr>\n",
       "    <tr>\n",
       "      <th>587183</th>\n",
       "      <td>{\"total\": [{\"name\": \"Calories\", \"value\": 2141}...</td>\n",
       "    </tr>\n",
       "    <tr>\n",
       "      <th>587184</th>\n",
       "      <td>{\"total\": [{\"name\": \"Calories\", \"value\": 543},...</td>\n",
       "    </tr>\n",
       "    <tr>\n",
       "      <th>587185</th>\n",
       "      <td>{\"total\": [{\"name\": \"Calories\", \"value\": 2024}...</td>\n",
       "    </tr>\n",
       "    <tr>\n",
       "      <th>587186</th>\n",
       "      <td>{\"total\": [{\"name\": \"Calories\", \"value\": 1496}...</td>\n",
       "    </tr>\n",
       "  </tbody>\n",
       "</table>\n",
       "</div>"
      ],
      "text/plain": [
       "                                               daily_goal\n",
       "587182  {\"total\": [{\"name\": \"Calories\", \"value\": 1979}...\n",
       "587183  {\"total\": [{\"name\": \"Calories\", \"value\": 2141}...\n",
       "587184  {\"total\": [{\"name\": \"Calories\", \"value\": 543},...\n",
       "587185  {\"total\": [{\"name\": \"Calories\", \"value\": 2024}...\n",
       "587186  {\"total\": [{\"name\": \"Calories\", \"value\": 1496}..."
      ]
     },
     "execution_count": 85,
     "metadata": {},
     "output_type": "execute_result"
    }
   ],
   "source": [
    "parse_data = df_goal.drop(['userId', 'entry_date'], axis=1)\n",
    "parse_data.tail()"
   ]
  },
  {
   "cell_type": "code",
   "execution_count": 86,
   "metadata": {},
   "outputs": [
    {
     "data": {
      "text/plain": [
       "str"
      ]
     },
     "execution_count": 86,
     "metadata": {},
     "output_type": "execute_result"
    }
   ],
   "source": [
    "ex_dict = parse_data['daily_goal'][0]\n",
    "type(ex_dict)"
   ]
  },
  {
   "cell_type": "code",
   "execution_count": 78,
   "metadata": {},
   "outputs": [
    {
     "data": {
      "text/plain": [
       "'{\"total\": [{\"name\": \"Calories\", \"value\": 2924}, {\"name\": \"Carbs\", \"value\": 340}, {\"name\": \"Fat\", \"value\": 114}, {\"name\": \"Protein\", \"value\": 186}, {\"name\": \"Sodium\", \"value\": 3658}, {\"name\": \"Sugar\", \"value\": 109}], \"goal\": [{\"name\": \"Calories\", \"value\": 3173}, {\"name\": \"Carbs\", \"value\": 396}, {\"name\": \"Fat\", \"value\": 105}, {\"name\": \"Protein\", \"value\": 160}, {\"name\": \"Sodium\", \"value\": 2300}, {\"name\": \"Sugar\", \"value\": 119}]}'"
      ]
     },
     "execution_count": 78,
     "metadata": {},
     "output_type": "execute_result"
    }
   ],
   "source": [
    "ex_dict"
   ]
  },
  {
   "cell_type": "code",
   "execution_count": 21,
   "metadata": {},
   "outputs": [
    {
     "data": {
      "text/plain": [
       "{'total': [{'name': 'Calories', 'value': 2924},\n",
       "  {'name': 'Carbs', 'value': 340},\n",
       "  {'name': 'Fat', 'value': 114},\n",
       "  {'name': 'Protein', 'value': 186},\n",
       "  {'name': 'Sodium', 'value': 3658},\n",
       "  {'name': 'Sugar', 'value': 109}],\n",
       " 'goal': [{'name': 'Calories', 'value': 3173},\n",
       "  {'name': 'Carbs', 'value': 396},\n",
       "  {'name': 'Fat', 'value': 105},\n",
       "  {'name': 'Protein', 'value': 160},\n",
       "  {'name': 'Sodium', 'value': 2300},\n",
       "  {'name': 'Sugar', 'value': 119}]}"
      ]
     },
     "execution_count": 21,
     "metadata": {},
     "output_type": "execute_result"
    }
   ],
   "source": [
    "json.loads(ex_dict)"
   ]
  },
  {
   "cell_type": "markdown",
   "metadata": {},
   "source": [
    "### Goal:\n",
    "Create 1 column per dictionary in both total key and goal key\n",
    "\n",
    "- total\n",
    "    + total_calories\n",
    "    + total_carbs\n",
    "    + total_fat\n",
    "    + total_protein\n",
    "    + total_sodium\n",
    "    + total_sugar\n",
    "- goal\n",
    "    + goal_calories\n",
    "    + goal_carbs\n",
    "    + goal_fat\n",
    "    + goal_protein\n",
    "    + goal_sodium\n",
    "    + goal_sugar"
   ]
  },
  {
   "cell_type": "code",
   "execution_count": 23,
   "metadata": {},
   "outputs": [
    {
     "data": {
      "text/plain": [
       "{'total': [{'name': 'Calories', 'value': 2924},\n",
       "  {'name': 'Carbs', 'value': 340},\n",
       "  {'name': 'Fat', 'value': 114},\n",
       "  {'name': 'Protein', 'value': 186},\n",
       "  {'name': 'Sodium', 'value': 3658},\n",
       "  {'name': 'Sugar', 'value': 109}],\n",
       " 'goal': [{'name': 'Calories', 'value': 3173},\n",
       "  {'name': 'Carbs', 'value': 396},\n",
       "  {'name': 'Fat', 'value': 105},\n",
       "  {'name': 'Protein', 'value': 160},\n",
       "  {'name': 'Sodium', 'value': 2300},\n",
       "  {'name': 'Sugar', 'value': 119}]}"
      ]
     },
     "execution_count": 23,
     "metadata": {},
     "output_type": "execute_result"
    }
   ],
   "source": [
    "json_dict = json.loads(ex_dict)\n",
    "json_dict"
   ]
  },
  {
   "cell_type": "code",
   "execution_count": 24,
   "metadata": {},
   "outputs": [
    {
     "data": {
      "text/plain": [
       "dict_keys(['total', 'goal'])"
      ]
     },
     "execution_count": 24,
     "metadata": {},
     "output_type": "execute_result"
    }
   ],
   "source": [
    "json_dict.keys()"
   ]
  },
  {
   "cell_type": "code",
   "execution_count": 26,
   "metadata": {},
   "outputs": [
    {
     "data": {
      "text/plain": [
       "[{'name': 'Calories', 'value': 2924},\n",
       " {'name': 'Carbs', 'value': 340},\n",
       " {'name': 'Fat', 'value': 114},\n",
       " {'name': 'Protein', 'value': 186},\n",
       " {'name': 'Sodium', 'value': 3658},\n",
       " {'name': 'Sugar', 'value': 109}]"
      ]
     },
     "execution_count": 26,
     "metadata": {},
     "output_type": "execute_result"
    }
   ],
   "source": [
    "json_dict['total']"
   ]
  },
  {
   "cell_type": "code",
   "execution_count": 27,
   "metadata": {},
   "outputs": [
    {
     "data": {
      "text/plain": [
       "{'name': 'Calories', 'value': 2924}"
      ]
     },
     "execution_count": 27,
     "metadata": {},
     "output_type": "execute_result"
    }
   ],
   "source": [
    "json_dict['total'][0]"
   ]
  },
  {
   "cell_type": "code",
   "execution_count": 127,
   "metadata": {},
   "outputs": [],
   "source": [
    "# json_dict.keys()[0]\n",
    "# Gives Error: 'dict_keys' object does not support indexing, hence needs to be set to a list to iterate."
   ]
  },
  {
   "cell_type": "code",
   "execution_count": 125,
   "metadata": {
    "scrolled": false
   },
   "outputs": [
    {
     "data": {
      "text/plain": [
       "['total_calories',\n",
       " 'total_carbs',\n",
       " 'total_fat',\n",
       " 'total_protein',\n",
       " 'total_sodium',\n",
       " 'total_sugar']"
      ]
     },
     "execution_count": 125,
     "metadata": {},
     "output_type": "execute_result"
    }
   ],
   "source": [
    "total_cols = [list(json_dict.keys())[0] + \"_\" + i['name'].lower() \n",
    "              for i in json_dict['total']]\n",
    "total_cols"
   ]
  },
  {
   "cell_type": "code",
   "execution_count": 53,
   "metadata": {},
   "outputs": [
    {
     "data": {
      "text/plain": [
       "[2924, 340, 114, 186, 3658, 109]"
      ]
     },
     "execution_count": 53,
     "metadata": {},
     "output_type": "execute_result"
    }
   ],
   "source": [
    "total_values = [x['value'] for x in json_dict['total']]\n",
    "total_values"
   ]
  },
  {
   "cell_type": "code",
   "execution_count": 54,
   "metadata": {
    "scrolled": true
   },
   "outputs": [
    {
     "data": {
      "text/plain": [
       "['goal_calories',\n",
       " 'goal_carbs',\n",
       " 'goal_fat',\n",
       " 'goal_protein',\n",
       " 'goal_sodium',\n",
       " 'goal_sugar']"
      ]
     },
     "execution_count": 54,
     "metadata": {},
     "output_type": "execute_result"
    }
   ],
   "source": [
    "goal_cols = [list(json_dict.keys())[1] + \"_\" + k['name'].lower()\n",
    "                for glove in json_dict['goal']]\n",
    "goal_cols"
   ]
  },
  {
   "cell_type": "code",
   "execution_count": 55,
   "metadata": {},
   "outputs": [
    {
     "data": {
      "text/plain": [
       "[3173, 396, 105, 160, 2300, 119]"
      ]
     },
     "execution_count": 55,
     "metadata": {},
     "output_type": "execute_result"
    }
   ],
   "source": [
    "goal_values = [x['value'] for x in json_dict['goal']]\n",
    "goal_values"
   ]
  },
  {
   "cell_type": "code",
   "execution_count": null,
   "metadata": {},
   "outputs": [],
   "source": []
  },
  {
   "cell_type": "markdown",
   "metadata": {},
   "source": [
    "### Combined Keys and Values for *Total* and *Goals* into single dictionary"
   ]
  },
  {
   "cell_type": "code",
   "execution_count": 56,
   "metadata": {},
   "outputs": [
    {
     "data": {
      "text/plain": [
       "{'total_calories': 2924,\n",
       " 'total_carbs': 340,\n",
       " 'total_fat': 114,\n",
       " 'total_protein': 186,\n",
       " 'total_sodium': 3658,\n",
       " 'total_sugar': 109}"
      ]
     },
     "execution_count": 56,
     "metadata": {},
     "output_type": "execute_result"
    }
   ],
   "source": [
    "total_dict = {}\n",
    "for col, val in zip(total_cols, total_values):\n",
    "    total_dict[col] = val\n",
    "total_dict"
   ]
  },
  {
   "cell_type": "code",
   "execution_count": 57,
   "metadata": {
    "scrolled": true
   },
   "outputs": [
    {
     "data": {
      "text/plain": [
       "{'goal_calories': 3173,\n",
       " 'goal_carbs': 396,\n",
       " 'goal_fat': 105,\n",
       " 'goal_protein': 160,\n",
       " 'goal_sodium': 2300,\n",
       " 'goal_sugar': 119}"
      ]
     },
     "execution_count": 57,
     "metadata": {},
     "output_type": "execute_result"
    }
   ],
   "source": [
    "goal_dict = {}\n",
    "for col, val in zip(goal_cols, goal_values):\n",
    "    goal_dict[col] = val\n",
    "goal_dict"
   ]
  },
  {
   "cell_type": "code",
   "execution_count": 138,
   "metadata": {},
   "outputs": [],
   "source": [
    "def Merge(dict1, dict2): \n",
    "    res = {**dict1, **dict2} \n",
    "    return res"
   ]
  },
  {
   "cell_type": "code",
   "execution_count": 141,
   "metadata": {},
   "outputs": [
    {
     "data": {
      "text/plain": [
       "{'total_calories': 2924,\n",
       " 'total_carbs': 340,\n",
       " 'total_fat': 114,\n",
       " 'total_protein': 186,\n",
       " 'total_sodium': 3658,\n",
       " 'total_sugar': 109,\n",
       " 'goal_calories': 3173,\n",
       " 'goal_carbs': 396,\n",
       " 'goal_fat': 105,\n",
       " 'goal_protein': 160,\n",
       " 'goal_sodium': 2300,\n",
       " 'goal_sugar': 119}"
      ]
     },
     "execution_count": 141,
     "metadata": {},
     "output_type": "execute_result"
    }
   ],
   "source": [
    "combined_dict = Merge(total_dict, goal_dict)\n",
    "combined_dict"
   ]
  },
  {
   "cell_type": "code",
   "execution_count": 140,
   "metadata": {},
   "outputs": [
    {
     "data": {
      "text/html": [
       "<div>\n",
       "<style scoped>\n",
       "    .dataframe tbody tr th:only-of-type {\n",
       "        vertical-align: middle;\n",
       "    }\n",
       "\n",
       "    .dataframe tbody tr th {\n",
       "        vertical-align: top;\n",
       "    }\n",
       "\n",
       "    .dataframe thead th {\n",
       "        text-align: right;\n",
       "    }\n",
       "</style>\n",
       "<table border=\"1\" class=\"dataframe\">\n",
       "  <thead>\n",
       "    <tr style=\"text-align: right;\">\n",
       "      <th></th>\n",
       "      <th>total_calories</th>\n",
       "      <th>total_carbs</th>\n",
       "      <th>total_fat</th>\n",
       "      <th>total_protein</th>\n",
       "      <th>total_sodium</th>\n",
       "      <th>total_sugar</th>\n",
       "      <th>goal_calories</th>\n",
       "      <th>goal_carbs</th>\n",
       "      <th>goal_fat</th>\n",
       "      <th>goal_protein</th>\n",
       "      <th>goal_sodium</th>\n",
       "      <th>goal_sugar</th>\n",
       "    </tr>\n",
       "  </thead>\n",
       "  <tbody>\n",
       "    <tr>\n",
       "      <th>0</th>\n",
       "      <td>2924</td>\n",
       "      <td>340</td>\n",
       "      <td>114</td>\n",
       "      <td>186</td>\n",
       "      <td>3658</td>\n",
       "      <td>109</td>\n",
       "      <td>3173</td>\n",
       "      <td>396</td>\n",
       "      <td>105</td>\n",
       "      <td>160</td>\n",
       "      <td>2300</td>\n",
       "      <td>119</td>\n",
       "    </tr>\n",
       "  </tbody>\n",
       "</table>\n",
       "</div>"
      ],
      "text/plain": [
       "   total_calories  total_carbs  total_fat  total_protein  total_sodium  \\\n",
       "0            2924          340        114            186          3658   \n",
       "\n",
       "   total_sugar  goal_calories  goal_carbs  goal_fat  goal_protein  \\\n",
       "0          109           3173         396       105           160   \n",
       "\n",
       "   goal_sodium  goal_sugar  \n",
       "0         2300         119  "
      ]
     },
     "execution_count": 140,
     "metadata": {},
     "output_type": "execute_result"
    }
   ],
   "source": [
    "dict3 = pd.DataFrame.from_dict(dict3, orient='index').T\n",
    "dict3"
   ]
  },
  {
   "cell_type": "markdown",
   "metadata": {},
   "source": [
    "### Alternative way"
   ]
  },
  {
   "cell_type": "code",
   "execution_count": 58,
   "metadata": {},
   "outputs": [],
   "source": [
    "total = pd.DataFrame.from_dict(total_dict, orient='index').T"
   ]
  },
  {
   "cell_type": "code",
   "execution_count": 59,
   "metadata": {},
   "outputs": [],
   "source": [
    "goal = pd.DataFrame.from_dict(goal_dict, orient='index').T"
   ]
  },
  {
   "cell_type": "code",
   "execution_count": 73,
   "metadata": {},
   "outputs": [
    {
     "data": {
      "text/html": [
       "<div>\n",
       "<style scoped>\n",
       "    .dataframe tbody tr th:only-of-type {\n",
       "        vertical-align: middle;\n",
       "    }\n",
       "\n",
       "    .dataframe tbody tr th {\n",
       "        vertical-align: top;\n",
       "    }\n",
       "\n",
       "    .dataframe thead th {\n",
       "        text-align: right;\n",
       "    }\n",
       "</style>\n",
       "<table border=\"1\" class=\"dataframe\">\n",
       "  <thead>\n",
       "    <tr style=\"text-align: right;\">\n",
       "      <th></th>\n",
       "      <th>total_calories</th>\n",
       "      <th>total_carbs</th>\n",
       "      <th>total_fat</th>\n",
       "      <th>total_protein</th>\n",
       "      <th>total_sodium</th>\n",
       "      <th>total_sugar</th>\n",
       "      <th>goal_calories</th>\n",
       "      <th>goal_carbs</th>\n",
       "      <th>goal_fat</th>\n",
       "      <th>goal_protein</th>\n",
       "      <th>goal_sodium</th>\n",
       "      <th>goal_sugar</th>\n",
       "    </tr>\n",
       "  </thead>\n",
       "  <tbody>\n",
       "    <tr>\n",
       "      <th>0</th>\n",
       "      <td>2924</td>\n",
       "      <td>340</td>\n",
       "      <td>114</td>\n",
       "      <td>186</td>\n",
       "      <td>3658</td>\n",
       "      <td>109</td>\n",
       "      <td>3173</td>\n",
       "      <td>396</td>\n",
       "      <td>105</td>\n",
       "      <td>160</td>\n",
       "      <td>2300</td>\n",
       "      <td>119</td>\n",
       "    </tr>\n",
       "  </tbody>\n",
       "</table>\n",
       "</div>"
      ],
      "text/plain": [
       "   total_calories  total_carbs  total_fat  total_protein  total_sodium  \\\n",
       "0            2924          340        114            186          3658   \n",
       "\n",
       "   total_sugar  goal_calories  goal_carbs  goal_fat  goal_protein  \\\n",
       "0          109           3173         396       105           160   \n",
       "\n",
       "   goal_sodium  goal_sugar  \n",
       "0         2300         119  "
      ]
     },
     "execution_count": 73,
     "metadata": {},
     "output_type": "execute_result"
    }
   ],
   "source": [
    "total_goal_concat = pd.concat([total, goal], sort=False, axis=1)\n",
    "total_goal_concat"
   ]
  },
  {
   "cell_type": "code",
   "execution_count": null,
   "metadata": {},
   "outputs": [],
   "source": []
  },
  {
   "cell_type": "markdown",
   "metadata": {},
   "source": [
    "## Using Function to loop through entire dataset"
   ]
  },
  {
   "cell_type": "code",
   "execution_count": 80,
   "metadata": {},
   "outputs": [
    {
     "data": {
      "text/html": [
       "<div>\n",
       "<style scoped>\n",
       "    .dataframe tbody tr th:only-of-type {\n",
       "        vertical-align: middle;\n",
       "    }\n",
       "\n",
       "    .dataframe tbody tr th {\n",
       "        vertical-align: top;\n",
       "    }\n",
       "\n",
       "    .dataframe thead th {\n",
       "        text-align: right;\n",
       "    }\n",
       "</style>\n",
       "<table border=\"1\" class=\"dataframe\">\n",
       "  <thead>\n",
       "    <tr style=\"text-align: right;\">\n",
       "      <th></th>\n",
       "      <th>userId</th>\n",
       "      <th>entry_date</th>\n",
       "      <th>daily_goal</th>\n",
       "    </tr>\n",
       "  </thead>\n",
       "  <tbody>\n",
       "    <tr>\n",
       "      <th>0</th>\n",
       "      <td>1</td>\n",
       "      <td>2014-09-14</td>\n",
       "      <td>{\"total\": [{\"name\": \"Calories\", \"value\": 2924}...</td>\n",
       "    </tr>\n",
       "    <tr>\n",
       "      <th>1</th>\n",
       "      <td>1</td>\n",
       "      <td>2014-09-15</td>\n",
       "      <td>{\"total\": [{\"name\": \"Calories\", \"value\": 2430}...</td>\n",
       "    </tr>\n",
       "    <tr>\n",
       "      <th>2</th>\n",
       "      <td>1</td>\n",
       "      <td>2014-09-16</td>\n",
       "      <td>{\"total\": [{\"name\": \"Calories\", \"value\": 1862}...</td>\n",
       "    </tr>\n",
       "    <tr>\n",
       "      <th>3</th>\n",
       "      <td>1</td>\n",
       "      <td>2014-09-17</td>\n",
       "      <td>{\"total\": [{\"name\": \"Calories\", \"value\": 2251}...</td>\n",
       "    </tr>\n",
       "    <tr>\n",
       "      <th>4</th>\n",
       "      <td>1</td>\n",
       "      <td>2014-09-18</td>\n",
       "      <td>{\"total\": [{\"name\": \"Calories\", \"value\": 2001}...</td>\n",
       "    </tr>\n",
       "  </tbody>\n",
       "</table>\n",
       "</div>"
      ],
      "text/plain": [
       "   userId  entry_date                                         daily_goal\n",
       "0       1  2014-09-14  {\"total\": [{\"name\": \"Calories\", \"value\": 2924}...\n",
       "1       1  2014-09-15  {\"total\": [{\"name\": \"Calories\", \"value\": 2430}...\n",
       "2       1  2014-09-16  {\"total\": [{\"name\": \"Calories\", \"value\": 1862}...\n",
       "3       1  2014-09-17  {\"total\": [{\"name\": \"Calories\", \"value\": 2251}...\n",
       "4       1  2014-09-18  {\"total\": [{\"name\": \"Calories\", \"value\": 2001}..."
      ]
     },
     "execution_count": 80,
     "metadata": {},
     "output_type": "execute_result"
    }
   ],
   "source": [
    "df_goal.head()"
   ]
  },
  {
   "cell_type": "code",
   "execution_count": 135,
   "metadata": {},
   "outputs": [],
   "source": [
    "df_goal = df_goal.drop(['daily_goal'], axis=1)"
   ]
  },
  {
   "cell_type": "code",
   "execution_count": 130,
   "metadata": {},
   "outputs": [
    {
     "data": {
      "text/html": [
       "<div>\n",
       "<style scoped>\n",
       "    .dataframe tbody tr th:only-of-type {\n",
       "        vertical-align: middle;\n",
       "    }\n",
       "\n",
       "    .dataframe tbody tr th {\n",
       "        vertical-align: top;\n",
       "    }\n",
       "\n",
       "    .dataframe thead th {\n",
       "        text-align: right;\n",
       "    }\n",
       "</style>\n",
       "<table border=\"1\" class=\"dataframe\">\n",
       "  <thead>\n",
       "    <tr style=\"text-align: right;\">\n",
       "      <th></th>\n",
       "      <th>userId</th>\n",
       "      <th>entry_date</th>\n",
       "    </tr>\n",
       "  </thead>\n",
       "  <tbody>\n",
       "    <tr>\n",
       "      <th>0</th>\n",
       "      <td>1</td>\n",
       "      <td>2014-09-14</td>\n",
       "    </tr>\n",
       "    <tr>\n",
       "      <th>1</th>\n",
       "      <td>1</td>\n",
       "      <td>2014-09-15</td>\n",
       "    </tr>\n",
       "    <tr>\n",
       "      <th>2</th>\n",
       "      <td>1</td>\n",
       "      <td>2014-09-16</td>\n",
       "    </tr>\n",
       "    <tr>\n",
       "      <th>3</th>\n",
       "      <td>1</td>\n",
       "      <td>2014-09-17</td>\n",
       "    </tr>\n",
       "    <tr>\n",
       "      <th>4</th>\n",
       "      <td>1</td>\n",
       "      <td>2014-09-18</td>\n",
       "    </tr>\n",
       "  </tbody>\n",
       "</table>\n",
       "</div>"
      ],
      "text/plain": [
       "   userId  entry_date\n",
       "0       1  2014-09-14\n",
       "1       1  2014-09-15\n",
       "2       1  2014-09-16\n",
       "3       1  2014-09-17\n",
       "4       1  2014-09-18"
      ]
     },
     "execution_count": 130,
     "metadata": {},
     "output_type": "execute_result"
    }
   ],
   "source": [
    "df_goal.head()"
   ]
  },
  {
   "cell_type": "code",
   "execution_count": 132,
   "metadata": {},
   "outputs": [
    {
     "data": {
      "text/html": [
       "<div>\n",
       "<style scoped>\n",
       "    .dataframe tbody tr th:only-of-type {\n",
       "        vertical-align: middle;\n",
       "    }\n",
       "\n",
       "    .dataframe tbody tr th {\n",
       "        vertical-align: top;\n",
       "    }\n",
       "\n",
       "    .dataframe thead th {\n",
       "        text-align: right;\n",
       "    }\n",
       "</style>\n",
       "<table border=\"1\" class=\"dataframe\">\n",
       "  <thead>\n",
       "    <tr style=\"text-align: right;\">\n",
       "      <th></th>\n",
       "      <th>0</th>\n",
       "      <th>1</th>\n",
       "      <th>2</th>\n",
       "      <th>3</th>\n",
       "      <th>4</th>\n",
       "    </tr>\n",
       "  </thead>\n",
       "  <tbody>\n",
       "    <tr>\n",
       "      <th>userId</th>\n",
       "      <td>1</td>\n",
       "      <td>1</td>\n",
       "      <td>1</td>\n",
       "      <td>1</td>\n",
       "      <td>1</td>\n",
       "    </tr>\n",
       "    <tr>\n",
       "      <th>entry_date</th>\n",
       "      <td>2014-09-14</td>\n",
       "      <td>2014-09-15</td>\n",
       "      <td>2014-09-16</td>\n",
       "      <td>2014-09-17</td>\n",
       "      <td>2014-09-18</td>\n",
       "    </tr>\n",
       "    <tr>\n",
       "      <th>total_calories</th>\n",
       "      <td>2924</td>\n",
       "      <td>NaN</td>\n",
       "      <td>NaN</td>\n",
       "      <td>NaN</td>\n",
       "      <td>NaN</td>\n",
       "    </tr>\n",
       "    <tr>\n",
       "      <th>total_carbs</th>\n",
       "      <td>340</td>\n",
       "      <td>NaN</td>\n",
       "      <td>NaN</td>\n",
       "      <td>NaN</td>\n",
       "      <td>NaN</td>\n",
       "    </tr>\n",
       "    <tr>\n",
       "      <th>total_fat</th>\n",
       "      <td>114</td>\n",
       "      <td>NaN</td>\n",
       "      <td>NaN</td>\n",
       "      <td>NaN</td>\n",
       "      <td>NaN</td>\n",
       "    </tr>\n",
       "    <tr>\n",
       "      <th>total_protein</th>\n",
       "      <td>186</td>\n",
       "      <td>NaN</td>\n",
       "      <td>NaN</td>\n",
       "      <td>NaN</td>\n",
       "      <td>NaN</td>\n",
       "    </tr>\n",
       "    <tr>\n",
       "      <th>total_sodium</th>\n",
       "      <td>3658</td>\n",
       "      <td>NaN</td>\n",
       "      <td>NaN</td>\n",
       "      <td>NaN</td>\n",
       "      <td>NaN</td>\n",
       "    </tr>\n",
       "    <tr>\n",
       "      <th>total_sugar</th>\n",
       "      <td>109</td>\n",
       "      <td>NaN</td>\n",
       "      <td>NaN</td>\n",
       "      <td>NaN</td>\n",
       "      <td>NaN</td>\n",
       "    </tr>\n",
       "    <tr>\n",
       "      <th>goal_calories</th>\n",
       "      <td>3173</td>\n",
       "      <td>NaN</td>\n",
       "      <td>NaN</td>\n",
       "      <td>NaN</td>\n",
       "      <td>NaN</td>\n",
       "    </tr>\n",
       "    <tr>\n",
       "      <th>goal_carbs</th>\n",
       "      <td>396</td>\n",
       "      <td>NaN</td>\n",
       "      <td>NaN</td>\n",
       "      <td>NaN</td>\n",
       "      <td>NaN</td>\n",
       "    </tr>\n",
       "    <tr>\n",
       "      <th>goal_fat</th>\n",
       "      <td>105</td>\n",
       "      <td>NaN</td>\n",
       "      <td>NaN</td>\n",
       "      <td>NaN</td>\n",
       "      <td>NaN</td>\n",
       "    </tr>\n",
       "    <tr>\n",
       "      <th>goal_protein</th>\n",
       "      <td>160</td>\n",
       "      <td>NaN</td>\n",
       "      <td>NaN</td>\n",
       "      <td>NaN</td>\n",
       "      <td>NaN</td>\n",
       "    </tr>\n",
       "    <tr>\n",
       "      <th>goal_sodium</th>\n",
       "      <td>2300</td>\n",
       "      <td>NaN</td>\n",
       "      <td>NaN</td>\n",
       "      <td>NaN</td>\n",
       "      <td>NaN</td>\n",
       "    </tr>\n",
       "    <tr>\n",
       "      <th>goal_sugar</th>\n",
       "      <td>119</td>\n",
       "      <td>NaN</td>\n",
       "      <td>NaN</td>\n",
       "      <td>NaN</td>\n",
       "      <td>NaN</td>\n",
       "    </tr>\n",
       "  </tbody>\n",
       "</table>\n",
       "</div>"
      ],
      "text/plain": [
       "                         0           1           2           3           4\n",
       "userId                   1           1           1           1           1\n",
       "entry_date      2014-09-14  2014-09-15  2014-09-16  2014-09-17  2014-09-18\n",
       "total_calories        2924         NaN         NaN         NaN         NaN\n",
       "total_carbs            340         NaN         NaN         NaN         NaN\n",
       "total_fat              114         NaN         NaN         NaN         NaN\n",
       "total_protein          186         NaN         NaN         NaN         NaN\n",
       "total_sodium          3658         NaN         NaN         NaN         NaN\n",
       "total_sugar            109         NaN         NaN         NaN         NaN\n",
       "goal_calories         3173         NaN         NaN         NaN         NaN\n",
       "goal_carbs             396         NaN         NaN         NaN         NaN\n",
       "goal_fat               105         NaN         NaN         NaN         NaN\n",
       "goal_protein           160         NaN         NaN         NaN         NaN\n",
       "goal_sodium           2300         NaN         NaN         NaN         NaN\n",
       "goal_sugar             119         NaN         NaN         NaN         NaN"
      ]
     },
     "execution_count": 132,
     "metadata": {},
     "output_type": "execute_result"
    }
   ],
   "source": [
    "full_df = pd.concat([df_goal, total_goal_concat], axis=1, sort=False)\n",
    "full_df.head().T"
   ]
  },
  {
   "cell_type": "code",
   "execution_count": null,
   "metadata": {},
   "outputs": [],
   "source": []
  },
  {
   "cell_type": "markdown",
   "metadata": {},
   "source": [
    "## Transforming dictionary to dataframe"
   ]
  },
  {
   "cell_type": "code",
   "execution_count": 32,
   "metadata": {},
   "outputs": [
    {
     "data": {
      "text/plain": [
       "{'total_calories': 123, 'goal_calories': 456}"
      ]
     },
     "execution_count": 32,
     "metadata": {},
     "output_type": "execute_result"
    }
   ],
   "source": [
    "goal = {'total_calories': 123, 'goal_calories': 456}\n",
    "goal"
   ]
  },
  {
   "cell_type": "code",
   "execution_count": 33,
   "metadata": {},
   "outputs": [
    {
     "data": {
      "text/html": [
       "<div>\n",
       "<style scoped>\n",
       "    .dataframe tbody tr th:only-of-type {\n",
       "        vertical-align: middle;\n",
       "    }\n",
       "\n",
       "    .dataframe tbody tr th {\n",
       "        vertical-align: top;\n",
       "    }\n",
       "\n",
       "    .dataframe thead th {\n",
       "        text-align: right;\n",
       "    }\n",
       "</style>\n",
       "<table border=\"1\" class=\"dataframe\">\n",
       "  <thead>\n",
       "    <tr style=\"text-align: right;\">\n",
       "      <th></th>\n",
       "      <th>total_calories</th>\n",
       "      <th>total_carbs</th>\n",
       "      <th>total_fat</th>\n",
       "      <th>total_protein</th>\n",
       "      <th>total_sodium</th>\n",
       "      <th>total_sugar</th>\n",
       "      <th>goal_calories</th>\n",
       "      <th>goal_carbs</th>\n",
       "      <th>goal_fat</th>\n",
       "      <th>goal_protein</th>\n",
       "      <th>goal_sodium</th>\n",
       "      <th>goal_sugar</th>\n",
       "    </tr>\n",
       "  </thead>\n",
       "  <tbody>\n",
       "    <tr>\n",
       "      <th>0</th>\n",
       "      <td>5</td>\n",
       "      <td>2</td>\n",
       "      <td>1</td>\n",
       "      <td>23</td>\n",
       "      <td>12</td>\n",
       "      <td>30</td>\n",
       "      <td>5</td>\n",
       "      <td>1</td>\n",
       "      <td>0</td>\n",
       "      <td>20</td>\n",
       "      <td>7</td>\n",
       "      <td>15</td>\n",
       "    </tr>\n",
       "  </tbody>\n",
       "</table>\n",
       "</div>"
      ],
      "text/plain": [
       "   total_calories  total_carbs  total_fat  total_protein  total_sodium  \\\n",
       "0               5            2          1             23            12   \n",
       "\n",
       "   total_sugar  goal_calories  goal_carbs  goal_fat  goal_protein  \\\n",
       "0           30              5           1         0            20   \n",
       "\n",
       "   goal_sodium  goal_sugar  \n",
       "0            7          15  "
      ]
     },
     "execution_count": 33,
     "metadata": {},
     "output_type": "execute_result"
    }
   ],
   "source": [
    "goal_df = pd.DataFrame.from_dict({'total_calories': 5, 'total_carbs': 2,'total_fat': 1,\n",
    "                                  'total_protein': 23,'total_sodium': 12, 'total_sugar':30,\n",
    "                                  'goal_calories': 5, 'goal_carbs': 1,'goal_fat': 0,\n",
    "                                  'goal_protein': 20,'goal_sodium': 7, 'goal_sugar': 15}, orient='index').T\n",
    "goal_df"
   ]
  },
  {
   "cell_type": "code",
   "execution_count": 34,
   "metadata": {},
   "outputs": [
    {
     "ename": "TypeError",
     "evalue": "remove() takes exactly one argument (2 given)",
     "output_type": "error",
     "traceback": [
      "\u001b[0;31m---------------------------------------------------------------------------\u001b[0m",
      "\u001b[0;31mTypeError\u001b[0m                                 Traceback (most recent call last)",
      "\u001b[0;32m<ipython-input-34-0a96d3a81c36>\u001b[0m in \u001b[0;36m<module>\u001b[0;34m\u001b[0m\n\u001b[1;32m      1\u001b[0m \u001b[0mtotal_list\u001b[0m \u001b[0;34m=\u001b[0m \u001b[0mlist\u001b[0m\u001b[0;34m(\u001b[0m\u001b[0mgoal_df\u001b[0m\u001b[0;34m)\u001b[0m\u001b[0;34m\u001b[0m\u001b[0;34m\u001b[0m\u001b[0m\n\u001b[0;32m----> 2\u001b[0;31m \u001b[0mtotal_list\u001b[0m\u001b[0;34m.\u001b[0m\u001b[0mremove\u001b[0m\u001b[0;34m(\u001b[0m\u001b[0;34m'goal_calories'\u001b[0m\u001b[0;34m,\u001b[0m \u001b[0;34m'goal_carbs'\u001b[0m\u001b[0;34m)\u001b[0m\u001b[0;34m\u001b[0m\u001b[0;34m\u001b[0m\u001b[0m\n\u001b[0m\u001b[1;32m      3\u001b[0m \u001b[0mtotal_list\u001b[0m\u001b[0;34m\u001b[0m\u001b[0;34m\u001b[0m\u001b[0m\n",
      "\u001b[0;31mTypeError\u001b[0m: remove() takes exactly one argument (2 given)"
     ]
    }
   ],
   "source": [
    "total_list = list(goal_df)\n",
    "total_list.remove('goal_calories', 'goal_carbs')\n",
    "total_list"
   ]
  },
  {
   "cell_type": "code",
   "execution_count": null,
   "metadata": {},
   "outputs": [],
   "source": []
  },
  {
   "cell_type": "code",
   "execution_count": null,
   "metadata": {},
   "outputs": [],
   "source": []
  },
  {
   "cell_type": "code",
   "execution_count": null,
   "metadata": {},
   "outputs": [],
   "source": []
  },
  {
   "cell_type": "code",
   "execution_count": null,
   "metadata": {},
   "outputs": [],
   "source": []
  }
 ],
 "metadata": {
  "kernelspec": {
   "display_name": "Python 3",
   "language": "python",
   "name": "python3"
  },
  "language_info": {
   "codemirror_mode": {
    "name": "ipython",
    "version": 3
   },
   "file_extension": ".py",
   "mimetype": "text/x-python",
   "name": "python",
   "nbconvert_exporter": "python",
   "pygments_lexer": "ipython3",
   "version": "3.7.1"
  }
 },
 "nbformat": 4,
 "nbformat_minor": 2
}
