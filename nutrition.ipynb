{
 "cells": [
  {
   "cell_type": "code",
   "execution_count": 1,
   "metadata": {},
   "outputs": [],
   "source": [
    "import pandas as pd\n",
    "import numpy as np\n",
    "import json"
   ]
  },
  {
   "cell_type": "code",
   "execution_count": 2,
   "metadata": {
    "scrolled": true
   },
   "outputs": [
    {
     "name": "stdout",
     "output_type": "stream",
     "text": [
      "1\t2014-09-14\t[{\"meal\": \"MY food\", \"dishes\": [{\"nutritions\": [{\"name\": \"Calories\", \"value\": \"412\"}, {\"name\": \"Carbs\", \"value\": \"29\"}, {\"name\": \"Fat\", \"value\": \"24\"}, {\"name\": \"Protein\", \"value\": \"21\"}, {\"name\": \"Sodium\", \"value\": \"258\"}, {\"name\": \"Sugar\", \"value\": \"29\"}], \"name\": \"my - McDonalds Espresso Pronto\\u00ae Flat White, 2 TALL\"}, {\"nutritions\": [{\"name\": \"Calories\", \"value\": \"170\"}, {\"name\": \"Carbs\", \"value\": \"25\"}, {\"name\": \"Fat\", \"value\": \"5\"}, {\"name\": \"Protein\", \"value\": \"20\"}, {\"name\": \"Sodium\", \"value\": \"260\"}, {\"name\": \"Sugar\", \"value\": \"2\"}], \"name\": \"Quest Bar - Banana Nut Muffin Natural Protein Bar, 60 g\"}, {\"nutritions\": [{\"name\": \"Calories\", \"value\": \"176\"}, {\"name\": \"Carbs\", \"value\": \"33\"}, {\"name\": \"Fat\", \"value\": \"1\"}, {\"name\": \"Protein\", \"value\": \"5\"}, {\"name\": \"Sodium\", \"value\": \"195\"}, {\"name\": \"Sugar\", \"value\": \"0\"}], \"name\": \"Uncle Tobys Australia - Vita Brits, 3 Biscuits 33.3g\"}, {\"nutritions\": [{\"name\": \"Calories\", \"value\": \"342\"}, {\"name\": \"Carbs\", \"value\": \"34\"}, {\"name\": \"Fat\", \"value\": \"12\"}, {\"name\": \"Protein\", \"value\": \"24\"}, {\"name\": \"Sodium\", \"value\": \"402\"}, {\"name\": \"Sugar\", \"value\": \"34\"}], \"name\": \"Pauls - Smarter White Milk, 600 ml\"}, {\"nutritions\": [{\"name\": \"Calories\", \"value\": \"180\"}, {\"name\": \"Carbs\", \"value\": \"22\"}, {\"name\": \"Fat\", \"value\": \"7\"}, {\"name\": \"Protein\", \"value\": \"21\"}, {\"name\": \"Sodium\", \"value\": \"310\"}, {\"name\": \"Sugar\", \"value\": \"1\"}], \"name\": \"Quest Bar - Cookies and Cream, 1 bar\"}, {\"nutritions\": [{\"name\": \"Calories\", \"value\": \"180\"}, {\"name\": \"Carbs\", \"value\": \"46\"}, {\"name\": \"Fat\", \"value\": \"0\"}, {\"name\": \"Protein\", \"value\": \"0\"}, {\"name\": \"Sodium\", \"value\": \"100\"}, {\"name\": \"Sugar\", \"value\": \"22\"}], \"name\": \"Gu Sports - Chomps, 8 pieces\"}, {\"nutritions\": [{\"name\": \"Calories\", \"value\": \"170\"}, {\"name\": \"Carbs\", \"value\": \"25\"}, {\"name\": \"Fat\", \"value\": \"5\"}, {\"name\": \"Protein\", \"value\": \"20\"}, {\"name\": \"Sodium\", \"value\": \"260\"}, {\"name\": \"Sugar\", \"value\": \"2\"}], \"name\": \"Quest Bar - Banana Nut Muffin Natural Protein Bar, 60 g\"}, {\"nutritions\": [{\"name\": \"Calories\", \"value\": \"160\"}, {\"name\": \"Carbs\", \"value\": \"25\"}, {\"name\": \"Fat\", \"value\": \"5\"}, {\"name\": \"Protein\", \"value\": \"20\"}, {\"name\": \"Sodium\", \"value\": \"240\"}, {\"name\": \"Sugar\", \"value\": \"2\"}], \"name\": \"Quest - Protein Bar Chocolate Peanut Butter, 1 bar (60 g)\"}, {\"nutritions\": [{\"name\": \"Calories\", \"value\": \"686\"}, {\"name\": \"Carbs\", \"value\": \"59\"}, {\"name\": \"Fat\", \"value\": \"31\"}, {\"name\": \"Protein\", \"value\": \"40\"}, {\"name\": \"Sodium\", \"value\": \"1,105\"}, {\"name\": \"Sugar\", \"value\": \"9\"}], \"name\": \"Grilld - Simply Grilled (Real), 1.25 burger\"}, {\"nutritions\": [{\"name\": \"Calories\", \"value\": \"252\"}, {\"name\": \"Carbs\", \"value\": \"27\"}, {\"name\": \"Fat\", \"value\": \"14\"}, {\"name\": \"Protein\", \"value\": \"5\"}, {\"name\": \"Sodium\", \"value\": \"352\"}, {\"name\": \"Sugar\", \"value\": \"1\"}], \"name\": \"Grilld - Snack Chips, 1 snack size\"}, {\"nutritions\": [{\"name\": \"Calories\", \"value\": \"196\"}, {\"name\": \"Carbs\", \"value\": \"15\"}, {\"name\": \"Fat\", \"value\": \"10\"}, {\"name\": \"Protein\", \"value\": \"10\"}, {\"name\": \"Sodium\", \"value\": \"176\"}, {\"name\": \"Sugar\", \"value\": \"7\"}], \"name\": \"Tasti - Salted Caramel Protein Bar, 40 g\"}], \"sequence\": 1}]\t{\"total\": [{\"name\": \"Calories\", \"value\": 2924}, {\"name\": \"Carbs\", \"value\": 340}, {\"name\": \"Fat\", \"value\": 114}, {\"name\": \"Protein\", \"value\": 186}, {\"name\": \"Sodium\", \"value\": 3658}, {\"name\": \"Sugar\", \"value\": 109}], \"goal\": [{\"name\": \"Calories\", \"value\": 3173}, {\"name\": \"Carbs\", \"value\": 396}, {\"name\": \"Fat\", \"value\": 105}, {\"name\": \"Protein\", \"value\": 160}, {\"name\": \"Sodium\", \"value\": 2300}, {\"name\": \"Sugar\", \"value\": 119}]}\r\n",
      "1\t2014-09-15\t[{\"meal\": \"MY food\", \"dishes\": [{\"nutritions\": [{\"name\": \"Calories\", \"value\": \"412\"}, {\"name\": \"Carbs\", \"value\": \"29\"}, {\"name\": \"Fat\", \"value\": \"24\"}, {\"name\": \"Protein\", \"value\": \"21\"}, {\"name\": \"Sodium\", \"value\": \"258\"}, {\"name\": \"Sugar\", \"value\": \"29\"}], \"name\": \"my - McDonalds Espresso Pronto\\u00ae Flat White, 2 TALL\"}, {\"nutritions\": [{\"name\": \"Calories\", \"value\": \"176\"}, {\"name\": \"Carbs\", \"value\": \"33\"}, {\"name\": \"Fat\", \"value\": \"1\"}, {\"name\": \"Protein\", \"value\": \"5\"}, {\"name\": \"Sodium\", \"value\": \"195\"}, {\"name\": \"Sugar\", \"value\": \"0\"}], \"name\": \"Uncle Tobys Australia - Vita Brits, 3 Biscuits 33.3g\"}, {\"nutritions\": [{\"name\": \"Calories\", \"value\": \"342\"}, {\"name\": \"Carbs\", \"value\": \"34\"}, {\"name\": \"Fat\", \"value\": \"12\"}, {\"name\": \"Protein\", \"value\": \"24\"}, {\"name\": \"Sodium\", \"value\": \"402\"}, {\"name\": \"Sugar\", \"value\": \"34\"}], \"name\": \"Pauls - Smarter White Milk, 600 ml\"}, {\"nutritions\": [{\"name\": \"Calories\", \"value\": \"500\"}, {\"name\": \"Carbs\", \"value\": \"0\"}, {\"name\": \"Fat\", \"value\": \"0\"}, {\"name\": \"Protein\", \"value\": \"0\"}, {\"name\": \"Sodium\", \"value\": \"0\"}, {\"name\": \"Sugar\", \"value\": \"0\"}], \"name\": \"Quick Added Calories, 500 calories\"}, {\"nutritions\": [{\"name\": \"Calories\", \"value\": \"1,000\"}, {\"name\": \"Carbs\", \"value\": \"0\"}, {\"name\": \"Fat\", \"value\": \"0\"}, {\"name\": \"Protein\", \"value\": \"0\"}, {\"name\": \"Sodium\", \"value\": \"0\"}, {\"name\": \"Sugar\", \"value\": \"0\"}], \"name\": \"Quick Added Calories, 1,000 calories\"}], \"sequence\": 1}]\t{\"total\": [{\"name\": \"Calories\", \"value\": 2430}, {\"name\": \"Carbs\", \"value\": 96}, {\"name\": \"Fat\", \"value\": 37}, {\"name\": \"Protein\", \"value\": 50}, {\"name\": \"Sodium\", \"value\": 855}, {\"name\": \"Sugar\", \"value\": 63}], \"goal\": [{\"name\": \"Calories\", \"value\": 1572}, {\"name\": \"Carbs\", \"value\": 196}, {\"name\": \"Fat\", \"value\": 52}, {\"name\": \"Protein\", \"value\": 79}, {\"name\": \"Sodium\", \"value\": 2300}, {\"name\": \"Sugar\", \"value\": 59}]}\r\n",
      "1\t2014-09-16\t[{\"meal\": \"MY food\", \"dishes\": [{\"nutritions\": [{\"name\": \"Calories\", \"value\": \"147\"}, {\"name\": \"Carbs\", \"value\": \"36\"}, {\"name\": \"Fat\", \"value\": \"0\"}, {\"name\": \"Protein\", \"value\": \"0\"}, {\"name\": \"Sodium\", \"value\": \"306\"}, {\"name\": \"Sugar\", \"value\": \"36\"}], \"name\": \"Gatorade - Lemon-Lime (Australia), 600 ml\"}, {\"nutritions\": [{\"name\": \"Calories\", \"value\": \"412\"}, {\"name\": \"Carbs\", \"value\": \"29\"}, {\"name\": \"Fat\", \"value\": \"24\"}, {\"name\": \"Protein\", \"value\": \"21\"}, {\"name\": \"Sodium\", \"value\": \"258\"}, {\"name\": \"Sugar\", \"value\": \"29\"}], \"name\": \"my - McDonalds Espresso Pronto\\u00ae Flat White, 2 TALL\"}, {\"nutritions\": [{\"name\": \"Calories\", \"value\": \"176\"}, {\"name\": \"Carbs\", \"value\": \"33\"}, {\"name\": \"Fat\", \"value\": \"1\"}, {\"name\": \"Protein\", \"value\": \"5\"}, {\"name\": \"Sodium\", \"value\": \"195\"}, {\"name\": \"Sugar\", \"value\": \"0\"}], \"name\": \"Uncle Tobys Australia - Vita Brits, 3 Biscuits 33.3g\"}, {\"nutritions\": [{\"name\": \"Calories\", \"value\": \"342\"}, {\"name\": \"Carbs\", \"value\": \"34\"}, {\"name\": \"Fat\", \"value\": \"12\"}, {\"name\": \"Protein\", \"value\": \"24\"}, {\"name\": \"Sodium\", \"value\": \"402\"}, {\"name\": \"Sugar\", \"value\": \"34\"}], \"name\": \"Pauls - Smarter White Milk, 600 ml\"}, {\"nutritions\": [{\"name\": \"Calories\", \"value\": \"145\"}, {\"name\": \"Carbs\", \"value\": \"2\"}, {\"name\": \"Fat\", \"value\": \"1\"}, {\"name\": \"Protein\", \"value\": \"32\"}, {\"name\": \"Sodium\", \"value\": \"70\"}, {\"name\": \"Sugar\", \"value\": \"1\"}], \"name\": \"Redbak - Sting-chocolate, 40 g\"}, {\"nutritions\": [{\"name\": \"Calories\", \"value\": \"640\"}, {\"name\": \"Carbs\", \"value\": \"24\"}, {\"name\": \"Fat\", \"value\": \"16\"}, {\"name\": \"Protein\", \"value\": \"32\"}, {\"name\": \"Sodium\", \"value\": \"984\"}, {\"name\": \"Sugar\", \"value\": \"0\"}], \"name\": \"Generic - Pork Dumplings - Steamed, 8 Dumpling\"}], \"sequence\": 1}]\t{\"total\": [{\"name\": \"Calories\", \"value\": 1862}, {\"name\": \"Carbs\", \"value\": 158}, {\"name\": \"Fat\", \"value\": 54}, {\"name\": \"Protein\", \"value\": 114}, {\"name\": \"Sodium\", \"value\": 2215}, {\"name\": \"Sugar\", \"value\": 100}], \"goal\": [{\"name\": \"Calories\", \"value\": 1832}, {\"name\": \"Carbs\", \"value\": 229}, {\"name\": \"Fat\", \"value\": 61}, {\"name\": \"Protein\", \"value\": 92}, {\"name\": \"Sodium\", \"value\": 2300}, {\"name\": \"Sugar\", \"value\": 69}]}\r\n",
      "1\t2014-09-17\t[{\"meal\": \"MY food\", \"dishes\": [{\"nutritions\": [{\"name\": \"Calories\", \"value\": \"412\"}, {\"name\": \"Carbs\", \"value\": \"29\"}, {\"name\": \"Fat\", \"value\": \"24\"}, {\"name\": \"Protein\", \"value\": \"21\"}, {\"name\": \"Sodium\", \"value\": \"258\"}, {\"name\": \"Sugar\", \"value\": \"29\"}], \"name\": \"my - McDonalds Espresso Pronto\\u00ae Flat White, 2 TALL\"}, {\"nutritions\": [{\"name\": \"Calories\", \"value\": \"176\"}, {\"name\": \"Carbs\", \"value\": \"33\"}, {\"name\": \"Fat\", \"value\": \"1\"}, {\"name\": \"Protein\", \"value\": \"5\"}, {\"name\": \"Sodium\", \"value\": \"195\"}, {\"name\": \"Sugar\", \"value\": \"0\"}], \"name\": \"Uncle Tobys Australia - Vita Brits, 3 Biscuits 33.3g\"}, {\"nutritions\": [{\"name\": \"Calories\", \"value\": \"342\"}, {\"name\": \"Carbs\", \"value\": \"34\"}, {\"name\": \"Fat\", \"value\": \"12\"}, {\"name\": \"Protein\", \"value\": \"24\"}, {\"name\": \"Sodium\", \"value\": \"402\"}, {\"name\": \"Sugar\", \"value\": \"34\"}], \"name\": \"Pauls - Smarter White Milk, 600 ml\"}, {\"nutritions\": [{\"name\": \"Calories\", \"value\": \"145\"}, {\"name\": \"Carbs\", \"value\": \"2\"}, {\"name\": \"Fat\", \"value\": \"1\"}, {\"name\": \"Protein\", \"value\": \"32\"}, {\"name\": \"Sodium\", \"value\": \"70\"}, {\"name\": \"Sugar\", \"value\": \"1\"}], \"name\": \"Redbak - Sting-chocolate, 40 g\"}, {\"nutritions\": [{\"name\": \"Calories\", \"value\": \"420\"}, {\"name\": \"Carbs\", \"value\": \"38\"}, {\"name\": \"Fat\", \"value\": \"0\"}, {\"name\": \"Protein\", \"value\": \"0\"}, {\"name\": \"Sodium\", \"value\": \"0\"}, {\"name\": \"Sugar\", \"value\": \"38\"}], \"name\": \"James Squire - Orchard Crush - Apple Cider (Calorie King), 1000 ml (1 bottle)\"}, {\"nutritions\": [{\"name\": \"Calories\", \"value\": \"469\"}, {\"name\": \"Carbs\", \"value\": \"51\"}, {\"name\": \"Fat\", \"value\": \"22\"}, {\"name\": \"Protein\", \"value\": \"16\"}, {\"name\": \"Sodium\", \"value\": \"840\"}, {\"name\": \"Sugar\", \"value\": \"3\"}], \"name\": \"Sainsbury's - Italian - Spaghetti Carbonara, 300 g\"}, {\"nutritions\": [{\"name\": \"Calories\", \"value\": \"287\"}, {\"name\": \"Carbs\", \"value\": \"0\"}, {\"name\": \"Fat\", \"value\": \"0\"}, {\"name\": \"Protein\", \"value\": \"0\"}, {\"name\": \"Sodium\", \"value\": \"0\"}, {\"name\": \"Sugar\", \"value\": \"0\"}], \"name\": \"Carluccio's - Affogato (Espresso), 1 dessert\"}], \"sequence\": 1}]\t{\"total\": [{\"name\": \"Calories\", \"value\": 2251}, {\"name\": \"Carbs\", \"value\": 187}, {\"name\": \"Fat\", \"value\": 60}, {\"name\": \"Protein\", \"value\": 98}, {\"name\": \"Sodium\", \"value\": 1765}, {\"name\": \"Sugar\", \"value\": 105}], \"goal\": [{\"name\": \"Calories\", \"value\": 1685}, {\"name\": \"Carbs\", \"value\": 210}, {\"name\": \"Fat\", \"value\": 56}, {\"name\": \"Protein\", \"value\": 85}, {\"name\": \"Sodium\", \"value\": 2300}, {\"name\": \"Sugar\", \"value\": 63}]}\r\n",
      "1\t2014-09-18\t[{\"meal\": \"MY food\", \"dishes\": [{\"nutritions\": [{\"name\": \"Calories\", \"value\": \"412\"}, {\"name\": \"Carbs\", \"value\": \"29\"}, {\"name\": \"Fat\", \"value\": \"24\"}, {\"name\": \"Protein\", \"value\": \"21\"}, {\"name\": \"Sodium\", \"value\": \"258\"}, {\"name\": \"Sugar\", \"value\": \"29\"}], \"name\": \"my - McDonalds Espresso Pronto\\u00ae Flat White, 2 TALL\"}, {\"nutritions\": [{\"name\": \"Calories\", \"value\": \"145\"}, {\"name\": \"Carbs\", \"value\": \"2\"}, {\"name\": \"Fat\", \"value\": \"1\"}, {\"name\": \"Protein\", \"value\": \"32\"}, {\"name\": \"Sodium\", \"value\": \"70\"}, {\"name\": \"Sugar\", \"value\": \"1\"}], \"name\": \"Redbak - Sting-chocolate, 40 g\"}, {\"nutritions\": [{\"name\": \"Calories\", \"value\": \"176\"}, {\"name\": \"Carbs\", \"value\": \"33\"}, {\"name\": \"Fat\", \"value\": \"1\"}, {\"name\": \"Protein\", \"value\": \"5\"}, {\"name\": \"Sodium\", \"value\": \"195\"}, {\"name\": \"Sugar\", \"value\": \"0\"}], \"name\": \"Uncle Tobys Australia - Vita Brits, 3 Biscuits 33.3g\"}, {\"nutritions\": [{\"name\": \"Calories\", \"value\": \"342\"}, {\"name\": \"Carbs\", \"value\": \"34\"}, {\"name\": \"Fat\", \"value\": \"12\"}, {\"name\": \"Protein\", \"value\": \"24\"}, {\"name\": \"Sodium\", \"value\": \"402\"}, {\"name\": \"Sugar\", \"value\": \"34\"}], \"name\": \"Pauls - Smarter White Milk, 600 ml\"}, {\"nutritions\": [{\"name\": \"Calories\", \"value\": \"730\"}, {\"name\": \"Carbs\", \"value\": \"0\"}, {\"name\": \"Fat\", \"value\": \"33\"}, {\"name\": \"Protein\", \"value\": \"110\"}, {\"name\": \"Sodium\", \"value\": \"0\"}, {\"name\": \"Sugar\", \"value\": \"0\"}], \"name\": \"Steak - Eye Fillet, 500 g\"}, {\"nutritions\": [{\"name\": \"Calories\", \"value\": \"196\"}, {\"name\": \"Carbs\", \"value\": \"15\"}, {\"name\": \"Fat\", \"value\": \"10\"}, {\"name\": \"Protein\", \"value\": \"10\"}, {\"name\": \"Sodium\", \"value\": \"176\"}, {\"name\": \"Sugar\", \"value\": \"7\"}], \"name\": \"Tasti - Salted Caramel Protein Bar, 40 g\"}], \"sequence\": 1}]\t{\"total\": [{\"name\": \"Calories\", \"value\": 2001}, {\"name\": \"Carbs\", \"value\": 113}, {\"name\": \"Fat\", \"value\": 81}, {\"name\": \"Protein\", \"value\": 202}, {\"name\": \"Sodium\", \"value\": 1101}, {\"name\": \"Sugar\", \"value\": 71}], \"goal\": [{\"name\": \"Calories\", \"value\": 1597}, {\"name\": \"Carbs\", \"value\": 199}, {\"name\": \"Fat\", \"value\": 53}, {\"name\": \"Protein\", \"value\": 80}, {\"name\": \"Sodium\", \"value\": 2300}, {\"name\": \"Sugar\", \"value\": 60}]}\r\n",
      "1\t2014-09-19\t[{\"meal\": \"MY food\", \"dishes\": [{\"nutritions\": [{\"name\": \"Calories\", \"value\": \"412\"}, {\"name\": \"Carbs\", \"value\": \"29\"}, {\"name\": \"Fat\", \"value\": \"24\"}, {\"name\": \"Protein\", \"value\": \"21\"}, {\"name\": \"Sodium\", \"value\": \"258\"}, {\"name\": \"Sugar\", \"value\": \"29\"}], \"name\": \"my - McDonalds Espresso Pronto\\u00ae Flat White, 2 TALL\"}, {\"nutritions\": [{\"name\": \"Calories\", \"value\": \"400\"}, {\"name\": \"Carbs\", \"value\": \"15\"}, {\"name\": \"Fat\", \"value\": \"10\"}, {\"name\": \"Protein\", \"value\": \"20\"}, {\"name\": \"Sodium\", \"value\": \"615\"}, {\"name\": \"Sugar\", \"value\": \"0\"}], \"name\": \"Generic - Pork Dumplings - Steamed, 5 Dumpling\"}, {\"nutritions\": [{\"name\": \"Calories\", \"value\": \"240\"}, {\"name\": \"Carbs\", \"value\": \"24\"}, {\"name\": \"Fat\", \"value\": \"12\"}, {\"name\": \"Protein\", \"value\": \"15\"}, {\"name\": \"Sodium\", \"value\": \"0\"}, {\"name\": \"Sugar\", \"value\": \"0\"}], \"name\": \"Dim Sum - Shrimp Dumplings, 6 pc\"}, {\"nutritions\": [{\"name\": \"Calories\", \"value\": \"196\"}, {\"name\": \"Carbs\", \"value\": \"15\"}, {\"name\": \"Fat\", \"value\": \"10\"}, {\"name\": \"Protein\", \"value\": \"10\"}, {\"name\": \"Sodium\", \"value\": \"176\"}, {\"name\": \"Sugar\", \"value\": \"7\"}], \"name\": \"Tasti - Salted Caramel Protein Bar, 40 g\"}, {\"nutritions\": [{\"name\": \"Calories\", \"value\": \"176\"}, {\"name\": \"Carbs\", \"value\": \"33\"}, {\"name\": \"Fat\", \"value\": \"1\"}, {\"name\": \"Protein\", \"value\": \"5\"}, {\"name\": \"Sodium\", \"value\": \"195\"}, {\"name\": \"Sugar\", \"value\": \"0\"}], \"name\": \"Uncle Tobys Australia - Vita Brits, 3 Biscuits 33.3g\"}, {\"nutritions\": [{\"name\": \"Calories\", \"value\": \"342\"}, {\"name\": \"Carbs\", \"value\": \"34\"}, {\"name\": \"Fat\", \"value\": \"12\"}, {\"name\": \"Protein\", \"value\": \"24\"}, {\"name\": \"Sodium\", \"value\": \"402\"}, {\"name\": \"Sugar\", \"value\": \"34\"}], \"name\": \"Pauls - Smarter White Milk, 600 ml\"}, {\"nutritions\": [{\"name\": \"Calories\", \"value\": \"196\"}, {\"name\": \"Carbs\", \"value\": \"15\"}, {\"name\": \"Fat\", \"value\": \"10\"}, {\"name\": \"Protein\", \"value\": \"10\"}, {\"name\": \"Sodium\", \"value\": \"176\"}, {\"name\": \"Sugar\", \"value\": \"7\"}], \"name\": \"Tasti - Salted Caramel Protein Bar, 40 g\"}, {\"nutritions\": [{\"name\": \"Calories\", \"value\": \"196\"}, {\"name\": \"Carbs\", \"value\": \"15\"}, {\"name\": \"Fat\", \"value\": \"10\"}, {\"name\": \"Protein\", \"value\": \"10\"}, {\"name\": \"Sodium\", \"value\": \"176\"}, {\"name\": \"Sugar\", \"value\": \"7\"}], \"name\": \"Tasti - Salted Caramel Protein Bar, 40 g\"}], \"sequence\": 1}]\t{\"total\": [{\"name\": \"Calories\", \"value\": 2158}, {\"name\": \"Carbs\", \"value\": 180}, {\"name\": \"Fat\", \"value\": 89}, {\"name\": \"Protein\", \"value\": 115}, {\"name\": \"Sodium\", \"value\": 1998}, {\"name\": \"Sugar\", \"value\": 84}], \"goal\": [{\"name\": \"Calories\", \"value\": 1589}, {\"name\": \"Carbs\", \"value\": 198}, {\"name\": \"Fat\", \"value\": 53}, {\"name\": \"Protein\", \"value\": 80}, {\"name\": \"Sodium\", \"value\": 2300}, {\"name\": \"Sugar\", \"value\": 60}]}\r\n",
      "1\t2014-09-20\t[{\"meal\": \"MY food\", \"dishes\": [{\"nutritions\": [{\"name\": \"Calories\", \"value\": \"412\"}, {\"name\": \"Carbs\", \"value\": \"29\"}, {\"name\": \"Fat\", \"value\": \"24\"}, {\"name\": \"Protein\", \"value\": \"21\"}, {\"name\": \"Sodium\", \"value\": \"258\"}, {\"name\": \"Sugar\", \"value\": \"29\"}], \"name\": \"my - McDonalds Espresso Pronto\\u00ae Flat White, 2 TALL\"}, {\"nutritions\": [{\"name\": \"Calories\", \"value\": \"147\"}, {\"name\": \"Carbs\", \"value\": \"36\"}, {\"name\": \"Fat\", \"value\": \"0\"}, {\"name\": \"Protein\", \"value\": \"0\"}, {\"name\": \"Sodium\", \"value\": \"306\"}, {\"name\": \"Sugar\", \"value\": \"36\"}], \"name\": \"Gatorade - Lemon-Lime (Australia), 600 ml\"}, {\"nutritions\": [{\"name\": \"Calories\", \"value\": \"176\"}, {\"name\": \"Carbs\", \"value\": \"33\"}, {\"name\": \"Fat\", \"value\": \"1\"}, {\"name\": \"Protein\", \"value\": \"5\"}, {\"name\": \"Sodium\", \"value\": \"195\"}, {\"name\": \"Sugar\", \"value\": \"0\"}], \"name\": \"Uncle Tobys Australia - Vita Brits, 3 Biscuits 33.3g\"}, {\"nutritions\": [{\"name\": \"Calories\", \"value\": \"342\"}, {\"name\": \"Carbs\", \"value\": \"34\"}, {\"name\": \"Fat\", \"value\": \"12\"}, {\"name\": \"Protein\", \"value\": \"24\"}, {\"name\": \"Sodium\", \"value\": \"402\"}, {\"name\": \"Sugar\", \"value\": \"34\"}], \"name\": \"Pauls - Smarter White Milk, 600 ml\"}, {\"nutritions\": [{\"name\": \"Calories\", \"value\": \"200\"}, {\"name\": \"Carbs\", \"value\": \"48\"}, {\"name\": \"Fat\", \"value\": \"0\"}, {\"name\": \"Protein\", \"value\": \"0\"}, {\"name\": \"Sodium\", \"value\": \"140\"}, {\"name\": \"Sugar\", \"value\": \"24\"}], \"name\": \"Clif\\u00ae - Shot Bloks - Berry, 6 pieces\"}, {\"nutritions\": [{\"name\": \"Calories\", \"value\": \"160\"}, {\"name\": \"Carbs\", \"value\": \"25\"}, {\"name\": \"Fat\", \"value\": \"5\"}, {\"name\": \"Protein\", \"value\": \"20\"}, {\"name\": \"Sodium\", \"value\": \"240\"}, {\"name\": \"Sugar\", \"value\": \"2\"}], \"name\": \"Quest - Protein Bar Chocolate Peanut Butter, 1 bar (60 g)\"}, {\"nutritions\": [{\"name\": \"Calories\", \"value\": \"170\"}, {\"name\": \"Carbs\", \"value\": \"25\"}, {\"name\": \"Fat\", \"value\": \"5\"}, {\"name\": \"Protein\", \"value\": \"20\"}, {\"name\": \"Sodium\", \"value\": \"260\"}, {\"name\": \"Sugar\", \"value\": \"2\"}], \"name\": \"Quest Bar - Banana Nut Muffin Natural Protein Bar, 60 g\"}, {\"nutritions\": [{\"name\": \"Calories\", \"value\": \"584\"}, {\"name\": \"Carbs\", \"value\": \"0\"}, {\"name\": \"Fat\", \"value\": \"26\"}, {\"name\": \"Protein\", \"value\": \"88\"}, {\"name\": \"Sodium\", \"value\": \"0\"}, {\"name\": \"Sugar\", \"value\": \"0\"}], \"name\": \"Steak - Eye Fillet, 400 g\"}, {\"nutritions\": [{\"name\": \"Calories\", \"value\": \"180\"}, {\"name\": \"Carbs\", \"value\": \"28\"}, {\"name\": \"Fat\", \"value\": \"2\"}, {\"name\": \"Protein\", \"value\": \"4\"}, {\"name\": \"Sodium\", \"value\": \"210\"}, {\"name\": \"Sugar\", \"value\": \"4\"}], \"name\": \"Wonder White - Toast White Bread, 2 slice\"}, {\"nutritions\": [{\"name\": \"Calories\", \"value\": \"140\"}, {\"name\": \"Carbs\", \"value\": \"2\"}, {\"name\": \"Fat\", \"value\": \"10\"}, {\"name\": \"Protein\", \"value\": \"13\"}, {\"name\": \"Sodium\", \"value\": \"302\"}, {\"name\": \"Sugar\", \"value\": \"2\"}], \"name\": \"Coon - Light and Tasty Cheese Slices, 2 Slice\"}, {\"nutritions\": [{\"name\": \"Calories\", \"value\": \"180\"}, {\"name\": \"Carbs\", \"value\": \"22\"}, {\"name\": \"Fat\", \"value\": \"7\"}, {\"name\": \"Protein\", \"value\": \"21\"}, {\"name\": \"Sodium\", \"value\": \"310\"}, {\"name\": \"Sugar\", \"value\": \"1\"}], \"name\": \"Quest Bar - Cookies and Cream, 1 bar\"}], \"sequence\": 1}]\t{\"total\": [{\"name\": \"Calories\", \"value\": 2691}, {\"name\": \"Carbs\", \"value\": 282}, {\"name\": \"Fat\", \"value\": 92}, {\"name\": \"Protein\", \"value\": 216}, {\"name\": \"Sodium\", \"value\": 2623}, {\"name\": \"Sugar\", \"value\": 134}], \"goal\": [{\"name\": \"Calories\", \"value\": 2823}, {\"name\": \"Carbs\", \"value\": 352}, {\"name\": \"Fat\", \"value\": 93}, {\"name\": \"Protein\", \"value\": 142}, {\"name\": \"Sodium\", \"value\": 2300}, {\"name\": \"Sugar\", \"value\": 106}]}\r\n",
      "1\t2014-09-21\t[{\"meal\": \"MY food\", \"dishes\": [{\"nutritions\": [{\"name\": \"Calories\", \"value\": \"412\"}, {\"name\": \"Carbs\", \"value\": \"29\"}, {\"name\": \"Fat\", \"value\": \"24\"}, {\"name\": \"Protein\", \"value\": \"21\"}, {\"name\": \"Sodium\", \"value\": \"258\"}, {\"name\": \"Sugar\", \"value\": \"29\"}], \"name\": \"my - McDonalds Espresso Pronto\\u00ae Flat White, 2 TALL\"}, {\"nutritions\": [{\"name\": \"Calories\", \"value\": \"147\"}, {\"name\": \"Carbs\", \"value\": \"36\"}, {\"name\": \"Fat\", \"value\": \"0\"}, {\"name\": \"Protein\", \"value\": \"0\"}, {\"name\": \"Sodium\", \"value\": \"306\"}, {\"name\": \"Sugar\", \"value\": \"36\"}], \"name\": \"Gatorade - Lemon-Lime (Australia), 600 ml\"}, {\"nutritions\": [{\"name\": \"Calories\", \"value\": \"145\"}, {\"name\": \"Carbs\", \"value\": \"2\"}, {\"name\": \"Fat\", \"value\": \"1\"}, {\"name\": \"Protein\", \"value\": \"32\"}, {\"name\": \"Sodium\", \"value\": \"70\"}, {\"name\": \"Sugar\", \"value\": \"1\"}], \"name\": \"Redbak - Sting-chocolate, 40 g\"}, {\"nutritions\": [{\"name\": \"Calories\", \"value\": \"176\"}, {\"name\": \"Carbs\", \"value\": \"33\"}, {\"name\": \"Fat\", \"value\": \"1\"}, {\"name\": \"Protein\", \"value\": \"5\"}, {\"name\": \"Sodium\", \"value\": \"195\"}, {\"name\": \"Sugar\", \"value\": \"0\"}], \"name\": \"Uncle Tobys Australia - Vita Brits, 3 Biscuits 33.3g\"}, {\"nutritions\": [{\"name\": \"Calories\", \"value\": \"342\"}, {\"name\": \"Carbs\", \"value\": \"34\"}, {\"name\": \"Fat\", \"value\": \"12\"}, {\"name\": \"Protein\", \"value\": \"24\"}, {\"name\": \"Sodium\", \"value\": \"402\"}, {\"name\": \"Sugar\", \"value\": \"34\"}], \"name\": \"Pauls - Smarter White Milk, 600 ml\"}, {\"nutritions\": [{\"name\": \"Calories\", \"value\": \"196\"}, {\"name\": \"Carbs\", \"value\": \"15\"}, {\"name\": \"Fat\", \"value\": \"10\"}, {\"name\": \"Protein\", \"value\": \"10\"}, {\"name\": \"Sodium\", \"value\": \"176\"}, {\"name\": \"Sugar\", \"value\": \"7\"}], \"name\": \"Tasti - Salted Caramel Protein Bar, 40 g\"}, {\"nutritions\": [{\"name\": \"Calories\", \"value\": \"411\"}, {\"name\": \"Carbs\", \"value\": \"36\"}, {\"name\": \"Fat\", \"value\": \"13\"}, {\"name\": \"Protein\", \"value\": \"34\"}, {\"name\": \"Sodium\", \"value\": \"810\"}, {\"name\": \"Sugar\", \"value\": \"0\"}], \"name\": \"Steggles - Chicken Breast Tenders Crumbed, 225 g (1 Tender)\"}, {\"nutritions\": [{\"name\": \"Calories\", \"value\": \"179\"}, {\"name\": \"Carbs\", \"value\": \"35\"}, {\"name\": \"Fat\", \"value\": \"1\"}, {\"name\": \"Protein\", \"value\": \"6\"}, {\"name\": \"Sodium\", \"value\": \"382\"}, {\"name\": \"Sugar\", \"value\": \"1\"}], \"name\": \"Large White - Bread Roll, 1 Large\"}, {\"nutritions\": [{\"name\": \"Calories\", \"value\": \"16\"}, {\"name\": \"Carbs\", \"value\": \"4\"}, {\"name\": \"Fat\", \"value\": \"0\"}, {\"name\": \"Protein\", \"value\": \"1\"}, {\"name\": \"Sodium\", \"value\": \"3\"}, {\"name\": \"Sugar\", \"value\": \"2\"}], \"name\": \"Beans Green - Boiled, 50 g\"}, {\"nutritions\": [{\"name\": \"Calories\", \"value\": \"500\"}, {\"name\": \"Carbs\", \"value\": \"0\"}, {\"name\": \"Fat\", \"value\": \"0\"}, {\"name\": \"Protein\", \"value\": \"0\"}, {\"name\": \"Sodium\", \"value\": \"0\"}, {\"name\": \"Sugar\", \"value\": \"0\"}], \"name\": \"Quick Added Calories, 500 calories\"}], \"sequence\": 1}]\t{\"total\": [{\"name\": \"Calories\", \"value\": 2524}, {\"name\": \"Carbs\", \"value\": 224}, {\"name\": \"Fat\", \"value\": 62}, {\"name\": \"Protein\", \"value\": 133}, {\"name\": \"Sodium\", \"value\": 2602}, {\"name\": \"Sugar\", \"value\": 110}], \"goal\": [{\"name\": \"Calories\", \"value\": 2168}, {\"name\": \"Carbs\", \"value\": 271}, {\"name\": \"Fat\", \"value\": 72}, {\"name\": \"Protein\", \"value\": 109}, {\"name\": \"Sodium\", \"value\": 2300}, {\"name\": \"Sugar\", \"value\": 82}]}\r\n",
      "1\t2014-09-22\t[{\"meal\": \"MY food\", \"dishes\": [{\"nutritions\": [{\"name\": \"Calories\", \"value\": \"412\"}, {\"name\": \"Carbs\", \"value\": \"29\"}, {\"name\": \"Fat\", \"value\": \"24\"}, {\"name\": \"Protein\", \"value\": \"21\"}, {\"name\": \"Sodium\", \"value\": \"258\"}, {\"name\": \"Sugar\", \"value\": \"29\"}], \"name\": \"my - McDonalds Espresso Pronto\\u00ae Flat White, 2 TALL\"}, {\"nutritions\": [{\"name\": \"Calories\", \"value\": \"176\"}, {\"name\": \"Carbs\", \"value\": \"33\"}, {\"name\": \"Fat\", \"value\": \"1\"}, {\"name\": \"Protein\", \"value\": \"5\"}, {\"name\": \"Sodium\", \"value\": \"195\"}, {\"name\": \"Sugar\", \"value\": \"0\"}], \"name\": \"Uncle Tobys Australia - Vita Brits, 3 Biscuits 33.3g\"}, {\"nutritions\": [{\"name\": \"Calories\", \"value\": \"342\"}, {\"name\": \"Carbs\", \"value\": \"34\"}, {\"name\": \"Fat\", \"value\": \"12\"}, {\"name\": \"Protein\", \"value\": \"24\"}, {\"name\": \"Sodium\", \"value\": \"402\"}, {\"name\": \"Sugar\", \"value\": \"34\"}], \"name\": \"Pauls - Smarter White Milk, 600 ml\"}, {\"nutritions\": [{\"name\": \"Calories\", \"value\": \"145\"}, {\"name\": \"Carbs\", \"value\": \"2\"}, {\"name\": \"Fat\", \"value\": \"1\"}, {\"name\": \"Protein\", \"value\": \"32\"}, {\"name\": \"Sodium\", \"value\": \"70\"}, {\"name\": \"Sugar\", \"value\": \"1\"}], \"name\": \"Redbak - Sting-chocolate, 40 g\"}, {\"nutritions\": [{\"name\": \"Calories\", \"value\": \"147\"}, {\"name\": \"Carbs\", \"value\": \"36\"}, {\"name\": \"Fat\", \"value\": \"0\"}, {\"name\": \"Protein\", \"value\": \"0\"}, {\"name\": \"Sodium\", \"value\": \"306\"}, {\"name\": \"Sugar\", \"value\": \"36\"}], \"name\": \"Gatorade - Lemon-Lime (Australia), 600 ml\"}, {\"nutritions\": [{\"name\": \"Calories\", \"value\": \"180\"}, {\"name\": \"Carbs\", \"value\": \"46\"}, {\"name\": \"Fat\", \"value\": \"0\"}, {\"name\": \"Protein\", \"value\": \"0\"}, {\"name\": \"Sodium\", \"value\": \"100\"}, {\"name\": \"Sugar\", \"value\": \"22\"}], \"name\": \"Gu Sports - Chomps, 8 pieces\"}, {\"nutritions\": [{\"name\": \"Calories\", \"value\": \"584\"}, {\"name\": \"Carbs\", \"value\": \"0\"}, {\"name\": \"Fat\", \"value\": \"26\"}, {\"name\": \"Protein\", \"value\": \"88\"}, {\"name\": \"Sodium\", \"value\": \"0\"}, {\"name\": \"Sugar\", \"value\": \"0\"}], \"name\": \"Steak - Eye Fillet, 400 g\"}, {\"nutritions\": [{\"name\": \"Calories\", \"value\": \"196\"}, {\"name\": \"Carbs\", \"value\": \"15\"}, {\"name\": \"Fat\", \"value\": \"10\"}, {\"name\": \"Protein\", \"value\": \"10\"}, {\"name\": \"Sodium\", \"value\": \"176\"}, {\"name\": \"Sugar\", \"value\": \"7\"}], \"name\": \"Tasti - Salted Caramel Protein Bar, 40 g\"}], \"sequence\": 1}]\t{\"total\": [{\"name\": \"Calories\", \"value\": 2182}, {\"name\": \"Carbs\", \"value\": 195}, {\"name\": \"Fat\", \"value\": 74}, {\"name\": \"Protein\", \"value\": 180}, {\"name\": \"Sodium\", \"value\": 1507}, {\"name\": \"Sugar\", \"value\": 129}], \"goal\": [{\"name\": \"Calories\", \"value\": 2153}, {\"name\": \"Carbs\", \"value\": 269}, {\"name\": \"Fat\", \"value\": 71}, {\"name\": \"Protein\", \"value\": 108}, {\"name\": \"Sodium\", \"value\": 2300}, {\"name\": \"Sugar\", \"value\": 81}]}\r\n",
      "1\t2014-09-23\t[{\"meal\": \"MY food\", \"dishes\": [{\"nutritions\": [{\"name\": \"Calories\", \"value\": \"412\"}, {\"name\": \"Carbs\", \"value\": \"29\"}, {\"name\": \"Fat\", \"value\": \"24\"}, {\"name\": \"Protein\", \"value\": \"21\"}, {\"name\": \"Sodium\", \"value\": \"258\"}, {\"name\": \"Sugar\", \"value\": \"29\"}], \"name\": \"my - McDonalds Espresso Pronto\\u00ae Flat White, 2 TALL\"}, {\"nutritions\": [{\"name\": \"Calories\", \"value\": \"767\"}, {\"name\": \"Carbs\", \"value\": \"30\"}, {\"name\": \"Fat\", \"value\": \"58\"}, {\"name\": \"Protein\", \"value\": \"40\"}, {\"name\": \"Sodium\", \"value\": \"1,272\"}, {\"name\": \"Sugar\", \"value\": \"18\"}], \"name\": \"Mao - Seafood Laksa, 1 bowl\"}, {\"nutritions\": [{\"name\": \"Calories\", \"value\": \"179\"}, {\"name\": \"Carbs\", \"value\": \"35\"}, {\"name\": \"Fat\", \"value\": \"1\"}, {\"name\": \"Protein\", \"value\": \"6\"}, {\"name\": \"Sodium\", \"value\": \"382\"}, {\"name\": \"Sugar\", \"value\": \"1\"}], \"name\": \"Large White - Bread Roll, 1 Large\"}, {\"nutritions\": [{\"name\": \"Calories\", \"value\": \"580\"}, {\"name\": \"Carbs\", \"value\": \"74\"}, {\"name\": \"Fat\", \"value\": \"30\"}, {\"name\": \"Protein\", \"value\": \"6\"}, {\"name\": \"Sodium\", \"value\": \"620\"}, {\"name\": \"Sugar\", \"value\": \"54\"}], \"name\": \"Cup Cake - Cup Cake, 2 cupcake ((84g/2.96oz)\"}, {\"nutritions\": [{\"name\": \"Calories\", \"value\": \"360\"}, {\"name\": \"Carbs\", \"value\": \"44\"}, {\"name\": \"Fat\", \"value\": \"14\"}, {\"name\": \"Protein\", \"value\": \"42\"}, {\"name\": \"Sodium\", \"value\": \"620\"}, {\"name\": \"Sugar\", \"value\": \"2\"}], \"name\": \"Quest Bar - Cookies and Cream, 2 bar\"}, {\"nutritions\": [{\"name\": \"Calories\", \"value\": \"145\"}, {\"name\": \"Carbs\", \"value\": \"2\"}, {\"name\": \"Fat\", \"value\": \"1\"}, {\"name\": \"Protein\", \"value\": \"32\"}, {\"name\": \"Sodium\", \"value\": \"70\"}, {\"name\": \"Sugar\", \"value\": \"1\"}], \"name\": \"Redbak - Sting-chocolate, 40 g\"}], \"sequence\": 1}]\t{\"total\": [{\"name\": \"Calories\", \"value\": 2443}, {\"name\": \"Carbs\", \"value\": 214}, {\"name\": \"Fat\", \"value\": 128}, {\"name\": \"Protein\", \"value\": 147}, {\"name\": \"Sodium\", \"value\": 3222}, {\"name\": \"Sugar\", \"value\": 105}], \"goal\": [{\"name\": \"Calories\", \"value\": 2587}, {\"name\": \"Carbs\", \"value\": 323}, {\"name\": \"Fat\", \"value\": 86}, {\"name\": \"Protein\", \"value\": 130}, {\"name\": \"Sodium\", \"value\": 2300}, {\"name\": \"Sugar\", \"value\": 97}]}\r\n"
     ]
    }
   ],
   "source": [
    "!head data/mfp-diaries.tsv"
   ]
  },
  {
   "cell_type": "code",
   "execution_count": 3,
   "metadata": {},
   "outputs": [],
   "source": [
    "df = pd.read_csv('data/mfp-diaries.tsv',\n",
    "                  sep='\\t',\n",
    "                  header=None,\n",
    "                  names=['userId','entry_date','food_entries','daily_goal'])"
   ]
  },
  {
   "cell_type": "code",
   "execution_count": 4,
   "metadata": {},
   "outputs": [
    {
     "data": {
      "text/html": [
       "<div>\n",
       "<style scoped>\n",
       "    .dataframe tbody tr th:only-of-type {\n",
       "        vertical-align: middle;\n",
       "    }\n",
       "\n",
       "    .dataframe tbody tr th {\n",
       "        vertical-align: top;\n",
       "    }\n",
       "\n",
       "    .dataframe thead th {\n",
       "        text-align: right;\n",
       "    }\n",
       "</style>\n",
       "<table border=\"1\" class=\"dataframe\">\n",
       "  <thead>\n",
       "    <tr style=\"text-align: right;\">\n",
       "      <th></th>\n",
       "      <th>userId</th>\n",
       "      <th>entry_date</th>\n",
       "      <th>food_entries</th>\n",
       "      <th>daily_goal</th>\n",
       "    </tr>\n",
       "  </thead>\n",
       "  <tbody>\n",
       "    <tr>\n",
       "      <th>0</th>\n",
       "      <td>1</td>\n",
       "      <td>2014-09-14</td>\n",
       "      <td>[{\"meal\": \"MY food\", \"dishes\": [{\"nutritions\":...</td>\n",
       "      <td>{\"total\": [{\"name\": \"Calories\", \"value\": 2924}...</td>\n",
       "    </tr>\n",
       "    <tr>\n",
       "      <th>1</th>\n",
       "      <td>1</td>\n",
       "      <td>2014-09-15</td>\n",
       "      <td>[{\"meal\": \"MY food\", \"dishes\": [{\"nutritions\":...</td>\n",
       "      <td>{\"total\": [{\"name\": \"Calories\", \"value\": 2430}...</td>\n",
       "    </tr>\n",
       "    <tr>\n",
       "      <th>2</th>\n",
       "      <td>1</td>\n",
       "      <td>2014-09-16</td>\n",
       "      <td>[{\"meal\": \"MY food\", \"dishes\": [{\"nutritions\":...</td>\n",
       "      <td>{\"total\": [{\"name\": \"Calories\", \"value\": 1862}...</td>\n",
       "    </tr>\n",
       "    <tr>\n",
       "      <th>3</th>\n",
       "      <td>1</td>\n",
       "      <td>2014-09-17</td>\n",
       "      <td>[{\"meal\": \"MY food\", \"dishes\": [{\"nutritions\":...</td>\n",
       "      <td>{\"total\": [{\"name\": \"Calories\", \"value\": 2251}...</td>\n",
       "    </tr>\n",
       "    <tr>\n",
       "      <th>4</th>\n",
       "      <td>1</td>\n",
       "      <td>2014-09-18</td>\n",
       "      <td>[{\"meal\": \"MY food\", \"dishes\": [{\"nutritions\":...</td>\n",
       "      <td>{\"total\": [{\"name\": \"Calories\", \"value\": 2001}...</td>\n",
       "    </tr>\n",
       "  </tbody>\n",
       "</table>\n",
       "</div>"
      ],
      "text/plain": [
       "   userId  entry_date                                       food_entries  \\\n",
       "0       1  2014-09-14  [{\"meal\": \"MY food\", \"dishes\": [{\"nutritions\":...   \n",
       "1       1  2014-09-15  [{\"meal\": \"MY food\", \"dishes\": [{\"nutritions\":...   \n",
       "2       1  2014-09-16  [{\"meal\": \"MY food\", \"dishes\": [{\"nutritions\":...   \n",
       "3       1  2014-09-17  [{\"meal\": \"MY food\", \"dishes\": [{\"nutritions\":...   \n",
       "4       1  2014-09-18  [{\"meal\": \"MY food\", \"dishes\": [{\"nutritions\":...   \n",
       "\n",
       "                                          daily_goal  \n",
       "0  {\"total\": [{\"name\": \"Calories\", \"value\": 2924}...  \n",
       "1  {\"total\": [{\"name\": \"Calories\", \"value\": 2430}...  \n",
       "2  {\"total\": [{\"name\": \"Calories\", \"value\": 1862}...  \n",
       "3  {\"total\": [{\"name\": \"Calories\", \"value\": 2251}...  \n",
       "4  {\"total\": [{\"name\": \"Calories\", \"value\": 2001}...  "
      ]
     },
     "execution_count": 4,
     "metadata": {},
     "output_type": "execute_result"
    }
   ],
   "source": [
    "df.head()"
   ]
  },
  {
   "cell_type": "code",
   "execution_count": 5,
   "metadata": {},
   "outputs": [
    {
     "data": {
      "text/plain": [
       "9896"
      ]
     },
     "execution_count": 5,
     "metadata": {},
     "output_type": "execute_result"
    }
   ],
   "source": [
    "len(df['userId'].unique())"
   ]
  },
  {
   "cell_type": "code",
   "execution_count": null,
   "metadata": {},
   "outputs": [],
   "source": []
  },
  {
   "cell_type": "markdown",
   "metadata": {},
   "source": [
    "## Exploratory Data Analysis"
   ]
  },
  {
   "cell_type": "code",
   "execution_count": 6,
   "metadata": {},
   "outputs": [
    {
     "data": {
      "text/plain": [
       "'[{\"meal\": \"MY food\", \"dishes\": [{\"nutritions\": [{\"name\": \"Calories\", \"value\": \"412\"}, {\"name\": \"Carbs\", \"value\": \"29\"}, {\"name\": \"Fat\", \"value\": \"24\"}, {\"name\": \"Protein\", \"value\": \"21\"}, {\"name\": \"Sodium\", \"value\": \"258\"}, {\"name\": \"Sugar\", \"value\": \"29\"}], \"name\": \"my - McDonalds Espresso Pronto\\\\u00ae Flat White, 2 TALL\"}, {\"nutritions\": [{\"name\": \"Calories\", \"value\": \"170\"}, {\"name\": \"Carbs\", \"value\": \"25\"}, {\"name\": \"Fat\", \"value\": \"5\"}, {\"name\": \"Protein\", \"value\": \"20\"}, {\"name\": \"Sodium\", \"value\": \"260\"}, {\"name\": \"Sugar\", \"value\": \"2\"}], \"name\": \"Quest Bar - Banana Nut Muffin Natural Protein Bar, 60 g\"}, {\"nutritions\": [{\"name\": \"Calories\", \"value\": \"176\"}, {\"name\": \"Carbs\", \"value\": \"33\"}, {\"name\": \"Fat\", \"value\": \"1\"}, {\"name\": \"Protein\", \"value\": \"5\"}, {\"name\": \"Sodium\", \"value\": \"195\"}, {\"name\": \"Sugar\", \"value\": \"0\"}], \"name\": \"Uncle Tobys Australia - Vita Brits, 3 Biscuits 33.3g\"}, {\"nutritions\": [{\"name\": \"Calories\", \"value\": \"342\"}, {\"name\": \"Carbs\", \"value\": \"34\"}, {\"name\": \"Fat\", \"value\": \"12\"}, {\"name\": \"Protein\", \"value\": \"24\"}, {\"name\": \"Sodium\", \"value\": \"402\"}, {\"name\": \"Sugar\", \"value\": \"34\"}], \"name\": \"Pauls - Smarter White Milk, 600 ml\"}, {\"nutritions\": [{\"name\": \"Calories\", \"value\": \"180\"}, {\"name\": \"Carbs\", \"value\": \"22\"}, {\"name\": \"Fat\", \"value\": \"7\"}, {\"name\": \"Protein\", \"value\": \"21\"}, {\"name\": \"Sodium\", \"value\": \"310\"}, {\"name\": \"Sugar\", \"value\": \"1\"}], \"name\": \"Quest Bar - Cookies and Cream, 1 bar\"}, {\"nutritions\": [{\"name\": \"Calories\", \"value\": \"180\"}, {\"name\": \"Carbs\", \"value\": \"46\"}, {\"name\": \"Fat\", \"value\": \"0\"}, {\"name\": \"Protein\", \"value\": \"0\"}, {\"name\": \"Sodium\", \"value\": \"100\"}, {\"name\": \"Sugar\", \"value\": \"22\"}], \"name\": \"Gu Sports - Chomps, 8 pieces\"}, {\"nutritions\": [{\"name\": \"Calories\", \"value\": \"170\"}, {\"name\": \"Carbs\", \"value\": \"25\"}, {\"name\": \"Fat\", \"value\": \"5\"}, {\"name\": \"Protein\", \"value\": \"20\"}, {\"name\": \"Sodium\", \"value\": \"260\"}, {\"name\": \"Sugar\", \"value\": \"2\"}], \"name\": \"Quest Bar - Banana Nut Muffin Natural Protein Bar, 60 g\"}, {\"nutritions\": [{\"name\": \"Calories\", \"value\": \"160\"}, {\"name\": \"Carbs\", \"value\": \"25\"}, {\"name\": \"Fat\", \"value\": \"5\"}, {\"name\": \"Protein\", \"value\": \"20\"}, {\"name\": \"Sodium\", \"value\": \"240\"}, {\"name\": \"Sugar\", \"value\": \"2\"}], \"name\": \"Quest - Protein Bar Chocolate Peanut Butter, 1 bar (60 g)\"}, {\"nutritions\": [{\"name\": \"Calories\", \"value\": \"686\"}, {\"name\": \"Carbs\", \"value\": \"59\"}, {\"name\": \"Fat\", \"value\": \"31\"}, {\"name\": \"Protein\", \"value\": \"40\"}, {\"name\": \"Sodium\", \"value\": \"1,105\"}, {\"name\": \"Sugar\", \"value\": \"9\"}], \"name\": \"Grilld - Simply Grilled (Real), 1.25 burger\"}, {\"nutritions\": [{\"name\": \"Calories\", \"value\": \"252\"}, {\"name\": \"Carbs\", \"value\": \"27\"}, {\"name\": \"Fat\", \"value\": \"14\"}, {\"name\": \"Protein\", \"value\": \"5\"}, {\"name\": \"Sodium\", \"value\": \"352\"}, {\"name\": \"Sugar\", \"value\": \"1\"}], \"name\": \"Grilld - Snack Chips, 1 snack size\"}, {\"nutritions\": [{\"name\": \"Calories\", \"value\": \"196\"}, {\"name\": \"Carbs\", \"value\": \"15\"}, {\"name\": \"Fat\", \"value\": \"10\"}, {\"name\": \"Protein\", \"value\": \"10\"}, {\"name\": \"Sodium\", \"value\": \"176\"}, {\"name\": \"Sugar\", \"value\": \"7\"}], \"name\": \"Tasti - Salted Caramel Protein Bar, 40 g\"}], \"sequence\": 1}]'"
      ]
     },
     "execution_count": 6,
     "metadata": {},
     "output_type": "execute_result"
    }
   ],
   "source": [
    "df['food_entries'][0]"
   ]
  },
  {
   "cell_type": "code",
   "execution_count": 7,
   "metadata": {},
   "outputs": [
    {
     "data": {
      "text/plain": [
       "[{'meal': 'MY food',\n",
       "  'dishes': [{'nutritions': [{'name': 'Calories', 'value': '412'},\n",
       "     {'name': 'Carbs', 'value': '29'},\n",
       "     {'name': 'Fat', 'value': '24'},\n",
       "     {'name': 'Protein', 'value': '21'},\n",
       "     {'name': 'Sodium', 'value': '258'},\n",
       "     {'name': 'Sugar', 'value': '29'}],\n",
       "    'name': 'my - McDonalds Espresso Pronto® Flat White, 2 TALL'},\n",
       "   {'nutritions': [{'name': 'Calories', 'value': '170'},\n",
       "     {'name': 'Carbs', 'value': '25'},\n",
       "     {'name': 'Fat', 'value': '5'},\n",
       "     {'name': 'Protein', 'value': '20'},\n",
       "     {'name': 'Sodium', 'value': '260'},\n",
       "     {'name': 'Sugar', 'value': '2'}],\n",
       "    'name': 'Quest Bar - Banana Nut Muffin Natural Protein Bar, 60 g'},\n",
       "   {'nutritions': [{'name': 'Calories', 'value': '176'},\n",
       "     {'name': 'Carbs', 'value': '33'},\n",
       "     {'name': 'Fat', 'value': '1'},\n",
       "     {'name': 'Protein', 'value': '5'},\n",
       "     {'name': 'Sodium', 'value': '195'},\n",
       "     {'name': 'Sugar', 'value': '0'}],\n",
       "    'name': 'Uncle Tobys Australia - Vita Brits, 3 Biscuits 33.3g'},\n",
       "   {'nutritions': [{'name': 'Calories', 'value': '342'},\n",
       "     {'name': 'Carbs', 'value': '34'},\n",
       "     {'name': 'Fat', 'value': '12'},\n",
       "     {'name': 'Protein', 'value': '24'},\n",
       "     {'name': 'Sodium', 'value': '402'},\n",
       "     {'name': 'Sugar', 'value': '34'}],\n",
       "    'name': 'Pauls - Smarter White Milk, 600 ml'},\n",
       "   {'nutritions': [{'name': 'Calories', 'value': '180'},\n",
       "     {'name': 'Carbs', 'value': '22'},\n",
       "     {'name': 'Fat', 'value': '7'},\n",
       "     {'name': 'Protein', 'value': '21'},\n",
       "     {'name': 'Sodium', 'value': '310'},\n",
       "     {'name': 'Sugar', 'value': '1'}],\n",
       "    'name': 'Quest Bar - Cookies and Cream, 1 bar'},\n",
       "   {'nutritions': [{'name': 'Calories', 'value': '180'},\n",
       "     {'name': 'Carbs', 'value': '46'},\n",
       "     {'name': 'Fat', 'value': '0'},\n",
       "     {'name': 'Protein', 'value': '0'},\n",
       "     {'name': 'Sodium', 'value': '100'},\n",
       "     {'name': 'Sugar', 'value': '22'}],\n",
       "    'name': 'Gu Sports - Chomps, 8 pieces'},\n",
       "   {'nutritions': [{'name': 'Calories', 'value': '170'},\n",
       "     {'name': 'Carbs', 'value': '25'},\n",
       "     {'name': 'Fat', 'value': '5'},\n",
       "     {'name': 'Protein', 'value': '20'},\n",
       "     {'name': 'Sodium', 'value': '260'},\n",
       "     {'name': 'Sugar', 'value': '2'}],\n",
       "    'name': 'Quest Bar - Banana Nut Muffin Natural Protein Bar, 60 g'},\n",
       "   {'nutritions': [{'name': 'Calories', 'value': '160'},\n",
       "     {'name': 'Carbs', 'value': '25'},\n",
       "     {'name': 'Fat', 'value': '5'},\n",
       "     {'name': 'Protein', 'value': '20'},\n",
       "     {'name': 'Sodium', 'value': '240'},\n",
       "     {'name': 'Sugar', 'value': '2'}],\n",
       "    'name': 'Quest - Protein Bar Chocolate Peanut Butter, 1 bar (60 g)'},\n",
       "   {'nutritions': [{'name': 'Calories', 'value': '686'},\n",
       "     {'name': 'Carbs', 'value': '59'},\n",
       "     {'name': 'Fat', 'value': '31'},\n",
       "     {'name': 'Protein', 'value': '40'},\n",
       "     {'name': 'Sodium', 'value': '1,105'},\n",
       "     {'name': 'Sugar', 'value': '9'}],\n",
       "    'name': 'Grilld - Simply Grilled (Real), 1.25 burger'},\n",
       "   {'nutritions': [{'name': 'Calories', 'value': '252'},\n",
       "     {'name': 'Carbs', 'value': '27'},\n",
       "     {'name': 'Fat', 'value': '14'},\n",
       "     {'name': 'Protein', 'value': '5'},\n",
       "     {'name': 'Sodium', 'value': '352'},\n",
       "     {'name': 'Sugar', 'value': '1'}],\n",
       "    'name': 'Grilld - Snack Chips, 1 snack size'},\n",
       "   {'nutritions': [{'name': 'Calories', 'value': '196'},\n",
       "     {'name': 'Carbs', 'value': '15'},\n",
       "     {'name': 'Fat', 'value': '10'},\n",
       "     {'name': 'Protein', 'value': '10'},\n",
       "     {'name': 'Sodium', 'value': '176'},\n",
       "     {'name': 'Sugar', 'value': '7'}],\n",
       "    'name': 'Tasti - Salted Caramel Protein Bar, 40 g'}],\n",
       "  'sequence': 1}]"
      ]
     },
     "execution_count": 7,
     "metadata": {},
     "output_type": "execute_result"
    }
   ],
   "source": [
    "value = json.loads(df.iloc[0, 2])\n",
    "value"
   ]
  },
  {
   "cell_type": "code",
   "execution_count": 8,
   "metadata": {},
   "outputs": [
    {
     "data": {
      "text/plain": [
       "dict_keys(['meal', 'dishes', 'sequence'])"
      ]
     },
     "execution_count": 8,
     "metadata": {},
     "output_type": "execute_result"
    }
   ],
   "source": [
    "value[0].keys()"
   ]
  },
  {
   "cell_type": "code",
   "execution_count": 9,
   "metadata": {},
   "outputs": [
    {
     "data": {
      "text/plain": [
       "'MY food'"
      ]
     },
     "execution_count": 9,
     "metadata": {},
     "output_type": "execute_result"
    }
   ],
   "source": [
    "value[0]['meal']"
   ]
  },
  {
   "cell_type": "code",
   "execution_count": 10,
   "metadata": {},
   "outputs": [
    {
     "data": {
      "text/plain": [
       "[{'nutritions': [{'name': 'Calories', 'value': '412'},\n",
       "   {'name': 'Carbs', 'value': '29'},\n",
       "   {'name': 'Fat', 'value': '24'},\n",
       "   {'name': 'Protein', 'value': '21'},\n",
       "   {'name': 'Sodium', 'value': '258'},\n",
       "   {'name': 'Sugar', 'value': '29'}],\n",
       "  'name': 'my - McDonalds Espresso Pronto® Flat White, 2 TALL'},\n",
       " {'nutritions': [{'name': 'Calories', 'value': '170'},\n",
       "   {'name': 'Carbs', 'value': '25'},\n",
       "   {'name': 'Fat', 'value': '5'},\n",
       "   {'name': 'Protein', 'value': '20'},\n",
       "   {'name': 'Sodium', 'value': '260'},\n",
       "   {'name': 'Sugar', 'value': '2'}],\n",
       "  'name': 'Quest Bar - Banana Nut Muffin Natural Protein Bar, 60 g'},\n",
       " {'nutritions': [{'name': 'Calories', 'value': '176'},\n",
       "   {'name': 'Carbs', 'value': '33'},\n",
       "   {'name': 'Fat', 'value': '1'},\n",
       "   {'name': 'Protein', 'value': '5'},\n",
       "   {'name': 'Sodium', 'value': '195'},\n",
       "   {'name': 'Sugar', 'value': '0'}],\n",
       "  'name': 'Uncle Tobys Australia - Vita Brits, 3 Biscuits 33.3g'},\n",
       " {'nutritions': [{'name': 'Calories', 'value': '342'},\n",
       "   {'name': 'Carbs', 'value': '34'},\n",
       "   {'name': 'Fat', 'value': '12'},\n",
       "   {'name': 'Protein', 'value': '24'},\n",
       "   {'name': 'Sodium', 'value': '402'},\n",
       "   {'name': 'Sugar', 'value': '34'}],\n",
       "  'name': 'Pauls - Smarter White Milk, 600 ml'},\n",
       " {'nutritions': [{'name': 'Calories', 'value': '180'},\n",
       "   {'name': 'Carbs', 'value': '22'},\n",
       "   {'name': 'Fat', 'value': '7'},\n",
       "   {'name': 'Protein', 'value': '21'},\n",
       "   {'name': 'Sodium', 'value': '310'},\n",
       "   {'name': 'Sugar', 'value': '1'}],\n",
       "  'name': 'Quest Bar - Cookies and Cream, 1 bar'},\n",
       " {'nutritions': [{'name': 'Calories', 'value': '180'},\n",
       "   {'name': 'Carbs', 'value': '46'},\n",
       "   {'name': 'Fat', 'value': '0'},\n",
       "   {'name': 'Protein', 'value': '0'},\n",
       "   {'name': 'Sodium', 'value': '100'},\n",
       "   {'name': 'Sugar', 'value': '22'}],\n",
       "  'name': 'Gu Sports - Chomps, 8 pieces'},\n",
       " {'nutritions': [{'name': 'Calories', 'value': '170'},\n",
       "   {'name': 'Carbs', 'value': '25'},\n",
       "   {'name': 'Fat', 'value': '5'},\n",
       "   {'name': 'Protein', 'value': '20'},\n",
       "   {'name': 'Sodium', 'value': '260'},\n",
       "   {'name': 'Sugar', 'value': '2'}],\n",
       "  'name': 'Quest Bar - Banana Nut Muffin Natural Protein Bar, 60 g'},\n",
       " {'nutritions': [{'name': 'Calories', 'value': '160'},\n",
       "   {'name': 'Carbs', 'value': '25'},\n",
       "   {'name': 'Fat', 'value': '5'},\n",
       "   {'name': 'Protein', 'value': '20'},\n",
       "   {'name': 'Sodium', 'value': '240'},\n",
       "   {'name': 'Sugar', 'value': '2'}],\n",
       "  'name': 'Quest - Protein Bar Chocolate Peanut Butter, 1 bar (60 g)'},\n",
       " {'nutritions': [{'name': 'Calories', 'value': '686'},\n",
       "   {'name': 'Carbs', 'value': '59'},\n",
       "   {'name': 'Fat', 'value': '31'},\n",
       "   {'name': 'Protein', 'value': '40'},\n",
       "   {'name': 'Sodium', 'value': '1,105'},\n",
       "   {'name': 'Sugar', 'value': '9'}],\n",
       "  'name': 'Grilld - Simply Grilled (Real), 1.25 burger'},\n",
       " {'nutritions': [{'name': 'Calories', 'value': '252'},\n",
       "   {'name': 'Carbs', 'value': '27'},\n",
       "   {'name': 'Fat', 'value': '14'},\n",
       "   {'name': 'Protein', 'value': '5'},\n",
       "   {'name': 'Sodium', 'value': '352'},\n",
       "   {'name': 'Sugar', 'value': '1'}],\n",
       "  'name': 'Grilld - Snack Chips, 1 snack size'},\n",
       " {'nutritions': [{'name': 'Calories', 'value': '196'},\n",
       "   {'name': 'Carbs', 'value': '15'},\n",
       "   {'name': 'Fat', 'value': '10'},\n",
       "   {'name': 'Protein', 'value': '10'},\n",
       "   {'name': 'Sodium', 'value': '176'},\n",
       "   {'name': 'Sugar', 'value': '7'}],\n",
       "  'name': 'Tasti - Salted Caramel Protein Bar, 40 g'}]"
      ]
     },
     "execution_count": 10,
     "metadata": {},
     "output_type": "execute_result"
    }
   ],
   "source": [
    "value[0]['dishes']"
   ]
  },
  {
   "cell_type": "code",
   "execution_count": 11,
   "metadata": {},
   "outputs": [
    {
     "data": {
      "text/plain": [
       "1"
      ]
     },
     "execution_count": 11,
     "metadata": {},
     "output_type": "execute_result"
    }
   ],
   "source": [
    "value[0]['sequence']"
   ]
  },
  {
   "cell_type": "code",
   "execution_count": 12,
   "metadata": {},
   "outputs": [
    {
     "data": {
      "text/plain": [
       "{'nutritions': [{'name': 'Calories', 'value': '412'},\n",
       "  {'name': 'Carbs', 'value': '29'},\n",
       "  {'name': 'Fat', 'value': '24'},\n",
       "  {'name': 'Protein', 'value': '21'},\n",
       "  {'name': 'Sodium', 'value': '258'},\n",
       "  {'name': 'Sugar', 'value': '29'}],\n",
       " 'name': 'my - McDonalds Espresso Pronto® Flat White, 2 TALL'}"
      ]
     },
     "execution_count": 12,
     "metadata": {},
     "output_type": "execute_result"
    }
   ],
   "source": [
    "value[0]['dishes'][0]"
   ]
  },
  {
   "cell_type": "code",
   "execution_count": 14,
   "metadata": {},
   "outputs": [
    {
     "data": {
      "text/plain": [
       "dict_keys(['total', 'goal'])"
      ]
     },
     "execution_count": 14,
     "metadata": {},
     "output_type": "execute_result"
    }
   ],
   "source": [
    "goals.keys()"
   ]
  },
  {
   "cell_type": "markdown",
   "metadata": {},
   "source": [
    "## UserId, Entry_Date, Daily_Goal  (Need to Parse Data)"
   ]
  },
  {
   "cell_type": "code",
   "execution_count": 13,
   "metadata": {},
   "outputs": [
    {
     "data": {
      "text/plain": [
       "{'total': [{'name': 'Calories', 'value': 2924},\n",
       "  {'name': 'Carbs', 'value': 340},\n",
       "  {'name': 'Fat', 'value': 114},\n",
       "  {'name': 'Protein', 'value': 186},\n",
       "  {'name': 'Sodium', 'value': 3658},\n",
       "  {'name': 'Sugar', 'value': 109}],\n",
       " 'goal': [{'name': 'Calories', 'value': 3173},\n",
       "  {'name': 'Carbs', 'value': 396},\n",
       "  {'name': 'Fat', 'value': 105},\n",
       "  {'name': 'Protein', 'value': 160},\n",
       "  {'name': 'Sodium', 'value': 2300},\n",
       "  {'name': 'Sugar', 'value': 119}]}"
      ]
     },
     "execution_count": 13,
     "metadata": {},
     "output_type": "execute_result"
    }
   ],
   "source": [
    "goals = json.loads(df.iloc[0, 3])\n",
    "goals"
   ]
  },
  {
   "cell_type": "code",
   "execution_count": null,
   "metadata": {},
   "outputs": [],
   "source": [
    "df_goal = df.drop(['food_entries'], axis=1)"
   ]
  },
  {
   "cell_type": "code",
   "execution_count": 23,
   "metadata": {
    "scrolled": true
   },
   "outputs": [
    {
     "data": {
      "text/html": [
       "<div>\n",
       "<style scoped>\n",
       "    .dataframe tbody tr th:only-of-type {\n",
       "        vertical-align: middle;\n",
       "    }\n",
       "\n",
       "    .dataframe tbody tr th {\n",
       "        vertical-align: top;\n",
       "    }\n",
       "\n",
       "    .dataframe thead th {\n",
       "        text-align: right;\n",
       "    }\n",
       "</style>\n",
       "<table border=\"1\" class=\"dataframe\">\n",
       "  <thead>\n",
       "    <tr style=\"text-align: right;\">\n",
       "      <th></th>\n",
       "      <th>userId</th>\n",
       "      <th>entry_date</th>\n",
       "      <th>daily_goal</th>\n",
       "    </tr>\n",
       "  </thead>\n",
       "  <tbody>\n",
       "    <tr>\n",
       "      <th>0</th>\n",
       "      <td>1</td>\n",
       "      <td>2014-09-14</td>\n",
       "      <td>{\"total\": [{\"name\": \"Calories\", \"value\": 2924}...</td>\n",
       "    </tr>\n",
       "    <tr>\n",
       "      <th>1</th>\n",
       "      <td>1</td>\n",
       "      <td>2014-09-15</td>\n",
       "      <td>{\"total\": [{\"name\": \"Calories\", \"value\": 2430}...</td>\n",
       "    </tr>\n",
       "    <tr>\n",
       "      <th>2</th>\n",
       "      <td>1</td>\n",
       "      <td>2014-09-16</td>\n",
       "      <td>{\"total\": [{\"name\": \"Calories\", \"value\": 1862}...</td>\n",
       "    </tr>\n",
       "    <tr>\n",
       "      <th>3</th>\n",
       "      <td>1</td>\n",
       "      <td>2014-09-17</td>\n",
       "      <td>{\"total\": [{\"name\": \"Calories\", \"value\": 2251}...</td>\n",
       "    </tr>\n",
       "    <tr>\n",
       "      <th>4</th>\n",
       "      <td>1</td>\n",
       "      <td>2014-09-18</td>\n",
       "      <td>{\"total\": [{\"name\": \"Calories\", \"value\": 2001}...</td>\n",
       "    </tr>\n",
       "  </tbody>\n",
       "</table>\n",
       "</div>"
      ],
      "text/plain": [
       "   userId  entry_date                                         daily_goal\n",
       "0       1  2014-09-14  {\"total\": [{\"name\": \"Calories\", \"value\": 2924}...\n",
       "1       1  2014-09-15  {\"total\": [{\"name\": \"Calories\", \"value\": 2430}...\n",
       "2       1  2014-09-16  {\"total\": [{\"name\": \"Calories\", \"value\": 1862}...\n",
       "3       1  2014-09-17  {\"total\": [{\"name\": \"Calories\", \"value\": 2251}...\n",
       "4       1  2014-09-18  {\"total\": [{\"name\": \"Calories\", \"value\": 2001}..."
      ]
     },
     "execution_count": 23,
     "metadata": {},
     "output_type": "execute_result"
    }
   ],
   "source": [
    "df_goal.head()"
   ]
  },
  {
   "cell_type": "code",
   "execution_count": 16,
   "metadata": {
    "scrolled": true
   },
   "outputs": [
    {
     "data": {
      "text/plain": [
       "RangeIndex(start=0, stop=587187, step=1)"
      ]
     },
     "execution_count": 16,
     "metadata": {},
     "output_type": "execute_result"
    }
   ],
   "source": [
    "df_goal['daily_goal'].keys()"
   ]
  },
  {
   "cell_type": "code",
   "execution_count": 69,
   "metadata": {},
   "outputs": [
    {
     "data": {
      "text/html": [
       "<div>\n",
       "<style scoped>\n",
       "    .dataframe tbody tr th:only-of-type {\n",
       "        vertical-align: middle;\n",
       "    }\n",
       "\n",
       "    .dataframe tbody tr th {\n",
       "        vertical-align: top;\n",
       "    }\n",
       "\n",
       "    .dataframe thead th {\n",
       "        text-align: right;\n",
       "    }\n",
       "</style>\n",
       "<table border=\"1\" class=\"dataframe\">\n",
       "  <thead>\n",
       "    <tr style=\"text-align: right;\">\n",
       "      <th></th>\n",
       "      <th>daily_goal</th>\n",
       "    </tr>\n",
       "  </thead>\n",
       "  <tbody>\n",
       "    <tr>\n",
       "      <th>587182</th>\n",
       "      <td>{\"total\": [{\"name\": \"Calories\", \"value\": 1979}...</td>\n",
       "    </tr>\n",
       "    <tr>\n",
       "      <th>587183</th>\n",
       "      <td>{\"total\": [{\"name\": \"Calories\", \"value\": 2141}...</td>\n",
       "    </tr>\n",
       "    <tr>\n",
       "      <th>587184</th>\n",
       "      <td>{\"total\": [{\"name\": \"Calories\", \"value\": 543},...</td>\n",
       "    </tr>\n",
       "    <tr>\n",
       "      <th>587185</th>\n",
       "      <td>{\"total\": [{\"name\": \"Calories\", \"value\": 2024}...</td>\n",
       "    </tr>\n",
       "    <tr>\n",
       "      <th>587186</th>\n",
       "      <td>{\"total\": [{\"name\": \"Calories\", \"value\": 1496}...</td>\n",
       "    </tr>\n",
       "  </tbody>\n",
       "</table>\n",
       "</div>"
      ],
      "text/plain": [
       "                                               daily_goal\n",
       "587182  {\"total\": [{\"name\": \"Calories\", \"value\": 1979}...\n",
       "587183  {\"total\": [{\"name\": \"Calories\", \"value\": 2141}...\n",
       "587184  {\"total\": [{\"name\": \"Calories\", \"value\": 543},...\n",
       "587185  {\"total\": [{\"name\": \"Calories\", \"value\": 2024}...\n",
       "587186  {\"total\": [{\"name\": \"Calories\", \"value\": 1496}..."
      ]
     },
     "execution_count": 69,
     "metadata": {},
     "output_type": "execute_result"
    }
   ],
   "source": [
    "loop = df_goal.drop(['userId', 'entry_date'], axis=1)\n",
    "loop.tail()"
   ]
  },
  {
   "cell_type": "code",
   "execution_count": 65,
   "metadata": {},
   "outputs": [
    {
     "data": {
      "text/plain": [
       "str"
      ]
     },
     "execution_count": 65,
     "metadata": {},
     "output_type": "execute_result"
    }
   ],
   "source": [
    "ex_dict = loop['daily_goal'][0]\n",
    "type(ex_dict)"
   ]
  },
  {
   "cell_type": "code",
   "execution_count": 66,
   "metadata": {},
   "outputs": [
    {
     "data": {
      "text/plain": [
       "'{\"total\": [{\"name\": \"Calories\", \"value\": 2924}, {\"name\": \"Carbs\", \"value\": 340}, {\"name\": \"Fat\", \"value\": 114}, {\"name\": \"Protein\", \"value\": 186}, {\"name\": \"Sodium\", \"value\": 3658}, {\"name\": \"Sugar\", \"value\": 109}], \"goal\": [{\"name\": \"Calories\", \"value\": 3173}, {\"name\": \"Carbs\", \"value\": 396}, {\"name\": \"Fat\", \"value\": 105}, {\"name\": \"Protein\", \"value\": 160}, {\"name\": \"Sodium\", \"value\": 2300}, {\"name\": \"Sugar\", \"value\": 119}]}'"
      ]
     },
     "execution_count": 66,
     "metadata": {},
     "output_type": "execute_result"
    }
   ],
   "source": [
    "ex_dict"
   ]
  },
  {
   "cell_type": "code",
   "execution_count": 68,
   "metadata": {},
   "outputs": [
    {
     "data": {
      "text/plain": [
       "{'total': [{'name': 'Calories', 'value': 2924},\n",
       "  {'name': 'Carbs', 'value': 340},\n",
       "  {'name': 'Fat', 'value': 114},\n",
       "  {'name': 'Protein', 'value': 186},\n",
       "  {'name': 'Sodium', 'value': 3658},\n",
       "  {'name': 'Sugar', 'value': 109}],\n",
       " 'goal': [{'name': 'Calories', 'value': 3173},\n",
       "  {'name': 'Carbs', 'value': 396},\n",
       "  {'name': 'Fat', 'value': 105},\n",
       "  {'name': 'Protein', 'value': 160},\n",
       "  {'name': 'Sodium', 'value': 2300},\n",
       "  {'name': 'Sugar', 'value': 119}]}"
      ]
     },
     "execution_count": 68,
     "metadata": {},
     "output_type": "execute_result"
    }
   ],
   "source": [
    "json.loads(ex_dict)"
   ]
  },
  {
   "cell_type": "markdown",
   "metadata": {},
   "source": [
    "### Goal:\n",
    "Create 1 column per dictionary in both total key and goal key\n",
    "\n",
    "- total\n",
    "    + total_calories\n",
    "    + total_carbs\n",
    "    + total_fat\n",
    "    + total_protein\n",
    "    + total_sodium\n",
    "    + total_sugar\n",
    "- goal\n",
    "    + goal_calories\n",
    "    + goal_carbs\n",
    "    + goal_fat\n",
    "    + goal_protein\n",
    "    + goal_sodium\n",
    "    + goal_sugar"
   ]
  },
  {
   "cell_type": "code",
   "execution_count": 72,
   "metadata": {},
   "outputs": [
    {
     "data": {
      "text/plain": [
       "'{\"total\": [{\"name\": \"Calories\", \"value\": 2924}, {\"name\": \"Carbs\", \"value\": 340}, {\"name\": \"Fat\", \"value\": 114}, {\"name\": \"Protein\", \"value\": 186}, {\"name\": \"Sodium\", \"value\": 3658}, {\"name\": \"Sugar\", \"value\": 109}], \"goal\": [{\"name\": \"Calories\", \"value\": 3173}, {\"name\": \"Carbs\", \"value\": 396}, {\"name\": \"Fat\", \"value\": 105}, {\"name\": \"Protein\", \"value\": 160}, {\"name\": \"Sodium\", \"value\": 2300}, {\"name\": \"Sugar\", \"value\": 119}]}'"
      ]
     },
     "execution_count": 72,
     "metadata": {},
     "output_type": "execute_result"
    }
   ],
   "source": [
    "ex_dict"
   ]
  },
  {
   "cell_type": "code",
   "execution_count": 75,
   "metadata": {},
   "outputs": [
    {
     "data": {
      "text/plain": [
       "{'total': [{'name': 'Calories', 'value': 2924},\n",
       "  {'name': 'Carbs', 'value': 340},\n",
       "  {'name': 'Fat', 'value': 114},\n",
       "  {'name': 'Protein', 'value': 186},\n",
       "  {'name': 'Sodium', 'value': 3658},\n",
       "  {'name': 'Sugar', 'value': 109}],\n",
       " 'goal': [{'name': 'Calories', 'value': 3173},\n",
       "  {'name': 'Carbs', 'value': 396},\n",
       "  {'name': 'Fat', 'value': 105},\n",
       "  {'name': 'Protein', 'value': 160},\n",
       "  {'name': 'Sodium', 'value': 2300},\n",
       "  {'name': 'Sugar', 'value': 119}]}"
      ]
     },
     "execution_count": 75,
     "metadata": {},
     "output_type": "execute_result"
    }
   ],
   "source": [
    "json_dict = json.loads(ex_dict)\n",
    "json_dict"
   ]
  },
  {
   "cell_type": "code",
   "execution_count": 102,
   "metadata": {},
   "outputs": [
    {
     "data": {
      "text/plain": [
       "dict_keys(['total', 'goal'])"
      ]
     },
     "execution_count": 102,
     "metadata": {},
     "output_type": "execute_result"
    }
   ],
   "source": [
    "json_dict.keys()"
   ]
  },
  {
   "cell_type": "code",
   "execution_count": 106,
   "metadata": {},
   "outputs": [
    {
     "ename": "TypeError",
     "evalue": "'dict_keys' object does not support indexing",
     "output_type": "error",
     "traceback": [
      "\u001b[0;31m---------------------------------------------------------------------------\u001b[0m",
      "\u001b[0;31mTypeError\u001b[0m                                 Traceback (most recent call last)",
      "\u001b[0;32m<ipython-input-106-c5111d1d1be8>\u001b[0m in \u001b[0;36m<module>\u001b[0;34m\u001b[0m\n\u001b[0;32m----> 1\u001b[0;31m \u001b[0mjson_dict\u001b[0m\u001b[0;34m.\u001b[0m\u001b[0mkeys\u001b[0m\u001b[0;34m(\u001b[0m\u001b[0;34m)\u001b[0m\u001b[0;34m[\u001b[0m\u001b[0;36m0\u001b[0m\u001b[0;34m]\u001b[0m\u001b[0;34m\u001b[0m\u001b[0;34m\u001b[0m\u001b[0m\n\u001b[0m",
      "\u001b[0;31mTypeError\u001b[0m: 'dict_keys' object does not support indexing"
     ]
    }
   ],
   "source": [
    "json_dict.keys()[0]"
   ]
  },
  {
   "cell_type": "code",
   "execution_count": null,
   "metadata": {},
   "outputs": [],
   "source": []
  },
  {
   "cell_type": "code",
   "execution_count": 114,
   "metadata": {},
   "outputs": [
    {
     "data": {
      "text/plain": [
       "[{'name': 'Calories', 'value': 2924},\n",
       " {'name': 'Carbs', 'value': 340},\n",
       " {'name': 'Fat', 'value': 114},\n",
       " {'name': 'Protein', 'value': 186},\n",
       " {'name': 'Sodium', 'value': 3658},\n",
       " {'name': 'Sugar', 'value': 109}]"
      ]
     },
     "execution_count": 114,
     "metadata": {},
     "output_type": "execute_result"
    }
   ],
   "source": [
    "json_dict['total']"
   ]
  },
  {
   "cell_type": "code",
   "execution_count": 93,
   "metadata": {},
   "outputs": [
    {
     "data": {
      "text/plain": [
       "{'name': 'Calories', 'value': 2924}"
      ]
     },
     "execution_count": 93,
     "metadata": {},
     "output_type": "execute_result"
    }
   ],
   "source": [
    "json_dict['total'][0]"
   ]
  },
  {
   "cell_type": "code",
   "execution_count": 107,
   "metadata": {
    "scrolled": false
   },
   "outputs": [
    {
     "data": {
      "text/plain": [
       "['total_Calories',\n",
       " 'total_Carbs',\n",
       " 'total_Fat',\n",
       " 'total_Protein',\n",
       " 'total_Sodium',\n",
       " 'total_Sugar']"
      ]
     },
     "execution_count": 107,
     "metadata": {},
     "output_type": "execute_result"
    }
   ],
   "source": [
    "total_cols = [list(json_dict.keys())[0] + \"_\" + sock['name'] \n",
    "              for sock in json_dict['total']]\n",
    "total_cols"
   ]
  },
  {
   "cell_type": "code",
   "execution_count": 115,
   "metadata": {},
   "outputs": [
    {
     "data": {
      "text/plain": [
       "[2924, 340, 114, 186, 3658, 109]"
      ]
     },
     "execution_count": 115,
     "metadata": {},
     "output_type": "execute_result"
    }
   ],
   "source": [
    "total_values = [x['value'] for x in json_dict['total']]\n",
    "total_values"
   ]
  },
  {
   "cell_type": "markdown",
   "metadata": {},
   "source": [
    "# TODO\n",
    "\n",
    "* Put total_cols and total_values into dictionary (matching keys:values)\n",
    "* Repeat for goal\n",
    "\n",
    "google: how to build dictionary from 2 lists"
   ]
  },
  {
   "cell_type": "code",
   "execution_count": 116,
   "metadata": {},
   "outputs": [
    {
     "data": {
      "text/plain": [
       "{'total_Calories': 2924,\n",
       " 'total_Carbs': 340,\n",
       " 'total_Fat': 114,\n",
       " 'total_Protein': 186,\n",
       " 'total_Sodium': 3658,\n",
       " 'total_Sugar': 109}"
      ]
     },
     "execution_count": 116,
     "metadata": {},
     "output_type": "execute_result"
    }
   ],
   "source": [
    "total_dict = {}\n",
    "for col, val in zip(total_cols, total_values):\n",
    "    total_dict[col] = val\n",
    "total_dict"
   ]
  },
  {
   "cell_type": "code",
   "execution_count": null,
   "metadata": {},
   "outputs": [],
   "source": []
  },
  {
   "cell_type": "code",
   "execution_count": null,
   "metadata": {},
   "outputs": [],
   "source": []
  },
  {
   "cell_type": "code",
   "execution_count": null,
   "metadata": {},
   "outputs": [],
   "source": []
  },
  {
   "cell_type": "code",
   "execution_count": null,
   "metadata": {},
   "outputs": [],
   "source": []
  },
  {
   "cell_type": "code",
   "execution_count": 109,
   "metadata": {
    "scrolled": true
   },
   "outputs": [
    {
     "data": {
      "text/plain": [
       "['goal_Calories',\n",
       " 'goal_Carbs',\n",
       " 'goal_Fat',\n",
       " 'goal_Protein',\n",
       " 'goal_Sodium',\n",
       " 'goal_Sugar']"
      ]
     },
     "execution_count": 109,
     "metadata": {},
     "output_type": "execute_result"
    }
   ],
   "source": [
    "goal_cols = [list(json_dict.keys())[1] + \"_\" + glove['name']\n",
    "                for glove in json_dict['goal']]\n",
    "goal_cols"
   ]
  },
  {
   "cell_type": "code",
   "execution_count": 46,
   "metadata": {},
   "outputs": [
    {
     "data": {
      "text/plain": [
       "{'total_calories': 123, 'goal_calories': 456}"
      ]
     },
     "execution_count": 46,
     "metadata": {},
     "output_type": "execute_result"
    }
   ],
   "source": [
    "goal = {'total_calories': 123, 'goal_calories': 456}\n",
    "goal"
   ]
  },
  {
   "cell_type": "code",
   "execution_count": 71,
   "metadata": {},
   "outputs": [
    {
     "data": {
      "text/html": [
       "<div>\n",
       "<style scoped>\n",
       "    .dataframe tbody tr th:only-of-type {\n",
       "        vertical-align: middle;\n",
       "    }\n",
       "\n",
       "    .dataframe tbody tr th {\n",
       "        vertical-align: top;\n",
       "    }\n",
       "\n",
       "    .dataframe thead th {\n",
       "        text-align: right;\n",
       "    }\n",
       "</style>\n",
       "<table border=\"1\" class=\"dataframe\">\n",
       "  <thead>\n",
       "    <tr style=\"text-align: right;\">\n",
       "      <th></th>\n",
       "      <th>total_calories</th>\n",
       "      <th>total_carbs</th>\n",
       "      <th>total_fat</th>\n",
       "      <th>total_protein</th>\n",
       "      <th>total_sodium</th>\n",
       "      <th>total_sugar</th>\n",
       "      <th>goal_calories</th>\n",
       "      <th>goal_carbs</th>\n",
       "      <th>goal_fat</th>\n",
       "      <th>goal_protein</th>\n",
       "      <th>goal_sodium</th>\n",
       "      <th>goal_sugar</th>\n",
       "    </tr>\n",
       "  </thead>\n",
       "  <tbody>\n",
       "    <tr>\n",
       "      <th>0</th>\n",
       "      <td>5</td>\n",
       "      <td>2</td>\n",
       "      <td>1</td>\n",
       "      <td>23</td>\n",
       "      <td>12</td>\n",
       "      <td>30</td>\n",
       "      <td>5</td>\n",
       "      <td>1</td>\n",
       "      <td>0</td>\n",
       "      <td>20</td>\n",
       "      <td>7</td>\n",
       "      <td>15</td>\n",
       "    </tr>\n",
       "  </tbody>\n",
       "</table>\n",
       "</div>"
      ],
      "text/plain": [
       "   total_calories  total_carbs  total_fat  total_protein  total_sodium  \\\n",
       "0               5            2          1             23            12   \n",
       "\n",
       "   total_sugar  goal_calories  goal_carbs  goal_fat  goal_protein  \\\n",
       "0           30              5           1         0            20   \n",
       "\n",
       "   goal_sodium  goal_sugar  \n",
       "0            7          15  "
      ]
     },
     "execution_count": 71,
     "metadata": {},
     "output_type": "execute_result"
    }
   ],
   "source": [
    "goal_df = pd.DataFrame.from_dict({'total_calories': 5, 'total_carbs': 2,'total_fat': 1,\n",
    "                                  'total_protein': 23,'total_sodium': 12, 'total_sugar':30,\n",
    "                                  'goal_calories': 5, 'goal_carbs': 1,'goal_fat': 0,\n",
    "                                  'goal_protein': 20,'goal_sodium': 7, 'goal_sugar': 15}, orient='index').T\n",
    "goal_df"
   ]
  },
  {
   "cell_type": "code",
   "execution_count": 63,
   "metadata": {},
   "outputs": [
    {
     "ename": "TypeError",
     "evalue": "remove() takes exactly one argument (2 given)",
     "output_type": "error",
     "traceback": [
      "\u001b[0;31m---------------------------------------------------------------------------\u001b[0m",
      "\u001b[0;31mTypeError\u001b[0m                                 Traceback (most recent call last)",
      "\u001b[0;32m<ipython-input-63-0a96d3a81c36>\u001b[0m in \u001b[0;36m<module>\u001b[0;34m\u001b[0m\n\u001b[1;32m      1\u001b[0m \u001b[0mtotal_list\u001b[0m \u001b[0;34m=\u001b[0m \u001b[0mlist\u001b[0m\u001b[0;34m(\u001b[0m\u001b[0mgoal_df\u001b[0m\u001b[0;34m)\u001b[0m\u001b[0;34m\u001b[0m\u001b[0;34m\u001b[0m\u001b[0m\n\u001b[0;32m----> 2\u001b[0;31m \u001b[0mtotal_list\u001b[0m\u001b[0;34m.\u001b[0m\u001b[0mremove\u001b[0m\u001b[0;34m(\u001b[0m\u001b[0;34m'goal_calories'\u001b[0m\u001b[0;34m,\u001b[0m \u001b[0;34m'goal_carbs'\u001b[0m\u001b[0;34m)\u001b[0m\u001b[0;34m\u001b[0m\u001b[0;34m\u001b[0m\u001b[0m\n\u001b[0m\u001b[1;32m      3\u001b[0m \u001b[0mtotal_list\u001b[0m\u001b[0;34m\u001b[0m\u001b[0;34m\u001b[0m\u001b[0m\n",
      "\u001b[0;31mTypeError\u001b[0m: remove() takes exactly one argument (2 given)"
     ]
    }
   ],
   "source": [
    "total_list = list(goal_df)\n",
    "total_list.remove('goal_calories', 'goal_carbs')\n",
    "total_list"
   ]
  },
  {
   "cell_type": "code",
   "execution_count": null,
   "metadata": {},
   "outputs": [],
   "source": []
  },
  {
   "cell_type": "code",
   "execution_count": null,
   "metadata": {},
   "outputs": [],
   "source": []
  }
 ],
 "metadata": {
  "kernelspec": {
   "display_name": "Python 3",
   "language": "python",
   "name": "python3"
  },
  "language_info": {
   "codemirror_mode": {
    "name": "ipython",
    "version": 3
   },
   "file_extension": ".py",
   "mimetype": "text/x-python",
   "name": "python",
   "nbconvert_exporter": "python",
   "pygments_lexer": "ipython3",
   "version": "3.7.1"
  }
 },
 "nbformat": 4,
 "nbformat_minor": 2
}
