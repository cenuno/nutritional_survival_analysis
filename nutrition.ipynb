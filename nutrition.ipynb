{
 "cells": [
  {
   "cell_type": "markdown",
   "metadata": {},
   "source": [
    "# Fitness Tracker Survival Analysis\n",
    "Created by: Andy Luc\n",
    "\n",
    "## Business case:\n",
    "1. What is the average amount of time that MyFitnessPal users use the app, and do they use it consistently throughout?\n",
    "2. Do users still keep using the program after meeting or not meeting their goal?"
   ]
  },
  {
   "cell_type": "code",
   "execution_count": 1,
   "metadata": {},
   "outputs": [],
   "source": [
    "import pandas as pd\n",
    "import numpy as np\n",
    "import json\n",
    "import matplotlib.pyplot as plt\n",
    "import pickle\n",
    "%matplotlib inline\n",
    "%load_ext autoreload\n",
    "%autoreload 2"
   ]
  },
  {
   "cell_type": "markdown",
   "metadata": {},
   "source": [
    "## Exploratory Data Analysis"
   ]
  },
  {
   "cell_type": "code",
   "execution_count": null,
   "metadata": {},
   "outputs": [],
   "source": [
    "# Reading the data file\n",
    "raw_df = pd.read_csv('data/mfp-diaries.tsv',\n",
    "                  sep='\\t',\n",
    "                  header=None,\n",
    "                  names=['userId','diary_date','food_entries','daily_goal'])"
   ]
  },
  {
   "cell_type": "markdown",
   "metadata": {},
   "source": [
    "### Pickled files:\n",
    "To save processing time when loading into dataframe."
   ]
  },
  {
   "cell_type": "code",
   "execution_count": null,
   "metadata": {},
   "outputs": [],
   "source": [
    "# raw_df.to_pickle('raw_df.pkl')\n",
    "# total_goal_df.to_pickle('total_goal_df.pkl')\n",
    "# survival_df.to_pickle('survival_df_base.pkl')"
   ]
  },
  {
   "cell_type": "code",
   "execution_count": null,
   "metadata": {},
   "outputs": [],
   "source": [
    "raw_df = pd.read_pickle('raw_df.pkl')"
   ]
  },
  {
   "cell_type": "code",
   "execution_count": null,
   "metadata": {},
   "outputs": [],
   "source": [
    "raw_df.head()"
   ]
  },
  {
   "cell_type": "code",
   "execution_count": null,
   "metadata": {
    "scrolled": true
   },
   "outputs": [],
   "source": [
    "#Number of unique users\n",
    "len(raw_df['userId'].unique())"
   ]
  },
  {
   "cell_type": "markdown",
   "metadata": {},
   "source": [
    "### Parsing lists of dictionaries within *daily_goals* column"
   ]
  },
  {
   "cell_type": "code",
   "execution_count": null,
   "metadata": {},
   "outputs": [],
   "source": [
    "parse_df = raw_df.drop(['userId', 'diary_date','food_entries'], axis=1)"
   ]
  },
  {
   "cell_type": "code",
   "execution_count": null,
   "metadata": {},
   "outputs": [],
   "source": [
    "parse_df.head()"
   ]
  },
  {
   "cell_type": "code",
   "execution_count": null,
   "metadata": {},
   "outputs": [],
   "source": [
    "tg_dict = json.loads(parse_df['daily_goal'][0])\n",
    "tg_dict"
   ]
  },
  {
   "cell_type": "markdown",
   "metadata": {},
   "source": [
    "### Parse Functions"
   ]
  },
  {
   "cell_type": "code",
   "execution_count": null,
   "metadata": {},
   "outputs": [],
   "source": [
    "\"\"\"Creates list of keys and values from the first dictionary, and zips them together\"\"\"\n",
    "def daily_totals(tg_dict):    \n",
    "    total_cols = [list(tg_dict.keys())[0] + \"_\" + x['name'].lower() \n",
    "                  for x in tg_dict['total']]\n",
    "    total_values = [y['value'] \n",
    "                  for y in tg_dict['total']]\n",
    "\n",
    "    total_dict = {}\n",
    "    for col, val in zip(total_cols, total_values):\n",
    "        total_dict[col] = val\n",
    "    return total_dict\n",
    "\n",
    "\"\"\"Creates list of keys and values from the second dictionary, and zips them together\"\"\"\n",
    "def daily_goals(tg_dict):\n",
    "    goal_cols = [list(tg_dict.keys())[1] + \"_\" + k['name'].lower()\n",
    "                 for k in tg_dict['goal']]\n",
    "    goal_values = [i['value']\n",
    "                 for i in tg_dict['goal']]\n",
    "    \n",
    "    goal_dict = {}\n",
    "    for col, val in zip(goal_cols, goal_values):\n",
    "        goal_dict[col] = val\n",
    "    return goal_dict\n",
    "\n",
    "\"\"\"Combines new keys and values for 'Total' and 'Goals' into single dictionary\"\"\"\n",
    "def merge(dict1, dict2): \n",
    "    res = {**dict1, **dict2} \n",
    "    return res\n",
    "\n",
    "\"\"\"Iterrates through entire parsed dataframe and appends merged rows\"\"\"\n",
    "def final_parsed_dict():\n",
    "    results = []\n",
    "    for row in parse_df['daily_goal'].values:\n",
    "        tg_dict = json.loads(row)\n",
    "        results.append(merge(daily_goals(tg_dict), daily_totals(tg_dict)))\n",
    "    return results"
   ]
  },
  {
   "cell_type": "code",
   "execution_count": null,
   "metadata": {},
   "outputs": [],
   "source": [
    "tg_parse = pd.DataFrame(final_parsed_dict())"
   ]
  },
  {
   "cell_type": "code",
   "execution_count": null,
   "metadata": {
    "scrolled": true
   },
   "outputs": [],
   "source": [
    "tg_parse.head()"
   ]
  },
  {
   "cell_type": "code",
   "execution_count": null,
   "metadata": {},
   "outputs": [],
   "source": [
    "concat_df = pd.concat([raw_df, tg_parse], axis=1)"
   ]
  },
  {
   "cell_type": "code",
   "execution_count": null,
   "metadata": {
    "scrolled": true
   },
   "outputs": [],
   "source": [
    "concat_df.isna().sum()"
   ]
  },
  {
   "cell_type": "code",
   "execution_count": null,
   "metadata": {},
   "outputs": [],
   "source": [
    "total_goal_df = concat_df.drop(['food_entries','daily_goal','goal_calcium','goal_chol',\n",
    "                                'goal_iron','goal_mon fat','goal_ply fat','goal_potass.',\n",
    "                                'goal_sat fat','goal_trn fat','goal_vit a','goal_vit c',\n",
    "                                'total_calcium','total_chol','total_iron','total_mon fat',\n",
    "                                'total_ply fat','total_potass.','total_sat fat','total_trn fat',\n",
    "                                'total_vit a','total_vit c'], axis=1)"
   ]
  },
  {
   "cell_type": "code",
   "execution_count": null,
   "metadata": {},
   "outputs": [],
   "source": [
    "total_goal_df.fillna(0, inplace=True)"
   ]
  },
  {
   "cell_type": "code",
   "execution_count": null,
   "metadata": {},
   "outputs": [],
   "source": [
    "total_goal_df['diary_date'] = pd.to_datetime(total_goal_df['diary_date'])"
   ]
  },
  {
   "cell_type": "code",
   "execution_count": null,
   "metadata": {
    "scrolled": true
   },
   "outputs": [],
   "source": [
    "total_goal_df.info()"
   ]
  },
  {
   "cell_type": "code",
   "execution_count": null,
   "metadata": {},
   "outputs": [],
   "source": []
  },
  {
   "cell_type": "markdown",
   "metadata": {},
   "source": [
    "## Labeling New Columns:\n",
    "Create 1 column per dictionary in both total key and goal key\n",
    "\n",
    "- total\n",
    "    + total_calories\n",
    "    + total_carbs\n",
    "    + total_fat\n",
    "    + total_fiber\n",
    "    + total_protein\n",
    "    + total_sodium\n",
    "    + total_sugar\n",
    "- goal\n",
    "    + goal_calories\n",
    "    + goal_carbs\n",
    "    + goal_fat\n",
    "    + goal_fiber\n",
    "    + goal_protein\n",
    "    + goal_sodium\n",
    "    + goal_sugar\n",
    "\n",
    "\n",
    "- **total_sum**: Total sum of input values for the day\n",
    "- **goal_sum**: Total sum of goal values for the day\n",
    "- **achievement**: Indicates whether or not a user has met their daily goal within a tolerance of 10%.\n",
    "    - 1 = Succeed\n",
    "    - 0 = Fail"
   ]
  },
  {
   "cell_type": "code",
   "execution_count": null,
   "metadata": {},
   "outputs": [],
   "source": [
    "nutrients = ['calories','carbs','fat','fiber','protein','sodium','sugar']\n",
    "\n",
    "total_s = []\n",
    "goal_s = []\n",
    "for nutrient in nutrients:\n",
    "    total_s.append(f'total_{nutrient}')\n",
    "    goal_s.append(f'goal_{nutrient}')"
   ]
  },
  {
   "cell_type": "code",
   "execution_count": null,
   "metadata": {},
   "outputs": [],
   "source": [
    "total_goal_df['total_sum'] = total_goal_df[total_s].apply(np.sum, axis=1)\n",
    "\n",
    "total_goal_df['goal_sum'] = total_goal_df[goal_s].apply(np.sum, axis=1)\n",
    "\n",
    "total_goal_df['achievement'] = np.where(abs((total_goal_df['total_sum'] - total_goal_df['goal_sum']) \n",
    "                                             / total_goal_df['goal_sum']) <= 0.1, 1, 0)"
   ]
  },
  {
   "cell_type": "code",
   "execution_count": null,
   "metadata": {
    "scrolled": true
   },
   "outputs": [],
   "source": [
    "total_goal_df.head()"
   ]
  },
  {
   "cell_type": "markdown",
   "metadata": {},
   "source": [
    "## Survival Analysis"
   ]
  },
  {
   "cell_type": "code",
   "execution_count": null,
   "metadata": {},
   "outputs": [],
   "source": [
    "days = total_goal_df['userId'].value_counts().sort_index()\n",
    "days = pd.DataFrame(days).rename(columns={'userId': 'days'})\n",
    "days.head()"
   ]
  },
  {
   "cell_type": "code",
   "execution_count": null,
   "metadata": {},
   "outputs": [],
   "source": [
    "cols = total_goal_df.drop(['userId','diary_date'], axis=1).columns\n",
    "\n",
    "condense_df = total_goal_df.groupby(['userId'])[cols].sum()\n",
    "\n",
    "survival = pd.merge(days, condense_df, left_index=True, right_index=True)"
   ]
  },
  {
   "cell_type": "code",
   "execution_count": null,
   "metadata": {},
   "outputs": [],
   "source": [
    "nutrients = ['calories','carbs','fat','fiber','protein','sodium','sugar']\n",
    "\n",
    "for nutrient in nutrients:\n",
    "    total = survival[f'total_{nutrient}']\n",
    "    goal = survival[f'goal_{nutrient}']\n",
    "    survival[f'{nutrient}_10_pct'] = np.where(abs((total - goal) / goal) <= 0.1, 1, 0)"
   ]
  },
  {
   "cell_type": "code",
   "execution_count": null,
   "metadata": {},
   "outputs": [],
   "source": [
    "x = ['goal_calories','goal_carbs','goal_fat','goal_fiber','goal_protein',\n",
    "     'goal_sodium','goal_sugar','total_calories','total_carbs','total_fat',\n",
    "     'total_fiber','total_protein','total_sodium','total_sugar','total_sum','goal_sum']\n",
    "\n",
    "survival_df = survival.drop(x, axis=1)"
   ]
  },
  {
   "cell_type": "code",
   "execution_count": null,
   "metadata": {},
   "outputs": [],
   "source": [
    "survival_df.head()"
   ]
  },
  {
   "cell_type": "markdown",
   "metadata": {},
   "source": [
    "### 14 day Churn:"
   ]
  },
  {
   "cell_type": "code",
   "execution_count": 2,
   "metadata": {},
   "outputs": [],
   "source": [
    "survival_df = pd.read_pickle('survival_df_base.pkl')"
   ]
  },
  {
   "cell_type": "code",
   "execution_count": 3,
   "metadata": {},
   "outputs": [],
   "source": [
    "from lifelines import CoxPHFitter, KaplanMeierFitter\n",
    "\n",
    "cph = CoxPHFitter()"
   ]
  },
  {
   "cell_type": "code",
   "execution_count": 4,
   "metadata": {},
   "outputs": [],
   "source": [
    "survival_df['14day_churn'] = np.where(survival_df['days'] <= 14, 1, 0)"
   ]
  },
  {
   "cell_type": "code",
   "execution_count": 5,
   "metadata": {},
   "outputs": [
    {
     "name": "stdout",
     "output_type": "stream",
     "text": [
      "<lifelines.CoxPHFitter: fitted with 9896 observations, 7262 censored>\n",
      "      duration col = 'days'\n",
      "         event col = '14day_churn'\n",
      "number of subjects = 9896\n",
      "  number of events = 2634\n",
      "partial log-likelihood = -20570.27\n",
      "  time fit was run = 2019-06-28 19:43:38 UTC\n",
      "\n",
      "---\n",
      "                 coef exp(coef)  se(coef)      z      p  -log2(p)  lower 0.95  upper 0.95\n",
      "achievement     -0.69      0.50      0.02 -42.17 <0.005       inf       -0.72       -0.66\n",
      "calories_10_pct  0.44      1.56      0.07   6.51 <0.005     33.65        0.31        0.58\n",
      "carbs_10_pct     0.19      1.21      0.08   2.48   0.01      6.26        0.04        0.34\n",
      "fat_10_pct       0.24      1.27      0.06   3.92 <0.005     13.45        0.12        0.36\n",
      "fiber_10_pct     0.51      1.66      0.17   3.00 <0.005      8.54        0.18        0.84\n",
      "protein_10_pct   0.23      1.26      0.08   2.99 <0.005      8.48        0.08        0.39\n",
      "sodium_10_pct    0.54      1.72      0.08   6.67 <0.005     35.23        0.38        0.70\n",
      "sugar_10_pct     0.07      1.07      0.07   0.91   0.36      1.46       -0.08        0.21\n",
      "---\n",
      "Concordance = 0.90\n",
      "Log-likelihood ratio test = 6551.59 on 8 df, -log2(p)=inf\n"
     ]
    }
   ],
   "source": [
    "fourteen_days = cph.fit(survival_df, duration_col='days', event_col='14day_churn')\n",
    "fourteen_days.print_summary()"
   ]
  },
  {
   "cell_type": "code",
   "execution_count": 6,
   "metadata": {
    "scrolled": true
   },
   "outputs": [
    {
     "data": {
      "text/plain": [
       "<matplotlib.axes._subplots.AxesSubplot at 0x1a1d1e08d0>"
      ]
     },
     "execution_count": 6,
     "metadata": {},
     "output_type": "execute_result"
    },
    {
     "data": {
      "image/png": "[encoded data removed]",
      "text/plain": [
       "<Figure size 432x288 with 1 Axes>"
      ]
     },
     "metadata": {
      "needs_background": "light"
     },
     "output_type": "display_data"
    }
   ],
   "source": [
    "fourteen_days.plot()"
   ]
  },
  {
   "cell_type": "markdown",
   "metadata": {},
   "source": [
    "### 45 day Churn:"
   ]
  },
  {
   "cell_type": "code",
   "execution_count": 7,
   "metadata": {},
   "outputs": [
    {
     "data": {
      "text/html": [
       "<div>\n",
       "<style scoped>\n",
       "    .dataframe tbody tr th:only-of-type {\n",
       "        vertical-align: middle;\n",
       "    }\n",
       "\n",
       "    .dataframe tbody tr th {\n",
       "        vertical-align: top;\n",
       "    }\n",
       "\n",
       "    .dataframe thead th {\n",
       "        text-align: right;\n",
       "    }\n",
       "</style>\n",
       "<table border=\"1\" class=\"dataframe\">\n",
       "  <thead>\n",
       "    <tr style=\"text-align: right;\">\n",
       "      <th></th>\n",
       "      <th>days</th>\n",
       "      <th>achievement</th>\n",
       "      <th>calories_10_pct</th>\n",
       "      <th>carbs_10_pct</th>\n",
       "      <th>fat_10_pct</th>\n",
       "      <th>fiber_10_pct</th>\n",
       "      <th>protein_10_pct</th>\n",
       "      <th>sodium_10_pct</th>\n",
       "      <th>sugar_10_pct</th>\n",
       "      <th>45day_churn</th>\n",
       "    </tr>\n",
       "  </thead>\n",
       "  <tbody>\n",
       "    <tr>\n",
       "      <th>1</th>\n",
       "      <td>174</td>\n",
       "      <td>68</td>\n",
       "      <td>1</td>\n",
       "      <td>0</td>\n",
       "      <td>1</td>\n",
       "      <td>0</td>\n",
       "      <td>0</td>\n",
       "      <td>1</td>\n",
       "      <td>1</td>\n",
       "      <td>0</td>\n",
       "    </tr>\n",
       "    <tr>\n",
       "      <th>2</th>\n",
       "      <td>60</td>\n",
       "      <td>11</td>\n",
       "      <td>1</td>\n",
       "      <td>1</td>\n",
       "      <td>0</td>\n",
       "      <td>0</td>\n",
       "      <td>0</td>\n",
       "      <td>0</td>\n",
       "      <td>0</td>\n",
       "      <td>0</td>\n",
       "    </tr>\n",
       "    <tr>\n",
       "      <th>3</th>\n",
       "      <td>7</td>\n",
       "      <td>2</td>\n",
       "      <td>0</td>\n",
       "      <td>0</td>\n",
       "      <td>0</td>\n",
       "      <td>0</td>\n",
       "      <td>0</td>\n",
       "      <td>0</td>\n",
       "      <td>0</td>\n",
       "      <td>1</td>\n",
       "    </tr>\n",
       "    <tr>\n",
       "      <th>4</th>\n",
       "      <td>27</td>\n",
       "      <td>4</td>\n",
       "      <td>0</td>\n",
       "      <td>0</td>\n",
       "      <td>0</td>\n",
       "      <td>0</td>\n",
       "      <td>0</td>\n",
       "      <td>0</td>\n",
       "      <td>0</td>\n",
       "      <td>1</td>\n",
       "    </tr>\n",
       "    <tr>\n",
       "      <th>5</th>\n",
       "      <td>179</td>\n",
       "      <td>58</td>\n",
       "      <td>1</td>\n",
       "      <td>0</td>\n",
       "      <td>0</td>\n",
       "      <td>0</td>\n",
       "      <td>1</td>\n",
       "      <td>0</td>\n",
       "      <td>1</td>\n",
       "      <td>0</td>\n",
       "    </tr>\n",
       "  </tbody>\n",
       "</table>\n",
       "</div>"
      ],
      "text/plain": [
       "   days  achievement  calories_10_pct  carbs_10_pct  fat_10_pct  fiber_10_pct  \\\n",
       "1   174           68                1             0           1             0   \n",
       "2    60           11                1             1           0             0   \n",
       "3     7            2                0             0           0             0   \n",
       "4    27            4                0             0           0             0   \n",
       "5   179           58                1             0           0             0   \n",
       "\n",
       "   protein_10_pct  sodium_10_pct  sugar_10_pct  45day_churn  \n",
       "1               0              1             1            0  \n",
       "2               0              0             0            0  \n",
       "3               0              0             0            1  \n",
       "4               0              0             0            1  \n",
       "5               1              0             1            0  "
      ]
     },
     "execution_count": 7,
     "metadata": {},
     "output_type": "execute_result"
    }
   ],
   "source": [
    "survival_df['45day_churn'] = np.where(survival_df['days'] <= 45, 1, 0)\n",
    "survival_df = survival_df.drop(['14day_churn'], axis=1)\n",
    "survival_df.head()"
   ]
  },
  {
   "cell_type": "code",
   "execution_count": 8,
   "metadata": {
    "scrolled": false
   },
   "outputs": [
    {
     "name": "stdout",
     "output_type": "stream",
     "text": [
      "<lifelines.CoxPHFitter: fitted with 9896 observations, 4713 censored>\n",
      "      duration col = 'days'\n",
      "         event col = '45day_churn'\n",
      "number of subjects = 9896\n",
      "  number of events = 5183\n",
      "partial log-likelihood = -41253.04\n",
      "  time fit was run = 2019-06-28 19:44:55 UTC\n",
      "\n",
      "---\n",
      "                 coef exp(coef)  se(coef)      z      p  -log2(p)  lower 0.95  upper 0.95\n",
      "achievement     -0.29      0.75      0.00 -59.96 <0.005       inf       -0.30       -0.28\n",
      "calories_10_pct  0.33      1.39      0.05   7.06 <0.005     39.13        0.24        0.43\n",
      "carbs_10_pct     0.15      1.17      0.05   3.03 <0.005      8.68        0.05        0.25\n",
      "fat_10_pct       0.26      1.30      0.04   6.61 <0.005     34.56        0.19        0.34\n",
      "fiber_10_pct     0.23      1.26      0.12   1.99   0.05      4.43        0.00        0.46\n",
      "protein_10_pct   0.22      1.25      0.05   4.12 <0.005     14.70        0.12        0.32\n",
      "sodium_10_pct    0.61      1.84      0.05  11.66 <0.005    101.91        0.51        0.72\n",
      "sugar_10_pct     0.02      1.02      0.05   0.48   0.63      0.66       -0.08        0.12\n",
      "---\n",
      "Concordance = 0.88\n",
      "Log-likelihood ratio test = 9486.94 on 8 df, -log2(p)=inf\n"
     ]
    }
   ],
   "source": [
    "fortyfive_days = cph.fit(survival_df, duration_col='days', event_col='45day_churn')\n",
    "fortyfive_days.print_summary()"
   ]
  },
  {
   "cell_type": "code",
   "execution_count": 9,
   "metadata": {
    "scrolled": true
   },
   "outputs": [
    {
     "data": {
      "text/plain": [
       "<matplotlib.axes._subplots.AxesSubplot at 0x1a1e5deb00>"
      ]
     },
     "execution_count": 9,
     "metadata": {},
     "output_type": "execute_result"
    },
    {
     "data": {
      "image/png": "[encoded data removed]",
      "text/plain": [
       "<Figure size 432x288 with 1 Axes>"
      ]
     },
     "metadata": {
      "needs_background": "light"
     },
     "output_type": "display_data"
    }
   ],
   "source": [
    "fortyfive_days.plot()"
   ]
  },
  {
   "cell_type": "markdown",
   "metadata": {},
   "source": [
    "### 90 day Churn:"
   ]
  },
  {
   "cell_type": "code",
   "execution_count": 10,
   "metadata": {},
   "outputs": [
    {
     "data": {
      "text/html": [
       "<div>\n",
       "<style scoped>\n",
       "    .dataframe tbody tr th:only-of-type {\n",
       "        vertical-align: middle;\n",
       "    }\n",
       "\n",
       "    .dataframe tbody tr th {\n",
       "        vertical-align: top;\n",
       "    }\n",
       "\n",
       "    .dataframe thead th {\n",
       "        text-align: right;\n",
       "    }\n",
       "</style>\n",
       "<table border=\"1\" class=\"dataframe\">\n",
       "  <thead>\n",
       "    <tr style=\"text-align: right;\">\n",
       "      <th></th>\n",
       "      <th>days</th>\n",
       "      <th>achievement</th>\n",
       "      <th>calories_10_pct</th>\n",
       "      <th>carbs_10_pct</th>\n",
       "      <th>fat_10_pct</th>\n",
       "      <th>fiber_10_pct</th>\n",
       "      <th>protein_10_pct</th>\n",
       "      <th>sodium_10_pct</th>\n",
       "      <th>sugar_10_pct</th>\n",
       "      <th>90day_churn</th>\n",
       "    </tr>\n",
       "  </thead>\n",
       "  <tbody>\n",
       "    <tr>\n",
       "      <th>1</th>\n",
       "      <td>174</td>\n",
       "      <td>68</td>\n",
       "      <td>1</td>\n",
       "      <td>0</td>\n",
       "      <td>1</td>\n",
       "      <td>0</td>\n",
       "      <td>0</td>\n",
       "      <td>1</td>\n",
       "      <td>1</td>\n",
       "      <td>0</td>\n",
       "    </tr>\n",
       "    <tr>\n",
       "      <th>2</th>\n",
       "      <td>60</td>\n",
       "      <td>11</td>\n",
       "      <td>1</td>\n",
       "      <td>1</td>\n",
       "      <td>0</td>\n",
       "      <td>0</td>\n",
       "      <td>0</td>\n",
       "      <td>0</td>\n",
       "      <td>0</td>\n",
       "      <td>1</td>\n",
       "    </tr>\n",
       "    <tr>\n",
       "      <th>3</th>\n",
       "      <td>7</td>\n",
       "      <td>2</td>\n",
       "      <td>0</td>\n",
       "      <td>0</td>\n",
       "      <td>0</td>\n",
       "      <td>0</td>\n",
       "      <td>0</td>\n",
       "      <td>0</td>\n",
       "      <td>0</td>\n",
       "      <td>1</td>\n",
       "    </tr>\n",
       "    <tr>\n",
       "      <th>4</th>\n",
       "      <td>27</td>\n",
       "      <td>4</td>\n",
       "      <td>0</td>\n",
       "      <td>0</td>\n",
       "      <td>0</td>\n",
       "      <td>0</td>\n",
       "      <td>0</td>\n",
       "      <td>0</td>\n",
       "      <td>0</td>\n",
       "      <td>1</td>\n",
       "    </tr>\n",
       "    <tr>\n",
       "      <th>5</th>\n",
       "      <td>179</td>\n",
       "      <td>58</td>\n",
       "      <td>1</td>\n",
       "      <td>0</td>\n",
       "      <td>0</td>\n",
       "      <td>0</td>\n",
       "      <td>1</td>\n",
       "      <td>0</td>\n",
       "      <td>1</td>\n",
       "      <td>0</td>\n",
       "    </tr>\n",
       "  </tbody>\n",
       "</table>\n",
       "</div>"
      ],
      "text/plain": [
       "   days  achievement  calories_10_pct  carbs_10_pct  fat_10_pct  fiber_10_pct  \\\n",
       "1   174           68                1             0           1             0   \n",
       "2    60           11                1             1           0             0   \n",
       "3     7            2                0             0           0             0   \n",
       "4    27            4                0             0           0             0   \n",
       "5   179           58                1             0           0             0   \n",
       "\n",
       "   protein_10_pct  sodium_10_pct  sugar_10_pct  90day_churn  \n",
       "1               0              1             1            0  \n",
       "2               0              0             0            1  \n",
       "3               0              0             0            1  \n",
       "4               0              0             0            1  \n",
       "5               1              0             1            0  "
      ]
     },
     "execution_count": 10,
     "metadata": {},
     "output_type": "execute_result"
    }
   ],
   "source": [
    "survival_df['90day_churn'] = np.where(survival_df['days'] <= 90, 1, 0)\n",
    "survival_df = survival_df.drop(['45day_churn'], axis=1)\n",
    "survival_df.head()"
   ]
  },
  {
   "cell_type": "code",
   "execution_count": 11,
   "metadata": {},
   "outputs": [
    {
     "name": "stdout",
     "output_type": "stream",
     "text": [
      "<lifelines.CoxPHFitter: fitted with 9896 observations, 2538 censored>\n",
      "      duration col = 'days'\n",
      "         event col = '90day_churn'\n",
      "number of subjects = 9896\n",
      "  number of events = 7358\n",
      "partial log-likelihood = -59136.16\n",
      "  time fit was run = 2019-06-28 19:47:10 UTC\n",
      "\n",
      "---\n",
      "                 coef exp(coef)  se(coef)      z      p  -log2(p)  lower 0.95  upper 0.95\n",
      "achievement     -0.15      0.86      0.00 -67.24 <0.005       inf       -0.15       -0.14\n",
      "calories_10_pct  0.29      1.34      0.04   7.77 <0.005     46.80        0.22        0.36\n",
      "carbs_10_pct     0.09      1.09      0.04   2.18   0.03      5.09        0.01        0.17\n",
      "fat_10_pct       0.27      1.31      0.03   8.29 <0.005     53.00        0.20        0.33\n",
      "fiber_10_pct     0.18      1.20      0.09   2.02   0.04      4.53        0.01        0.36\n",
      "protein_10_pct   0.17      1.18      0.04   3.76 <0.005     12.54        0.08        0.26\n",
      "sodium_10_pct    0.49      1.63      0.04  11.86 <0.005    105.29        0.41        0.57\n",
      "sugar_10_pct     0.03      1.03      0.04   0.76   0.45      1.17       -0.05        0.11\n",
      "---\n",
      "Concordance = 0.85\n",
      "Log-likelihood ratio test = 9305.75 on 8 df, -log2(p)=inf\n"
     ]
    }
   ],
   "source": [
    "ninety_days = cph.fit(survival_df, duration_col='days', event_col='90day_churn')\n",
    "ninety_days.print_summary()"
   ]
  },
  {
   "cell_type": "code",
   "execution_count": 12,
   "metadata": {},
   "outputs": [
    {
     "data": {
      "text/plain": [
       "<matplotlib.axes._subplots.AxesSubplot at 0x1a1e6b6198>"
      ]
     },
     "execution_count": 12,
     "metadata": {},
     "output_type": "execute_result"
    },
    {
     "data": {
      "image/png": "[encoded data removed]",
      "text/plain": [
       "<Figure size 432x288 with 1 Axes>"
      ]
     },
     "metadata": {
      "needs_background": "light"
     },
     "output_type": "display_data"
    }
   ],
   "source": [
    "ninety_days.plot()"
   ]
  },
  {
   "cell_type": "code",
   "execution_count": null,
   "metadata": {},
   "outputs": [],
   "source": []
  },
  {
   "cell_type": "markdown",
   "metadata": {},
   "source": [
    "## Time Series Analysis"
   ]
  },
  {
   "cell_type": "code",
   "execution_count": null,
   "metadata": {
    "scrolled": false
   },
   "outputs": [],
   "source": [
    "total_goal_df.head()"
   ]
  },
  {
   "cell_type": "code",
   "execution_count": null,
   "metadata": {},
   "outputs": [],
   "source": [
    "irrelevant = ['goal_calories','goal_carbs','goal_fat','goal_fiber','goal_protein',\n",
    "              'goal_sodium','goal_sugar','total_calories','total_carbs','total_fat',\n",
    "              'total_fiber','total_protein','total_sodium','total_sugar','achievement']\n",
    "\n",
    "time_df = total_goal_df.drop(irrelevant, axis=1)"
   ]
  },
  {
   "cell_type": "code",
   "execution_count": null,
   "metadata": {},
   "outputs": [],
   "source": [
    "time_df.head()"
   ]
  },
  {
   "cell_type": "code",
   "execution_count": null,
   "metadata": {},
   "outputs": [],
   "source": [
    "time_df['tg_diff'] = round(abs((time_df['total_sum'] - time_df['goal_sum'])/time_df['goal_sum']), 3)"
   ]
  },
  {
   "cell_type": "code",
   "execution_count": null,
   "metadata": {},
   "outputs": [],
   "source": [
    "# time_df['tg_diff'] = pd.Series([\"{0:.2f}%\".format(val * 100) for val in time_df['tg_diff']])"
   ]
  },
  {
   "cell_type": "code",
   "execution_count": null,
   "metadata": {},
   "outputs": [],
   "source": [
    "time_df = time_df.drop(['total_sum','goal_sum'], axis=1)"
   ]
  },
  {
   "cell_type": "code",
   "execution_count": null,
   "metadata": {},
   "outputs": [],
   "source": [
    "time_df.set_index('diary_date', inplace=True)"
   ]
  },
  {
   "cell_type": "code",
   "execution_count": null,
   "metadata": {},
   "outputs": [],
   "source": [
    "time_df.head()"
   ]
  },
  {
   "cell_type": "code",
   "execution_count": null,
   "metadata": {},
   "outputs": [],
   "source": [
    "new_time_df = pd.DataFrame(time_df[(time_df['userId']==1)|(time_df['userId']==2)])"
   ]
  },
  {
   "cell_type": "code",
   "execution_count": null,
   "metadata": {},
   "outputs": [],
   "source": [
    "new_time_df.head()"
   ]
  },
  {
   "cell_type": "code",
   "execution_count": null,
   "metadata": {
    "scrolled": true
   },
   "outputs": [],
   "source": [
    "by_label = new_time_df.groupby('userId')\n",
    "\n",
    "for name, group in by_label:\n",
    "    plt.plot(group['tg_diff'], label=name)\n",
    "\n",
    "plt.legend()\n",
    "plt.show()"
   ]
  },
  {
   "cell_type": "markdown",
   "metadata": {},
   "source": [
    "### Saving and reading from json:"
   ]
  },
  {
   "cell_type": "code",
   "execution_count": null,
   "metadata": {},
   "outputs": [],
   "source": [
    "# total_goal_df.to_json('data/mfp-goals.json', orient='records', lines=True)"
   ]
  },
  {
   "cell_type": "code",
   "execution_count": null,
   "metadata": {},
   "outputs": [],
   "source": [
    "# total_goal_df = pd.read_json('data/mfp-goals.json', lines=True)\n",
    "\n",
    "# total_goal_df['diary_date'] = pd.to_datetime(total_goal_df['diary_date'])\n",
    "\n",
    "# total_goal_df.head()"
   ]
  },
  {
   "cell_type": "code",
   "execution_count": null,
   "metadata": {},
   "outputs": [],
   "source": []
  },
  {
   "cell_type": "code",
   "execution_count": null,
   "metadata": {},
   "outputs": [],
   "source": [
    "# from sklearn.model_selection import train_test_split\n",
    "# from sklearn.linear_model import LogisticRegression\n",
    "# from sklearn.preprocessing import StandardScaler\n",
    "# from sklearn.metrics import roc_curve, auc, precision_score, recall_score, accuracy_score, f1_score"
   ]
  },
  {
   "cell_type": "code",
   "execution_count": null,
   "metadata": {},
   "outputs": [],
   "source": [
    "# #Setting X and y variables, then Train Test Split\n",
    "# X = final_df.drop(['achievement','diary_date','userId','goal_sum','total_sum',\n",
    "#                    'goal_calories','goal_carbs','goal_fat','goal_fiber',\n",
    "#                    'goal_protein','goal_sodium','goal_sugar'], axis=1)\n",
    "# y = final_df.achievement\n",
    "\n",
    "# X_train, X_test, y_train, y_test = train_test_split(X, y, test_size=0.25, random_state=1)"
   ]
  },
  {
   "cell_type": "code",
   "execution_count": null,
   "metadata": {},
   "outputs": [],
   "source": [
    "# loreg = LogisticRegression(solver='lbfgs', max_iter=1000)\n",
    "# loreg.fit(X_train, y_train)\n",
    "# loreg_preds = loreg.predict(X_test)"
   ]
  },
  {
   "cell_type": "code",
   "execution_count": null,
   "metadata": {},
   "outputs": [],
   "source": [
    "# def print_metrics(y, loreg_preds):\n",
    "#     print(\"Precision Score: {}\".format(precision_score(y, loreg_preds)))\n",
    "#     print(\"Recall Score: {}\".format(recall_score(y, loreg_preds)))\n",
    "#     print(\"Accuracy Score: {}\".format(accuracy_score(y, loreg_preds)))\n",
    "#     print(\"F1 Score: {}\".format(f1_score(y, loreg_preds)))\n",
    "    \n",
    "# print_metrics(y_test, loreg_preds)"
   ]
  },
  {
   "cell_type": "code",
   "execution_count": null,
   "metadata": {},
   "outputs": [],
   "source": []
  },
  {
   "cell_type": "code",
   "execution_count": null,
   "metadata": {},
   "outputs": [],
   "source": []
  },
  {
   "cell_type": "code",
   "execution_count": null,
   "metadata": {},
   "outputs": [],
   "source": [
    "# nutrients = ['calories','carbs','fat','fiber','protein','sodium','sugar']\n",
    "\n",
    "# total_s = []\n",
    "# goal_s = []\n",
    "# for nutrient in nutrients:\n",
    "#     total_s.append(f'total_{nutrient}')\n",
    "#     survival['total_sum'] = survival[total_s].apply(np.sum, axis=1)\n",
    "#     goal_s.append(f'goal_{nutrient}')\n",
    "#     survival['goal_sum'] = survival[goal_s].apply(np.sum, axis=1)"
   ]
  },
  {
   "cell_type": "code",
   "execution_count": null,
   "metadata": {},
   "outputs": [],
   "source": [
    "# json_dict.keys()[0]\n",
    "# Gives Error: 'dict_keys' object does not support indexing, hence needs to be set to a list to iterate."
   ]
  },
  {
   "cell_type": "code",
   "execution_count": null,
   "metadata": {},
   "outputs": [],
   "source": [
    "# df = pd.DataFrame([[1, 4],\n",
    "#                    [2, 5],\n",
    "#                    [3, 6]],\n",
    "#                   columns=[\"a\", \"b\"])\n",
    "# df"
   ]
  },
  {
   "cell_type": "code",
   "execution_count": null,
   "metadata": {},
   "outputs": [],
   "source": [
    "# df[\"c\"] = df.apply(np.sum, axis=1)\n",
    "# df"
   ]
  },
  {
   "cell_type": "code",
   "execution_count": null,
   "metadata": {},
   "outputs": [],
   "source": []
  },
  {
   "cell_type": "code",
   "execution_count": null,
   "metadata": {},
   "outputs": [],
   "source": []
  },
  {
   "cell_type": "code",
   "execution_count": null,
   "metadata": {},
   "outputs": [],
   "source": []
  }
 ],
 "metadata": {
  "kernelspec": {
   "display_name": "Python 3",
   "language": "python",
   "name": "python3"
  },
  "language_info": {
   "codemirror_mode": {
    "name": "ipython",
    "version": 3
   },
   "file_extension": ".py",
   "mimetype": "text/x-python",
   "name": "python",
   "nbconvert_exporter": "python",
   "pygments_lexer": "ipython3",
   "version": "3.7.1"
  }
 },
 "nbformat": 4,
 "nbformat_minor": 2
}
