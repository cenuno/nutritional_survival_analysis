{
 "cells": [
  {
   "cell_type": "markdown",
   "metadata": {},
   "source": [
    "# Fitness Tracker Survival Analysis\n",
    "Created by: Andy Luc\n",
    "\n",
    "## Business case:\n",
    "1. What is the average amount of time that MyFitnessPal users use the app, and do they use it consistently throughout?\n",
    "2. Do users still keep using the program after meeting or not meeting their goal?"
   ]
  },
  {
   "cell_type": "code",
   "execution_count": 1,
   "metadata": {},
   "outputs": [],
   "source": [
    "import pandas as pd\n",
    "import numpy as np\n",
    "import json\n",
    "import matplotlib.pyplot as plt\n",
    "import pickle\n",
    "import seaborn as sns\n",
    "from datetime import date, datetime\n",
    "plt.style.use('seaborn')\n",
    "%matplotlib inline\n",
    "%load_ext autoreload\n",
    "%autoreload 2"
   ]
  },
  {
   "cell_type": "markdown",
   "metadata": {},
   "source": [
    "## Exploratory Data Analysis"
   ]
  },
  {
   "cell_type": "code",
   "execution_count": null,
   "metadata": {},
   "outputs": [],
   "source": [
    "# Reading the data file\n",
    "data = pd.read_csv('data/mfp-diaries.tsv',\n",
    "                  sep='\\t',\n",
    "                  header=None,\n",
    "                  names=['userid','diary_date','food_entries','daily_goal'])"
   ]
  },
  {
   "cell_type": "code",
   "execution_count": null,
   "metadata": {},
   "outputs": [],
   "source": [
    "data.head()"
   ]
  },
  {
   "cell_type": "code",
   "execution_count": null,
   "metadata": {
    "scrolled": true
   },
   "outputs": [],
   "source": [
    "# Number of unique users\n",
    "len(data['userid'].unique())"
   ]
  },
  {
   "cell_type": "markdown",
   "metadata": {},
   "source": [
    "### Pickled files:\n",
    "To save processing time when loading into dataframe."
   ]
  },
  {
   "cell_type": "code",
   "execution_count": null,
   "metadata": {},
   "outputs": [],
   "source": [
    "# total_goal.to_pickle('total_goal.pkl')\n",
    "# total_goal.to_pickle('end_date.pkl')\n",
    "# final_churn.to_pickle('final_churn.pkl')\n",
    "# df.to_pickle('df.pkl')"
   ]
  },
  {
   "cell_type": "markdown",
   "metadata": {},
   "source": [
    "### Setting up dataframe for Survival Analysis\n",
    "Since we are concerned with when a user decides to stop using the MyFitnessPal program based on their input attributes, I am going to focus on the *diary_date* and *daily_goal* columns. First, we need to parse the nested dictionary within the daily_goal column."
   ]
  },
  {
   "cell_type": "code",
   "execution_count": null,
   "metadata": {},
   "outputs": [],
   "source": [
    "# Parsing only the dialy_goals column\n",
    "mark = data.drop(['userid', 'diary_date','food_entries'], axis=1)"
   ]
  },
  {
   "cell_type": "code",
   "execution_count": null,
   "metadata": {},
   "outputs": [],
   "source": [
    "# Loading into json format for extraction\n",
    "target = json.loads(goals['daily_goal'][0])\n",
    "target"
   ]
  },
  {
   "cell_type": "code",
   "execution_count": null,
   "metadata": {},
   "outputs": [],
   "source": [
    "\"\"\"Creates list of keys and values from the first dictionary, and zips them together\"\"\"\n",
    "def daily_totals(target):    \n",
    "    total_cols = [list(target.keys())[0] + \"_\" + x['name'].lower() \n",
    "                  for x in target['total']]\n",
    "    total_values = [y['value'] \n",
    "                  for y in target['total']]\n",
    "\n",
    "    total_dict = {}\n",
    "    for col, val in zip(total_cols, total_values):\n",
    "        total_dict[col] = val\n",
    "    return total_dict\n",
    "\n",
    "\"\"\"Creates list of keys and values from the second dictionary, and zips them together\"\"\"\n",
    "def daily_goals(target):\n",
    "    goal_cols = [list(target.keys())[1] + \"_\" + k['name'].lower()\n",
    "                 for k in target['goal']]\n",
    "    goal_values = [i['value']\n",
    "                 for i in target['goal']]\n",
    "    \n",
    "    goal_dict = {}\n",
    "    for col, val in zip(goal_cols, goal_values):\n",
    "        goal_dict[col] = val\n",
    "    return goal_dict\n",
    "\n",
    "\"\"\"Combines new keys and values for 'Total' and 'Goals' into single dictionary\"\"\"\n",
    "def merge(dict1, dict2): \n",
    "    res = {**dict1, **dict2} \n",
    "    return res\n",
    "\n",
    "\"\"\"Iterrates through entire parsed dataframe and appends merged rows\"\"\"\n",
    "def parsed_dict():\n",
    "    results = []\n",
    "    for row in mark['daily_goal'].values:\n",
    "        target = json.loads(row)\n",
    "        results.append(merge(daily_goals(target), daily_totals(target)))\n",
    "    return results"
   ]
  },
  {
   "cell_type": "code",
   "execution_count": null,
   "metadata": {},
   "outputs": [],
   "source": [
    "# Putting it back into a pandas dataframe\n",
    "new_mark = pd.DataFrame(parsed_dict())\n",
    "new_mark.head()"
   ]
  },
  {
   "cell_type": "code",
   "execution_count": null,
   "metadata": {},
   "outputs": [],
   "source": [
    "# Merging the original dataframe with the newly parsed daily_goal column\n",
    "con = pd.concat([data, new_mark], axis=1)"
   ]
  },
  {
   "cell_type": "code",
   "execution_count": null,
   "metadata": {
    "scrolled": true
   },
   "outputs": [],
   "source": [
    "# Looking at the number of null values for each column\n",
    "con.isna().sum()"
   ]
  },
  {
   "cell_type": "code",
   "execution_count": null,
   "metadata": {},
   "outputs": [],
   "source": [
    "# Dropping columns which have high null values which are not beneficial to the features being used\n",
    "total_goal = con.drop(['food_entries','daily_goal','goal_calcium','goal_chol',\n",
    "                       'goal_iron','goal_mon fat','goal_ply fat','goal_potass.',\n",
    "                       'goal_sat fat','goal_trn fat','goal_vit a','goal_vit c',\n",
    "                       'total_calcium','total_chol','total_iron','total_mon fat',\n",
    "                       'total_ply fat','total_potass.','total_sat fat','total_trn fat',\n",
    "                       'total_vit a','total_vit c'], axis=1)"
   ]
  },
  {
   "cell_type": "code",
   "execution_count": null,
   "metadata": {},
   "outputs": [],
   "source": [
    "# Fill the remaining null values of each nutrient with 0\n",
    "total_goal.fillna(0, inplace=True)"
   ]
  },
  {
   "cell_type": "code",
   "execution_count": null,
   "metadata": {},
   "outputs": [],
   "source": [
    "# Changing diary_date column to a datetime type\n",
    "total_goal['diary_date'] = pd.to_datetime(total_goal['diary_date'])"
   ]
  },
  {
   "cell_type": "markdown",
   "metadata": {},
   "source": [
    "### Create 1 column per dictionary in both total key and goal key\n",
    "\n",
    "- total\n",
    "    + total_calories\n",
    "    + total_carbs\n",
    "    + total_fat\n",
    "    + total_fiber\n",
    "    + total_protein\n",
    "    + total_sodium\n",
    "    + total_sugar\n",
    "- goal\n",
    "    + goal_calories\n",
    "    + goal_carbs\n",
    "    + goal_fat\n",
    "    + goal_fiber\n",
    "    + goal_protein\n",
    "    + goal_sodium\n",
    "    + goal_sugar\n",
    "\n",
    "\n",
    "Add additional columns:\n",
    "- **total_sum**: Total sum of input values for the day\n",
    "- **goal_sum**: Total sum of goal values for the day\n",
    "- **achievement**: Indicates whether or not a user has met their daily goal within a tolerance of 10%.\n",
    "    - 1 = Succeed\n",
    "    - 0 = Fail"
   ]
  },
  {
   "cell_type": "code",
   "execution_count": null,
   "metadata": {},
   "outputs": [],
   "source": [
    "nutrients = ['calories','carbs','fat','fiber','protein','sodium','sugar']\n",
    "\n",
    "total_s = []\n",
    "goal_s = []\n",
    "for nutrient in nutrients:\n",
    "    total_s.append(f'total_{nutrient}')\n",
    "    goal_s.append(f'goal_{nutrient}')\n",
    "\n",
    "total_goal['total_sum'] = total_goal[total_s].apply(np.sum, axis=1)\n",
    "\n",
    "total_goal['goal_sum'] = total_goal[goal_s].apply(np.sum, axis=1)\n",
    "\n",
    "total_goal['achievement'] = np.where(abs((total_goal['total_sum'] - \n",
    "                                          total_goal['goal_sum']) / \n",
    "                                          total_goal['goal_sum']) <= 0.1, 1, 0)"
   ]
  },
  {
   "cell_type": "code",
   "execution_count": null,
   "metadata": {},
   "outputs": [],
   "source": [
    "coll = total_goal.drop(['userid','diary_date','goal_calories','goal_carbs',\n",
    "                        'goal_fat','goal_fiber','goal_protein','goal_sodium',\n",
    "                        'goal_sugar','total_sum','goal_sum'], axis=1)"
   ]
  },
  {
   "cell_type": "markdown",
   "metadata": {},
   "source": [
    "### Create Multi-Collinearity Heatmap\n",
    "This is just to show if any columns have collinear values. We would essentially drop a certain column if the value they are highly correlated, but in this case we want to keep the features as they may pertain to the survival analysis model. As you can see sugar and carbs are correlated, which we can say is a true statement."
   ]
  },
  {
   "cell_type": "code",
   "execution_count": null,
   "metadata": {
    "scrolled": false
   },
   "outputs": [],
   "source": [
    "fig, ax = plt.subplots(figsize=(10,6))\n",
    "sns.heatmap(coll.corr(), center=0, cmap='BrBG', annot=True)\n",
    "\n",
    "ax.set_title('Multi-Collinearity of Attributes')"
   ]
  },
  {
   "cell_type": "markdown",
   "metadata": {},
   "source": [
    "## Survival Analysis\n",
    "Min & Max Diary Dates: Sept 14, 2014 - Apr 9, 2015\n",
    "1. duration_col = length of time between start date and time of churn\n",
    "2. event_col = time of churn (when there is a break >=10 days)\n",
    "    * churn = 1\n",
    "    * continuous = 0"
   ]
  },
  {
   "cell_type": "code",
   "execution_count": null,
   "metadata": {},
   "outputs": [],
   "source": [
    "for index, row in total_goal.iterrows():\n",
    "    if (index != len(total_goal) - 1):\n",
    "        total_goal.loc[index, 'end_date'] = total_goal.loc[index + 1, 'diary_date']"
   ]
  },
  {
   "cell_type": "code",
   "execution_count": 2,
   "metadata": {},
   "outputs": [],
   "source": [
    "total_goal = pd.read_pickle('end_date.pkl')"
   ]
  },
  {
   "cell_type": "code",
   "execution_count": 4,
   "metadata": {},
   "outputs": [
    {
     "data": {
      "text/html": [
       "<div>\n",
       "<style scoped>\n",
       "    .dataframe tbody tr th:only-of-type {\n",
       "        vertical-align: middle;\n",
       "    }\n",
       "\n",
       "    .dataframe tbody tr th {\n",
       "        vertical-align: top;\n",
       "    }\n",
       "\n",
       "    .dataframe thead th {\n",
       "        text-align: right;\n",
       "    }\n",
       "</style>\n",
       "<table border=\"1\" class=\"dataframe\">\n",
       "  <thead>\n",
       "    <tr style=\"text-align: right;\">\n",
       "      <th></th>\n",
       "      <th>userid</th>\n",
       "      <th>diary_date</th>\n",
       "      <th>goal_calories</th>\n",
       "      <th>goal_carbs</th>\n",
       "      <th>goal_fat</th>\n",
       "      <th>goal_fiber</th>\n",
       "      <th>goal_protein</th>\n",
       "      <th>goal_sodium</th>\n",
       "      <th>goal_sugar</th>\n",
       "      <th>total_calories</th>\n",
       "      <th>total_carbs</th>\n",
       "      <th>total_fat</th>\n",
       "      <th>total_fiber</th>\n",
       "      <th>total_protein</th>\n",
       "      <th>total_sodium</th>\n",
       "      <th>total_sugar</th>\n",
       "      <th>total_sum</th>\n",
       "      <th>goal_sum</th>\n",
       "      <th>achievement</th>\n",
       "      <th>end_date</th>\n",
       "    </tr>\n",
       "  </thead>\n",
       "  <tbody>\n",
       "    <tr>\n",
       "      <th>234</th>\n",
       "      <td>3</td>\n",
       "      <td>2014-09-14</td>\n",
       "      <td>1210.0</td>\n",
       "      <td>151.0</td>\n",
       "      <td>40.0</td>\n",
       "      <td>25.0</td>\n",
       "      <td>60.0</td>\n",
       "      <td>2300.0</td>\n",
       "      <td>0.0</td>\n",
       "      <td>2270.0</td>\n",
       "      <td>45.0</td>\n",
       "      <td>15.0</td>\n",
       "      <td>3.0</td>\n",
       "      <td>16.0</td>\n",
       "      <td>810.0</td>\n",
       "      <td>0.0</td>\n",
       "      <td>3159.0</td>\n",
       "      <td>3786.0</td>\n",
       "      <td>0</td>\n",
       "      <td>2014-09-15</td>\n",
       "    </tr>\n",
       "    <tr>\n",
       "      <th>235</th>\n",
       "      <td>3</td>\n",
       "      <td>2014-09-15</td>\n",
       "      <td>1348.0</td>\n",
       "      <td>168.0</td>\n",
       "      <td>45.0</td>\n",
       "      <td>28.0</td>\n",
       "      <td>67.0</td>\n",
       "      <td>2300.0</td>\n",
       "      <td>0.0</td>\n",
       "      <td>1628.0</td>\n",
       "      <td>122.0</td>\n",
       "      <td>61.0</td>\n",
       "      <td>30.0</td>\n",
       "      <td>76.0</td>\n",
       "      <td>1564.0</td>\n",
       "      <td>0.0</td>\n",
       "      <td>3481.0</td>\n",
       "      <td>3956.0</td>\n",
       "      <td>0</td>\n",
       "      <td>2014-09-16</td>\n",
       "    </tr>\n",
       "    <tr>\n",
       "      <th>236</th>\n",
       "      <td>3</td>\n",
       "      <td>2014-09-16</td>\n",
       "      <td>1486.0</td>\n",
       "      <td>185.0</td>\n",
       "      <td>49.0</td>\n",
       "      <td>31.0</td>\n",
       "      <td>74.0</td>\n",
       "      <td>2300.0</td>\n",
       "      <td>0.0</td>\n",
       "      <td>1468.0</td>\n",
       "      <td>158.0</td>\n",
       "      <td>41.0</td>\n",
       "      <td>15.0</td>\n",
       "      <td>55.0</td>\n",
       "      <td>1588.0</td>\n",
       "      <td>0.0</td>\n",
       "      <td>3325.0</td>\n",
       "      <td>4125.0</td>\n",
       "      <td>0</td>\n",
       "      <td>2014-09-17</td>\n",
       "    </tr>\n",
       "    <tr>\n",
       "      <th>237</th>\n",
       "      <td>3</td>\n",
       "      <td>2014-09-17</td>\n",
       "      <td>1487.0</td>\n",
       "      <td>186.0</td>\n",
       "      <td>49.0</td>\n",
       "      <td>31.0</td>\n",
       "      <td>74.0</td>\n",
       "      <td>2300.0</td>\n",
       "      <td>0.0</td>\n",
       "      <td>1405.0</td>\n",
       "      <td>174.0</td>\n",
       "      <td>48.0</td>\n",
       "      <td>16.0</td>\n",
       "      <td>63.0</td>\n",
       "      <td>2157.0</td>\n",
       "      <td>0.0</td>\n",
       "      <td>3863.0</td>\n",
       "      <td>4127.0</td>\n",
       "      <td>1</td>\n",
       "      <td>2014-09-18</td>\n",
       "    </tr>\n",
       "    <tr>\n",
       "      <th>238</th>\n",
       "      <td>3</td>\n",
       "      <td>2014-09-18</td>\n",
       "      <td>1487.0</td>\n",
       "      <td>186.0</td>\n",
       "      <td>49.0</td>\n",
       "      <td>31.0</td>\n",
       "      <td>74.0</td>\n",
       "      <td>2300.0</td>\n",
       "      <td>0.0</td>\n",
       "      <td>1790.0</td>\n",
       "      <td>139.0</td>\n",
       "      <td>72.0</td>\n",
       "      <td>45.0</td>\n",
       "      <td>79.0</td>\n",
       "      <td>2330.0</td>\n",
       "      <td>0.0</td>\n",
       "      <td>4455.0</td>\n",
       "      <td>4127.0</td>\n",
       "      <td>1</td>\n",
       "      <td>2014-09-19</td>\n",
       "    </tr>\n",
       "    <tr>\n",
       "      <th>239</th>\n",
       "      <td>3</td>\n",
       "      <td>2014-09-19</td>\n",
       "      <td>1210.0</td>\n",
       "      <td>151.0</td>\n",
       "      <td>40.0</td>\n",
       "      <td>25.0</td>\n",
       "      <td>60.0</td>\n",
       "      <td>2300.0</td>\n",
       "      <td>0.0</td>\n",
       "      <td>2200.0</td>\n",
       "      <td>0.0</td>\n",
       "      <td>0.0</td>\n",
       "      <td>0.0</td>\n",
       "      <td>0.0</td>\n",
       "      <td>0.0</td>\n",
       "      <td>0.0</td>\n",
       "      <td>2200.0</td>\n",
       "      <td>3786.0</td>\n",
       "      <td>0</td>\n",
       "      <td>2014-09-23</td>\n",
       "    </tr>\n",
       "    <tr>\n",
       "      <th>240</th>\n",
       "      <td>3</td>\n",
       "      <td>2014-09-23</td>\n",
       "      <td>1210.0</td>\n",
       "      <td>151.0</td>\n",
       "      <td>40.0</td>\n",
       "      <td>25.0</td>\n",
       "      <td>60.0</td>\n",
       "      <td>2300.0</td>\n",
       "      <td>0.0</td>\n",
       "      <td>1208.0</td>\n",
       "      <td>173.0</td>\n",
       "      <td>30.0</td>\n",
       "      <td>11.0</td>\n",
       "      <td>34.0</td>\n",
       "      <td>1707.0</td>\n",
       "      <td>0.0</td>\n",
       "      <td>3163.0</td>\n",
       "      <td>3786.0</td>\n",
       "      <td>0</td>\n",
       "      <td>2014-10-21</td>\n",
       "    </tr>\n",
       "  </tbody>\n",
       "</table>\n",
       "</div>"
      ],
      "text/plain": [
       "     userid diary_date  goal_calories  goal_carbs  goal_fat  goal_fiber  \\\n",
       "234       3 2014-09-14         1210.0       151.0      40.0        25.0   \n",
       "235       3 2014-09-15         1348.0       168.0      45.0        28.0   \n",
       "236       3 2014-09-16         1486.0       185.0      49.0        31.0   \n",
       "237       3 2014-09-17         1487.0       186.0      49.0        31.0   \n",
       "238       3 2014-09-18         1487.0       186.0      49.0        31.0   \n",
       "239       3 2014-09-19         1210.0       151.0      40.0        25.0   \n",
       "240       3 2014-09-23         1210.0       151.0      40.0        25.0   \n",
       "\n",
       "     goal_protein  goal_sodium  goal_sugar  total_calories  total_carbs  \\\n",
       "234          60.0       2300.0         0.0          2270.0         45.0   \n",
       "235          67.0       2300.0         0.0          1628.0        122.0   \n",
       "236          74.0       2300.0         0.0          1468.0        158.0   \n",
       "237          74.0       2300.0         0.0          1405.0        174.0   \n",
       "238          74.0       2300.0         0.0          1790.0        139.0   \n",
       "239          60.0       2300.0         0.0          2200.0          0.0   \n",
       "240          60.0       2300.0         0.0          1208.0        173.0   \n",
       "\n",
       "     total_fat  total_fiber  total_protein  total_sodium  total_sugar  \\\n",
       "234       15.0          3.0           16.0         810.0          0.0   \n",
       "235       61.0         30.0           76.0        1564.0          0.0   \n",
       "236       41.0         15.0           55.0        1588.0          0.0   \n",
       "237       48.0         16.0           63.0        2157.0          0.0   \n",
       "238       72.0         45.0           79.0        2330.0          0.0   \n",
       "239        0.0          0.0            0.0           0.0          0.0   \n",
       "240       30.0         11.0           34.0        1707.0          0.0   \n",
       "\n",
       "     total_sum  goal_sum  achievement   end_date  \n",
       "234     3159.0    3786.0            0 2014-09-15  \n",
       "235     3481.0    3956.0            0 2014-09-16  \n",
       "236     3325.0    4125.0            0 2014-09-17  \n",
       "237     3863.0    4127.0            1 2014-09-18  \n",
       "238     4455.0    4127.0            1 2014-09-19  \n",
       "239     2200.0    3786.0            0 2014-09-23  \n",
       "240     3163.0    3786.0            0 2014-10-21  "
      ]
     },
     "execution_count": 4,
     "metadata": {},
     "output_type": "execute_result"
    }
   ],
   "source": [
    "user1 = total_goal[total_goal['userid'] == 3]\n",
    "user1"
   ]
  },
  {
   "cell_type": "code",
   "execution_count": 5,
   "metadata": {},
   "outputs": [
    {
     "data": {
      "text/plain": [
       "Timedelta('1 days 00:00:00')"
      ]
     },
     "execution_count": 5,
     "metadata": {},
     "output_type": "execute_result"
    }
   ],
   "source": [
    "total_goal.loc[0, 'end_date'] - total_goal.loc[0, 'diary_date']"
   ]
  },
  {
   "cell_type": "code",
   "execution_count": 6,
   "metadata": {},
   "outputs": [],
   "source": [
    "prev_user = ''\n",
    "start_date = None\n",
    "churn_date = None\n",
    "churned = False\n",
    "\n",
    "prev_user = total_goal.loc[0, 'userid']\n",
    "start_date = total_goal.loc[0, 'diary_date']\n",
    "\n",
    "result = []\n",
    "for index, row in total_goal.iterrows():\n",
    "#     if index == 0:\n",
    "#         continue\n",
    "#     if index == 500:\n",
    "#         break\n",
    "        \n",
    "    user = row['userid']\n",
    "    if prev_user == user:\n",
    "        # Same user check churn date\n",
    "        if (row['end_date'] - row['diary_date']) >= pd.Timedelta(5, 'D'):\n",
    "            if not churned:\n",
    "                churn_date = row['diary_date']\n",
    "                record = {'userid':user, \n",
    "                          'start_date': start_date,\n",
    "                          'churn_date': churn_date}\n",
    "                result.append(record)\n",
    "                churned = True        \n",
    "    else:\n",
    "        # Diff user\n",
    "        if not churned:\n",
    "            record = {'userid':prev_user, \n",
    "                      'start_date': start_date,\n",
    "                      'churn_date': ''}\n",
    "            result.append(record)\n",
    "        start_date = row['diary_date']\n",
    "        churned = False\n",
    "        \n",
    "    prev_user = user"
   ]
  },
  {
   "cell_type": "code",
   "execution_count": 120,
   "metadata": {
    "scrolled": true
   },
   "outputs": [
    {
     "data": {
      "text/html": [
       "<div>\n",
       "<style scoped>\n",
       "    .dataframe tbody tr th:only-of-type {\n",
       "        vertical-align: middle;\n",
       "    }\n",
       "\n",
       "    .dataframe tbody tr th {\n",
       "        vertical-align: top;\n",
       "    }\n",
       "\n",
       "    .dataframe thead th {\n",
       "        text-align: right;\n",
       "    }\n",
       "</style>\n",
       "<table border=\"1\" class=\"dataframe\">\n",
       "  <thead>\n",
       "    <tr style=\"text-align: right;\">\n",
       "      <th></th>\n",
       "      <th>churn_date</th>\n",
       "      <th>start_date</th>\n",
       "      <th>userid</th>\n",
       "    </tr>\n",
       "  </thead>\n",
       "  <tbody>\n",
       "    <tr>\n",
       "      <th>0</th>\n",
       "      <td>2014-11-01</td>\n",
       "      <td>2014-09-14</td>\n",
       "      <td>1</td>\n",
       "    </tr>\n",
       "    <tr>\n",
       "      <th>1</th>\n",
       "      <td>NaT</td>\n",
       "      <td>2015-01-12</td>\n",
       "      <td>2</td>\n",
       "    </tr>\n",
       "    <tr>\n",
       "      <th>2</th>\n",
       "      <td>2014-09-23</td>\n",
       "      <td>2014-09-14</td>\n",
       "      <td>3</td>\n",
       "    </tr>\n",
       "    <tr>\n",
       "      <th>3</th>\n",
       "      <td>2014-10-22</td>\n",
       "      <td>2014-10-21</td>\n",
       "      <td>4</td>\n",
       "    </tr>\n",
       "    <tr>\n",
       "      <th>4</th>\n",
       "      <td>NaT</td>\n",
       "      <td>2014-09-14</td>\n",
       "      <td>5</td>\n",
       "    </tr>\n",
       "  </tbody>\n",
       "</table>\n",
       "</div>"
      ],
      "text/plain": [
       "  churn_date start_date  userid\n",
       "0 2014-11-01 2014-09-14       1\n",
       "1        NaT 2015-01-12       2\n",
       "2 2014-09-23 2014-09-14       3\n",
       "3 2014-10-22 2014-10-21       4\n",
       "4        NaT 2014-09-14       5"
      ]
     },
     "execution_count": 120,
     "metadata": {},
     "output_type": "execute_result"
    }
   ],
   "source": [
    "end_date = pd.DataFrame(result)\n",
    "end_date.head()"
   ]
  },
  {
   "cell_type": "code",
   "execution_count": 121,
   "metadata": {},
   "outputs": [
    {
     "data": {
      "text/html": [
       "<div>\n",
       "<style scoped>\n",
       "    .dataframe tbody tr th:only-of-type {\n",
       "        vertical-align: middle;\n",
       "    }\n",
       "\n",
       "    .dataframe tbody tr th {\n",
       "        vertical-align: top;\n",
       "    }\n",
       "\n",
       "    .dataframe thead th {\n",
       "        text-align: right;\n",
       "    }\n",
       "</style>\n",
       "<table border=\"1\" class=\"dataframe\">\n",
       "  <thead>\n",
       "    <tr style=\"text-align: right;\">\n",
       "      <th></th>\n",
       "      <th>churn_date</th>\n",
       "      <th>start_date</th>\n",
       "      <th>userid</th>\n",
       "      <th>days</th>\n",
       "    </tr>\n",
       "  </thead>\n",
       "  <tbody>\n",
       "    <tr>\n",
       "      <th>0</th>\n",
       "      <td>2014-11-01</td>\n",
       "      <td>2014-09-14</td>\n",
       "      <td>1</td>\n",
       "      <td>48.0</td>\n",
       "    </tr>\n",
       "    <tr>\n",
       "      <th>1</th>\n",
       "      <td>NaT</td>\n",
       "      <td>2015-01-12</td>\n",
       "      <td>2</td>\n",
       "      <td>NaN</td>\n",
       "    </tr>\n",
       "    <tr>\n",
       "      <th>2</th>\n",
       "      <td>2014-09-23</td>\n",
       "      <td>2014-09-14</td>\n",
       "      <td>3</td>\n",
       "      <td>9.0</td>\n",
       "    </tr>\n",
       "    <tr>\n",
       "      <th>3</th>\n",
       "      <td>2014-10-22</td>\n",
       "      <td>2014-10-21</td>\n",
       "      <td>4</td>\n",
       "      <td>1.0</td>\n",
       "    </tr>\n",
       "    <tr>\n",
       "      <th>4</th>\n",
       "      <td>NaT</td>\n",
       "      <td>2014-09-14</td>\n",
       "      <td>5</td>\n",
       "      <td>NaN</td>\n",
       "    </tr>\n",
       "  </tbody>\n",
       "</table>\n",
       "</div>"
      ],
      "text/plain": [
       "  churn_date start_date  userid  days\n",
       "0 2014-11-01 2014-09-14       1  48.0\n",
       "1        NaT 2015-01-12       2   NaN\n",
       "2 2014-09-23 2014-09-14       3   9.0\n",
       "3 2014-10-22 2014-10-21       4   1.0\n",
       "4        NaT 2014-09-14       5   NaN"
      ]
     },
     "execution_count": 121,
     "metadata": {},
     "output_type": "execute_result"
    }
   ],
   "source": [
    "end_date['days'] = (end_date['churn_date'] - end_date['start_date']).dt.days\n",
    "\n",
    "end_date.head()"
   ]
  },
  {
   "cell_type": "code",
   "execution_count": 122,
   "metadata": {
    "scrolled": true
   },
   "outputs": [
    {
     "data": {
      "text/html": [
       "<div>\n",
       "<style scoped>\n",
       "    .dataframe tbody tr th:only-of-type {\n",
       "        vertical-align: middle;\n",
       "    }\n",
       "\n",
       "    .dataframe tbody tr th {\n",
       "        vertical-align: top;\n",
       "    }\n",
       "\n",
       "    .dataframe thead th {\n",
       "        text-align: right;\n",
       "    }\n",
       "</style>\n",
       "<table border=\"1\" class=\"dataframe\">\n",
       "  <thead>\n",
       "    <tr style=\"text-align: right;\">\n",
       "      <th></th>\n",
       "      <th>churn_date</th>\n",
       "      <th>start_date</th>\n",
       "      <th>userid</th>\n",
       "      <th>days</th>\n",
       "      <th>churn_5days</th>\n",
       "    </tr>\n",
       "  </thead>\n",
       "  <tbody>\n",
       "    <tr>\n",
       "      <th>0</th>\n",
       "      <td>2014-11-01</td>\n",
       "      <td>2014-09-14</td>\n",
       "      <td>1</td>\n",
       "      <td>48.0</td>\n",
       "      <td>1</td>\n",
       "    </tr>\n",
       "    <tr>\n",
       "      <th>1</th>\n",
       "      <td>NaT</td>\n",
       "      <td>2015-01-12</td>\n",
       "      <td>2</td>\n",
       "      <td>NaN</td>\n",
       "      <td>0</td>\n",
       "    </tr>\n",
       "    <tr>\n",
       "      <th>2</th>\n",
       "      <td>2014-09-23</td>\n",
       "      <td>2014-09-14</td>\n",
       "      <td>3</td>\n",
       "      <td>9.0</td>\n",
       "      <td>1</td>\n",
       "    </tr>\n",
       "    <tr>\n",
       "      <th>3</th>\n",
       "      <td>2014-10-22</td>\n",
       "      <td>2014-10-21</td>\n",
       "      <td>4</td>\n",
       "      <td>1.0</td>\n",
       "      <td>1</td>\n",
       "    </tr>\n",
       "    <tr>\n",
       "      <th>4</th>\n",
       "      <td>NaT</td>\n",
       "      <td>2014-09-14</td>\n",
       "      <td>5</td>\n",
       "      <td>NaN</td>\n",
       "      <td>0</td>\n",
       "    </tr>\n",
       "  </tbody>\n",
       "</table>\n",
       "</div>"
      ],
      "text/plain": [
       "  churn_date start_date  userid  days  churn_5days\n",
       "0 2014-11-01 2014-09-14       1  48.0            1\n",
       "1        NaT 2015-01-12       2   NaN            0\n",
       "2 2014-09-23 2014-09-14       3   9.0            1\n",
       "3 2014-10-22 2014-10-21       4   1.0            1\n",
       "4        NaT 2014-09-14       5   NaN            0"
      ]
     },
     "execution_count": 122,
     "metadata": {},
     "output_type": "execute_result"
    }
   ],
   "source": [
    "end_date['churn_5days'] = end_date['churn_date'].apply(lambda x: 0 if type(x) is not pd.Timestamp else 1)\n",
    "\n",
    "end_date.head()"
   ]
  },
  {
   "cell_type": "code",
   "execution_count": 124,
   "metadata": {
    "scrolled": true
   },
   "outputs": [
    {
     "data": {
      "text/html": [
       "<div>\n",
       "<style scoped>\n",
       "    .dataframe tbody tr th:only-of-type {\n",
       "        vertical-align: middle;\n",
       "    }\n",
       "\n",
       "    .dataframe tbody tr th {\n",
       "        vertical-align: top;\n",
       "    }\n",
       "\n",
       "    .dataframe thead th {\n",
       "        text-align: right;\n",
       "    }\n",
       "</style>\n",
       "<table border=\"1\" class=\"dataframe\">\n",
       "  <thead>\n",
       "    <tr style=\"text-align: right;\">\n",
       "      <th></th>\n",
       "      <th>days_count</th>\n",
       "    </tr>\n",
       "  </thead>\n",
       "  <tbody>\n",
       "    <tr>\n",
       "      <th>1</th>\n",
       "      <td>174</td>\n",
       "    </tr>\n",
       "    <tr>\n",
       "      <th>2</th>\n",
       "      <td>60</td>\n",
       "    </tr>\n",
       "    <tr>\n",
       "      <th>3</th>\n",
       "      <td>7</td>\n",
       "    </tr>\n",
       "    <tr>\n",
       "      <th>4</th>\n",
       "      <td>27</td>\n",
       "    </tr>\n",
       "    <tr>\n",
       "      <th>5</th>\n",
       "      <td>179</td>\n",
       "    </tr>\n",
       "  </tbody>\n",
       "</table>\n",
       "</div>"
      ],
      "text/plain": [
       "   days_count\n",
       "1         174\n",
       "2          60\n",
       "3           7\n",
       "4          27\n",
       "5         179"
      ]
     },
     "execution_count": 124,
     "metadata": {},
     "output_type": "execute_result"
    }
   ],
   "source": [
    "days_count = total_goal['userid'].value_counts().sort_index()\n",
    "days_count = pd.DataFrame(days_count).rename(columns={'userid': 'days_count'})\n",
    "days_count.head()"
   ]
  },
  {
   "cell_type": "code",
   "execution_count": 128,
   "metadata": {
    "scrolled": true
   },
   "outputs": [],
   "source": [
    "final_churn = pd.merge(days_count, end_date, left_index=True, right_on='userid')\n",
    "final_churn.index = final_churn['userid']\n",
    "final_churn = final_churn.drop('userid', axis=1)"
   ]
  },
  {
   "cell_type": "code",
   "execution_count": 131,
   "metadata": {
    "scrolled": true
   },
   "outputs": [
    {
     "data": {
      "text/html": [
       "<div>\n",
       "<style scoped>\n",
       "    .dataframe tbody tr th:only-of-type {\n",
       "        vertical-align: middle;\n",
       "    }\n",
       "\n",
       "    .dataframe tbody tr th {\n",
       "        vertical-align: top;\n",
       "    }\n",
       "\n",
       "    .dataframe thead th {\n",
       "        text-align: right;\n",
       "    }\n",
       "</style>\n",
       "<table border=\"1\" class=\"dataframe\">\n",
       "  <thead>\n",
       "    <tr style=\"text-align: right;\">\n",
       "      <th></th>\n",
       "      <th>days_count</th>\n",
       "      <th>churn_date</th>\n",
       "      <th>start_date</th>\n",
       "      <th>userid</th>\n",
       "      <th>days</th>\n",
       "      <th>churn_5days</th>\n",
       "    </tr>\n",
       "    <tr>\n",
       "      <th>userid</th>\n",
       "      <th></th>\n",
       "      <th></th>\n",
       "      <th></th>\n",
       "      <th></th>\n",
       "      <th></th>\n",
       "      <th></th>\n",
       "    </tr>\n",
       "  </thead>\n",
       "  <tbody>\n",
       "    <tr>\n",
       "      <th>1</th>\n",
       "      <td>174</td>\n",
       "      <td>2014-11-01</td>\n",
       "      <td>2014-09-14</td>\n",
       "      <td>1</td>\n",
       "      <td>48.0</td>\n",
       "      <td>1</td>\n",
       "    </tr>\n",
       "    <tr>\n",
       "      <th>2</th>\n",
       "      <td>60</td>\n",
       "      <td>NaT</td>\n",
       "      <td>2015-01-12</td>\n",
       "      <td>2</td>\n",
       "      <td>NaN</td>\n",
       "      <td>0</td>\n",
       "    </tr>\n",
       "    <tr>\n",
       "      <th>3</th>\n",
       "      <td>7</td>\n",
       "      <td>2014-09-23</td>\n",
       "      <td>2014-09-14</td>\n",
       "      <td>3</td>\n",
       "      <td>9.0</td>\n",
       "      <td>1</td>\n",
       "    </tr>\n",
       "    <tr>\n",
       "      <th>4</th>\n",
       "      <td>27</td>\n",
       "      <td>2014-10-22</td>\n",
       "      <td>2014-10-21</td>\n",
       "      <td>4</td>\n",
       "      <td>1.0</td>\n",
       "      <td>1</td>\n",
       "    </tr>\n",
       "    <tr>\n",
       "      <th>5</th>\n",
       "      <td>179</td>\n",
       "      <td>NaT</td>\n",
       "      <td>2014-09-14</td>\n",
       "      <td>5</td>\n",
       "      <td>NaN</td>\n",
       "      <td>0</td>\n",
       "    </tr>\n",
       "  </tbody>\n",
       "</table>\n",
       "</div>"
      ],
      "text/plain": [
       "        days_count churn_date start_date  userid  days  churn_5days\n",
       "userid                                                             \n",
       "1              174 2014-11-01 2014-09-14       1  48.0            1\n",
       "2               60        NaT 2015-01-12       2   NaN            0\n",
       "3                7 2014-09-23 2014-09-14       3   9.0            1\n",
       "4               27 2014-10-22 2014-10-21       4   1.0            1\n",
       "5              179        NaT 2014-09-14       5   NaN            0"
      ]
     },
     "execution_count": 131,
     "metadata": {},
     "output_type": "execute_result"
    }
   ],
   "source": [
    "final_churn.head()"
   ]
  },
  {
   "cell_type": "code",
   "execution_count": 132,
   "metadata": {},
   "outputs": [
    {
     "data": {
      "text/html": [
       "<div>\n",
       "<style scoped>\n",
       "    .dataframe tbody tr th:only-of-type {\n",
       "        vertical-align: middle;\n",
       "    }\n",
       "\n",
       "    .dataframe tbody tr th {\n",
       "        vertical-align: top;\n",
       "    }\n",
       "\n",
       "    .dataframe thead th {\n",
       "        text-align: right;\n",
       "    }\n",
       "</style>\n",
       "<table border=\"1\" class=\"dataframe\">\n",
       "  <thead>\n",
       "    <tr style=\"text-align: right;\">\n",
       "      <th></th>\n",
       "      <th>days_count</th>\n",
       "      <th>churn_date</th>\n",
       "      <th>start_date</th>\n",
       "      <th>userid</th>\n",
       "      <th>days</th>\n",
       "      <th>churn_5days</th>\n",
       "    </tr>\n",
       "    <tr>\n",
       "      <th>userid</th>\n",
       "      <th></th>\n",
       "      <th></th>\n",
       "      <th></th>\n",
       "      <th></th>\n",
       "      <th></th>\n",
       "      <th></th>\n",
       "    </tr>\n",
       "  </thead>\n",
       "  <tbody>\n",
       "    <tr>\n",
       "      <th>1</th>\n",
       "      <td>174</td>\n",
       "      <td>2014-11-01</td>\n",
       "      <td>2014-09-14</td>\n",
       "      <td>1</td>\n",
       "      <td>48.0</td>\n",
       "      <td>1</td>\n",
       "    </tr>\n",
       "    <tr>\n",
       "      <th>2</th>\n",
       "      <td>60</td>\n",
       "      <td>NaT</td>\n",
       "      <td>2015-01-12</td>\n",
       "      <td>2</td>\n",
       "      <td>60.0</td>\n",
       "      <td>0</td>\n",
       "    </tr>\n",
       "    <tr>\n",
       "      <th>3</th>\n",
       "      <td>7</td>\n",
       "      <td>2014-09-23</td>\n",
       "      <td>2014-09-14</td>\n",
       "      <td>3</td>\n",
       "      <td>9.0</td>\n",
       "      <td>1</td>\n",
       "    </tr>\n",
       "    <tr>\n",
       "      <th>4</th>\n",
       "      <td>27</td>\n",
       "      <td>2014-10-22</td>\n",
       "      <td>2014-10-21</td>\n",
       "      <td>4</td>\n",
       "      <td>1.0</td>\n",
       "      <td>1</td>\n",
       "    </tr>\n",
       "    <tr>\n",
       "      <th>5</th>\n",
       "      <td>179</td>\n",
       "      <td>NaT</td>\n",
       "      <td>2014-09-14</td>\n",
       "      <td>5</td>\n",
       "      <td>179.0</td>\n",
       "      <td>0</td>\n",
       "    </tr>\n",
       "  </tbody>\n",
       "</table>\n",
       "</div>"
      ],
      "text/plain": [
       "        days_count churn_date start_date  userid   days  churn_5days\n",
       "userid                                                              \n",
       "1              174 2014-11-01 2014-09-14       1   48.0            1\n",
       "2               60        NaT 2015-01-12       2   60.0            0\n",
       "3                7 2014-09-23 2014-09-14       3    9.0            1\n",
       "4               27 2014-10-22 2014-10-21       4    1.0            1\n",
       "5              179        NaT 2014-09-14       5  179.0            0"
      ]
     },
     "execution_count": 132,
     "metadata": {},
     "output_type": "execute_result"
    }
   ],
   "source": [
    "final_churn.days.fillna(final_churn.days_count, inplace=True)\n",
    "\n",
    "final_churn.head()"
   ]
  },
  {
   "cell_type": "markdown",
   "metadata": {},
   "source": [
    "### Exploratory Analysis with final churn dataframe"
   ]
  },
  {
   "cell_type": "code",
   "execution_count": 157,
   "metadata": {
    "scrolled": true
   },
   "outputs": [
    {
     "name": "stdout",
     "output_type": "stream",
     "text": [
      "1 days    5\n",
      "4 days    1\n",
      "Name: diary_date, dtype: int64\n",
      "\n",
      "\n",
      "7\n"
     ]
    },
    {
     "data": {
      "text/html": [
       "<div>\n",
       "<style scoped>\n",
       "    .dataframe tbody tr th:only-of-type {\n",
       "        vertical-align: middle;\n",
       "    }\n",
       "\n",
       "    .dataframe tbody tr th {\n",
       "        vertical-align: top;\n",
       "    }\n",
       "\n",
       "    .dataframe thead th {\n",
       "        text-align: right;\n",
       "    }\n",
       "</style>\n",
       "<table border=\"1\" class=\"dataframe\">\n",
       "  <thead>\n",
       "    <tr style=\"text-align: right;\">\n",
       "      <th></th>\n",
       "      <th>userid</th>\n",
       "      <th>diary_date</th>\n",
       "      <th>goal_calories</th>\n",
       "      <th>goal_carbs</th>\n",
       "      <th>goal_fat</th>\n",
       "      <th>goal_fiber</th>\n",
       "      <th>goal_protein</th>\n",
       "      <th>goal_sodium</th>\n",
       "      <th>goal_sugar</th>\n",
       "      <th>total_calories</th>\n",
       "      <th>total_carbs</th>\n",
       "      <th>total_fat</th>\n",
       "      <th>total_fiber</th>\n",
       "      <th>total_protein</th>\n",
       "      <th>total_sodium</th>\n",
       "      <th>total_sugar</th>\n",
       "      <th>total_sum</th>\n",
       "      <th>goal_sum</th>\n",
       "      <th>achievement</th>\n",
       "      <th>end_date</th>\n",
       "    </tr>\n",
       "  </thead>\n",
       "  <tbody>\n",
       "    <tr>\n",
       "      <th>240</th>\n",
       "      <td>3</td>\n",
       "      <td>2014-09-23</td>\n",
       "      <td>1210.0</td>\n",
       "      <td>151.0</td>\n",
       "      <td>40.0</td>\n",
       "      <td>25.0</td>\n",
       "      <td>60.0</td>\n",
       "      <td>2300.0</td>\n",
       "      <td>0.0</td>\n",
       "      <td>1208.0</td>\n",
       "      <td>173.0</td>\n",
       "      <td>30.0</td>\n",
       "      <td>11.0</td>\n",
       "      <td>34.0</td>\n",
       "      <td>1707.0</td>\n",
       "      <td>0.0</td>\n",
       "      <td>3163.0</td>\n",
       "      <td>3786.0</td>\n",
       "      <td>0</td>\n",
       "      <td>2014-10-21</td>\n",
       "    </tr>\n",
       "  </tbody>\n",
       "</table>\n",
       "</div>"
      ],
      "text/plain": [
       "     userid diary_date  goal_calories  goal_carbs  goal_fat  goal_fiber  \\\n",
       "240       3 2014-09-23         1210.0       151.0      40.0        25.0   \n",
       "\n",
       "     goal_protein  goal_sodium  goal_sugar  total_calories  total_carbs  \\\n",
       "240          60.0       2300.0         0.0          1208.0        173.0   \n",
       "\n",
       "     total_fat  total_fiber  total_protein  total_sodium  total_sugar  \\\n",
       "240       30.0         11.0           34.0        1707.0          0.0   \n",
       "\n",
       "     total_sum  goal_sum  achievement   end_date  \n",
       "240     3163.0    3786.0            0 2014-10-21  "
      ]
     },
     "execution_count": 157,
     "metadata": {},
     "output_type": "execute_result"
    }
   ],
   "source": [
    "user = total_goal[total_goal['userid'] == 3]\n",
    "\n",
    "print(user.diary_date.diff().value_counts())\n",
    "print('\\n')\n",
    "print(user.diary_date.value_counts().sum())\n",
    "\n",
    "user[user.diary_date.diff() > pd.Timedelta(3, 'D')]"
   ]
  },
  {
   "cell_type": "markdown",
   "metadata": {},
   "source": [
    "### Merging \"final_churn\" and \"total_goal\" dataframes"
   ]
  },
  {
   "cell_type": "code",
   "execution_count": 160,
   "metadata": {},
   "outputs": [],
   "source": [
    "cols = total_goal.drop(['userid','diary_date'], axis=1).columns\n",
    "\n",
    "condense = total_goal.groupby(['userid'])[cols].sum()\n",
    "\n",
    "unite = pd.merge(final_churn, condense, left_index=True, right_index=True)"
   ]
  },
  {
   "cell_type": "code",
   "execution_count": 161,
   "metadata": {
    "scrolled": false
   },
   "outputs": [
    {
     "data": {
      "text/html": [
       "<div>\n",
       "<style scoped>\n",
       "    .dataframe tbody tr th:only-of-type {\n",
       "        vertical-align: middle;\n",
       "    }\n",
       "\n",
       "    .dataframe tbody tr th {\n",
       "        vertical-align: top;\n",
       "    }\n",
       "\n",
       "    .dataframe thead th {\n",
       "        text-align: right;\n",
       "    }\n",
       "</style>\n",
       "<table border=\"1\" class=\"dataframe\">\n",
       "  <thead>\n",
       "    <tr style=\"text-align: right;\">\n",
       "      <th></th>\n",
       "      <th>days_count</th>\n",
       "      <th>churn_date</th>\n",
       "      <th>start_date</th>\n",
       "      <th>userid</th>\n",
       "      <th>days</th>\n",
       "      <th>churn_5days</th>\n",
       "      <th>goal_calories</th>\n",
       "      <th>goal_carbs</th>\n",
       "      <th>goal_fat</th>\n",
       "      <th>goal_fiber</th>\n",
       "      <th>...</th>\n",
       "      <th>total_calories</th>\n",
       "      <th>total_carbs</th>\n",
       "      <th>total_fat</th>\n",
       "      <th>total_fiber</th>\n",
       "      <th>total_protein</th>\n",
       "      <th>total_sodium</th>\n",
       "      <th>total_sugar</th>\n",
       "      <th>total_sum</th>\n",
       "      <th>goal_sum</th>\n",
       "      <th>achievement</th>\n",
       "    </tr>\n",
       "    <tr>\n",
       "      <th>userid</th>\n",
       "      <th></th>\n",
       "      <th></th>\n",
       "      <th></th>\n",
       "      <th></th>\n",
       "      <th></th>\n",
       "      <th></th>\n",
       "      <th></th>\n",
       "      <th></th>\n",
       "      <th></th>\n",
       "      <th></th>\n",
       "      <th></th>\n",
       "      <th></th>\n",
       "      <th></th>\n",
       "      <th></th>\n",
       "      <th></th>\n",
       "      <th></th>\n",
       "      <th></th>\n",
       "      <th></th>\n",
       "      <th></th>\n",
       "      <th></th>\n",
       "      <th></th>\n",
       "    </tr>\n",
       "  </thead>\n",
       "  <tbody>\n",
       "    <tr>\n",
       "      <th>1</th>\n",
       "      <td>174</td>\n",
       "      <td>2014-11-01</td>\n",
       "      <td>2014-09-14</td>\n",
       "      <td>1</td>\n",
       "      <td>48.0</td>\n",
       "      <td>1</td>\n",
       "      <td>375085.0</td>\n",
       "      <td>46633.0</td>\n",
       "      <td>12472.0</td>\n",
       "      <td>0.0</td>\n",
       "      <td>...</td>\n",
       "      <td>401750.0</td>\n",
       "      <td>32265.0</td>\n",
       "      <td>13562.0</td>\n",
       "      <td>0.0</td>\n",
       "      <td>22408.0</td>\n",
       "      <td>360487.0</td>\n",
       "      <td>14227.0</td>\n",
       "      <td>844699.0</td>\n",
       "      <td>867495.0</td>\n",
       "      <td>68</td>\n",
       "    </tr>\n",
       "    <tr>\n",
       "      <th>2</th>\n",
       "      <td>60</td>\n",
       "      <td>NaT</td>\n",
       "      <td>2015-01-12</td>\n",
       "      <td>2</td>\n",
       "      <td>60.0</td>\n",
       "      <td>0</td>\n",
       "      <td>90925.0</td>\n",
       "      <td>11387.0</td>\n",
       "      <td>2955.0</td>\n",
       "      <td>0.0</td>\n",
       "      <td>...</td>\n",
       "      <td>87430.0</td>\n",
       "      <td>10872.0</td>\n",
       "      <td>2537.0</td>\n",
       "      <td>0.0</td>\n",
       "      <td>2550.0</td>\n",
       "      <td>100217.0</td>\n",
       "      <td>4573.0</td>\n",
       "      <td>208179.0</td>\n",
       "      <td>251403.0</td>\n",
       "      <td>11</td>\n",
       "    </tr>\n",
       "    <tr>\n",
       "      <th>3</th>\n",
       "      <td>7</td>\n",
       "      <td>2014-09-23</td>\n",
       "      <td>2014-09-14</td>\n",
       "      <td>3</td>\n",
       "      <td>9.0</td>\n",
       "      <td>1</td>\n",
       "      <td>9438.0</td>\n",
       "      <td>1178.0</td>\n",
       "      <td>312.0</td>\n",
       "      <td>196.0</td>\n",
       "      <td>...</td>\n",
       "      <td>11969.0</td>\n",
       "      <td>811.0</td>\n",
       "      <td>267.0</td>\n",
       "      <td>120.0</td>\n",
       "      <td>323.0</td>\n",
       "      <td>10156.0</td>\n",
       "      <td>0.0</td>\n",
       "      <td>23646.0</td>\n",
       "      <td>27693.0</td>\n",
       "      <td>2</td>\n",
       "    </tr>\n",
       "    <tr>\n",
       "      <th>4</th>\n",
       "      <td>27</td>\n",
       "      <td>2014-10-22</td>\n",
       "      <td>2014-10-21</td>\n",
       "      <td>4</td>\n",
       "      <td>1.0</td>\n",
       "      <td>1</td>\n",
       "      <td>44211.0</td>\n",
       "      <td>5524.0</td>\n",
       "      <td>1464.0</td>\n",
       "      <td>0.0</td>\n",
       "      <td>...</td>\n",
       "      <td>24636.0</td>\n",
       "      <td>2682.0</td>\n",
       "      <td>1001.0</td>\n",
       "      <td>0.0</td>\n",
       "      <td>1153.0</td>\n",
       "      <td>40061.0</td>\n",
       "      <td>0.0</td>\n",
       "      <td>69533.0</td>\n",
       "      <td>115522.0</td>\n",
       "      <td>4</td>\n",
       "    </tr>\n",
       "    <tr>\n",
       "      <th>5</th>\n",
       "      <td>179</td>\n",
       "      <td>NaT</td>\n",
       "      <td>2014-09-14</td>\n",
       "      <td>5</td>\n",
       "      <td>179.0</td>\n",
       "      <td>0</td>\n",
       "      <td>572414.0</td>\n",
       "      <td>0.0</td>\n",
       "      <td>15948.0</td>\n",
       "      <td>7564.0</td>\n",
       "      <td>...</td>\n",
       "      <td>536631.0</td>\n",
       "      <td>0.0</td>\n",
       "      <td>13818.0</td>\n",
       "      <td>6305.0</td>\n",
       "      <td>33720.0</td>\n",
       "      <td>358700.0</td>\n",
       "      <td>21707.0</td>\n",
       "      <td>970881.0</td>\n",
       "      <td>1064788.0</td>\n",
       "      <td>58</td>\n",
       "    </tr>\n",
       "  </tbody>\n",
       "</table>\n",
       "<p>5 rows × 23 columns</p>\n",
       "</div>"
      ],
      "text/plain": [
       "        days_count churn_date start_date  userid   days  churn_5days  \\\n",
       "userid                                                                 \n",
       "1              174 2014-11-01 2014-09-14       1   48.0            1   \n",
       "2               60        NaT 2015-01-12       2   60.0            0   \n",
       "3                7 2014-09-23 2014-09-14       3    9.0            1   \n",
       "4               27 2014-10-22 2014-10-21       4    1.0            1   \n",
       "5              179        NaT 2014-09-14       5  179.0            0   \n",
       "\n",
       "        goal_calories  goal_carbs  goal_fat  goal_fiber     ...       \\\n",
       "userid                                                      ...        \n",
       "1            375085.0     46633.0   12472.0         0.0     ...        \n",
       "2             90925.0     11387.0    2955.0         0.0     ...        \n",
       "3              9438.0      1178.0     312.0       196.0     ...        \n",
       "4             44211.0      5524.0    1464.0         0.0     ...        \n",
       "5            572414.0         0.0   15948.0      7564.0     ...        \n",
       "\n",
       "        total_calories  total_carbs  total_fat  total_fiber  total_protein  \\\n",
       "userid                                                                       \n",
       "1             401750.0      32265.0    13562.0          0.0        22408.0   \n",
       "2              87430.0      10872.0     2537.0          0.0         2550.0   \n",
       "3              11969.0        811.0      267.0        120.0          323.0   \n",
       "4              24636.0       2682.0     1001.0          0.0         1153.0   \n",
       "5             536631.0          0.0    13818.0       6305.0        33720.0   \n",
       "\n",
       "        total_sodium  total_sugar  total_sum   goal_sum  achievement  \n",
       "userid                                                                \n",
       "1           360487.0      14227.0   844699.0   867495.0           68  \n",
       "2           100217.0       4573.0   208179.0   251403.0           11  \n",
       "3            10156.0          0.0    23646.0    27693.0            2  \n",
       "4            40061.0          0.0    69533.0   115522.0            4  \n",
       "5           358700.0      21707.0   970881.0  1064788.0           58  \n",
       "\n",
       "[5 rows x 23 columns]"
      ]
     },
     "execution_count": 161,
     "metadata": {},
     "output_type": "execute_result"
    }
   ],
   "source": [
    "unite.head()"
   ]
  },
  {
   "cell_type": "code",
   "execution_count": 162,
   "metadata": {},
   "outputs": [],
   "source": [
    "nutrients = ['calories','carbs','fat','fiber','protein','sodium','sugar']\n",
    "\n",
    "for nutrient in nutrients:\n",
    "    total = unite[f'total_{nutrient}']\n",
    "    goal = unite[f'goal_{nutrient}']\n",
    "    unite[f'{nutrient}_10_pct'] = np.where(abs((total - goal) / goal) <= 0.1, 1, 0)"
   ]
  },
  {
   "cell_type": "code",
   "execution_count": 166,
   "metadata": {},
   "outputs": [
    {
     "data": {
      "text/html": [
       "<div>\n",
       "<style scoped>\n",
       "    .dataframe tbody tr th:only-of-type {\n",
       "        vertical-align: middle;\n",
       "    }\n",
       "\n",
       "    .dataframe tbody tr th {\n",
       "        vertical-align: top;\n",
       "    }\n",
       "\n",
       "    .dataframe thead th {\n",
       "        text-align: right;\n",
       "    }\n",
       "</style>\n",
       "<table border=\"1\" class=\"dataframe\">\n",
       "  <thead>\n",
       "    <tr style=\"text-align: right;\">\n",
       "      <th></th>\n",
       "      <th>days</th>\n",
       "      <th>churn_5days</th>\n",
       "      <th>achievement</th>\n",
       "      <th>calories_10_pct</th>\n",
       "      <th>carbs_10_pct</th>\n",
       "      <th>fat_10_pct</th>\n",
       "      <th>fiber_10_pct</th>\n",
       "      <th>protein_10_pct</th>\n",
       "      <th>sodium_10_pct</th>\n",
       "      <th>sugar_10_pct</th>\n",
       "    </tr>\n",
       "    <tr>\n",
       "      <th>userid</th>\n",
       "      <th></th>\n",
       "      <th></th>\n",
       "      <th></th>\n",
       "      <th></th>\n",
       "      <th></th>\n",
       "      <th></th>\n",
       "      <th></th>\n",
       "      <th></th>\n",
       "      <th></th>\n",
       "      <th></th>\n",
       "    </tr>\n",
       "  </thead>\n",
       "  <tbody>\n",
       "    <tr>\n",
       "      <th>1</th>\n",
       "      <td>48.0</td>\n",
       "      <td>1</td>\n",
       "      <td>68</td>\n",
       "      <td>1</td>\n",
       "      <td>0</td>\n",
       "      <td>1</td>\n",
       "      <td>0</td>\n",
       "      <td>0</td>\n",
       "      <td>1</td>\n",
       "      <td>1</td>\n",
       "    </tr>\n",
       "    <tr>\n",
       "      <th>2</th>\n",
       "      <td>60.0</td>\n",
       "      <td>0</td>\n",
       "      <td>11</td>\n",
       "      <td>1</td>\n",
       "      <td>1</td>\n",
       "      <td>0</td>\n",
       "      <td>0</td>\n",
       "      <td>0</td>\n",
       "      <td>0</td>\n",
       "      <td>0</td>\n",
       "    </tr>\n",
       "    <tr>\n",
       "      <th>3</th>\n",
       "      <td>9.0</td>\n",
       "      <td>1</td>\n",
       "      <td>2</td>\n",
       "      <td>0</td>\n",
       "      <td>0</td>\n",
       "      <td>0</td>\n",
       "      <td>0</td>\n",
       "      <td>0</td>\n",
       "      <td>0</td>\n",
       "      <td>0</td>\n",
       "    </tr>\n",
       "    <tr>\n",
       "      <th>4</th>\n",
       "      <td>1.0</td>\n",
       "      <td>1</td>\n",
       "      <td>4</td>\n",
       "      <td>0</td>\n",
       "      <td>0</td>\n",
       "      <td>0</td>\n",
       "      <td>0</td>\n",
       "      <td>0</td>\n",
       "      <td>0</td>\n",
       "      <td>0</td>\n",
       "    </tr>\n",
       "    <tr>\n",
       "      <th>5</th>\n",
       "      <td>179.0</td>\n",
       "      <td>0</td>\n",
       "      <td>58</td>\n",
       "      <td>1</td>\n",
       "      <td>0</td>\n",
       "      <td>0</td>\n",
       "      <td>0</td>\n",
       "      <td>1</td>\n",
       "      <td>0</td>\n",
       "      <td>1</td>\n",
       "    </tr>\n",
       "  </tbody>\n",
       "</table>\n",
       "</div>"
      ],
      "text/plain": [
       "         days  churn_5days  achievement  calories_10_pct  carbs_10_pct  \\\n",
       "userid                                                                   \n",
       "1        48.0            1           68                1             0   \n",
       "2        60.0            0           11                1             1   \n",
       "3         9.0            1            2                0             0   \n",
       "4         1.0            1            4                0             0   \n",
       "5       179.0            0           58                1             0   \n",
       "\n",
       "        fat_10_pct  fiber_10_pct  protein_10_pct  sodium_10_pct  sugar_10_pct  \n",
       "userid                                                                         \n",
       "1                1             0               0              1             1  \n",
       "2                0             0               0              0             0  \n",
       "3                0             0               0              0             0  \n",
       "4                0             0               0              0             0  \n",
       "5                0             0               1              0             1  "
      ]
     },
     "execution_count": 166,
     "metadata": {},
     "output_type": "execute_result"
    }
   ],
   "source": [
    "unite.head()"
   ]
  },
  {
   "cell_type": "code",
   "execution_count": 170,
   "metadata": {},
   "outputs": [],
   "source": [
    "unite.drop(unite.columns.difference(['days','churn_5days','achievement','calories_10_pct',\n",
    "                                          'carbs_10_pct','fat_10_pct','fiber_10_pct','protein_10_pct',\n",
    "                                          'sodium_10_pct','sugar_10_pct']), 1, inplace=True)"
   ]
  },
  {
   "cell_type": "code",
   "execution_count": 173,
   "metadata": {
    "scrolled": true
   },
   "outputs": [
    {
     "data": {
      "text/html": [
       "<div>\n",
       "<style scoped>\n",
       "    .dataframe tbody tr th:only-of-type {\n",
       "        vertical-align: middle;\n",
       "    }\n",
       "\n",
       "    .dataframe tbody tr th {\n",
       "        vertical-align: top;\n",
       "    }\n",
       "\n",
       "    .dataframe thead th {\n",
       "        text-align: right;\n",
       "    }\n",
       "</style>\n",
       "<table border=\"1\" class=\"dataframe\">\n",
       "  <thead>\n",
       "    <tr style=\"text-align: right;\">\n",
       "      <th></th>\n",
       "      <th>days</th>\n",
       "      <th>churn_5days</th>\n",
       "      <th>achievement</th>\n",
       "      <th>calories_10_pct</th>\n",
       "      <th>carbs_10_pct</th>\n",
       "      <th>fat_10_pct</th>\n",
       "      <th>fiber_10_pct</th>\n",
       "      <th>protein_10_pct</th>\n",
       "      <th>sodium_10_pct</th>\n",
       "      <th>sugar_10_pct</th>\n",
       "    </tr>\n",
       "    <tr>\n",
       "      <th>userid</th>\n",
       "      <th></th>\n",
       "      <th></th>\n",
       "      <th></th>\n",
       "      <th></th>\n",
       "      <th></th>\n",
       "      <th></th>\n",
       "      <th></th>\n",
       "      <th></th>\n",
       "      <th></th>\n",
       "      <th></th>\n",
       "    </tr>\n",
       "  </thead>\n",
       "  <tbody>\n",
       "    <tr>\n",
       "      <th>1</th>\n",
       "      <td>48.0</td>\n",
       "      <td>1</td>\n",
       "      <td>68</td>\n",
       "      <td>1</td>\n",
       "      <td>0</td>\n",
       "      <td>1</td>\n",
       "      <td>0</td>\n",
       "      <td>0</td>\n",
       "      <td>1</td>\n",
       "      <td>1</td>\n",
       "    </tr>\n",
       "    <tr>\n",
       "      <th>2</th>\n",
       "      <td>60.0</td>\n",
       "      <td>0</td>\n",
       "      <td>11</td>\n",
       "      <td>1</td>\n",
       "      <td>1</td>\n",
       "      <td>0</td>\n",
       "      <td>0</td>\n",
       "      <td>0</td>\n",
       "      <td>0</td>\n",
       "      <td>0</td>\n",
       "    </tr>\n",
       "    <tr>\n",
       "      <th>3</th>\n",
       "      <td>9.0</td>\n",
       "      <td>1</td>\n",
       "      <td>2</td>\n",
       "      <td>0</td>\n",
       "      <td>0</td>\n",
       "      <td>0</td>\n",
       "      <td>0</td>\n",
       "      <td>0</td>\n",
       "      <td>0</td>\n",
       "      <td>0</td>\n",
       "    </tr>\n",
       "    <tr>\n",
       "      <th>4</th>\n",
       "      <td>1.0</td>\n",
       "      <td>1</td>\n",
       "      <td>4</td>\n",
       "      <td>0</td>\n",
       "      <td>0</td>\n",
       "      <td>0</td>\n",
       "      <td>0</td>\n",
       "      <td>0</td>\n",
       "      <td>0</td>\n",
       "      <td>0</td>\n",
       "    </tr>\n",
       "    <tr>\n",
       "      <th>5</th>\n",
       "      <td>179.0</td>\n",
       "      <td>0</td>\n",
       "      <td>58</td>\n",
       "      <td>1</td>\n",
       "      <td>0</td>\n",
       "      <td>0</td>\n",
       "      <td>0</td>\n",
       "      <td>1</td>\n",
       "      <td>0</td>\n",
       "      <td>1</td>\n",
       "    </tr>\n",
       "  </tbody>\n",
       "</table>\n",
       "</div>"
      ],
      "text/plain": [
       "         days  churn_5days  achievement  calories_10_pct  carbs_10_pct  \\\n",
       "userid                                                                   \n",
       "1        48.0            1           68                1             0   \n",
       "2        60.0            0           11                1             1   \n",
       "3         9.0            1            2                0             0   \n",
       "4         1.0            1            4                0             0   \n",
       "5       179.0            0           58                1             0   \n",
       "\n",
       "        fat_10_pct  fiber_10_pct  protein_10_pct  sodium_10_pct  sugar_10_pct  \n",
       "userid                                                                         \n",
       "1                1             0               0              1             1  \n",
       "2                0             0               0              0             0  \n",
       "3                0             0               0              0             0  \n",
       "4                0             0               0              0             0  \n",
       "5                0             0               1              0             1  "
      ]
     },
     "execution_count": 173,
     "metadata": {},
     "output_type": "execute_result"
    }
   ],
   "source": [
    "df = unite\n",
    "df.head()"
   ]
  },
  {
   "cell_type": "code",
   "execution_count": 22,
   "metadata": {},
   "outputs": [
    {
     "name": "stdout",
     "output_type": "stream",
     "text": [
      "<class 'pandas.core.frame.DataFrame'>\n",
      "Int64Index: 9896 entries, 1 to 9897\n",
      "Data columns (total 10 columns):\n",
      "days               9896 non-null float64\n",
      "churn_5days        9896 non-null int64\n",
      "achievement        9896 non-null int64\n",
      "calories_10_pct    9896 non-null int64\n",
      "carbs_10_pct       9896 non-null int64\n",
      "fat_10_pct         9896 non-null int64\n",
      "fiber_10_pct       9896 non-null int64\n",
      "protein_10_pct     9896 non-null int64\n",
      "sodium_10_pct      9896 non-null int64\n",
      "sugar_10_pct       9896 non-null int64\n",
      "dtypes: float64(1), int64(9)\n",
      "memory usage: 850.4 KB\n"
     ]
    }
   ],
   "source": [
    "df.info()"
   ]
  },
  {
   "cell_type": "markdown",
   "metadata": {},
   "source": [
    "### 5 day Churn:"
   ]
  },
  {
   "cell_type": "code",
   "execution_count": 3,
   "metadata": {},
   "outputs": [],
   "source": [
    "from lifelines import CoxPHFitter, KaplanMeierFitter"
   ]
  },
  {
   "cell_type": "code",
   "execution_count": 4,
   "metadata": {
    "scrolled": true
   },
   "outputs": [
    {
     "data": {
      "text/html": [
       "<div>\n",
       "<style scoped>\n",
       "    .dataframe tbody tr th:only-of-type {\n",
       "        vertical-align: middle;\n",
       "    }\n",
       "\n",
       "    .dataframe tbody tr th {\n",
       "        vertical-align: top;\n",
       "    }\n",
       "\n",
       "    .dataframe thead th {\n",
       "        text-align: right;\n",
       "    }\n",
       "</style>\n",
       "<table border=\"1\" class=\"dataframe\">\n",
       "  <thead>\n",
       "    <tr style=\"text-align: right;\">\n",
       "      <th></th>\n",
       "      <th>days</th>\n",
       "      <th>churn_5days</th>\n",
       "      <th>achievement</th>\n",
       "      <th>calories_10_pct</th>\n",
       "      <th>carbs_10_pct</th>\n",
       "      <th>fat_10_pct</th>\n",
       "      <th>fiber_10_pct</th>\n",
       "      <th>protein_10_pct</th>\n",
       "      <th>sodium_10_pct</th>\n",
       "      <th>sugar_10_pct</th>\n",
       "    </tr>\n",
       "    <tr>\n",
       "      <th>userid</th>\n",
       "      <th></th>\n",
       "      <th></th>\n",
       "      <th></th>\n",
       "      <th></th>\n",
       "      <th></th>\n",
       "      <th></th>\n",
       "      <th></th>\n",
       "      <th></th>\n",
       "      <th></th>\n",
       "      <th></th>\n",
       "    </tr>\n",
       "  </thead>\n",
       "  <tbody>\n",
       "    <tr>\n",
       "      <th>1</th>\n",
       "      <td>48.0</td>\n",
       "      <td>1</td>\n",
       "      <td>68</td>\n",
       "      <td>1</td>\n",
       "      <td>0</td>\n",
       "      <td>1</td>\n",
       "      <td>0</td>\n",
       "      <td>0</td>\n",
       "      <td>1</td>\n",
       "      <td>1</td>\n",
       "    </tr>\n",
       "    <tr>\n",
       "      <th>2</th>\n",
       "      <td>60.0</td>\n",
       "      <td>0</td>\n",
       "      <td>11</td>\n",
       "      <td>1</td>\n",
       "      <td>1</td>\n",
       "      <td>0</td>\n",
       "      <td>0</td>\n",
       "      <td>0</td>\n",
       "      <td>0</td>\n",
       "      <td>0</td>\n",
       "    </tr>\n",
       "    <tr>\n",
       "      <th>3</th>\n",
       "      <td>9.0</td>\n",
       "      <td>1</td>\n",
       "      <td>2</td>\n",
       "      <td>0</td>\n",
       "      <td>0</td>\n",
       "      <td>0</td>\n",
       "      <td>0</td>\n",
       "      <td>0</td>\n",
       "      <td>0</td>\n",
       "      <td>0</td>\n",
       "    </tr>\n",
       "    <tr>\n",
       "      <th>4</th>\n",
       "      <td>1.0</td>\n",
       "      <td>1</td>\n",
       "      <td>4</td>\n",
       "      <td>0</td>\n",
       "      <td>0</td>\n",
       "      <td>0</td>\n",
       "      <td>0</td>\n",
       "      <td>0</td>\n",
       "      <td>0</td>\n",
       "      <td>0</td>\n",
       "    </tr>\n",
       "    <tr>\n",
       "      <th>5</th>\n",
       "      <td>179.0</td>\n",
       "      <td>0</td>\n",
       "      <td>58</td>\n",
       "      <td>1</td>\n",
       "      <td>0</td>\n",
       "      <td>0</td>\n",
       "      <td>0</td>\n",
       "      <td>1</td>\n",
       "      <td>0</td>\n",
       "      <td>1</td>\n",
       "    </tr>\n",
       "  </tbody>\n",
       "</table>\n",
       "</div>"
      ],
      "text/plain": [
       "         days  churn_5days  achievement  calories_10_pct  carbs_10_pct  \\\n",
       "userid                                                                   \n",
       "1        48.0            1           68                1             0   \n",
       "2        60.0            0           11                1             1   \n",
       "3         9.0            1            2                0             0   \n",
       "4         1.0            1            4                0             0   \n",
       "5       179.0            0           58                1             0   \n",
       "\n",
       "        fat_10_pct  fiber_10_pct  protein_10_pct  sodium_10_pct  sugar_10_pct  \n",
       "userid                                                                         \n",
       "1                1             0               0              1             1  \n",
       "2                0             0               0              0             0  \n",
       "3                0             0               0              0             0  \n",
       "4                0             0               0              0             0  \n",
       "5                0             0               1              0             1  "
      ]
     },
     "execution_count": 4,
     "metadata": {},
     "output_type": "execute_result"
    }
   ],
   "source": [
    "df.head()"
   ]
  },
  {
   "cell_type": "code",
   "execution_count": 5,
   "metadata": {},
   "outputs": [
    {
     "name": "stdout",
     "output_type": "stream",
     "text": [
      "<lifelines.CoxPHFitter: fitted with 9896 observations, 2789 censored>\n",
      "      duration col = 'days'\n",
      "         event col = 'churn_5days'\n",
      "number of subjects = 9896\n",
      "  number of events = 7107\n",
      "partial log-likelihood = -58751.44\n",
      "  time fit was run = 2019-07-02 21:39:09 UTC\n",
      "\n",
      "---\n",
      "                 coef exp(coef)  se(coef)      z      p  -log2(p)  lower 0.95  upper 0.95\n",
      "achievement     -0.04      0.96      0.00 -36.46 <0.005    964.51       -0.04       -0.03\n",
      "calories_10_pct -0.02      0.98      0.04  -0.51   0.61      0.71       -0.09        0.05\n",
      "carbs_10_pct     0.06      1.07      0.04   1.68   0.09      3.42       -0.01        0.14\n",
      "fat_10_pct       0.13      1.14      0.03   4.18 <0.005     15.07        0.07        0.19\n",
      "fiber_10_pct     0.15      1.16      0.08   1.91   0.06      4.17       -0.00        0.31\n",
      "protein_10_pct  -0.13      0.88      0.05  -2.79   0.01      7.56       -0.22       -0.04\n",
      "sodium_10_pct    0.10      1.11      0.04   2.56   0.01      6.59        0.02        0.18\n",
      "sugar_10_pct    -0.04      0.96      0.04  -1.01   0.31      1.67       -0.12        0.04\n",
      "---\n",
      "Concordance = 0.64\n",
      "Log-likelihood ratio test = 2065.13 on 8 df, -log2(p)=inf\n"
     ]
    }
   ],
   "source": [
    "cph = CoxPHFitter()\n",
    "five_days = cph.fit(df, duration_col='days', event_col='churn_5days')\n",
    "five_days.print_summary()"
   ]
  },
  {
   "cell_type": "code",
   "execution_count": 6,
   "metadata": {
    "scrolled": true
   },
   "outputs": [
    {
     "data": {
      "text/plain": [
       "<matplotlib.axes._subplots.AxesSubplot at 0x1a18ab49b0>"
      ]
     },
     "execution_count": 6,
     "metadata": {},
     "output_type": "execute_result"
    },
    {
     "data": {
      "image/png": "[encoded data removed]",
      "text/plain": [
       "<Figure size 432x288 with 1 Axes>"
      ]
     },
     "metadata": {
      "needs_background": "light"
     },
     "output_type": "display_data"
    }
   ],
   "source": [
    "five_days.plot()"
   ]
  },
  {
   "cell_type": "code",
   "execution_count": 49,
   "metadata": {
    "scrolled": false
   },
   "outputs": [
    {
     "data": {
      "text/plain": [
       "<matplotlib.axes._subplots.AxesSubplot at 0x1a1b37dba8>"
      ]
     },
     "execution_count": 49,
     "metadata": {},
     "output_type": "execute_result"
    },
    {
     "data": {
      "image/png": "[encoded data removed]",
      "text/plain": [
       "<Figure size 432x288 with 1 Axes>"
      ]
     },
     "metadata": {
      "needs_background": "light"
     },
     "output_type": "display_data"
    }
   ],
   "source": [
    "cph.plot_covariate_groups('sodium_10_pct', [0, 1], cmap='coolwarm')"
   ]
  },
  {
   "cell_type": "markdown",
   "metadata": {},
   "source": [
    "y-axis = risk\n",
    "at 25 days, there is a lower risk of churning based only on meeting sodium goals"
   ]
  },
  {
   "cell_type": "code",
   "execution_count": null,
   "metadata": {},
   "outputs": [],
   "source": []
  },
  {
   "cell_type": "code",
   "execution_count": null,
   "metadata": {},
   "outputs": [],
   "source": []
  },
  {
   "cell_type": "markdown",
   "metadata": {},
   "source": [
    "## Logistic Regression"
   ]
  },
  {
   "cell_type": "code",
   "execution_count": 19,
   "metadata": {},
   "outputs": [],
   "source": [
    "from sklearn.model_selection import train_test_split\n",
    "from sklearn.linear_model import LogisticRegression\n",
    "from sklearn.preprocessing import StandardScaler\n",
    "from sklearn.metrics import roc_curve, auc, precision_score, recall_score, accuracy_score, f1_score, confusion_matrix, classification_report"
   ]
  },
  {
   "cell_type": "code",
   "execution_count": 12,
   "metadata": {},
   "outputs": [],
   "source": [
    "#Setting X and y variables, then Train Test Split\n",
    "X = df.drop('churn_5days', axis=1)\n",
    "y = df.churn_5days\n",
    "\n",
    "X_train, X_test, y_train, y_test = train_test_split(X, y, test_size=0.25, random_state=1)"
   ]
  },
  {
   "cell_type": "code",
   "execution_count": 13,
   "metadata": {},
   "outputs": [],
   "source": [
    "loreg = LogisticRegression(solver='lbfgs', max_iter=1000)\n",
    "loreg.fit(X_train, y_train)\n",
    "loreg_preds = loreg.predict(X_test)"
   ]
  },
  {
   "cell_type": "code",
   "execution_count": 14,
   "metadata": {
    "scrolled": false
   },
   "outputs": [
    {
     "name": "stdout",
     "output_type": "stream",
     "text": [
      "Precision Score: 0.7763888888888889\n",
      "Recall Score: 0.9469226425748165\n",
      "Accuracy Score: 0.7667744543249798\n",
      "F1 Score: 0.8532180106843044\n"
     ]
    }
   ],
   "source": [
    "def print_metrics(y, loreg_preds):\n",
    "    print(\"Precision Score: {}\".format(precision_score(y, loreg_preds)))\n",
    "    print(\"Recall Score: {}\".format(recall_score(y, loreg_preds)))\n",
    "    print(\"Accuracy Score: {}\".format(accuracy_score(y, loreg_preds)))\n",
    "    print(\"F1 Score: {}\".format(f1_score(y, loreg_preds)))\n",
    "    \n",
    "print_metrics(y_test, loreg_preds)"
   ]
  },
  {
   "cell_type": "code",
   "execution_count": 21,
   "metadata": {},
   "outputs": [
    {
     "name": "stdout",
     "output_type": "stream",
     "text": [
      "              precision    recall  f1-score   support\n",
      "\n",
      "           0       0.70      0.31      0.43       703\n",
      "           1       0.78      0.95      0.85      1771\n",
      "\n",
      "   micro avg       0.77      0.77      0.77      2474\n",
      "   macro avg       0.74      0.63      0.64      2474\n",
      "weighted avg       0.75      0.77      0.73      2474\n",
      "\n"
     ]
    }
   ],
   "source": [
    "print(classification_report(y_test, loreg_preds))"
   ]
  },
  {
   "cell_type": "code",
   "execution_count": 25,
   "metadata": {},
   "outputs": [
    {
     "data": {
      "text/html": [
       "<div>\n",
       "<style scoped>\n",
       "    .dataframe tbody tr th:only-of-type {\n",
       "        vertical-align: middle;\n",
       "    }\n",
       "\n",
       "    .dataframe tbody tr th {\n",
       "        vertical-align: top;\n",
       "    }\n",
       "\n",
       "    .dataframe thead th {\n",
       "        text-align: right;\n",
       "    }\n",
       "</style>\n",
       "<table border=\"1\" class=\"dataframe\">\n",
       "  <thead>\n",
       "    <tr style=\"text-align: right;\">\n",
       "      <th></th>\n",
       "      <th>days</th>\n",
       "      <th>achievement</th>\n",
       "      <th>calories_10_pct</th>\n",
       "      <th>carbs_10_pct</th>\n",
       "      <th>fat_10_pct</th>\n",
       "      <th>fiber_10_pct</th>\n",
       "      <th>protein_10_pct</th>\n",
       "      <th>sodium_10_pct</th>\n",
       "      <th>sugar_10_pct</th>\n",
       "    </tr>\n",
       "    <tr>\n",
       "      <th>userid</th>\n",
       "      <th></th>\n",
       "      <th></th>\n",
       "      <th></th>\n",
       "      <th></th>\n",
       "      <th></th>\n",
       "      <th></th>\n",
       "      <th></th>\n",
       "      <th></th>\n",
       "      <th></th>\n",
       "    </tr>\n",
       "  </thead>\n",
       "  <tbody>\n",
       "    <tr>\n",
       "      <th>4883</th>\n",
       "      <td>3.0</td>\n",
       "      <td>4</td>\n",
       "      <td>0</td>\n",
       "      <td>0</td>\n",
       "      <td>0</td>\n",
       "      <td>0</td>\n",
       "      <td>0</td>\n",
       "      <td>0</td>\n",
       "      <td>0</td>\n",
       "    </tr>\n",
       "    <tr>\n",
       "      <th>1448</th>\n",
       "      <td>179.0</td>\n",
       "      <td>98</td>\n",
       "      <td>1</td>\n",
       "      <td>0</td>\n",
       "      <td>0</td>\n",
       "      <td>0</td>\n",
       "      <td>0</td>\n",
       "      <td>0</td>\n",
       "      <td>0</td>\n",
       "    </tr>\n",
       "    <tr>\n",
       "      <th>4705</th>\n",
       "      <td>37.0</td>\n",
       "      <td>10</td>\n",
       "      <td>0</td>\n",
       "      <td>1</td>\n",
       "      <td>0</td>\n",
       "      <td>0</td>\n",
       "      <td>0</td>\n",
       "      <td>0</td>\n",
       "      <td>0</td>\n",
       "    </tr>\n",
       "    <tr>\n",
       "      <th>5601</th>\n",
       "      <td>24.0</td>\n",
       "      <td>32</td>\n",
       "      <td>1</td>\n",
       "      <td>0</td>\n",
       "      <td>1</td>\n",
       "      <td>0</td>\n",
       "      <td>0</td>\n",
       "      <td>1</td>\n",
       "      <td>0</td>\n",
       "    </tr>\n",
       "    <tr>\n",
       "      <th>3120</th>\n",
       "      <td>179.0</td>\n",
       "      <td>34</td>\n",
       "      <td>0</td>\n",
       "      <td>1</td>\n",
       "      <td>1</td>\n",
       "      <td>0</td>\n",
       "      <td>0</td>\n",
       "      <td>0</td>\n",
       "      <td>0</td>\n",
       "    </tr>\n",
       "  </tbody>\n",
       "</table>\n",
       "</div>"
      ],
      "text/plain": [
       "         days  achievement  calories_10_pct  carbs_10_pct  fat_10_pct  \\\n",
       "userid                                                                  \n",
       "4883      3.0            4                0             0           0   \n",
       "1448    179.0           98                1             0           0   \n",
       "4705     37.0           10                0             1           0   \n",
       "5601     24.0           32                1             0           1   \n",
       "3120    179.0           34                0             1           1   \n",
       "\n",
       "        fiber_10_pct  protein_10_pct  sodium_10_pct  sugar_10_pct  \n",
       "userid                                                             \n",
       "4883               0               0              0             0  \n",
       "1448               0               0              0             0  \n",
       "4705               0               0              0             0  \n",
       "5601               0               0              1             0  \n",
       "3120               0               0              0             0  "
      ]
     },
     "execution_count": 25,
     "metadata": {},
     "output_type": "execute_result"
    }
   ],
   "source": [
    "X_train.head()"
   ]
  },
  {
   "cell_type": "code",
   "execution_count": 43,
   "metadata": {},
   "outputs": [
    {
     "data": {
      "text/html": [
       "<div>\n",
       "<style scoped>\n",
       "    .dataframe tbody tr th:only-of-type {\n",
       "        vertical-align: middle;\n",
       "    }\n",
       "\n",
       "    .dataframe tbody tr th {\n",
       "        vertical-align: top;\n",
       "    }\n",
       "\n",
       "    .dataframe thead th {\n",
       "        text-align: right;\n",
       "    }\n",
       "</style>\n",
       "<table border=\"1\" class=\"dataframe\">\n",
       "  <thead>\n",
       "    <tr style=\"text-align: right;\">\n",
       "      <th></th>\n",
       "      <th>0</th>\n",
       "      <th>1</th>\n",
       "      <th>2</th>\n",
       "      <th>3</th>\n",
       "      <th>4</th>\n",
       "      <th>5</th>\n",
       "      <th>6</th>\n",
       "      <th>7</th>\n",
       "      <th>8</th>\n",
       "    </tr>\n",
       "  </thead>\n",
       "  <tbody>\n",
       "    <tr>\n",
       "      <th>0</th>\n",
       "      <td>60</td>\n",
       "      <td>11</td>\n",
       "      <td>1</td>\n",
       "      <td>1</td>\n",
       "      <td>0</td>\n",
       "      <td>0</td>\n",
       "      <td>0</td>\n",
       "      <td>0</td>\n",
       "      <td>0</td>\n",
       "    </tr>\n",
       "  </tbody>\n",
       "</table>\n",
       "</div>"
      ],
      "text/plain": [
       "    0   1  2  3  4  5  6  7  8\n",
       "0  60  11  1  1  0  0  0  0  0"
      ]
     },
     "execution_count": 43,
     "metadata": {},
     "output_type": "execute_result"
    }
   ],
   "source": [
    "m = np.array((60, 11, 1, 1, 0, 0, 0, 0, 0))\n",
    "m_df = pd.DataFrame(m).T\n",
    "m_df"
   ]
  },
  {
   "cell_type": "code",
   "execution_count": 44,
   "metadata": {},
   "outputs": [
    {
     "data": {
      "text/plain": [
       "array([1])"
      ]
     },
     "execution_count": 44,
     "metadata": {},
     "output_type": "execute_result"
    }
   ],
   "source": [
    "loreg.predict(m_df)"
   ]
  },
  {
   "cell_type": "code",
   "execution_count": null,
   "metadata": {},
   "outputs": [],
   "source": []
  },
  {
   "cell_type": "markdown",
   "metadata": {},
   "source": [
    "## Time Series Analysis"
   ]
  },
  {
   "cell_type": "code",
   "execution_count": null,
   "metadata": {
    "scrolled": false
   },
   "outputs": [],
   "source": [
    "total_goal_df.head()"
   ]
  },
  {
   "cell_type": "code",
   "execution_count": null,
   "metadata": {},
   "outputs": [],
   "source": [
    "irrelevant = ['goal_calories','goal_carbs','goal_fat','goal_fiber','goal_protein',\n",
    "              'goal_sodium','goal_sugar','total_calories','total_carbs','total_fat',\n",
    "              'total_fiber','total_protein','total_sodium','total_sugar','achievement']\n",
    "\n",
    "time_df = total_goal_df.drop(irrelevant, axis=1)"
   ]
  },
  {
   "cell_type": "code",
   "execution_count": null,
   "metadata": {},
   "outputs": [],
   "source": [
    "time_df.head()"
   ]
  },
  {
   "cell_type": "code",
   "execution_count": null,
   "metadata": {},
   "outputs": [],
   "source": [
    "time_df['tg_diff'] = round(abs((time_df['total_sum'] - time_df['goal_sum'])/time_df['goal_sum']), 3)"
   ]
  },
  {
   "cell_type": "code",
   "execution_count": null,
   "metadata": {},
   "outputs": [],
   "source": [
    "# time_df['tg_diff'] = pd.Series([\"{0:.2f}%\".format(val * 100) for val in time_df['tg_diff']])"
   ]
  },
  {
   "cell_type": "code",
   "execution_count": null,
   "metadata": {},
   "outputs": [],
   "source": [
    "time_df = time_df.drop(['total_sum','goal_sum'], axis=1)"
   ]
  },
  {
   "cell_type": "code",
   "execution_count": null,
   "metadata": {},
   "outputs": [],
   "source": [
    "time_df.set_index('diary_date', inplace=True)"
   ]
  },
  {
   "cell_type": "code",
   "execution_count": null,
   "metadata": {},
   "outputs": [],
   "source": [
    "time_df.head()"
   ]
  },
  {
   "cell_type": "code",
   "execution_count": null,
   "metadata": {},
   "outputs": [],
   "source": [
    "new_time_df = pd.DataFrame(time_df[(time_df['userid']==1)|(time_df['userid']==2)])"
   ]
  },
  {
   "cell_type": "code",
   "execution_count": null,
   "metadata": {},
   "outputs": [],
   "source": [
    "new_time_df.head()"
   ]
  },
  {
   "cell_type": "code",
   "execution_count": null,
   "metadata": {
    "scrolled": true
   },
   "outputs": [],
   "source": [
    "by_label = new_time_df.groupby('userid')\n",
    "\n",
    "for name, group in by_label:\n",
    "    plt.plot(group['tg_diff'], label=name)\n",
    "\n",
    "plt.legend()\n",
    "plt.show()"
   ]
  },
  {
   "cell_type": "code",
   "execution_count": null,
   "metadata": {},
   "outputs": [],
   "source": []
  },
  {
   "cell_type": "code",
   "execution_count": null,
   "metadata": {},
   "outputs": [],
   "source": []
  },
  {
   "cell_type": "code",
   "execution_count": null,
   "metadata": {},
   "outputs": [],
   "source": [
    "# json_dict.keys()[0]\n",
    "# Gives Error: 'dict_keys' object does not support indexing, hence needs to be set to a list to iterate."
   ]
  },
  {
   "cell_type": "code",
   "execution_count": null,
   "metadata": {},
   "outputs": [],
   "source": [
    "# df = pd.DataFrame([[1, 4],\n",
    "#                    [2, 5],\n",
    "#                    [3, 6]],\n",
    "#                   columns=[\"a\", \"b\"])\n",
    "# df"
   ]
  },
  {
   "cell_type": "code",
   "execution_count": null,
   "metadata": {},
   "outputs": [],
   "source": [
    "# df[\"c\"] = df.apply(np.sum, axis=1)\n",
    "# df"
   ]
  },
  {
   "cell_type": "markdown",
   "metadata": {},
   "source": [
    "## K Means Clustering"
   ]
  },
  {
   "cell_type": "code",
   "execution_count": null,
   "metadata": {},
   "outputs": [],
   "source": [
    "survival_per_day = pd.read_pickle('survival_per_day.pkl')"
   ]
  },
  {
   "cell_type": "code",
   "execution_count": null,
   "metadata": {
    "scrolled": true
   },
   "outputs": [],
   "source": [
    "survival_per_day.head()"
   ]
  },
  {
   "cell_type": "code",
   "execution_count": null,
   "metadata": {},
   "outputs": [],
   "source": [
    "survival_per_day = survival_per_day.drop(['days','achievement'], axis=1)"
   ]
  },
  {
   "cell_type": "code",
   "execution_count": null,
   "metadata": {},
   "outputs": [],
   "source": [
    "cluster_df = survival_per_day"
   ]
  },
  {
   "cell_type": "code",
   "execution_count": null,
   "metadata": {},
   "outputs": [],
   "source": [
    "cluster_df.head()"
   ]
  },
  {
   "cell_type": "code",
   "execution_count": null,
   "metadata": {},
   "outputs": [],
   "source": [
    "combine_df = combine_df.drop(['achievement'],axis=1)"
   ]
  },
  {
   "cell_type": "code",
   "execution_count": null,
   "metadata": {},
   "outputs": [],
   "source": [
    "combine_df.head()"
   ]
  },
  {
   "cell_type": "code",
   "execution_count": null,
   "metadata": {},
   "outputs": [],
   "source": [
    "combine_df['achievement'] = np.where(abs((combine_df['total_sum'] - \n",
    "                                          combine_df['goal_sum']) / \n",
    "                                          combine_df['goal_sum']) <= 0.1, 1, 0)\n",
    "combine_df.head()"
   ]
  },
  {
   "cell_type": "code",
   "execution_count": null,
   "metadata": {},
   "outputs": [],
   "source": [
    "combine_df = combine_df.drop(['goal_calories','goal_carbs','goal_fat','goal_fiber','goal_protein',\n",
    "                              'goal_sodium','goal_sugar','total_calories','total_carbs','total_fat',\n",
    "                              'total_fiber','total_protein','total_sodium','total_sugar','total_sum','goal_sum'],\n",
    "                             axis=1)"
   ]
  },
  {
   "cell_type": "code",
   "execution_count": null,
   "metadata": {},
   "outputs": [],
   "source": [
    "combine_df.head()"
   ]
  },
  {
   "cell_type": "code",
   "execution_count": null,
   "metadata": {},
   "outputs": [],
   "source": [
    "cluster_log = pd.merge(cluster_df, combine_df, left_index=True, right_index=True)"
   ]
  },
  {
   "cell_type": "code",
   "execution_count": null,
   "metadata": {},
   "outputs": [],
   "source": [
    "cluster_log.head()"
   ]
  },
  {
   "cell_type": "code",
   "execution_count": null,
   "metadata": {},
   "outputs": [],
   "source": []
  },
  {
   "cell_type": "code",
   "execution_count": null,
   "metadata": {},
   "outputs": [],
   "source": []
  },
  {
   "cell_type": "code",
   "execution_count": null,
   "metadata": {},
   "outputs": [],
   "source": [
    "from sklearn.cluster import KMeans, AgglomerativeClustering\n",
    "from sklearn.metrics import calinski_harabaz_score, silhouette_score\n",
    "from sklearn.decomposition import PCA\n",
    "from sklearn.preprocessing import StandardScaler"
   ]
  },
  {
   "cell_type": "code",
   "execution_count": null,
   "metadata": {},
   "outputs": [],
   "source": [
    "cluster_log.head()"
   ]
  },
  {
   "cell_type": "code",
   "execution_count": null,
   "metadata": {},
   "outputs": [],
   "source": [
    "cluster_log = cluster_log.drop(['days'], axis=1)"
   ]
  },
  {
   "cell_type": "code",
   "execution_count": null,
   "metadata": {},
   "outputs": [],
   "source": [
    "cluster_log.head()"
   ]
  },
  {
   "cell_type": "code",
   "execution_count": null,
   "metadata": {},
   "outputs": [],
   "source": [
    "ss = StandardScaler()\n",
    "scaled_data = ss.fit_transform(cluster_log.astype(float))"
   ]
  },
  {
   "cell_type": "code",
   "execution_count": null,
   "metadata": {},
   "outputs": [],
   "source": [
    "scaled_df=pd.DataFrame(data=scaled_data, columns=cluster_log.columns)\n",
    "scaled_df.head()"
   ]
  },
  {
   "cell_type": "code",
   "execution_count": null,
   "metadata": {},
   "outputs": [],
   "source": [
    "pca = PCA(n_components=2)\n",
    "pca_data = pca.fit_transform(scaled_df)\n",
    "\n",
    "pca_df = pd.DataFrame(data=pca_data, columns=['pca1', 'pca2'])\n",
    "pca_df.head()"
   ]
  },
  {
   "cell_type": "code",
   "execution_count": null,
   "metadata": {},
   "outputs": [],
   "source": [
    "X = scaled_data\n",
    "silhouette_plot = []\n",
    "for k in range(2, 10):\n",
    "    clusters = KMeans(n_clusters=k, random_state=10)\n",
    "    cluster_labels = clusters.fit_predict(X)\n",
    "    silhouette_avg = silhouette_score(X, cluster_labels)\n",
    "    silhouette_plot.append(silhouette_avg)\n",
    "    \n",
    "plt.figure(figsize=(10,5))\n",
    "plt.subplot(121, title='Silhouette coefficients over k')\n",
    "plt.xlabel('k')\n",
    "plt.ylabel('silhouette coefficient')\n",
    "plt.plot(range(2, 10), silhouette_plot)\n",
    "plt.grid(True)"
   ]
  },
  {
   "cell_type": "code",
   "execution_count": null,
   "metadata": {},
   "outputs": [],
   "source": [
    "model = KMeans(n_clusters=4, random_state=10).fit(pca_df)\n",
    "model_label = model.labels_\n",
    "model_centers = model.cluster_centers_\n",
    "sorted(model_centers.tolist())"
   ]
  },
  {
   "cell_type": "code",
   "execution_count": null,
   "metadata": {
    "scrolled": false
   },
   "outputs": [],
   "source": [
    "plt.figure(figsize=(10,8))\n",
    "\n",
    "plt.title('K-Means Clustering')\n",
    "plt.xlabel('pca1')\n",
    "plt.ylabel('pca2')\n",
    "\n",
    "scatter = plt.scatter(pca_df['pca1'], pca_df['pca2'], c=model_label, s=25, cmap='RdBu_r')\n",
    "plt.colorbar(scatter)\n",
    "plt.scatter(model_centers[:,0], model_centers[:,1], c='red', marker='*');"
   ]
  },
  {
   "cell_type": "code",
   "execution_count": null,
   "metadata": {
    "scrolled": true
   },
   "outputs": [],
   "source": [
    "pca_components = pd.DataFrame(pca.components_, columns=cluster_log.columns)\n",
    "pca_components.head()"
   ]
  },
  {
   "cell_type": "code",
   "execution_count": null,
   "metadata": {},
   "outputs": [],
   "source": []
  },
  {
   "cell_type": "code",
   "execution_count": null,
   "metadata": {},
   "outputs": [],
   "source": []
  },
  {
   "cell_type": "code",
   "execution_count": null,
   "metadata": {},
   "outputs": [],
   "source": [
    "# Limits only rows with userid's with greater than 2 days of inputs\n",
    "\n",
    "# counts = total_goal['userid'].value_counts()\n",
    "# s_res = total_goal[~total_goal['userid'].isin(counts[counts <= 2].index)]\n",
    "# s_res['userid'].value_counts().tail()"
   ]
  }
 ],
 "metadata": {
  "kernelspec": {
   "display_name": "Python 3",
   "language": "python",
   "name": "python3"
  },
  "language_info": {
   "codemirror_mode": {
    "name": "ipython",
    "version": 3
   },
   "file_extension": ".py",
   "mimetype": "text/x-python",
   "name": "python",
   "nbconvert_exporter": "python",
   "pygments_lexer": "ipython3",
   "version": "3.7.1"
  }
 },
 "nbformat": 4,
 "nbformat_minor": 2
}
