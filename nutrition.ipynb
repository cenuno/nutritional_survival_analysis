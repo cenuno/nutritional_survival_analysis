{
 "cells": [
  {
   "cell_type": "markdown",
   "metadata": {},
   "source": [
    "# Fitness Tracker Survival Analysis\n",
    "Created by: Andy Luc\n",
    "\n",
    "## Business case:\n",
    "1. What is the average amount of time that MyFitnessPal users use the app, and do they use it consistently throughout?\n",
    "2. Do users still keep using the program after meeting or not meeting their goal?"
   ]
  },
  {
   "cell_type": "code",
   "execution_count": 1,
   "metadata": {},
   "outputs": [],
   "source": [
    "import pandas as pd\n",
    "import numpy as np\n",
    "import json\n",
    "import matplotlib.pyplot as plt\n",
    "import pickle\n",
    "import seaborn as sns\n",
    "plt.style.use('seaborn')\n",
    "%matplotlib inline\n",
    "%load_ext autoreload\n",
    "%autoreload 2"
   ]
  },
  {
   "cell_type": "markdown",
   "metadata": {},
   "source": [
    "## Exploratory Data Analysis"
   ]
  },
  {
   "cell_type": "code",
   "execution_count": null,
   "metadata": {},
   "outputs": [],
   "source": [
    "# Reading the data file\n",
    "raw_df = pd.read_csv('data/mfp-diaries.tsv',\n",
    "                  sep='\\t',\n",
    "                  header=None,\n",
    "                  names=['userId','diary_date','food_entries','daily_goal'])"
   ]
  },
  {
   "cell_type": "markdown",
   "metadata": {},
   "source": [
    "### Pickled files:\n",
    "To save processing time when loading into dataframe."
   ]
  },
  {
   "cell_type": "code",
   "execution_count": 26,
   "metadata": {},
   "outputs": [],
   "source": [
    "# raw_df.to_pickle('raw_df.pkl')\n",
    "# total_goal.to_pickle('total_goal.pkl')\n",
    "# combine_df.to_pickle('combine_df.pkl')\n",
    "# survival.to_pickle('survival.pkl')"
   ]
  },
  {
   "cell_type": "code",
   "execution_count": 2,
   "metadata": {},
   "outputs": [],
   "source": [
    "raw_df = pd.read_pickle('raw_df.pkl')"
   ]
  },
  {
   "cell_type": "code",
   "execution_count": 3,
   "metadata": {},
   "outputs": [
    {
     "data": {
      "text/html": [
       "<div>\n",
       "<style scoped>\n",
       "    .dataframe tbody tr th:only-of-type {\n",
       "        vertical-align: middle;\n",
       "    }\n",
       "\n",
       "    .dataframe tbody tr th {\n",
       "        vertical-align: top;\n",
       "    }\n",
       "\n",
       "    .dataframe thead th {\n",
       "        text-align: right;\n",
       "    }\n",
       "</style>\n",
       "<table border=\"1\" class=\"dataframe\">\n",
       "  <thead>\n",
       "    <tr style=\"text-align: right;\">\n",
       "      <th></th>\n",
       "      <th>userId</th>\n",
       "      <th>diary_date</th>\n",
       "      <th>food_entries</th>\n",
       "      <th>daily_goal</th>\n",
       "    </tr>\n",
       "  </thead>\n",
       "  <tbody>\n",
       "    <tr>\n",
       "      <th>0</th>\n",
       "      <td>1</td>\n",
       "      <td>2014-09-14</td>\n",
       "      <td>[{\"meal\": \"MY food\", \"dishes\": [{\"nutritions\":...</td>\n",
       "      <td>{\"total\": [{\"name\": \"Calories\", \"value\": 2924}...</td>\n",
       "    </tr>\n",
       "    <tr>\n",
       "      <th>1</th>\n",
       "      <td>1</td>\n",
       "      <td>2014-09-15</td>\n",
       "      <td>[{\"meal\": \"MY food\", \"dishes\": [{\"nutritions\":...</td>\n",
       "      <td>{\"total\": [{\"name\": \"Calories\", \"value\": 2430}...</td>\n",
       "    </tr>\n",
       "    <tr>\n",
       "      <th>2</th>\n",
       "      <td>1</td>\n",
       "      <td>2014-09-16</td>\n",
       "      <td>[{\"meal\": \"MY food\", \"dishes\": [{\"nutritions\":...</td>\n",
       "      <td>{\"total\": [{\"name\": \"Calories\", \"value\": 1862}...</td>\n",
       "    </tr>\n",
       "    <tr>\n",
       "      <th>3</th>\n",
       "      <td>1</td>\n",
       "      <td>2014-09-17</td>\n",
       "      <td>[{\"meal\": \"MY food\", \"dishes\": [{\"nutritions\":...</td>\n",
       "      <td>{\"total\": [{\"name\": \"Calories\", \"value\": 2251}...</td>\n",
       "    </tr>\n",
       "    <tr>\n",
       "      <th>4</th>\n",
       "      <td>1</td>\n",
       "      <td>2014-09-18</td>\n",
       "      <td>[{\"meal\": \"MY food\", \"dishes\": [{\"nutritions\":...</td>\n",
       "      <td>{\"total\": [{\"name\": \"Calories\", \"value\": 2001}...</td>\n",
       "    </tr>\n",
       "  </tbody>\n",
       "</table>\n",
       "</div>"
      ],
      "text/plain": [
       "   userId  diary_date                                       food_entries  \\\n",
       "0       1  2014-09-14  [{\"meal\": \"MY food\", \"dishes\": [{\"nutritions\":...   \n",
       "1       1  2014-09-15  [{\"meal\": \"MY food\", \"dishes\": [{\"nutritions\":...   \n",
       "2       1  2014-09-16  [{\"meal\": \"MY food\", \"dishes\": [{\"nutritions\":...   \n",
       "3       1  2014-09-17  [{\"meal\": \"MY food\", \"dishes\": [{\"nutritions\":...   \n",
       "4       1  2014-09-18  [{\"meal\": \"MY food\", \"dishes\": [{\"nutritions\":...   \n",
       "\n",
       "                                          daily_goal  \n",
       "0  {\"total\": [{\"name\": \"Calories\", \"value\": 2924}...  \n",
       "1  {\"total\": [{\"name\": \"Calories\", \"value\": 2430}...  \n",
       "2  {\"total\": [{\"name\": \"Calories\", \"value\": 1862}...  \n",
       "3  {\"total\": [{\"name\": \"Calories\", \"value\": 2251}...  \n",
       "4  {\"total\": [{\"name\": \"Calories\", \"value\": 2001}...  "
      ]
     },
     "execution_count": 3,
     "metadata": {},
     "output_type": "execute_result"
    }
   ],
   "source": [
    "raw_df.head()"
   ]
  },
  {
   "cell_type": "code",
   "execution_count": 4,
   "metadata": {
    "scrolled": true
   },
   "outputs": [
    {
     "data": {
      "text/plain": [
       "9896"
      ]
     },
     "execution_count": 4,
     "metadata": {},
     "output_type": "execute_result"
    }
   ],
   "source": [
    "#Number of unique users\n",
    "len(raw_df['userId'].unique())"
   ]
  },
  {
   "cell_type": "markdown",
   "metadata": {},
   "source": [
    "### Parsing lists of dictionaries within *daily_goals* column"
   ]
  },
  {
   "cell_type": "code",
   "execution_count": 5,
   "metadata": {},
   "outputs": [],
   "source": [
    "parse_df = raw_df.drop(['userId', 'diary_date','food_entries'], axis=1)"
   ]
  },
  {
   "cell_type": "code",
   "execution_count": 6,
   "metadata": {},
   "outputs": [
    {
     "data": {
      "text/html": [
       "<div>\n",
       "<style scoped>\n",
       "    .dataframe tbody tr th:only-of-type {\n",
       "        vertical-align: middle;\n",
       "    }\n",
       "\n",
       "    .dataframe tbody tr th {\n",
       "        vertical-align: top;\n",
       "    }\n",
       "\n",
       "    .dataframe thead th {\n",
       "        text-align: right;\n",
       "    }\n",
       "</style>\n",
       "<table border=\"1\" class=\"dataframe\">\n",
       "  <thead>\n",
       "    <tr style=\"text-align: right;\">\n",
       "      <th></th>\n",
       "      <th>daily_goal</th>\n",
       "    </tr>\n",
       "  </thead>\n",
       "  <tbody>\n",
       "    <tr>\n",
       "      <th>0</th>\n",
       "      <td>{\"total\": [{\"name\": \"Calories\", \"value\": 2924}...</td>\n",
       "    </tr>\n",
       "    <tr>\n",
       "      <th>1</th>\n",
       "      <td>{\"total\": [{\"name\": \"Calories\", \"value\": 2430}...</td>\n",
       "    </tr>\n",
       "    <tr>\n",
       "      <th>2</th>\n",
       "      <td>{\"total\": [{\"name\": \"Calories\", \"value\": 1862}...</td>\n",
       "    </tr>\n",
       "    <tr>\n",
       "      <th>3</th>\n",
       "      <td>{\"total\": [{\"name\": \"Calories\", \"value\": 2251}...</td>\n",
       "    </tr>\n",
       "    <tr>\n",
       "      <th>4</th>\n",
       "      <td>{\"total\": [{\"name\": \"Calories\", \"value\": 2001}...</td>\n",
       "    </tr>\n",
       "  </tbody>\n",
       "</table>\n",
       "</div>"
      ],
      "text/plain": [
       "                                          daily_goal\n",
       "0  {\"total\": [{\"name\": \"Calories\", \"value\": 2924}...\n",
       "1  {\"total\": [{\"name\": \"Calories\", \"value\": 2430}...\n",
       "2  {\"total\": [{\"name\": \"Calories\", \"value\": 1862}...\n",
       "3  {\"total\": [{\"name\": \"Calories\", \"value\": 2251}...\n",
       "4  {\"total\": [{\"name\": \"Calories\", \"value\": 2001}..."
      ]
     },
     "execution_count": 6,
     "metadata": {},
     "output_type": "execute_result"
    }
   ],
   "source": [
    "parse_df.head()"
   ]
  },
  {
   "cell_type": "code",
   "execution_count": 7,
   "metadata": {},
   "outputs": [
    {
     "data": {
      "text/plain": [
       "{'total': [{'name': 'Calories', 'value': 2924},\n",
       "  {'name': 'Carbs', 'value': 340},\n",
       "  {'name': 'Fat', 'value': 114},\n",
       "  {'name': 'Protein', 'value': 186},\n",
       "  {'name': 'Sodium', 'value': 3658},\n",
       "  {'name': 'Sugar', 'value': 109}],\n",
       " 'goal': [{'name': 'Calories', 'value': 3173},\n",
       "  {'name': 'Carbs', 'value': 396},\n",
       "  {'name': 'Fat', 'value': 105},\n",
       "  {'name': 'Protein', 'value': 160},\n",
       "  {'name': 'Sodium', 'value': 2300},\n",
       "  {'name': 'Sugar', 'value': 119}]}"
      ]
     },
     "execution_count": 7,
     "metadata": {},
     "output_type": "execute_result"
    }
   ],
   "source": [
    "tg_dict = json.loads(parse_df['daily_goal'][0])\n",
    "tg_dict"
   ]
  },
  {
   "cell_type": "markdown",
   "metadata": {},
   "source": [
    "### Parse Functions"
   ]
  },
  {
   "cell_type": "code",
   "execution_count": 8,
   "metadata": {},
   "outputs": [],
   "source": [
    "\"\"\"Creates list of keys and values from the first dictionary, and zips them together\"\"\"\n",
    "def daily_totals(tg_dict):    \n",
    "    total_cols = [list(tg_dict.keys())[0] + \"_\" + x['name'].lower() \n",
    "                  for x in tg_dict['total']]\n",
    "    total_values = [y['value'] \n",
    "                  for y in tg_dict['total']]\n",
    "\n",
    "    total_dict = {}\n",
    "    for col, val in zip(total_cols, total_values):\n",
    "        total_dict[col] = val\n",
    "    return total_dict\n",
    "\n",
    "\"\"\"Creates list of keys and values from the second dictionary, and zips them together\"\"\"\n",
    "def daily_goals(tg_dict):\n",
    "    goal_cols = [list(tg_dict.keys())[1] + \"_\" + k['name'].lower()\n",
    "                 for k in tg_dict['goal']]\n",
    "    goal_values = [i['value']\n",
    "                 for i in tg_dict['goal']]\n",
    "    \n",
    "    goal_dict = {}\n",
    "    for col, val in zip(goal_cols, goal_values):\n",
    "        goal_dict[col] = val\n",
    "    return goal_dict\n",
    "\n",
    "\"\"\"Combines new keys and values for 'Total' and 'Goals' into single dictionary\"\"\"\n",
    "def merge(dict1, dict2): \n",
    "    res = {**dict1, **dict2} \n",
    "    return res\n",
    "\n",
    "\"\"\"Iterrates through entire parsed dataframe and appends merged rows\"\"\"\n",
    "def final_parsed_dict():\n",
    "    results = []\n",
    "    for row in parse_df['daily_goal'].values:\n",
    "        tg_dict = json.loads(row)\n",
    "        results.append(merge(daily_goals(tg_dict), daily_totals(tg_dict)))\n",
    "    return results"
   ]
  },
  {
   "cell_type": "code",
   "execution_count": 9,
   "metadata": {},
   "outputs": [],
   "source": [
    "tg_parse = pd.DataFrame(final_parsed_dict())"
   ]
  },
  {
   "cell_type": "code",
   "execution_count": 10,
   "metadata": {
    "scrolled": true
   },
   "outputs": [
    {
     "data": {
      "text/html": [
       "<div>\n",
       "<style scoped>\n",
       "    .dataframe tbody tr th:only-of-type {\n",
       "        vertical-align: middle;\n",
       "    }\n",
       "\n",
       "    .dataframe tbody tr th {\n",
       "        vertical-align: top;\n",
       "    }\n",
       "\n",
       "    .dataframe thead th {\n",
       "        text-align: right;\n",
       "    }\n",
       "</style>\n",
       "<table border=\"1\" class=\"dataframe\">\n",
       "  <thead>\n",
       "    <tr style=\"text-align: right;\">\n",
       "      <th></th>\n",
       "      <th>goal_calcium</th>\n",
       "      <th>goal_calories</th>\n",
       "      <th>goal_carbs</th>\n",
       "      <th>goal_chol</th>\n",
       "      <th>goal_fat</th>\n",
       "      <th>goal_fiber</th>\n",
       "      <th>goal_iron</th>\n",
       "      <th>goal_mon fat</th>\n",
       "      <th>goal_ply fat</th>\n",
       "      <th>goal_potass.</th>\n",
       "      <th>...</th>\n",
       "      <th>total_mon fat</th>\n",
       "      <th>total_ply fat</th>\n",
       "      <th>total_potass.</th>\n",
       "      <th>total_protein</th>\n",
       "      <th>total_sat fat</th>\n",
       "      <th>total_sodium</th>\n",
       "      <th>total_sugar</th>\n",
       "      <th>total_trn fat</th>\n",
       "      <th>total_vit a</th>\n",
       "      <th>total_vit c</th>\n",
       "    </tr>\n",
       "  </thead>\n",
       "  <tbody>\n",
       "    <tr>\n",
       "      <th>0</th>\n",
       "      <td>NaN</td>\n",
       "      <td>3173.0</td>\n",
       "      <td>396.0</td>\n",
       "      <td>NaN</td>\n",
       "      <td>105.0</td>\n",
       "      <td>NaN</td>\n",
       "      <td>NaN</td>\n",
       "      <td>NaN</td>\n",
       "      <td>NaN</td>\n",
       "      <td>NaN</td>\n",
       "      <td>...</td>\n",
       "      <td>NaN</td>\n",
       "      <td>NaN</td>\n",
       "      <td>NaN</td>\n",
       "      <td>186.0</td>\n",
       "      <td>NaN</td>\n",
       "      <td>3658.0</td>\n",
       "      <td>109.0</td>\n",
       "      <td>NaN</td>\n",
       "      <td>NaN</td>\n",
       "      <td>NaN</td>\n",
       "    </tr>\n",
       "    <tr>\n",
       "      <th>1</th>\n",
       "      <td>NaN</td>\n",
       "      <td>1572.0</td>\n",
       "      <td>196.0</td>\n",
       "      <td>NaN</td>\n",
       "      <td>52.0</td>\n",
       "      <td>NaN</td>\n",
       "      <td>NaN</td>\n",
       "      <td>NaN</td>\n",
       "      <td>NaN</td>\n",
       "      <td>NaN</td>\n",
       "      <td>...</td>\n",
       "      <td>NaN</td>\n",
       "      <td>NaN</td>\n",
       "      <td>NaN</td>\n",
       "      <td>50.0</td>\n",
       "      <td>NaN</td>\n",
       "      <td>855.0</td>\n",
       "      <td>63.0</td>\n",
       "      <td>NaN</td>\n",
       "      <td>NaN</td>\n",
       "      <td>NaN</td>\n",
       "    </tr>\n",
       "    <tr>\n",
       "      <th>2</th>\n",
       "      <td>NaN</td>\n",
       "      <td>1832.0</td>\n",
       "      <td>229.0</td>\n",
       "      <td>NaN</td>\n",
       "      <td>61.0</td>\n",
       "      <td>NaN</td>\n",
       "      <td>NaN</td>\n",
       "      <td>NaN</td>\n",
       "      <td>NaN</td>\n",
       "      <td>NaN</td>\n",
       "      <td>...</td>\n",
       "      <td>NaN</td>\n",
       "      <td>NaN</td>\n",
       "      <td>NaN</td>\n",
       "      <td>114.0</td>\n",
       "      <td>NaN</td>\n",
       "      <td>2215.0</td>\n",
       "      <td>100.0</td>\n",
       "      <td>NaN</td>\n",
       "      <td>NaN</td>\n",
       "      <td>NaN</td>\n",
       "    </tr>\n",
       "    <tr>\n",
       "      <th>3</th>\n",
       "      <td>NaN</td>\n",
       "      <td>1685.0</td>\n",
       "      <td>210.0</td>\n",
       "      <td>NaN</td>\n",
       "      <td>56.0</td>\n",
       "      <td>NaN</td>\n",
       "      <td>NaN</td>\n",
       "      <td>NaN</td>\n",
       "      <td>NaN</td>\n",
       "      <td>NaN</td>\n",
       "      <td>...</td>\n",
       "      <td>NaN</td>\n",
       "      <td>NaN</td>\n",
       "      <td>NaN</td>\n",
       "      <td>98.0</td>\n",
       "      <td>NaN</td>\n",
       "      <td>1765.0</td>\n",
       "      <td>105.0</td>\n",
       "      <td>NaN</td>\n",
       "      <td>NaN</td>\n",
       "      <td>NaN</td>\n",
       "    </tr>\n",
       "    <tr>\n",
       "      <th>4</th>\n",
       "      <td>NaN</td>\n",
       "      <td>1597.0</td>\n",
       "      <td>199.0</td>\n",
       "      <td>NaN</td>\n",
       "      <td>53.0</td>\n",
       "      <td>NaN</td>\n",
       "      <td>NaN</td>\n",
       "      <td>NaN</td>\n",
       "      <td>NaN</td>\n",
       "      <td>NaN</td>\n",
       "      <td>...</td>\n",
       "      <td>NaN</td>\n",
       "      <td>NaN</td>\n",
       "      <td>NaN</td>\n",
       "      <td>202.0</td>\n",
       "      <td>NaN</td>\n",
       "      <td>1101.0</td>\n",
       "      <td>71.0</td>\n",
       "      <td>NaN</td>\n",
       "      <td>NaN</td>\n",
       "      <td>NaN</td>\n",
       "    </tr>\n",
       "  </tbody>\n",
       "</table>\n",
       "<p>5 rows × 34 columns</p>\n",
       "</div>"
      ],
      "text/plain": [
       "   goal_calcium  goal_calories  goal_carbs  goal_chol  goal_fat  goal_fiber  \\\n",
       "0           NaN         3173.0       396.0        NaN     105.0         NaN   \n",
       "1           NaN         1572.0       196.0        NaN      52.0         NaN   \n",
       "2           NaN         1832.0       229.0        NaN      61.0         NaN   \n",
       "3           NaN         1685.0       210.0        NaN      56.0         NaN   \n",
       "4           NaN         1597.0       199.0        NaN      53.0         NaN   \n",
       "\n",
       "   goal_iron  goal_mon fat  goal_ply fat  goal_potass.     ...       \\\n",
       "0        NaN           NaN           NaN           NaN     ...        \n",
       "1        NaN           NaN           NaN           NaN     ...        \n",
       "2        NaN           NaN           NaN           NaN     ...        \n",
       "3        NaN           NaN           NaN           NaN     ...        \n",
       "4        NaN           NaN           NaN           NaN     ...        \n",
       "\n",
       "   total_mon fat  total_ply fat  total_potass.  total_protein  total_sat fat  \\\n",
       "0            NaN            NaN            NaN          186.0            NaN   \n",
       "1            NaN            NaN            NaN           50.0            NaN   \n",
       "2            NaN            NaN            NaN          114.0            NaN   \n",
       "3            NaN            NaN            NaN           98.0            NaN   \n",
       "4            NaN            NaN            NaN          202.0            NaN   \n",
       "\n",
       "   total_sodium  total_sugar  total_trn fat  total_vit a  total_vit c  \n",
       "0        3658.0        109.0            NaN          NaN          NaN  \n",
       "1         855.0         63.0            NaN          NaN          NaN  \n",
       "2        2215.0        100.0            NaN          NaN          NaN  \n",
       "3        1765.0        105.0            NaN          NaN          NaN  \n",
       "4        1101.0         71.0            NaN          NaN          NaN  \n",
       "\n",
       "[5 rows x 34 columns]"
      ]
     },
     "execution_count": 10,
     "metadata": {},
     "output_type": "execute_result"
    }
   ],
   "source": [
    "tg_parse.head()"
   ]
  },
  {
   "cell_type": "code",
   "execution_count": 11,
   "metadata": {},
   "outputs": [],
   "source": [
    "con = pd.concat([raw_df, tg_parse], axis=1)"
   ]
  },
  {
   "cell_type": "code",
   "execution_count": 12,
   "metadata": {
    "scrolled": true
   },
   "outputs": [
    {
     "data": {
      "text/plain": [
       "userId                 0\n",
       "diary_date             0\n",
       "food_entries           0\n",
       "daily_goal             0\n",
       "goal_calcium      564262\n",
       "goal_calories          7\n",
       "goal_carbs         14145\n",
       "goal_chol         568935\n",
       "goal_fat           17859\n",
       "goal_fiber        344347\n",
       "goal_iron         558171\n",
       "goal_mon fat      587096\n",
       "goal_ply fat      586693\n",
       "goal_potass.      567771\n",
       "goal_protein        7321\n",
       "goal_sat fat      570611\n",
       "goal_sodium       196659\n",
       "goal_sugar        218272\n",
       "goal_trn fat      585359\n",
       "goal_vit a        586413\n",
       "goal_vit c        584701\n",
       "total_calcium     564262\n",
       "total_calories        26\n",
       "total_carbs        14146\n",
       "total_chol        568935\n",
       "total_fat          17866\n",
       "total_fiber       344349\n",
       "total_iron        558171\n",
       "total_mon fat     586759\n",
       "total_ply fat     586426\n",
       "total_potass.     567771\n",
       "total_protein       7331\n",
       "total_sat fat     570611\n",
       "total_sodium      196660\n",
       "total_sugar       218270\n",
       "total_trn fat     585359\n",
       "total_vit a       586413\n",
       "total_vit c       584701\n",
       "dtype: int64"
      ]
     },
     "execution_count": 12,
     "metadata": {},
     "output_type": "execute_result"
    }
   ],
   "source": [
    "con.isna().sum()"
   ]
  },
  {
   "cell_type": "code",
   "execution_count": 13,
   "metadata": {},
   "outputs": [],
   "source": [
    "total_goal = con.drop(['food_entries','daily_goal','goal_calcium','goal_chol',\n",
    "                       'goal_iron','goal_mon fat','goal_ply fat','goal_potass.',\n",
    "                       'goal_sat fat','goal_trn fat','goal_vit a','goal_vit c',\n",
    "                       'total_calcium','total_chol','total_iron','total_mon fat',\n",
    "                       'total_ply fat','total_potass.','total_sat fat','total_trn fat',\n",
    "                       'total_vit a','total_vit c'], axis=1)"
   ]
  },
  {
   "cell_type": "code",
   "execution_count": 14,
   "metadata": {},
   "outputs": [],
   "source": [
    "total_goal.fillna(0, inplace=True)"
   ]
  },
  {
   "cell_type": "code",
   "execution_count": 15,
   "metadata": {},
   "outputs": [],
   "source": [
    "total_goal['diary_date'] = pd.to_datetime(total_goal['diary_date'])"
   ]
  },
  {
   "cell_type": "code",
   "execution_count": 16,
   "metadata": {
    "scrolled": true
   },
   "outputs": [
    {
     "name": "stdout",
     "output_type": "stream",
     "text": [
      "<class 'pandas.core.frame.DataFrame'>\n",
      "RangeIndex: 587187 entries, 0 to 587186\n",
      "Data columns (total 16 columns):\n",
      "userId            587187 non-null int64\n",
      "diary_date        587187 non-null datetime64[ns]\n",
      "goal_calories     587187 non-null float64\n",
      "goal_carbs        587187 non-null float64\n",
      "goal_fat          587187 non-null float64\n",
      "goal_fiber        587187 non-null float64\n",
      "goal_protein      587187 non-null float64\n",
      "goal_sodium       587187 non-null float64\n",
      "goal_sugar        587187 non-null float64\n",
      "total_calories    587187 non-null float64\n",
      "total_carbs       587187 non-null float64\n",
      "total_fat         587187 non-null float64\n",
      "total_fiber       587187 non-null float64\n",
      "total_protein     587187 non-null float64\n",
      "total_sodium      587187 non-null float64\n",
      "total_sugar       587187 non-null float64\n",
      "dtypes: datetime64[ns](1), float64(14), int64(1)\n",
      "memory usage: 71.7 MB\n"
     ]
    }
   ],
   "source": [
    "total_goal.info()"
   ]
  },
  {
   "cell_type": "code",
   "execution_count": null,
   "metadata": {},
   "outputs": [],
   "source": []
  },
  {
   "cell_type": "markdown",
   "metadata": {},
   "source": [
    "## Labeling New Columns:\n",
    "Create 1 column per dictionary in both total key and goal key\n",
    "\n",
    "- total\n",
    "    + total_calories\n",
    "    + total_carbs\n",
    "    + total_fat\n",
    "    + total_fiber\n",
    "    + total_protein\n",
    "    + total_sodium\n",
    "    + total_sugar\n",
    "- goal\n",
    "    + goal_calories\n",
    "    + goal_carbs\n",
    "    + goal_fat\n",
    "    + goal_fiber\n",
    "    + goal_protein\n",
    "    + goal_sodium\n",
    "    + goal_sugar\n",
    "\n",
    "\n",
    "- **total_sum**: Total sum of input values for the day\n",
    "- **goal_sum**: Total sum of goal values for the day\n",
    "- **achievement**: Indicates whether or not a user has met their daily goal within a tolerance of 10%.\n",
    "    - 1 = Succeed\n",
    "    - 0 = Fail"
   ]
  },
  {
   "cell_type": "code",
   "execution_count": 17,
   "metadata": {},
   "outputs": [],
   "source": [
    "nutrients = ['calories','carbs','fat','fiber','protein','sodium','sugar']\n",
    "\n",
    "total_s = []\n",
    "goal_s = []\n",
    "for nutrient in nutrients:\n",
    "    total_s.append(f'total_{nutrient}')\n",
    "    goal_s.append(f'goal_{nutrient}')"
   ]
  },
  {
   "cell_type": "code",
   "execution_count": 18,
   "metadata": {},
   "outputs": [],
   "source": [
    "total_goal['total_sum'] = total_goal[total_s].apply(np.sum, axis=1)\n",
    "\n",
    "total_goal['goal_sum'] = total_goal[goal_s].apply(np.sum, axis=1)\n",
    "\n",
    "total_goal['achievement'] = np.where(abs((total_goal['total_sum'] - \n",
    "                                          total_goal['goal_sum']) / \n",
    "                                          total_goal['goal_sum']) <= 0.1, 1, 0)"
   ]
  },
  {
   "cell_type": "code",
   "execution_count": null,
   "metadata": {},
   "outputs": [],
   "source": [
    "total_goal = pd.read_pickle('total_goal.pkl')"
   ]
  },
  {
   "cell_type": "code",
   "execution_count": 20,
   "metadata": {
    "scrolled": true
   },
   "outputs": [
    {
     "data": {
      "text/html": [
       "<div>\n",
       "<style scoped>\n",
       "    .dataframe tbody tr th:only-of-type {\n",
       "        vertical-align: middle;\n",
       "    }\n",
       "\n",
       "    .dataframe tbody tr th {\n",
       "        vertical-align: top;\n",
       "    }\n",
       "\n",
       "    .dataframe thead th {\n",
       "        text-align: right;\n",
       "    }\n",
       "</style>\n",
       "<table border=\"1\" class=\"dataframe\">\n",
       "  <thead>\n",
       "    <tr style=\"text-align: right;\">\n",
       "      <th></th>\n",
       "      <th>userId</th>\n",
       "      <th>diary_date</th>\n",
       "      <th>goal_calories</th>\n",
       "      <th>goal_carbs</th>\n",
       "      <th>goal_fat</th>\n",
       "      <th>goal_fiber</th>\n",
       "      <th>goal_protein</th>\n",
       "      <th>goal_sodium</th>\n",
       "      <th>goal_sugar</th>\n",
       "      <th>total_calories</th>\n",
       "      <th>total_carbs</th>\n",
       "      <th>total_fat</th>\n",
       "      <th>total_fiber</th>\n",
       "      <th>total_protein</th>\n",
       "      <th>total_sodium</th>\n",
       "      <th>total_sugar</th>\n",
       "      <th>total_sum</th>\n",
       "      <th>goal_sum</th>\n",
       "      <th>achievement</th>\n",
       "    </tr>\n",
       "  </thead>\n",
       "  <tbody>\n",
       "    <tr>\n",
       "      <th>0</th>\n",
       "      <td>1</td>\n",
       "      <td>2014-09-14</td>\n",
       "      <td>3173.0</td>\n",
       "      <td>396.0</td>\n",
       "      <td>105.0</td>\n",
       "      <td>0.0</td>\n",
       "      <td>160.0</td>\n",
       "      <td>2300.0</td>\n",
       "      <td>119.0</td>\n",
       "      <td>2924.0</td>\n",
       "      <td>340.0</td>\n",
       "      <td>114.0</td>\n",
       "      <td>0.0</td>\n",
       "      <td>186.0</td>\n",
       "      <td>3658.0</td>\n",
       "      <td>109.0</td>\n",
       "      <td>7331.0</td>\n",
       "      <td>6253.0</td>\n",
       "      <td>0</td>\n",
       "    </tr>\n",
       "    <tr>\n",
       "      <th>1</th>\n",
       "      <td>1</td>\n",
       "      <td>2014-09-15</td>\n",
       "      <td>1572.0</td>\n",
       "      <td>196.0</td>\n",
       "      <td>52.0</td>\n",
       "      <td>0.0</td>\n",
       "      <td>79.0</td>\n",
       "      <td>2300.0</td>\n",
       "      <td>59.0</td>\n",
       "      <td>2430.0</td>\n",
       "      <td>96.0</td>\n",
       "      <td>37.0</td>\n",
       "      <td>0.0</td>\n",
       "      <td>50.0</td>\n",
       "      <td>855.0</td>\n",
       "      <td>63.0</td>\n",
       "      <td>3531.0</td>\n",
       "      <td>4258.0</td>\n",
       "      <td>0</td>\n",
       "    </tr>\n",
       "    <tr>\n",
       "      <th>2</th>\n",
       "      <td>1</td>\n",
       "      <td>2014-09-16</td>\n",
       "      <td>1832.0</td>\n",
       "      <td>229.0</td>\n",
       "      <td>61.0</td>\n",
       "      <td>0.0</td>\n",
       "      <td>92.0</td>\n",
       "      <td>2300.0</td>\n",
       "      <td>69.0</td>\n",
       "      <td>1862.0</td>\n",
       "      <td>158.0</td>\n",
       "      <td>54.0</td>\n",
       "      <td>0.0</td>\n",
       "      <td>114.0</td>\n",
       "      <td>2215.0</td>\n",
       "      <td>100.0</td>\n",
       "      <td>4503.0</td>\n",
       "      <td>4583.0</td>\n",
       "      <td>1</td>\n",
       "    </tr>\n",
       "    <tr>\n",
       "      <th>3</th>\n",
       "      <td>1</td>\n",
       "      <td>2014-09-17</td>\n",
       "      <td>1685.0</td>\n",
       "      <td>210.0</td>\n",
       "      <td>56.0</td>\n",
       "      <td>0.0</td>\n",
       "      <td>85.0</td>\n",
       "      <td>2300.0</td>\n",
       "      <td>63.0</td>\n",
       "      <td>2251.0</td>\n",
       "      <td>187.0</td>\n",
       "      <td>60.0</td>\n",
       "      <td>0.0</td>\n",
       "      <td>98.0</td>\n",
       "      <td>1765.0</td>\n",
       "      <td>105.0</td>\n",
       "      <td>4466.0</td>\n",
       "      <td>4399.0</td>\n",
       "      <td>1</td>\n",
       "    </tr>\n",
       "    <tr>\n",
       "      <th>4</th>\n",
       "      <td>1</td>\n",
       "      <td>2014-09-18</td>\n",
       "      <td>1597.0</td>\n",
       "      <td>199.0</td>\n",
       "      <td>53.0</td>\n",
       "      <td>0.0</td>\n",
       "      <td>80.0</td>\n",
       "      <td>2300.0</td>\n",
       "      <td>60.0</td>\n",
       "      <td>2001.0</td>\n",
       "      <td>113.0</td>\n",
       "      <td>81.0</td>\n",
       "      <td>0.0</td>\n",
       "      <td>202.0</td>\n",
       "      <td>1101.0</td>\n",
       "      <td>71.0</td>\n",
       "      <td>3569.0</td>\n",
       "      <td>4289.0</td>\n",
       "      <td>0</td>\n",
       "    </tr>\n",
       "  </tbody>\n",
       "</table>\n",
       "</div>"
      ],
      "text/plain": [
       "   userId diary_date  goal_calories  goal_carbs  goal_fat  goal_fiber  \\\n",
       "0       1 2014-09-14         3173.0       396.0     105.0         0.0   \n",
       "1       1 2014-09-15         1572.0       196.0      52.0         0.0   \n",
       "2       1 2014-09-16         1832.0       229.0      61.0         0.0   \n",
       "3       1 2014-09-17         1685.0       210.0      56.0         0.0   \n",
       "4       1 2014-09-18         1597.0       199.0      53.0         0.0   \n",
       "\n",
       "   goal_protein  goal_sodium  goal_sugar  total_calories  total_carbs  \\\n",
       "0         160.0       2300.0       119.0          2924.0        340.0   \n",
       "1          79.0       2300.0        59.0          2430.0         96.0   \n",
       "2          92.0       2300.0        69.0          1862.0        158.0   \n",
       "3          85.0       2300.0        63.0          2251.0        187.0   \n",
       "4          80.0       2300.0        60.0          2001.0        113.0   \n",
       "\n",
       "   total_fat  total_fiber  total_protein  total_sodium  total_sugar  \\\n",
       "0      114.0          0.0          186.0        3658.0        109.0   \n",
       "1       37.0          0.0           50.0         855.0         63.0   \n",
       "2       54.0          0.0          114.0        2215.0        100.0   \n",
       "3       60.0          0.0           98.0        1765.0        105.0   \n",
       "4       81.0          0.0          202.0        1101.0         71.0   \n",
       "\n",
       "   total_sum  goal_sum  achievement  \n",
       "0     7331.0    6253.0            0  \n",
       "1     3531.0    4258.0            0  \n",
       "2     4503.0    4583.0            1  \n",
       "3     4466.0    4399.0            1  \n",
       "4     3569.0    4289.0            0  "
      ]
     },
     "execution_count": 20,
     "metadata": {},
     "output_type": "execute_result"
    }
   ],
   "source": [
    "total_goal.head()"
   ]
  },
  {
   "cell_type": "code",
   "execution_count": null,
   "metadata": {},
   "outputs": [],
   "source": []
  },
  {
   "cell_type": "code",
   "execution_count": 21,
   "metadata": {},
   "outputs": [],
   "source": [
    "coll = total_goal.drop(['userId','diary_date','goal_calories','goal_carbs',\n",
    "                        'goal_fat','goal_fiber','goal_protein','goal_sodium',\n",
    "                        'goal_sugar','total_sum','goal_sum'], axis=1)"
   ]
  },
  {
   "cell_type": "code",
   "execution_count": 22,
   "metadata": {},
   "outputs": [
    {
     "data": {
      "text/plain": [
       "Text(0.5, 1.0, 'Multi-Collinearity of Attributes')"
      ]
     },
     "execution_count": 22,
     "metadata": {},
     "output_type": "execute_result"
    },
    {
     "data": {
      "image/png": "[encoded data removed]",
      "text/plain": [
       "<Figure size 720x432 with 2 Axes>"
      ]
     },
     "metadata": {
      "needs_background": "light"
     },
     "output_type": "display_data"
    }
   ],
   "source": [
    "fig, ax = plt.subplots(figsize=(10,6))\n",
    "sns.heatmap(coll.corr(), center=0, cmap='BrBG', annot=True)\n",
    "\n",
    "ax.set_title('Multi-Collinearity of Attributes')"
   ]
  },
  {
   "cell_type": "markdown",
   "metadata": {},
   "source": [
    "## Survival Analysis"
   ]
  },
  {
   "cell_type": "code",
   "execution_count": 23,
   "metadata": {
    "scrolled": true
   },
   "outputs": [
    {
     "data": {
      "text/html": [
       "<div>\n",
       "<style scoped>\n",
       "    .dataframe tbody tr th:only-of-type {\n",
       "        vertical-align: middle;\n",
       "    }\n",
       "\n",
       "    .dataframe tbody tr th {\n",
       "        vertical-align: top;\n",
       "    }\n",
       "\n",
       "    .dataframe thead th {\n",
       "        text-align: right;\n",
       "    }\n",
       "</style>\n",
       "<table border=\"1\" class=\"dataframe\">\n",
       "  <thead>\n",
       "    <tr style=\"text-align: right;\">\n",
       "      <th></th>\n",
       "      <th>days</th>\n",
       "    </tr>\n",
       "  </thead>\n",
       "  <tbody>\n",
       "    <tr>\n",
       "      <th>1</th>\n",
       "      <td>174</td>\n",
       "    </tr>\n",
       "    <tr>\n",
       "      <th>2</th>\n",
       "      <td>60</td>\n",
       "    </tr>\n",
       "    <tr>\n",
       "      <th>3</th>\n",
       "      <td>7</td>\n",
       "    </tr>\n",
       "    <tr>\n",
       "      <th>4</th>\n",
       "      <td>27</td>\n",
       "    </tr>\n",
       "    <tr>\n",
       "      <th>5</th>\n",
       "      <td>179</td>\n",
       "    </tr>\n",
       "  </tbody>\n",
       "</table>\n",
       "</div>"
      ],
      "text/plain": [
       "   days\n",
       "1   174\n",
       "2    60\n",
       "3     7\n",
       "4    27\n",
       "5   179"
      ]
     },
     "execution_count": 23,
     "metadata": {},
     "output_type": "execute_result"
    }
   ],
   "source": [
    "days = total_goal['userId'].value_counts().sort_index()\n",
    "days = pd.DataFrame(days).rename(columns={'userId': 'days'})\n",
    "days.head()"
   ]
  },
  {
   "cell_type": "code",
   "execution_count": 24,
   "metadata": {},
   "outputs": [],
   "source": [
    "cols = total_goal.drop(['userId','diary_date'], axis=1).columns\n",
    "\n",
    "condense = total_goal.groupby(['userId'])[cols].sum()\n",
    "\n",
    "combine_df = pd.merge(days, condense, left_index=True, right_index=True)"
   ]
  },
  {
   "cell_type": "code",
   "execution_count": 25,
   "metadata": {
    "scrolled": false
   },
   "outputs": [
    {
     "data": {
      "text/html": [
       "<div>\n",
       "<style scoped>\n",
       "    .dataframe tbody tr th:only-of-type {\n",
       "        vertical-align: middle;\n",
       "    }\n",
       "\n",
       "    .dataframe tbody tr th {\n",
       "        vertical-align: top;\n",
       "    }\n",
       "\n",
       "    .dataframe thead th {\n",
       "        text-align: right;\n",
       "    }\n",
       "</style>\n",
       "<table border=\"1\" class=\"dataframe\">\n",
       "  <thead>\n",
       "    <tr style=\"text-align: right;\">\n",
       "      <th></th>\n",
       "      <th>days</th>\n",
       "      <th>goal_calories</th>\n",
       "      <th>goal_carbs</th>\n",
       "      <th>goal_fat</th>\n",
       "      <th>goal_fiber</th>\n",
       "      <th>goal_protein</th>\n",
       "      <th>goal_sodium</th>\n",
       "      <th>goal_sugar</th>\n",
       "      <th>total_calories</th>\n",
       "      <th>total_carbs</th>\n",
       "      <th>total_fat</th>\n",
       "      <th>total_fiber</th>\n",
       "      <th>total_protein</th>\n",
       "      <th>total_sodium</th>\n",
       "      <th>total_sugar</th>\n",
       "      <th>total_sum</th>\n",
       "      <th>goal_sum</th>\n",
       "      <th>achievement</th>\n",
       "    </tr>\n",
       "  </thead>\n",
       "  <tbody>\n",
       "    <tr>\n",
       "      <th>1</th>\n",
       "      <td>174</td>\n",
       "      <td>375085.0</td>\n",
       "      <td>46633.0</td>\n",
       "      <td>12472.0</td>\n",
       "      <td>0.0</td>\n",
       "      <td>19029.0</td>\n",
       "      <td>400200.0</td>\n",
       "      <td>14076.0</td>\n",
       "      <td>401750.0</td>\n",
       "      <td>32265.0</td>\n",
       "      <td>13562.0</td>\n",
       "      <td>0.0</td>\n",
       "      <td>22408.0</td>\n",
       "      <td>360487.0</td>\n",
       "      <td>14227.0</td>\n",
       "      <td>844699.0</td>\n",
       "      <td>867495.0</td>\n",
       "      <td>68</td>\n",
       "    </tr>\n",
       "    <tr>\n",
       "      <th>2</th>\n",
       "      <td>60</td>\n",
       "      <td>90925.0</td>\n",
       "      <td>11387.0</td>\n",
       "      <td>2955.0</td>\n",
       "      <td>0.0</td>\n",
       "      <td>4714.0</td>\n",
       "      <td>138000.0</td>\n",
       "      <td>3422.0</td>\n",
       "      <td>87430.0</td>\n",
       "      <td>10872.0</td>\n",
       "      <td>2537.0</td>\n",
       "      <td>0.0</td>\n",
       "      <td>2550.0</td>\n",
       "      <td>100217.0</td>\n",
       "      <td>4573.0</td>\n",
       "      <td>208179.0</td>\n",
       "      <td>251403.0</td>\n",
       "      <td>11</td>\n",
       "    </tr>\n",
       "    <tr>\n",
       "      <th>3</th>\n",
       "      <td>7</td>\n",
       "      <td>9438.0</td>\n",
       "      <td>1178.0</td>\n",
       "      <td>312.0</td>\n",
       "      <td>196.0</td>\n",
       "      <td>469.0</td>\n",
       "      <td>16100.0</td>\n",
       "      <td>0.0</td>\n",
       "      <td>11969.0</td>\n",
       "      <td>811.0</td>\n",
       "      <td>267.0</td>\n",
       "      <td>120.0</td>\n",
       "      <td>323.0</td>\n",
       "      <td>10156.0</td>\n",
       "      <td>0.0</td>\n",
       "      <td>23646.0</td>\n",
       "      <td>27693.0</td>\n",
       "      <td>2</td>\n",
       "    </tr>\n",
       "    <tr>\n",
       "      <th>4</th>\n",
       "      <td>27</td>\n",
       "      <td>44211.0</td>\n",
       "      <td>5524.0</td>\n",
       "      <td>1464.0</td>\n",
       "      <td>0.0</td>\n",
       "      <td>2223.0</td>\n",
       "      <td>62100.0</td>\n",
       "      <td>0.0</td>\n",
       "      <td>24636.0</td>\n",
       "      <td>2682.0</td>\n",
       "      <td>1001.0</td>\n",
       "      <td>0.0</td>\n",
       "      <td>1153.0</td>\n",
       "      <td>40061.0</td>\n",
       "      <td>0.0</td>\n",
       "      <td>69533.0</td>\n",
       "      <td>115522.0</td>\n",
       "      <td>4</td>\n",
       "    </tr>\n",
       "    <tr>\n",
       "      <th>5</th>\n",
       "      <td>179</td>\n",
       "      <td>572414.0</td>\n",
       "      <td>0.0</td>\n",
       "      <td>15948.0</td>\n",
       "      <td>7564.0</td>\n",
       "      <td>35677.0</td>\n",
       "      <td>411700.0</td>\n",
       "      <td>21485.0</td>\n",
       "      <td>536631.0</td>\n",
       "      <td>0.0</td>\n",
       "      <td>13818.0</td>\n",
       "      <td>6305.0</td>\n",
       "      <td>33720.0</td>\n",
       "      <td>358700.0</td>\n",
       "      <td>21707.0</td>\n",
       "      <td>970881.0</td>\n",
       "      <td>1064788.0</td>\n",
       "      <td>58</td>\n",
       "    </tr>\n",
       "  </tbody>\n",
       "</table>\n",
       "</div>"
      ],
      "text/plain": [
       "   days  goal_calories  goal_carbs  goal_fat  goal_fiber  goal_protein  \\\n",
       "1   174       375085.0     46633.0   12472.0         0.0       19029.0   \n",
       "2    60        90925.0     11387.0    2955.0         0.0        4714.0   \n",
       "3     7         9438.0      1178.0     312.0       196.0         469.0   \n",
       "4    27        44211.0      5524.0    1464.0         0.0        2223.0   \n",
       "5   179       572414.0         0.0   15948.0      7564.0       35677.0   \n",
       "\n",
       "   goal_sodium  goal_sugar  total_calories  total_carbs  total_fat  \\\n",
       "1     400200.0     14076.0        401750.0      32265.0    13562.0   \n",
       "2     138000.0      3422.0         87430.0      10872.0     2537.0   \n",
       "3      16100.0         0.0         11969.0        811.0      267.0   \n",
       "4      62100.0         0.0         24636.0       2682.0     1001.0   \n",
       "5     411700.0     21485.0        536631.0          0.0    13818.0   \n",
       "\n",
       "   total_fiber  total_protein  total_sodium  total_sugar  total_sum  \\\n",
       "1          0.0        22408.0      360487.0      14227.0   844699.0   \n",
       "2          0.0         2550.0      100217.0       4573.0   208179.0   \n",
       "3        120.0          323.0       10156.0          0.0    23646.0   \n",
       "4          0.0         1153.0       40061.0          0.0    69533.0   \n",
       "5       6305.0        33720.0      358700.0      21707.0   970881.0   \n",
       "\n",
       "    goal_sum  achievement  \n",
       "1   867495.0           68  \n",
       "2   251403.0           11  \n",
       "3    27693.0            2  \n",
       "4   115522.0            4  \n",
       "5  1064788.0           58  "
      ]
     },
     "execution_count": 25,
     "metadata": {},
     "output_type": "execute_result"
    }
   ],
   "source": [
    "combine_df.head()"
   ]
  },
  {
   "cell_type": "markdown",
   "metadata": {},
   "source": [
    "### Setting up Dataframe for Survival Analysis\n",
    "Transform all the nutrient columns to whether or not the users' total consumption is within 10% of the goal amount."
   ]
  },
  {
   "cell_type": "code",
   "execution_count": null,
   "metadata": {},
   "outputs": [],
   "source": [
    "combine_df = pd.read_pickle('combine_df.pkl')"
   ]
  },
  {
   "cell_type": "code",
   "execution_count": 27,
   "metadata": {},
   "outputs": [],
   "source": [
    "nutrients = ['calories','carbs','fat','fiber','protein','sodium','sugar']\n",
    "\n",
    "for nutrient in nutrients:\n",
    "    total = combine_df[f'total_{nutrient}']\n",
    "    goal = combine_df[f'goal_{nutrient}']\n",
    "    combine_df[f'{nutrient}_10_pct'] = np.where(abs((total - goal) / goal) <= 0.1, 1, 0)"
   ]
  },
  {
   "cell_type": "code",
   "execution_count": 28,
   "metadata": {},
   "outputs": [],
   "source": [
    "x = ['goal_calories','goal_carbs','goal_fat','goal_fiber','goal_protein',\n",
    "     'goal_sodium','goal_sugar','total_calories','total_carbs','total_fat',\n",
    "     'total_fiber','total_protein','total_sodium','total_sugar','total_sum','goal_sum']\n",
    "\n",
    "survival_df = combine_df.drop(x, axis=1)"
   ]
  },
  {
   "cell_type": "code",
   "execution_count": 29,
   "metadata": {},
   "outputs": [
    {
     "data": {
      "text/html": [
       "<div>\n",
       "<style scoped>\n",
       "    .dataframe tbody tr th:only-of-type {\n",
       "        vertical-align: middle;\n",
       "    }\n",
       "\n",
       "    .dataframe tbody tr th {\n",
       "        vertical-align: top;\n",
       "    }\n",
       "\n",
       "    .dataframe thead th {\n",
       "        text-align: right;\n",
       "    }\n",
       "</style>\n",
       "<table border=\"1\" class=\"dataframe\">\n",
       "  <thead>\n",
       "    <tr style=\"text-align: right;\">\n",
       "      <th></th>\n",
       "      <th>days</th>\n",
       "      <th>achievement</th>\n",
       "      <th>calories_10_pct</th>\n",
       "      <th>carbs_10_pct</th>\n",
       "      <th>fat_10_pct</th>\n",
       "      <th>fiber_10_pct</th>\n",
       "      <th>protein_10_pct</th>\n",
       "      <th>sodium_10_pct</th>\n",
       "      <th>sugar_10_pct</th>\n",
       "    </tr>\n",
       "  </thead>\n",
       "  <tbody>\n",
       "    <tr>\n",
       "      <th>1</th>\n",
       "      <td>174</td>\n",
       "      <td>68</td>\n",
       "      <td>1</td>\n",
       "      <td>0</td>\n",
       "      <td>1</td>\n",
       "      <td>0</td>\n",
       "      <td>0</td>\n",
       "      <td>1</td>\n",
       "      <td>1</td>\n",
       "    </tr>\n",
       "    <tr>\n",
       "      <th>2</th>\n",
       "      <td>60</td>\n",
       "      <td>11</td>\n",
       "      <td>1</td>\n",
       "      <td>1</td>\n",
       "      <td>0</td>\n",
       "      <td>0</td>\n",
       "      <td>0</td>\n",
       "      <td>0</td>\n",
       "      <td>0</td>\n",
       "    </tr>\n",
       "    <tr>\n",
       "      <th>3</th>\n",
       "      <td>7</td>\n",
       "      <td>2</td>\n",
       "      <td>0</td>\n",
       "      <td>0</td>\n",
       "      <td>0</td>\n",
       "      <td>0</td>\n",
       "      <td>0</td>\n",
       "      <td>0</td>\n",
       "      <td>0</td>\n",
       "    </tr>\n",
       "    <tr>\n",
       "      <th>4</th>\n",
       "      <td>27</td>\n",
       "      <td>4</td>\n",
       "      <td>0</td>\n",
       "      <td>0</td>\n",
       "      <td>0</td>\n",
       "      <td>0</td>\n",
       "      <td>0</td>\n",
       "      <td>0</td>\n",
       "      <td>0</td>\n",
       "    </tr>\n",
       "    <tr>\n",
       "      <th>5</th>\n",
       "      <td>179</td>\n",
       "      <td>58</td>\n",
       "      <td>1</td>\n",
       "      <td>0</td>\n",
       "      <td>0</td>\n",
       "      <td>0</td>\n",
       "      <td>1</td>\n",
       "      <td>0</td>\n",
       "      <td>1</td>\n",
       "    </tr>\n",
       "  </tbody>\n",
       "</table>\n",
       "</div>"
      ],
      "text/plain": [
       "   days  achievement  calories_10_pct  carbs_10_pct  fat_10_pct  fiber_10_pct  \\\n",
       "1   174           68                1             0           1             0   \n",
       "2    60           11                1             1           0             0   \n",
       "3     7            2                0             0           0             0   \n",
       "4    27            4                0             0           0             0   \n",
       "5   179           58                1             0           0             0   \n",
       "\n",
       "   protein_10_pct  sodium_10_pct  sugar_10_pct  \n",
       "1               0              1             1  \n",
       "2               0              0             0  \n",
       "3               0              0             0  \n",
       "4               0              0             0  \n",
       "5               1              0             1  "
      ]
     },
     "execution_count": 29,
     "metadata": {},
     "output_type": "execute_result"
    }
   ],
   "source": [
    "survival_df.head()"
   ]
  },
  {
   "cell_type": "markdown",
   "metadata": {},
   "source": [
    "### 14 day Churn:"
   ]
  },
  {
   "cell_type": "code",
   "execution_count": 30,
   "metadata": {},
   "outputs": [],
   "source": [
    "from lifelines import CoxPHFitter, KaplanMeierFitter\n",
    "from sklearn.model_selection import train_test_split"
   ]
  },
  {
   "cell_type": "code",
   "execution_count": 31,
   "metadata": {},
   "outputs": [],
   "source": [
    "survival_df['14day_churn'] = np.where(survival_df['days'] <= 14, 1, 0)"
   ]
  },
  {
   "cell_type": "code",
   "execution_count": 32,
   "metadata": {
    "scrolled": true
   },
   "outputs": [
    {
     "data": {
      "text/html": [
       "<div>\n",
       "<style scoped>\n",
       "    .dataframe tbody tr th:only-of-type {\n",
       "        vertical-align: middle;\n",
       "    }\n",
       "\n",
       "    .dataframe tbody tr th {\n",
       "        vertical-align: top;\n",
       "    }\n",
       "\n",
       "    .dataframe thead th {\n",
       "        text-align: right;\n",
       "    }\n",
       "</style>\n",
       "<table border=\"1\" class=\"dataframe\">\n",
       "  <thead>\n",
       "    <tr style=\"text-align: right;\">\n",
       "      <th></th>\n",
       "      <th>days</th>\n",
       "      <th>achievement</th>\n",
       "      <th>calories_10_pct</th>\n",
       "      <th>carbs_10_pct</th>\n",
       "      <th>fat_10_pct</th>\n",
       "      <th>fiber_10_pct</th>\n",
       "      <th>protein_10_pct</th>\n",
       "      <th>sodium_10_pct</th>\n",
       "      <th>sugar_10_pct</th>\n",
       "      <th>14day_churn</th>\n",
       "    </tr>\n",
       "  </thead>\n",
       "  <tbody>\n",
       "    <tr>\n",
       "      <th>1</th>\n",
       "      <td>174</td>\n",
       "      <td>68</td>\n",
       "      <td>1</td>\n",
       "      <td>0</td>\n",
       "      <td>1</td>\n",
       "      <td>0</td>\n",
       "      <td>0</td>\n",
       "      <td>1</td>\n",
       "      <td>1</td>\n",
       "      <td>0</td>\n",
       "    </tr>\n",
       "    <tr>\n",
       "      <th>2</th>\n",
       "      <td>60</td>\n",
       "      <td>11</td>\n",
       "      <td>1</td>\n",
       "      <td>1</td>\n",
       "      <td>0</td>\n",
       "      <td>0</td>\n",
       "      <td>0</td>\n",
       "      <td>0</td>\n",
       "      <td>0</td>\n",
       "      <td>0</td>\n",
       "    </tr>\n",
       "    <tr>\n",
       "      <th>3</th>\n",
       "      <td>7</td>\n",
       "      <td>2</td>\n",
       "      <td>0</td>\n",
       "      <td>0</td>\n",
       "      <td>0</td>\n",
       "      <td>0</td>\n",
       "      <td>0</td>\n",
       "      <td>0</td>\n",
       "      <td>0</td>\n",
       "      <td>1</td>\n",
       "    </tr>\n",
       "    <tr>\n",
       "      <th>4</th>\n",
       "      <td>27</td>\n",
       "      <td>4</td>\n",
       "      <td>0</td>\n",
       "      <td>0</td>\n",
       "      <td>0</td>\n",
       "      <td>0</td>\n",
       "      <td>0</td>\n",
       "      <td>0</td>\n",
       "      <td>0</td>\n",
       "      <td>0</td>\n",
       "    </tr>\n",
       "    <tr>\n",
       "      <th>5</th>\n",
       "      <td>179</td>\n",
       "      <td>58</td>\n",
       "      <td>1</td>\n",
       "      <td>0</td>\n",
       "      <td>0</td>\n",
       "      <td>0</td>\n",
       "      <td>1</td>\n",
       "      <td>0</td>\n",
       "      <td>1</td>\n",
       "      <td>0</td>\n",
       "    </tr>\n",
       "  </tbody>\n",
       "</table>\n",
       "</div>"
      ],
      "text/plain": [
       "   days  achievement  calories_10_pct  carbs_10_pct  fat_10_pct  fiber_10_pct  \\\n",
       "1   174           68                1             0           1             0   \n",
       "2    60           11                1             1           0             0   \n",
       "3     7            2                0             0           0             0   \n",
       "4    27            4                0             0           0             0   \n",
       "5   179           58                1             0           0             0   \n",
       "\n",
       "   protein_10_pct  sodium_10_pct  sugar_10_pct  14day_churn  \n",
       "1               0              1             1            0  \n",
       "2               0              0             0            0  \n",
       "3               0              0             0            1  \n",
       "4               0              0             0            0  \n",
       "5               1              0             1            0  "
      ]
     },
     "execution_count": 32,
     "metadata": {},
     "output_type": "execute_result"
    }
   ],
   "source": [
    "survival_df.head()"
   ]
  },
  {
   "cell_type": "code",
   "execution_count": 33,
   "metadata": {},
   "outputs": [
    {
     "name": "stdout",
     "output_type": "stream",
     "text": [
      "<lifelines.CoxPHFitter: fitted with 9896 observations, 7262 censored>\n",
      "      duration col = 'days'\n",
      "         event col = '14day_churn'\n",
      "number of subjects = 9896\n",
      "  number of events = 2634\n",
      "partial log-likelihood = -20570.27\n",
      "  time fit was run = 2019-07-01 17:41:07 UTC\n",
      "\n",
      "---\n",
      "                 coef exp(coef)  se(coef)      z      p  -log2(p)  lower 0.95  upper 0.95\n",
      "achievement     -0.69      0.50      0.02 -42.17 <0.005       inf       -0.72       -0.66\n",
      "calories_10_pct  0.44      1.56      0.07   6.51 <0.005     33.65        0.31        0.58\n",
      "carbs_10_pct     0.19      1.21      0.08   2.48   0.01      6.26        0.04        0.34\n",
      "fat_10_pct       0.24      1.27      0.06   3.92 <0.005     13.45        0.12        0.36\n",
      "fiber_10_pct     0.51      1.66      0.17   3.00 <0.005      8.54        0.18        0.84\n",
      "protein_10_pct   0.23      1.26      0.08   2.99 <0.005      8.48        0.08        0.39\n",
      "sodium_10_pct    0.54      1.72      0.08   6.67 <0.005     35.23        0.38        0.70\n",
      "sugar_10_pct     0.07      1.07      0.07   0.91   0.36      1.46       -0.08        0.21\n",
      "---\n",
      "Concordance = 0.90\n",
      "Log-likelihood ratio test = 6551.59 on 8 df, -log2(p)=inf\n"
     ]
    }
   ],
   "source": [
    "cph = CoxPHFitter()\n",
    "fourteen_days = cph.fit(survival_df, duration_col='days', event_col='14day_churn')\n",
    "fourteen_days.print_summary()"
   ]
  },
  {
   "cell_type": "code",
   "execution_count": 34,
   "metadata": {
    "scrolled": true
   },
   "outputs": [
    {
     "data": {
      "text/plain": [
       "<matplotlib.axes._subplots.AxesSubplot at 0x1a2c81ea90>"
      ]
     },
     "execution_count": 34,
     "metadata": {},
     "output_type": "execute_result"
    },
    {
     "data": {
      "image/png": "[encoded data removed]",
      "text/plain": [
       "<Figure size 432x288 with 1 Axes>"
      ]
     },
     "metadata": {
      "needs_background": "light"
     },
     "output_type": "display_data"
    }
   ],
   "source": [
    "fourteen_days.plot()"
   ]
  },
  {
   "cell_type": "code",
   "execution_count": 35,
   "metadata": {},
   "outputs": [
    {
     "data": {
      "text/plain": [
       "<matplotlib.axes._subplots.AxesSubplot at 0x1a2e79b748>"
      ]
     },
     "execution_count": 35,
     "metadata": {},
     "output_type": "execute_result"
    },
    {
     "data": {
      "image/png": "[encoded data removed]",
      "text/plain": [
       "<Figure size 432x288 with 1 Axes>"
      ]
     },
     "metadata": {
      "needs_background": "light"
     },
     "output_type": "display_data"
    }
   ],
   "source": [
    "cph.plot_covariate_groups('sodium_10_pct', [0, 2, 4, 8], cmap='coolwarm')"
   ]
  },
  {
   "cell_type": "markdown",
   "metadata": {},
   "source": [
    "### 45 day Churn:"
   ]
  },
  {
   "cell_type": "code",
   "execution_count": 36,
   "metadata": {},
   "outputs": [
    {
     "data": {
      "text/html": [
       "<div>\n",
       "<style scoped>\n",
       "    .dataframe tbody tr th:only-of-type {\n",
       "        vertical-align: middle;\n",
       "    }\n",
       "\n",
       "    .dataframe tbody tr th {\n",
       "        vertical-align: top;\n",
       "    }\n",
       "\n",
       "    .dataframe thead th {\n",
       "        text-align: right;\n",
       "    }\n",
       "</style>\n",
       "<table border=\"1\" class=\"dataframe\">\n",
       "  <thead>\n",
       "    <tr style=\"text-align: right;\">\n",
       "      <th></th>\n",
       "      <th>days</th>\n",
       "      <th>achievement</th>\n",
       "      <th>calories_10_pct</th>\n",
       "      <th>carbs_10_pct</th>\n",
       "      <th>fat_10_pct</th>\n",
       "      <th>fiber_10_pct</th>\n",
       "      <th>protein_10_pct</th>\n",
       "      <th>sodium_10_pct</th>\n",
       "      <th>sugar_10_pct</th>\n",
       "      <th>45day_churn</th>\n",
       "    </tr>\n",
       "  </thead>\n",
       "  <tbody>\n",
       "    <tr>\n",
       "      <th>1</th>\n",
       "      <td>174</td>\n",
       "      <td>68</td>\n",
       "      <td>1</td>\n",
       "      <td>0</td>\n",
       "      <td>1</td>\n",
       "      <td>0</td>\n",
       "      <td>0</td>\n",
       "      <td>1</td>\n",
       "      <td>1</td>\n",
       "      <td>0</td>\n",
       "    </tr>\n",
       "    <tr>\n",
       "      <th>2</th>\n",
       "      <td>60</td>\n",
       "      <td>11</td>\n",
       "      <td>1</td>\n",
       "      <td>1</td>\n",
       "      <td>0</td>\n",
       "      <td>0</td>\n",
       "      <td>0</td>\n",
       "      <td>0</td>\n",
       "      <td>0</td>\n",
       "      <td>0</td>\n",
       "    </tr>\n",
       "    <tr>\n",
       "      <th>3</th>\n",
       "      <td>7</td>\n",
       "      <td>2</td>\n",
       "      <td>0</td>\n",
       "      <td>0</td>\n",
       "      <td>0</td>\n",
       "      <td>0</td>\n",
       "      <td>0</td>\n",
       "      <td>0</td>\n",
       "      <td>0</td>\n",
       "      <td>1</td>\n",
       "    </tr>\n",
       "    <tr>\n",
       "      <th>4</th>\n",
       "      <td>27</td>\n",
       "      <td>4</td>\n",
       "      <td>0</td>\n",
       "      <td>0</td>\n",
       "      <td>0</td>\n",
       "      <td>0</td>\n",
       "      <td>0</td>\n",
       "      <td>0</td>\n",
       "      <td>0</td>\n",
       "      <td>1</td>\n",
       "    </tr>\n",
       "    <tr>\n",
       "      <th>5</th>\n",
       "      <td>179</td>\n",
       "      <td>58</td>\n",
       "      <td>1</td>\n",
       "      <td>0</td>\n",
       "      <td>0</td>\n",
       "      <td>0</td>\n",
       "      <td>1</td>\n",
       "      <td>0</td>\n",
       "      <td>1</td>\n",
       "      <td>0</td>\n",
       "    </tr>\n",
       "  </tbody>\n",
       "</table>\n",
       "</div>"
      ],
      "text/plain": [
       "   days  achievement  calories_10_pct  carbs_10_pct  fat_10_pct  fiber_10_pct  \\\n",
       "1   174           68                1             0           1             0   \n",
       "2    60           11                1             1           0             0   \n",
       "3     7            2                0             0           0             0   \n",
       "4    27            4                0             0           0             0   \n",
       "5   179           58                1             0           0             0   \n",
       "\n",
       "   protein_10_pct  sodium_10_pct  sugar_10_pct  45day_churn  \n",
       "1               0              1             1            0  \n",
       "2               0              0             0            0  \n",
       "3               0              0             0            1  \n",
       "4               0              0             0            1  \n",
       "5               1              0             1            0  "
      ]
     },
     "execution_count": 36,
     "metadata": {},
     "output_type": "execute_result"
    }
   ],
   "source": [
    "survival_df['45day_churn'] = np.where(survival_df['days'] <= 45, 1, 0)\n",
    "survival_df = survival_df.drop(['14day_churn'], axis=1)\n",
    "survival_df.head()"
   ]
  },
  {
   "cell_type": "code",
   "execution_count": 37,
   "metadata": {
    "scrolled": false
   },
   "outputs": [
    {
     "name": "stdout",
     "output_type": "stream",
     "text": [
      "<lifelines.CoxPHFitter: fitted with 9896 observations, 4713 censored>\n",
      "      duration col = 'days'\n",
      "         event col = '45day_churn'\n",
      "number of subjects = 9896\n",
      "  number of events = 5183\n",
      "partial log-likelihood = -41253.04\n",
      "  time fit was run = 2019-07-01 17:41:45 UTC\n",
      "\n",
      "---\n",
      "                 coef exp(coef)  se(coef)      z      p  -log2(p)  lower 0.95  upper 0.95\n",
      "achievement     -0.29      0.75      0.00 -59.96 <0.005       inf       -0.30       -0.28\n",
      "calories_10_pct  0.33      1.39      0.05   7.06 <0.005     39.13        0.24        0.43\n",
      "carbs_10_pct     0.15      1.17      0.05   3.03 <0.005      8.68        0.05        0.25\n",
      "fat_10_pct       0.26      1.30      0.04   6.61 <0.005     34.56        0.19        0.34\n",
      "fiber_10_pct     0.23      1.26      0.12   1.99   0.05      4.43        0.00        0.46\n",
      "protein_10_pct   0.22      1.25      0.05   4.12 <0.005     14.70        0.12        0.32\n",
      "sodium_10_pct    0.61      1.84      0.05  11.66 <0.005    101.91        0.51        0.72\n",
      "sugar_10_pct     0.02      1.02      0.05   0.48   0.63      0.66       -0.08        0.12\n",
      "---\n",
      "Concordance = 0.88\n",
      "Log-likelihood ratio test = 9486.94 on 8 df, -log2(p)=inf\n"
     ]
    }
   ],
   "source": [
    "fortyfive_days = cph.fit(survival_df, duration_col='days', event_col='45day_churn')\n",
    "fortyfive_days.print_summary()"
   ]
  },
  {
   "cell_type": "code",
   "execution_count": 38,
   "metadata": {
    "scrolled": false
   },
   "outputs": [
    {
     "data": {
      "text/plain": [
       "<matplotlib.axes._subplots.AxesSubplot at 0x1a2e7f9f60>"
      ]
     },
     "execution_count": 38,
     "metadata": {},
     "output_type": "execute_result"
    },
    {
     "data": {
      "image/png": "[encoded data removed]",
      "text/plain": [
       "<Figure size 432x288 with 1 Axes>"
      ]
     },
     "metadata": {
      "needs_background": "light"
     },
     "output_type": "display_data"
    }
   ],
   "source": [
    "fortyfive_days.plot()"
   ]
  },
  {
   "cell_type": "code",
   "execution_count": 39,
   "metadata": {},
   "outputs": [
    {
     "data": {
      "text/plain": [
       "<matplotlib.axes._subplots.AxesSubplot at 0x1a2e891eb8>"
      ]
     },
     "execution_count": 39,
     "metadata": {},
     "output_type": "execute_result"
    },
    {
     "data": {
      "image/png": "[encoded data removed]",
      "text/plain": [
       "<Figure size 432x288 with 1 Axes>"
      ]
     },
     "metadata": {
      "needs_background": "light"
     },
     "output_type": "display_data"
    }
   ],
   "source": [
    "cph.plot_covariate_groups('sodium_10_pct', [0, 2, 4, 8], cmap='coolwarm')"
   ]
  },
  {
   "cell_type": "markdown",
   "metadata": {},
   "source": [
    "### 90 day Churn:"
   ]
  },
  {
   "cell_type": "code",
   "execution_count": 40,
   "metadata": {},
   "outputs": [
    {
     "data": {
      "text/html": [
       "<div>\n",
       "<style scoped>\n",
       "    .dataframe tbody tr th:only-of-type {\n",
       "        vertical-align: middle;\n",
       "    }\n",
       "\n",
       "    .dataframe tbody tr th {\n",
       "        vertical-align: top;\n",
       "    }\n",
       "\n",
       "    .dataframe thead th {\n",
       "        text-align: right;\n",
       "    }\n",
       "</style>\n",
       "<table border=\"1\" class=\"dataframe\">\n",
       "  <thead>\n",
       "    <tr style=\"text-align: right;\">\n",
       "      <th></th>\n",
       "      <th>days</th>\n",
       "      <th>achievement</th>\n",
       "      <th>calories_10_pct</th>\n",
       "      <th>carbs_10_pct</th>\n",
       "      <th>fat_10_pct</th>\n",
       "      <th>fiber_10_pct</th>\n",
       "      <th>protein_10_pct</th>\n",
       "      <th>sodium_10_pct</th>\n",
       "      <th>sugar_10_pct</th>\n",
       "      <th>90day_churn</th>\n",
       "    </tr>\n",
       "  </thead>\n",
       "  <tbody>\n",
       "    <tr>\n",
       "      <th>1</th>\n",
       "      <td>174</td>\n",
       "      <td>68</td>\n",
       "      <td>1</td>\n",
       "      <td>0</td>\n",
       "      <td>1</td>\n",
       "      <td>0</td>\n",
       "      <td>0</td>\n",
       "      <td>1</td>\n",
       "      <td>1</td>\n",
       "      <td>0</td>\n",
       "    </tr>\n",
       "    <tr>\n",
       "      <th>2</th>\n",
       "      <td>60</td>\n",
       "      <td>11</td>\n",
       "      <td>1</td>\n",
       "      <td>1</td>\n",
       "      <td>0</td>\n",
       "      <td>0</td>\n",
       "      <td>0</td>\n",
       "      <td>0</td>\n",
       "      <td>0</td>\n",
       "      <td>1</td>\n",
       "    </tr>\n",
       "    <tr>\n",
       "      <th>3</th>\n",
       "      <td>7</td>\n",
       "      <td>2</td>\n",
       "      <td>0</td>\n",
       "      <td>0</td>\n",
       "      <td>0</td>\n",
       "      <td>0</td>\n",
       "      <td>0</td>\n",
       "      <td>0</td>\n",
       "      <td>0</td>\n",
       "      <td>1</td>\n",
       "    </tr>\n",
       "    <tr>\n",
       "      <th>4</th>\n",
       "      <td>27</td>\n",
       "      <td>4</td>\n",
       "      <td>0</td>\n",
       "      <td>0</td>\n",
       "      <td>0</td>\n",
       "      <td>0</td>\n",
       "      <td>0</td>\n",
       "      <td>0</td>\n",
       "      <td>0</td>\n",
       "      <td>1</td>\n",
       "    </tr>\n",
       "    <tr>\n",
       "      <th>5</th>\n",
       "      <td>179</td>\n",
       "      <td>58</td>\n",
       "      <td>1</td>\n",
       "      <td>0</td>\n",
       "      <td>0</td>\n",
       "      <td>0</td>\n",
       "      <td>1</td>\n",
       "      <td>0</td>\n",
       "      <td>1</td>\n",
       "      <td>0</td>\n",
       "    </tr>\n",
       "  </tbody>\n",
       "</table>\n",
       "</div>"
      ],
      "text/plain": [
       "   days  achievement  calories_10_pct  carbs_10_pct  fat_10_pct  fiber_10_pct  \\\n",
       "1   174           68                1             0           1             0   \n",
       "2    60           11                1             1           0             0   \n",
       "3     7            2                0             0           0             0   \n",
       "4    27            4                0             0           0             0   \n",
       "5   179           58                1             0           0             0   \n",
       "\n",
       "   protein_10_pct  sodium_10_pct  sugar_10_pct  90day_churn  \n",
       "1               0              1             1            0  \n",
       "2               0              0             0            1  \n",
       "3               0              0             0            1  \n",
       "4               0              0             0            1  \n",
       "5               1              0             1            0  "
      ]
     },
     "execution_count": 40,
     "metadata": {},
     "output_type": "execute_result"
    }
   ],
   "source": [
    "survival_df['90day_churn'] = np.where(survival_df['days'] <= 90, 1, 0)\n",
    "survival_df = survival_df.drop(['45day_churn'], axis=1)\n",
    "survival_df.head()"
   ]
  },
  {
   "cell_type": "code",
   "execution_count": 41,
   "metadata": {},
   "outputs": [
    {
     "name": "stdout",
     "output_type": "stream",
     "text": [
      "<lifelines.CoxPHFitter: fitted with 9896 observations, 2538 censored>\n",
      "      duration col = 'days'\n",
      "         event col = '90day_churn'\n",
      "number of subjects = 9896\n",
      "  number of events = 7358\n",
      "partial log-likelihood = -59136.16\n",
      "  time fit was run = 2019-07-01 17:41:51 UTC\n",
      "\n",
      "---\n",
      "                 coef exp(coef)  se(coef)      z      p  -log2(p)  lower 0.95  upper 0.95\n",
      "achievement     -0.15      0.86      0.00 -67.24 <0.005       inf       -0.15       -0.14\n",
      "calories_10_pct  0.29      1.34      0.04   7.77 <0.005     46.80        0.22        0.36\n",
      "carbs_10_pct     0.09      1.09      0.04   2.18   0.03      5.09        0.01        0.17\n",
      "fat_10_pct       0.27      1.31      0.03   8.29 <0.005     53.00        0.20        0.33\n",
      "fiber_10_pct     0.18      1.20      0.09   2.02   0.04      4.53        0.01        0.36\n",
      "protein_10_pct   0.17      1.18      0.04   3.76 <0.005     12.54        0.08        0.26\n",
      "sodium_10_pct    0.49      1.63      0.04  11.86 <0.005    105.29        0.41        0.57\n",
      "sugar_10_pct     0.03      1.03      0.04   0.76   0.45      1.17       -0.05        0.11\n",
      "---\n",
      "Concordance = 0.85\n",
      "Log-likelihood ratio test = 9305.75 on 8 df, -log2(p)=inf\n"
     ]
    }
   ],
   "source": [
    "ninety_days = cph.fit(survival_df, duration_col='days', event_col='90day_churn')\n",
    "ninety_days.print_summary()"
   ]
  },
  {
   "cell_type": "code",
   "execution_count": 42,
   "metadata": {},
   "outputs": [
    {
     "data": {
      "text/plain": [
       "<matplotlib.axes._subplots.AxesSubplot at 0x1a2eab8208>"
      ]
     },
     "execution_count": 42,
     "metadata": {},
     "output_type": "execute_result"
    },
    {
     "data": {
      "image/png": "[encoded data removed]",
      "text/plain": [
       "<Figure size 432x288 with 1 Axes>"
      ]
     },
     "metadata": {
      "needs_background": "light"
     },
     "output_type": "display_data"
    }
   ],
   "source": [
    "ninety_days.plot()"
   ]
  },
  {
   "cell_type": "code",
   "execution_count": 43,
   "metadata": {
    "scrolled": false
   },
   "outputs": [
    {
     "data": {
      "text/plain": [
       "<matplotlib.axes._subplots.AxesSubplot at 0x1a2f1ef6d8>"
      ]
     },
     "execution_count": 43,
     "metadata": {},
     "output_type": "execute_result"
    },
    {
     "data": {
      "image/png": "[encoded data removed]",
      "text/plain": [
       "<Figure size 432x288 with 1 Axes>"
      ]
     },
     "metadata": {
      "needs_background": "light"
     },
     "output_type": "display_data"
    }
   ],
   "source": [
    "cph.plot_covariate_groups('sodium_10_pct', [0, 2, 4, 8], cmap='coolwarm')"
   ]
  },
  {
   "cell_type": "markdown",
   "metadata": {},
   "source": [
    "## Time Series Analysis"
   ]
  },
  {
   "cell_type": "code",
   "execution_count": null,
   "metadata": {
    "scrolled": false
   },
   "outputs": [],
   "source": [
    "total_goal_df.head()"
   ]
  },
  {
   "cell_type": "code",
   "execution_count": null,
   "metadata": {},
   "outputs": [],
   "source": [
    "irrelevant = ['goal_calories','goal_carbs','goal_fat','goal_fiber','goal_protein',\n",
    "              'goal_sodium','goal_sugar','total_calories','total_carbs','total_fat',\n",
    "              'total_fiber','total_protein','total_sodium','total_sugar','achievement']\n",
    "\n",
    "time_df = total_goal_df.drop(irrelevant, axis=1)"
   ]
  },
  {
   "cell_type": "code",
   "execution_count": null,
   "metadata": {},
   "outputs": [],
   "source": [
    "time_df.head()"
   ]
  },
  {
   "cell_type": "code",
   "execution_count": null,
   "metadata": {},
   "outputs": [],
   "source": [
    "time_df['tg_diff'] = round(abs((time_df['total_sum'] - time_df['goal_sum'])/time_df['goal_sum']), 3)"
   ]
  },
  {
   "cell_type": "code",
   "execution_count": null,
   "metadata": {},
   "outputs": [],
   "source": [
    "# time_df['tg_diff'] = pd.Series([\"{0:.2f}%\".format(val * 100) for val in time_df['tg_diff']])"
   ]
  },
  {
   "cell_type": "code",
   "execution_count": null,
   "metadata": {},
   "outputs": [],
   "source": [
    "time_df = time_df.drop(['total_sum','goal_sum'], axis=1)"
   ]
  },
  {
   "cell_type": "code",
   "execution_count": null,
   "metadata": {},
   "outputs": [],
   "source": [
    "time_df.set_index('diary_date', inplace=True)"
   ]
  },
  {
   "cell_type": "code",
   "execution_count": null,
   "metadata": {},
   "outputs": [],
   "source": [
    "time_df.head()"
   ]
  },
  {
   "cell_type": "code",
   "execution_count": null,
   "metadata": {},
   "outputs": [],
   "source": [
    "new_time_df = pd.DataFrame(time_df[(time_df['userId']==1)|(time_df['userId']==2)])"
   ]
  },
  {
   "cell_type": "code",
   "execution_count": null,
   "metadata": {},
   "outputs": [],
   "source": [
    "new_time_df.head()"
   ]
  },
  {
   "cell_type": "code",
   "execution_count": null,
   "metadata": {
    "scrolled": true
   },
   "outputs": [],
   "source": [
    "by_label = new_time_df.groupby('userId')\n",
    "\n",
    "for name, group in by_label:\n",
    "    plt.plot(group['tg_diff'], label=name)\n",
    "\n",
    "plt.legend()\n",
    "plt.show()"
   ]
  },
  {
   "cell_type": "code",
   "execution_count": null,
   "metadata": {},
   "outputs": [],
   "source": []
  },
  {
   "cell_type": "code",
   "execution_count": null,
   "metadata": {},
   "outputs": [],
   "source": []
  },
  {
   "cell_type": "markdown",
   "metadata": {},
   "source": [
    "## Logistic Regression"
   ]
  },
  {
   "cell_type": "code",
   "execution_count": null,
   "metadata": {
    "scrolled": true
   },
   "outputs": [],
   "source": [
    "combine_df = pd.read_pickle('combine_df.pkl')\n",
    "combine_df.head()"
   ]
  },
  {
   "cell_type": "code",
   "execution_count": 44,
   "metadata": {},
   "outputs": [],
   "source": [
    "from sklearn.model_selection import train_test_split\n",
    "from sklearn.linear_model import LogisticRegression\n",
    "from sklearn.preprocessing import StandardScaler\n",
    "from sklearn.metrics import roc_curve, auc, precision_score, recall_score, accuracy_score, f1_score"
   ]
  },
  {
   "cell_type": "code",
   "execution_count": null,
   "metadata": {},
   "outputs": [],
   "source": [
    "#Setting X and y variables, then Train Test Split\n",
    "X = combine_df.drop(['days','goal_sum','total_sum','goal_calories','goal_carbs',\n",
    "                     'goal_fat','goal_fiber','goal_protein','goal_sodium','goal_sugar'], \n",
    "                      axis=1)\n",
    "y = combine_df.achievement\n",
    "\n",
    "X_train, X_test, y_train, y_test = train_test_split(X, y, test_size=0.25, random_state=1)"
   ]
  },
  {
   "cell_type": "code",
   "execution_count": null,
   "metadata": {},
   "outputs": [],
   "source": [
    "loreg = LogisticRegression(solver='lbfgs', max_iter=1000)\n",
    "loreg.fit(X_train, y_train)\n",
    "loreg_preds = loreg.predict(X_test)"
   ]
  },
  {
   "cell_type": "code",
   "execution_count": null,
   "metadata": {},
   "outputs": [],
   "source": [
    "def print_metrics(y, loreg_preds):\n",
    "    print(\"Precision Score: {}\".format(precision_score(y, loreg_preds)))\n",
    "    print(\"Recall Score: {}\".format(recall_score(y, loreg_preds)))\n",
    "    print(\"Accuracy Score: {}\".format(accuracy_score(y, loreg_preds)))\n",
    "    print(\"F1 Score: {}\".format(f1_score(y, loreg_preds)))\n",
    "    \n",
    "print_metrics(y_test, loreg_preds)"
   ]
  },
  {
   "cell_type": "code",
   "execution_count": null,
   "metadata": {},
   "outputs": [],
   "source": []
  },
  {
   "cell_type": "code",
   "execution_count": null,
   "metadata": {},
   "outputs": [],
   "source": []
  },
  {
   "cell_type": "code",
   "execution_count": null,
   "metadata": {},
   "outputs": [],
   "source": [
    "# json_dict.keys()[0]\n",
    "# Gives Error: 'dict_keys' object does not support indexing, hence needs to be set to a list to iterate."
   ]
  },
  {
   "cell_type": "code",
   "execution_count": null,
   "metadata": {},
   "outputs": [],
   "source": [
    "# df = pd.DataFrame([[1, 4],\n",
    "#                    [2, 5],\n",
    "#                    [3, 6]],\n",
    "#                   columns=[\"a\", \"b\"])\n",
    "# df"
   ]
  },
  {
   "cell_type": "code",
   "execution_count": null,
   "metadata": {},
   "outputs": [],
   "source": [
    "# df[\"c\"] = df.apply(np.sum, axis=1)\n",
    "# df"
   ]
  }
 ],
 "metadata": {
  "kernelspec": {
   "display_name": "Python 3",
   "language": "python",
   "name": "python3"
  },
  "language_info": {
   "codemirror_mode": {
    "name": "ipython",
    "version": 3
   },
   "file_extension": ".py",
   "mimetype": "text/x-python",
   "name": "python",
   "nbconvert_exporter": "python",
   "pygments_lexer": "ipython3",
   "version": "3.7.1"
  }
 },
 "nbformat": 4,
 "nbformat_minor": 2
}
