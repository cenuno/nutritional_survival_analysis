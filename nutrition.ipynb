{
 "cells": [
  {
   "cell_type": "code",
   "execution_count": 1,
   "metadata": {},
   "outputs": [],
   "source": [
    "import pandas as pd\n",
    "import numpy as np\n",
    "import json\n",
    "import matplotlib.pyplot as plt\n",
    "import seaborn as sns\n",
    "%matplotlib inline\n",
    "plt.style.use('seaborn')"
   ]
  },
  {
   "cell_type": "code",
   "execution_count": null,
   "metadata": {
    "scrolled": true
   },
   "outputs": [],
   "source": [
    "# !head data/mfp-diaries.tsv"
   ]
  },
  {
   "cell_type": "markdown",
   "metadata": {},
   "source": [
    "## Exploratory Data Analysis"
   ]
  },
  {
   "cell_type": "code",
   "execution_count": 2,
   "metadata": {},
   "outputs": [],
   "source": [
    "df = pd.read_csv('data/mfp-diaries.tsv',\n",
    "                  sep='\\t',\n",
    "                  header=None,\n",
    "                  names=['userId','diary_date','food_entries','daily_goal'])"
   ]
  },
  {
   "cell_type": "code",
   "execution_count": 4,
   "metadata": {},
   "outputs": [
    {
     "data": {
      "text/html": [
       "<div>\n",
       "<style scoped>\n",
       "    .dataframe tbody tr th:only-of-type {\n",
       "        vertical-align: middle;\n",
       "    }\n",
       "\n",
       "    .dataframe tbody tr th {\n",
       "        vertical-align: top;\n",
       "    }\n",
       "\n",
       "    .dataframe thead th {\n",
       "        text-align: right;\n",
       "    }\n",
       "</style>\n",
       "<table border=\"1\" class=\"dataframe\">\n",
       "  <thead>\n",
       "    <tr style=\"text-align: right;\">\n",
       "      <th></th>\n",
       "      <th>userId</th>\n",
       "      <th>diary_date</th>\n",
       "      <th>food_entries</th>\n",
       "      <th>daily_goal</th>\n",
       "    </tr>\n",
       "  </thead>\n",
       "  <tbody>\n",
       "    <tr>\n",
       "      <th>0</th>\n",
       "      <td>1</td>\n",
       "      <td>2014-09-14</td>\n",
       "      <td>[{\"meal\": \"MY food\", \"dishes\": [{\"nutritions\":...</td>\n",
       "      <td>{\"total\": [{\"name\": \"Calories\", \"value\": 2924}...</td>\n",
       "    </tr>\n",
       "    <tr>\n",
       "      <th>1</th>\n",
       "      <td>1</td>\n",
       "      <td>2014-09-15</td>\n",
       "      <td>[{\"meal\": \"MY food\", \"dishes\": [{\"nutritions\":...</td>\n",
       "      <td>{\"total\": [{\"name\": \"Calories\", \"value\": 2430}...</td>\n",
       "    </tr>\n",
       "    <tr>\n",
       "      <th>2</th>\n",
       "      <td>1</td>\n",
       "      <td>2014-09-16</td>\n",
       "      <td>[{\"meal\": \"MY food\", \"dishes\": [{\"nutritions\":...</td>\n",
       "      <td>{\"total\": [{\"name\": \"Calories\", \"value\": 1862}...</td>\n",
       "    </tr>\n",
       "    <tr>\n",
       "      <th>3</th>\n",
       "      <td>1</td>\n",
       "      <td>2014-09-17</td>\n",
       "      <td>[{\"meal\": \"MY food\", \"dishes\": [{\"nutritions\":...</td>\n",
       "      <td>{\"total\": [{\"name\": \"Calories\", \"value\": 2251}...</td>\n",
       "    </tr>\n",
       "    <tr>\n",
       "      <th>4</th>\n",
       "      <td>1</td>\n",
       "      <td>2014-09-18</td>\n",
       "      <td>[{\"meal\": \"MY food\", \"dishes\": [{\"nutritions\":...</td>\n",
       "      <td>{\"total\": [{\"name\": \"Calories\", \"value\": 2001}...</td>\n",
       "    </tr>\n",
       "  </tbody>\n",
       "</table>\n",
       "</div>"
      ],
      "text/plain": [
       "   userId  diary_date                                       food_entries  \\\n",
       "0       1  2014-09-14  [{\"meal\": \"MY food\", \"dishes\": [{\"nutritions\":...   \n",
       "1       1  2014-09-15  [{\"meal\": \"MY food\", \"dishes\": [{\"nutritions\":...   \n",
       "2       1  2014-09-16  [{\"meal\": \"MY food\", \"dishes\": [{\"nutritions\":...   \n",
       "3       1  2014-09-17  [{\"meal\": \"MY food\", \"dishes\": [{\"nutritions\":...   \n",
       "4       1  2014-09-18  [{\"meal\": \"MY food\", \"dishes\": [{\"nutritions\":...   \n",
       "\n",
       "                                          daily_goal  \n",
       "0  {\"total\": [{\"name\": \"Calories\", \"value\": 2924}...  \n",
       "1  {\"total\": [{\"name\": \"Calories\", \"value\": 2430}...  \n",
       "2  {\"total\": [{\"name\": \"Calories\", \"value\": 1862}...  \n",
       "3  {\"total\": [{\"name\": \"Calories\", \"value\": 2251}...  \n",
       "4  {\"total\": [{\"name\": \"Calories\", \"value\": 2001}...  "
      ]
     },
     "execution_count": 4,
     "metadata": {},
     "output_type": "execute_result"
    }
   ],
   "source": [
    "df.head()"
   ]
  },
  {
   "cell_type": "code",
   "execution_count": 7,
   "metadata": {
    "scrolled": true
   },
   "outputs": [
    {
     "data": {
      "text/plain": [
       "9896"
      ]
     },
     "execution_count": 7,
     "metadata": {},
     "output_type": "execute_result"
    }
   ],
   "source": [
    "len(df['userId'].unique())"
   ]
  },
  {
   "cell_type": "code",
   "execution_count": null,
   "metadata": {},
   "outputs": [],
   "source": [
    "# entry = json.loads(df.iloc[2, 2])\n",
    "# entry"
   ]
  },
  {
   "cell_type": "code",
   "execution_count": null,
   "metadata": {},
   "outputs": [],
   "source": [
    "# entry[0].keys()"
   ]
  },
  {
   "cell_type": "markdown",
   "metadata": {},
   "source": [
    "## UserId, Entry_Date, Daily_Goal  (Need to Parse Data)"
   ]
  },
  {
   "cell_type": "code",
   "execution_count": 8,
   "metadata": {},
   "outputs": [],
   "source": [
    "df_goal = df.drop(['food_entries'], axis=1)"
   ]
  },
  {
   "cell_type": "code",
   "execution_count": 9,
   "metadata": {
    "scrolled": true
   },
   "outputs": [
    {
     "data": {
      "text/html": [
       "<div>\n",
       "<style scoped>\n",
       "    .dataframe tbody tr th:only-of-type {\n",
       "        vertical-align: middle;\n",
       "    }\n",
       "\n",
       "    .dataframe tbody tr th {\n",
       "        vertical-align: top;\n",
       "    }\n",
       "\n",
       "    .dataframe thead th {\n",
       "        text-align: right;\n",
       "    }\n",
       "</style>\n",
       "<table border=\"1\" class=\"dataframe\">\n",
       "  <thead>\n",
       "    <tr style=\"text-align: right;\">\n",
       "      <th></th>\n",
       "      <th>userId</th>\n",
       "      <th>diary_date</th>\n",
       "      <th>daily_goal</th>\n",
       "    </tr>\n",
       "  </thead>\n",
       "  <tbody>\n",
       "    <tr>\n",
       "      <th>0</th>\n",
       "      <td>1</td>\n",
       "      <td>2014-09-14</td>\n",
       "      <td>{\"total\": [{\"name\": \"Calories\", \"value\": 2924}...</td>\n",
       "    </tr>\n",
       "    <tr>\n",
       "      <th>1</th>\n",
       "      <td>1</td>\n",
       "      <td>2014-09-15</td>\n",
       "      <td>{\"total\": [{\"name\": \"Calories\", \"value\": 2430}...</td>\n",
       "    </tr>\n",
       "    <tr>\n",
       "      <th>2</th>\n",
       "      <td>1</td>\n",
       "      <td>2014-09-16</td>\n",
       "      <td>{\"total\": [{\"name\": \"Calories\", \"value\": 1862}...</td>\n",
       "    </tr>\n",
       "    <tr>\n",
       "      <th>3</th>\n",
       "      <td>1</td>\n",
       "      <td>2014-09-17</td>\n",
       "      <td>{\"total\": [{\"name\": \"Calories\", \"value\": 2251}...</td>\n",
       "    </tr>\n",
       "    <tr>\n",
       "      <th>4</th>\n",
       "      <td>1</td>\n",
       "      <td>2014-09-18</td>\n",
       "      <td>{\"total\": [{\"name\": \"Calories\", \"value\": 2001}...</td>\n",
       "    </tr>\n",
       "  </tbody>\n",
       "</table>\n",
       "</div>"
      ],
      "text/plain": [
       "   userId  diary_date                                         daily_goal\n",
       "0       1  2014-09-14  {\"total\": [{\"name\": \"Calories\", \"value\": 2924}...\n",
       "1       1  2014-09-15  {\"total\": [{\"name\": \"Calories\", \"value\": 2430}...\n",
       "2       1  2014-09-16  {\"total\": [{\"name\": \"Calories\", \"value\": 1862}...\n",
       "3       1  2014-09-17  {\"total\": [{\"name\": \"Calories\", \"value\": 2251}...\n",
       "4       1  2014-09-18  {\"total\": [{\"name\": \"Calories\", \"value\": 2001}..."
      ]
     },
     "execution_count": 9,
     "metadata": {},
     "output_type": "execute_result"
    }
   ],
   "source": [
    "df_goal.head()"
   ]
  },
  {
   "cell_type": "code",
   "execution_count": 10,
   "metadata": {
    "scrolled": false
   },
   "outputs": [
    {
     "data": {
      "text/html": [
       "<div>\n",
       "<style scoped>\n",
       "    .dataframe tbody tr th:only-of-type {\n",
       "        vertical-align: middle;\n",
       "    }\n",
       "\n",
       "    .dataframe tbody tr th {\n",
       "        vertical-align: top;\n",
       "    }\n",
       "\n",
       "    .dataframe thead th {\n",
       "        text-align: right;\n",
       "    }\n",
       "</style>\n",
       "<table border=\"1\" class=\"dataframe\">\n",
       "  <thead>\n",
       "    <tr style=\"text-align: right;\">\n",
       "      <th></th>\n",
       "      <th>daily_goal</th>\n",
       "    </tr>\n",
       "  </thead>\n",
       "  <tbody>\n",
       "    <tr>\n",
       "      <th>0</th>\n",
       "      <td>{\"total\": [{\"name\": \"Calories\", \"value\": 2924}...</td>\n",
       "    </tr>\n",
       "    <tr>\n",
       "      <th>1</th>\n",
       "      <td>{\"total\": [{\"name\": \"Calories\", \"value\": 2430}...</td>\n",
       "    </tr>\n",
       "    <tr>\n",
       "      <th>2</th>\n",
       "      <td>{\"total\": [{\"name\": \"Calories\", \"value\": 1862}...</td>\n",
       "    </tr>\n",
       "    <tr>\n",
       "      <th>3</th>\n",
       "      <td>{\"total\": [{\"name\": \"Calories\", \"value\": 2251}...</td>\n",
       "    </tr>\n",
       "    <tr>\n",
       "      <th>4</th>\n",
       "      <td>{\"total\": [{\"name\": \"Calories\", \"value\": 2001}...</td>\n",
       "    </tr>\n",
       "  </tbody>\n",
       "</table>\n",
       "</div>"
      ],
      "text/plain": [
       "                                          daily_goal\n",
       "0  {\"total\": [{\"name\": \"Calories\", \"value\": 2924}...\n",
       "1  {\"total\": [{\"name\": \"Calories\", \"value\": 2430}...\n",
       "2  {\"total\": [{\"name\": \"Calories\", \"value\": 1862}...\n",
       "3  {\"total\": [{\"name\": \"Calories\", \"value\": 2251}...\n",
       "4  {\"total\": [{\"name\": \"Calories\", \"value\": 2001}..."
      ]
     },
     "execution_count": 10,
     "metadata": {},
     "output_type": "execute_result"
    }
   ],
   "source": [
    "parse_df = df_goal.drop(['userId', 'diary_date'], axis=1)\n",
    "parse_df.head()"
   ]
  },
  {
   "cell_type": "code",
   "execution_count": 11,
   "metadata": {},
   "outputs": [
    {
     "data": {
      "text/plain": [
       "{'total': [{'name': 'Calories', 'value': 2924},\n",
       "  {'name': 'Carbs', 'value': 340},\n",
       "  {'name': 'Fat', 'value': 114},\n",
       "  {'name': 'Protein', 'value': 186},\n",
       "  {'name': 'Sodium', 'value': 3658},\n",
       "  {'name': 'Sugar', 'value': 109}],\n",
       " 'goal': [{'name': 'Calories', 'value': 3173},\n",
       "  {'name': 'Carbs', 'value': 396},\n",
       "  {'name': 'Fat', 'value': 105},\n",
       "  {'name': 'Protein', 'value': 160},\n",
       "  {'name': 'Sodium', 'value': 2300},\n",
       "  {'name': 'Sugar', 'value': 119}]}"
      ]
     },
     "execution_count": 11,
     "metadata": {},
     "output_type": "execute_result"
    }
   ],
   "source": [
    "tg_dict = json.loads(parse_df['daily_goal'][0])\n",
    "tg_dict"
   ]
  },
  {
   "cell_type": "markdown",
   "metadata": {},
   "source": [
    "## Parse Function"
   ]
  },
  {
   "cell_type": "code",
   "execution_count": 12,
   "metadata": {},
   "outputs": [],
   "source": [
    "\"\"\"Creates list of keys and values from the first dictionary, and zips them together\"\"\"\n",
    "def daily_totals(tg_dict):    \n",
    "    total_cols = [list(tg_dict.keys())[0] + \"_\" + x['name'].lower() \n",
    "                  for x in tg_dict['total']]\n",
    "    total_values = [y['value'] \n",
    "                  for y in tg_dict['total']]\n",
    "\n",
    "    total_dict = {}\n",
    "    for col, val in zip(total_cols, total_values):\n",
    "        total_dict[col] = val\n",
    "    return total_dict\n",
    "\n",
    "\"\"\"Creates list of keys and values from the second dictionary, and zips them together\"\"\"\n",
    "def daily_goals(tg_dict):\n",
    "    goal_cols = [list(tg_dict.keys())[1] + \"_\" + k['name'].lower()\n",
    "                 for k in tg_dict['goal']]\n",
    "    goal_values = [i['value']\n",
    "                 for i in tg_dict['goal']]\n",
    "    \n",
    "    goal_dict = {}\n",
    "    for col, val in zip(goal_cols, goal_values):\n",
    "        goal_dict[col] = val\n",
    "    return goal_dict\n",
    "\n",
    "\"\"\"Combines new keys and values for 'Total' and 'Goals' into single dictionary\"\"\"\n",
    "def Merge(dict1, dict2): \n",
    "    res = {**dict1, **dict2} \n",
    "    return res\n",
    "\n",
    "\"\"\"Iterrates through entire parsed dataframe and appends merged rows\"\"\"\n",
    "def final_parsed_dict():\n",
    "    results = []\n",
    "    for row in parse_df['daily_goal'].values:\n",
    "        tg_dict = json.loads(row)\n",
    "        results.append(Merge(daily_goals(tg_dict), daily_totals(tg_dict)))\n",
    "    return results"
   ]
  },
  {
   "cell_type": "code",
   "execution_count": 13,
   "metadata": {},
   "outputs": [],
   "source": [
    "f = pd.DataFrame(final_parsed_dict())"
   ]
  },
  {
   "cell_type": "code",
   "execution_count": 14,
   "metadata": {},
   "outputs": [],
   "source": [
    "df_concat = pd.concat([df_goal, f], axis=1)\n",
    "final_df = df_concat.drop(['daily_goal'], axis=1)"
   ]
  },
  {
   "cell_type": "code",
   "execution_count": 16,
   "metadata": {},
   "outputs": [],
   "source": [
    "final_df = final_df.drop(['goal_calcium','goal_chol','goal_iron','goal_mon fat',\n",
    "                          'goal_ply fat','goal_potass.','goal_sat fat','goal_trn fat',\n",
    "                          'goal_vit a','goal_vit c','total_calcium','total_chol',\n",
    "                          'total_iron','total_mon fat','total_ply fat','total_potass.',\n",
    "                          'total_sat fat','total_trn fat','total_vit a','total_vit c'], axis=1)"
   ]
  },
  {
   "cell_type": "code",
   "execution_count": 17,
   "metadata": {},
   "outputs": [
    {
     "data": {
      "text/plain": [
       "userId                 0\n",
       "diary_date             0\n",
       "goal_calories          7\n",
       "goal_carbs         14145\n",
       "goal_fat           17859\n",
       "goal_fiber        344347\n",
       "goal_protein        7321\n",
       "goal_sodium       196659\n",
       "goal_sugar        218272\n",
       "total_calories        26\n",
       "total_carbs        14146\n",
       "total_fat          17866\n",
       "total_fiber       344349\n",
       "total_protein       7331\n",
       "total_sodium      196660\n",
       "total_sugar       218270\n",
       "dtype: int64"
      ]
     },
     "execution_count": 17,
     "metadata": {},
     "output_type": "execute_result"
    }
   ],
   "source": [
    "final_df.isna().sum()"
   ]
  },
  {
   "cell_type": "code",
   "execution_count": 18,
   "metadata": {},
   "outputs": [],
   "source": [
    "final_df.fillna(0, inplace=True)"
   ]
  },
  {
   "cell_type": "code",
   "execution_count": 19,
   "metadata": {},
   "outputs": [
    {
     "data": {
      "text/plain": [
       "userId            0\n",
       "diary_date        0\n",
       "goal_calories     0\n",
       "goal_carbs        0\n",
       "goal_fat          0\n",
       "goal_fiber        0\n",
       "goal_protein      0\n",
       "goal_sodium       0\n",
       "goal_sugar        0\n",
       "total_calories    0\n",
       "total_carbs       0\n",
       "total_fat         0\n",
       "total_fiber       0\n",
       "total_protein     0\n",
       "total_sodium      0\n",
       "total_sugar       0\n",
       "dtype: int64"
      ]
     },
     "execution_count": 19,
     "metadata": {},
     "output_type": "execute_result"
    }
   ],
   "source": [
    "final_df.isna().sum()"
   ]
  },
  {
   "cell_type": "code",
   "execution_count": 20,
   "metadata": {},
   "outputs": [
    {
     "data": {
      "text/html": [
       "<div>\n",
       "<style scoped>\n",
       "    .dataframe tbody tr th:only-of-type {\n",
       "        vertical-align: middle;\n",
       "    }\n",
       "\n",
       "    .dataframe tbody tr th {\n",
       "        vertical-align: top;\n",
       "    }\n",
       "\n",
       "    .dataframe thead th {\n",
       "        text-align: right;\n",
       "    }\n",
       "</style>\n",
       "<table border=\"1\" class=\"dataframe\">\n",
       "  <thead>\n",
       "    <tr style=\"text-align: right;\">\n",
       "      <th></th>\n",
       "      <th>userId</th>\n",
       "      <th>diary_date</th>\n",
       "      <th>goal_calories</th>\n",
       "      <th>goal_carbs</th>\n",
       "      <th>goal_fat</th>\n",
       "      <th>goal_fiber</th>\n",
       "      <th>goal_protein</th>\n",
       "      <th>goal_sodium</th>\n",
       "      <th>goal_sugar</th>\n",
       "      <th>total_calories</th>\n",
       "      <th>total_carbs</th>\n",
       "      <th>total_fat</th>\n",
       "      <th>total_fiber</th>\n",
       "      <th>total_protein</th>\n",
       "      <th>total_sodium</th>\n",
       "      <th>total_sugar</th>\n",
       "    </tr>\n",
       "  </thead>\n",
       "  <tbody>\n",
       "    <tr>\n",
       "      <th>0</th>\n",
       "      <td>1</td>\n",
       "      <td>2014-09-14</td>\n",
       "      <td>3173.0</td>\n",
       "      <td>396.0</td>\n",
       "      <td>105.0</td>\n",
       "      <td>0.0</td>\n",
       "      <td>160.0</td>\n",
       "      <td>2300.0</td>\n",
       "      <td>119.0</td>\n",
       "      <td>2924.0</td>\n",
       "      <td>340.0</td>\n",
       "      <td>114.0</td>\n",
       "      <td>0.0</td>\n",
       "      <td>186.0</td>\n",
       "      <td>3658.0</td>\n",
       "      <td>109.0</td>\n",
       "    </tr>\n",
       "    <tr>\n",
       "      <th>1</th>\n",
       "      <td>1</td>\n",
       "      <td>2014-09-15</td>\n",
       "      <td>1572.0</td>\n",
       "      <td>196.0</td>\n",
       "      <td>52.0</td>\n",
       "      <td>0.0</td>\n",
       "      <td>79.0</td>\n",
       "      <td>2300.0</td>\n",
       "      <td>59.0</td>\n",
       "      <td>2430.0</td>\n",
       "      <td>96.0</td>\n",
       "      <td>37.0</td>\n",
       "      <td>0.0</td>\n",
       "      <td>50.0</td>\n",
       "      <td>855.0</td>\n",
       "      <td>63.0</td>\n",
       "    </tr>\n",
       "    <tr>\n",
       "      <th>2</th>\n",
       "      <td>1</td>\n",
       "      <td>2014-09-16</td>\n",
       "      <td>1832.0</td>\n",
       "      <td>229.0</td>\n",
       "      <td>61.0</td>\n",
       "      <td>0.0</td>\n",
       "      <td>92.0</td>\n",
       "      <td>2300.0</td>\n",
       "      <td>69.0</td>\n",
       "      <td>1862.0</td>\n",
       "      <td>158.0</td>\n",
       "      <td>54.0</td>\n",
       "      <td>0.0</td>\n",
       "      <td>114.0</td>\n",
       "      <td>2215.0</td>\n",
       "      <td>100.0</td>\n",
       "    </tr>\n",
       "    <tr>\n",
       "      <th>3</th>\n",
       "      <td>1</td>\n",
       "      <td>2014-09-17</td>\n",
       "      <td>1685.0</td>\n",
       "      <td>210.0</td>\n",
       "      <td>56.0</td>\n",
       "      <td>0.0</td>\n",
       "      <td>85.0</td>\n",
       "      <td>2300.0</td>\n",
       "      <td>63.0</td>\n",
       "      <td>2251.0</td>\n",
       "      <td>187.0</td>\n",
       "      <td>60.0</td>\n",
       "      <td>0.0</td>\n",
       "      <td>98.0</td>\n",
       "      <td>1765.0</td>\n",
       "      <td>105.0</td>\n",
       "    </tr>\n",
       "    <tr>\n",
       "      <th>4</th>\n",
       "      <td>1</td>\n",
       "      <td>2014-09-18</td>\n",
       "      <td>1597.0</td>\n",
       "      <td>199.0</td>\n",
       "      <td>53.0</td>\n",
       "      <td>0.0</td>\n",
       "      <td>80.0</td>\n",
       "      <td>2300.0</td>\n",
       "      <td>60.0</td>\n",
       "      <td>2001.0</td>\n",
       "      <td>113.0</td>\n",
       "      <td>81.0</td>\n",
       "      <td>0.0</td>\n",
       "      <td>202.0</td>\n",
       "      <td>1101.0</td>\n",
       "      <td>71.0</td>\n",
       "    </tr>\n",
       "  </tbody>\n",
       "</table>\n",
       "</div>"
      ],
      "text/plain": [
       "   userId  diary_date  goal_calories  goal_carbs  goal_fat  goal_fiber  \\\n",
       "0       1  2014-09-14         3173.0       396.0     105.0         0.0   \n",
       "1       1  2014-09-15         1572.0       196.0      52.0         0.0   \n",
       "2       1  2014-09-16         1832.0       229.0      61.0         0.0   \n",
       "3       1  2014-09-17         1685.0       210.0      56.0         0.0   \n",
       "4       1  2014-09-18         1597.0       199.0      53.0         0.0   \n",
       "\n",
       "   goal_protein  goal_sodium  goal_sugar  total_calories  total_carbs  \\\n",
       "0         160.0       2300.0       119.0          2924.0        340.0   \n",
       "1          79.0       2300.0        59.0          2430.0         96.0   \n",
       "2          92.0       2300.0        69.0          1862.0        158.0   \n",
       "3          85.0       2300.0        63.0          2251.0        187.0   \n",
       "4          80.0       2300.0        60.0          2001.0        113.0   \n",
       "\n",
       "   total_fat  total_fiber  total_protein  total_sodium  total_sugar  \n",
       "0      114.0          0.0          186.0        3658.0        109.0  \n",
       "1       37.0          0.0           50.0         855.0         63.0  \n",
       "2       54.0          0.0          114.0        2215.0        100.0  \n",
       "3       60.0          0.0           98.0        1765.0        105.0  \n",
       "4       81.0          0.0          202.0        1101.0         71.0  "
      ]
     },
     "execution_count": 20,
     "metadata": {},
     "output_type": "execute_result"
    }
   ],
   "source": [
    "final_df.head()"
   ]
  },
  {
   "cell_type": "code",
   "execution_count": 21,
   "metadata": {},
   "outputs": [],
   "source": [
    "final_df['diary_date'] = pd.to_datetime(final_df['diary_date'])"
   ]
  },
  {
   "cell_type": "code",
   "execution_count": null,
   "metadata": {},
   "outputs": [],
   "source": [
    "# for col in final_df.columns:\n",
    "#     final_df[col] = final_df[col].fillna(0)"
   ]
  },
  {
   "cell_type": "code",
   "execution_count": 23,
   "metadata": {},
   "outputs": [],
   "source": [
    "# Create sum column of all nutritional values inputted for the day\n",
    "final_df['total_sum'] = f[['total_calcium', 'total_calories', 'total_carbs','total_chol', \n",
    "                           'total_fat', 'total_fiber', 'total_iron', 'total_mon fat', \n",
    "                           'total_ply fat', 'total_potass.', 'total_protein', 'total_sat fat', \n",
    "                           'total_sodium', 'total_sugar', 'total_trn fat', 'total_vit a', \n",
    "                           'total_vit c']\n",
    "                          ].apply(np.sum, axis=1)"
   ]
  },
  {
   "cell_type": "code",
   "execution_count": 24,
   "metadata": {},
   "outputs": [],
   "source": [
    "# Create sum column of all nutritional goal values for the day\n",
    "final_df['goal_sum'] = f[['goal_calcium', 'goal_calories', 'goal_carbs','goal_chol', \n",
    "                          'goal_fat', 'goal_fiber', 'goal_iron', 'goal_mon fat', \n",
    "                          'goal_ply fat', 'goal_potass.', 'goal_protein', 'goal_sat fat', \n",
    "                          'goal_sodium', 'goal_sugar', 'goal_trn fat', 'goal_vit a', 'goal_vit c']\n",
    "                          ].apply(np.sum, axis=1)"
   ]
  },
  {
   "cell_type": "code",
   "execution_count": null,
   "metadata": {},
   "outputs": [],
   "source": [
    "# final_df['achievement'] = final_df['total_sum'].apply(lambda x: 'succeed' \n",
    "#                                                       if x <= 6000 \n",
    "#                                                       else 'fail')"
   ]
  },
  {
   "cell_type": "markdown",
   "metadata": {},
   "source": [
    "## Labeling:\n",
    "- Achievement Column: Indicates whether or not a user has met their daily goal within a tolerance of 10%.\n",
    "    - 1 = Succeed\n",
    "    - 0 = Fail"
   ]
  },
  {
   "cell_type": "code",
   "execution_count": 25,
   "metadata": {},
   "outputs": [],
   "source": [
    "final_df['achievement'] = np.where(abs((final_df['total_sum'] - final_df['goal_sum']) / final_df['goal_sum']) \n",
    "                                   <= 0.1, 1, 0)"
   ]
  },
  {
   "cell_type": "code",
   "execution_count": 26,
   "metadata": {},
   "outputs": [
    {
     "data": {
      "text/html": [
       "<div>\n",
       "<style scoped>\n",
       "    .dataframe tbody tr th:only-of-type {\n",
       "        vertical-align: middle;\n",
       "    }\n",
       "\n",
       "    .dataframe tbody tr th {\n",
       "        vertical-align: top;\n",
       "    }\n",
       "\n",
       "    .dataframe thead th {\n",
       "        text-align: right;\n",
       "    }\n",
       "</style>\n",
       "<table border=\"1\" class=\"dataframe\">\n",
       "  <thead>\n",
       "    <tr style=\"text-align: right;\">\n",
       "      <th></th>\n",
       "      <th>0</th>\n",
       "      <th>1</th>\n",
       "      <th>2</th>\n",
       "      <th>3</th>\n",
       "      <th>4</th>\n",
       "    </tr>\n",
       "  </thead>\n",
       "  <tbody>\n",
       "    <tr>\n",
       "      <th>userId</th>\n",
       "      <td>1</td>\n",
       "      <td>1</td>\n",
       "      <td>1</td>\n",
       "      <td>1</td>\n",
       "      <td>1</td>\n",
       "    </tr>\n",
       "    <tr>\n",
       "      <th>diary_date</th>\n",
       "      <td>2014-09-14 00:00:00</td>\n",
       "      <td>2014-09-15 00:00:00</td>\n",
       "      <td>2014-09-16 00:00:00</td>\n",
       "      <td>2014-09-17 00:00:00</td>\n",
       "      <td>2014-09-18 00:00:00</td>\n",
       "    </tr>\n",
       "    <tr>\n",
       "      <th>goal_calories</th>\n",
       "      <td>3173</td>\n",
       "      <td>1572</td>\n",
       "      <td>1832</td>\n",
       "      <td>1685</td>\n",
       "      <td>1597</td>\n",
       "    </tr>\n",
       "    <tr>\n",
       "      <th>goal_carbs</th>\n",
       "      <td>396</td>\n",
       "      <td>196</td>\n",
       "      <td>229</td>\n",
       "      <td>210</td>\n",
       "      <td>199</td>\n",
       "    </tr>\n",
       "    <tr>\n",
       "      <th>goal_fat</th>\n",
       "      <td>105</td>\n",
       "      <td>52</td>\n",
       "      <td>61</td>\n",
       "      <td>56</td>\n",
       "      <td>53</td>\n",
       "    </tr>\n",
       "    <tr>\n",
       "      <th>goal_fiber</th>\n",
       "      <td>0</td>\n",
       "      <td>0</td>\n",
       "      <td>0</td>\n",
       "      <td>0</td>\n",
       "      <td>0</td>\n",
       "    </tr>\n",
       "    <tr>\n",
       "      <th>goal_protein</th>\n",
       "      <td>160</td>\n",
       "      <td>79</td>\n",
       "      <td>92</td>\n",
       "      <td>85</td>\n",
       "      <td>80</td>\n",
       "    </tr>\n",
       "    <tr>\n",
       "      <th>goal_sodium</th>\n",
       "      <td>2300</td>\n",
       "      <td>2300</td>\n",
       "      <td>2300</td>\n",
       "      <td>2300</td>\n",
       "      <td>2300</td>\n",
       "    </tr>\n",
       "    <tr>\n",
       "      <th>goal_sugar</th>\n",
       "      <td>119</td>\n",
       "      <td>59</td>\n",
       "      <td>69</td>\n",
       "      <td>63</td>\n",
       "      <td>60</td>\n",
       "    </tr>\n",
       "    <tr>\n",
       "      <th>total_calories</th>\n",
       "      <td>2924</td>\n",
       "      <td>2430</td>\n",
       "      <td>1862</td>\n",
       "      <td>2251</td>\n",
       "      <td>2001</td>\n",
       "    </tr>\n",
       "    <tr>\n",
       "      <th>total_carbs</th>\n",
       "      <td>340</td>\n",
       "      <td>96</td>\n",
       "      <td>158</td>\n",
       "      <td>187</td>\n",
       "      <td>113</td>\n",
       "    </tr>\n",
       "    <tr>\n",
       "      <th>total_fat</th>\n",
       "      <td>114</td>\n",
       "      <td>37</td>\n",
       "      <td>54</td>\n",
       "      <td>60</td>\n",
       "      <td>81</td>\n",
       "    </tr>\n",
       "    <tr>\n",
       "      <th>total_fiber</th>\n",
       "      <td>0</td>\n",
       "      <td>0</td>\n",
       "      <td>0</td>\n",
       "      <td>0</td>\n",
       "      <td>0</td>\n",
       "    </tr>\n",
       "    <tr>\n",
       "      <th>total_protein</th>\n",
       "      <td>186</td>\n",
       "      <td>50</td>\n",
       "      <td>114</td>\n",
       "      <td>98</td>\n",
       "      <td>202</td>\n",
       "    </tr>\n",
       "    <tr>\n",
       "      <th>total_sodium</th>\n",
       "      <td>3658</td>\n",
       "      <td>855</td>\n",
       "      <td>2215</td>\n",
       "      <td>1765</td>\n",
       "      <td>1101</td>\n",
       "    </tr>\n",
       "    <tr>\n",
       "      <th>total_sugar</th>\n",
       "      <td>109</td>\n",
       "      <td>63</td>\n",
       "      <td>100</td>\n",
       "      <td>105</td>\n",
       "      <td>71</td>\n",
       "    </tr>\n",
       "    <tr>\n",
       "      <th>total_sum</th>\n",
       "      <td>7331</td>\n",
       "      <td>3531</td>\n",
       "      <td>4503</td>\n",
       "      <td>4466</td>\n",
       "      <td>3569</td>\n",
       "    </tr>\n",
       "    <tr>\n",
       "      <th>goal_sum</th>\n",
       "      <td>6253</td>\n",
       "      <td>4258</td>\n",
       "      <td>4583</td>\n",
       "      <td>4399</td>\n",
       "      <td>4289</td>\n",
       "    </tr>\n",
       "    <tr>\n",
       "      <th>achievement</th>\n",
       "      <td>0</td>\n",
       "      <td>0</td>\n",
       "      <td>1</td>\n",
       "      <td>1</td>\n",
       "      <td>0</td>\n",
       "    </tr>\n",
       "  </tbody>\n",
       "</table>\n",
       "</div>"
      ],
      "text/plain": [
       "                                  0                    1                    2  \\\n",
       "userId                            1                    1                    1   \n",
       "diary_date      2014-09-14 00:00:00  2014-09-15 00:00:00  2014-09-16 00:00:00   \n",
       "goal_calories                  3173                 1572                 1832   \n",
       "goal_carbs                      396                  196                  229   \n",
       "goal_fat                        105                   52                   61   \n",
       "goal_fiber                        0                    0                    0   \n",
       "goal_protein                    160                   79                   92   \n",
       "goal_sodium                    2300                 2300                 2300   \n",
       "goal_sugar                      119                   59                   69   \n",
       "total_calories                 2924                 2430                 1862   \n",
       "total_carbs                     340                   96                  158   \n",
       "total_fat                       114                   37                   54   \n",
       "total_fiber                       0                    0                    0   \n",
       "total_protein                   186                   50                  114   \n",
       "total_sodium                   3658                  855                 2215   \n",
       "total_sugar                     109                   63                  100   \n",
       "total_sum                      7331                 3531                 4503   \n",
       "goal_sum                       6253                 4258                 4583   \n",
       "achievement                       0                    0                    1   \n",
       "\n",
       "                                  3                    4  \n",
       "userId                            1                    1  \n",
       "diary_date      2014-09-17 00:00:00  2014-09-18 00:00:00  \n",
       "goal_calories                  1685                 1597  \n",
       "goal_carbs                      210                  199  \n",
       "goal_fat                         56                   53  \n",
       "goal_fiber                        0                    0  \n",
       "goal_protein                     85                   80  \n",
       "goal_sodium                    2300                 2300  \n",
       "goal_sugar                       63                   60  \n",
       "total_calories                 2251                 2001  \n",
       "total_carbs                     187                  113  \n",
       "total_fat                        60                   81  \n",
       "total_fiber                       0                    0  \n",
       "total_protein                    98                  202  \n",
       "total_sodium                   1765                 1101  \n",
       "total_sugar                     105                   71  \n",
       "total_sum                      4466                 3569  \n",
       "goal_sum                       4399                 4289  \n",
       "achievement                       1                    0  "
      ]
     },
     "execution_count": 26,
     "metadata": {},
     "output_type": "execute_result"
    }
   ],
   "source": [
    "final_df.head().T"
   ]
  },
  {
   "cell_type": "code",
   "execution_count": 27,
   "metadata": {},
   "outputs": [
    {
     "name": "stdout",
     "output_type": "stream",
     "text": [
      "<class 'pandas.core.frame.DataFrame'>\n",
      "RangeIndex: 587187 entries, 0 to 587186\n",
      "Data columns (total 19 columns):\n",
      "userId            587187 non-null int64\n",
      "diary_date        587187 non-null datetime64[ns]\n",
      "goal_calories     587187 non-null float64\n",
      "goal_carbs        587187 non-null float64\n",
      "goal_fat          587187 non-null float64\n",
      "goal_fiber        587187 non-null float64\n",
      "goal_protein      587187 non-null float64\n",
      "goal_sodium       587187 non-null float64\n",
      "goal_sugar        587187 non-null float64\n",
      "total_calories    587187 non-null float64\n",
      "total_carbs       587187 non-null float64\n",
      "total_fat         587187 non-null float64\n",
      "total_fiber       587187 non-null float64\n",
      "total_protein     587187 non-null float64\n",
      "total_sodium      587187 non-null float64\n",
      "total_sugar       587187 non-null float64\n",
      "total_sum         587187 non-null float64\n",
      "goal_sum          587187 non-null float64\n",
      "achievement       587187 non-null int64\n",
      "dtypes: datetime64[ns](1), float64(16), int64(2)\n",
      "memory usage: 85.1 MB\n"
     ]
    }
   ],
   "source": [
    "final_df.info()"
   ]
  },
  {
   "cell_type": "code",
   "execution_count": 33,
   "metadata": {},
   "outputs": [],
   "source": [
    "final_df.to_json('data/mfp-goals.json', orient='records', lines=True)"
   ]
  },
  {
   "cell_type": "code",
   "execution_count": 36,
   "metadata": {},
   "outputs": [],
   "source": [
    "df = pd.read_json('data/mfp-goals.json', lines=True)"
   ]
  },
  {
   "cell_type": "code",
   "execution_count": 37,
   "metadata": {
    "scrolled": true
   },
   "outputs": [
    {
     "data": {
      "text/html": [
       "<div>\n",
       "<style scoped>\n",
       "    .dataframe tbody tr th:only-of-type {\n",
       "        vertical-align: middle;\n",
       "    }\n",
       "\n",
       "    .dataframe tbody tr th {\n",
       "        vertical-align: top;\n",
       "    }\n",
       "\n",
       "    .dataframe thead th {\n",
       "        text-align: right;\n",
       "    }\n",
       "</style>\n",
       "<table border=\"1\" class=\"dataframe\">\n",
       "  <thead>\n",
       "    <tr style=\"text-align: right;\">\n",
       "      <th></th>\n",
       "      <th>achievement</th>\n",
       "      <th>diary_date</th>\n",
       "      <th>goal_calories</th>\n",
       "      <th>goal_carbs</th>\n",
       "      <th>goal_fat</th>\n",
       "      <th>goal_fiber</th>\n",
       "      <th>goal_protein</th>\n",
       "      <th>goal_sodium</th>\n",
       "      <th>goal_sugar</th>\n",
       "      <th>goal_sum</th>\n",
       "      <th>total_calories</th>\n",
       "      <th>total_carbs</th>\n",
       "      <th>total_fat</th>\n",
       "      <th>total_fiber</th>\n",
       "      <th>total_protein</th>\n",
       "      <th>total_sodium</th>\n",
       "      <th>total_sugar</th>\n",
       "      <th>total_sum</th>\n",
       "      <th>userId</th>\n",
       "    </tr>\n",
       "  </thead>\n",
       "  <tbody>\n",
       "    <tr>\n",
       "      <th>0</th>\n",
       "      <td>0</td>\n",
       "      <td>1410652800000</td>\n",
       "      <td>3173</td>\n",
       "      <td>396</td>\n",
       "      <td>105</td>\n",
       "      <td>0</td>\n",
       "      <td>160</td>\n",
       "      <td>2300</td>\n",
       "      <td>119</td>\n",
       "      <td>6253</td>\n",
       "      <td>2924</td>\n",
       "      <td>340</td>\n",
       "      <td>114</td>\n",
       "      <td>0</td>\n",
       "      <td>186</td>\n",
       "      <td>3658</td>\n",
       "      <td>109</td>\n",
       "      <td>7331</td>\n",
       "      <td>1</td>\n",
       "    </tr>\n",
       "    <tr>\n",
       "      <th>1</th>\n",
       "      <td>0</td>\n",
       "      <td>1410739200000</td>\n",
       "      <td>1572</td>\n",
       "      <td>196</td>\n",
       "      <td>52</td>\n",
       "      <td>0</td>\n",
       "      <td>79</td>\n",
       "      <td>2300</td>\n",
       "      <td>59</td>\n",
       "      <td>4258</td>\n",
       "      <td>2430</td>\n",
       "      <td>96</td>\n",
       "      <td>37</td>\n",
       "      <td>0</td>\n",
       "      <td>50</td>\n",
       "      <td>855</td>\n",
       "      <td>63</td>\n",
       "      <td>3531</td>\n",
       "      <td>1</td>\n",
       "    </tr>\n",
       "    <tr>\n",
       "      <th>2</th>\n",
       "      <td>1</td>\n",
       "      <td>1410825600000</td>\n",
       "      <td>1832</td>\n",
       "      <td>229</td>\n",
       "      <td>61</td>\n",
       "      <td>0</td>\n",
       "      <td>92</td>\n",
       "      <td>2300</td>\n",
       "      <td>69</td>\n",
       "      <td>4583</td>\n",
       "      <td>1862</td>\n",
       "      <td>158</td>\n",
       "      <td>54</td>\n",
       "      <td>0</td>\n",
       "      <td>114</td>\n",
       "      <td>2215</td>\n",
       "      <td>100</td>\n",
       "      <td>4503</td>\n",
       "      <td>1</td>\n",
       "    </tr>\n",
       "    <tr>\n",
       "      <th>3</th>\n",
       "      <td>1</td>\n",
       "      <td>1410912000000</td>\n",
       "      <td>1685</td>\n",
       "      <td>210</td>\n",
       "      <td>56</td>\n",
       "      <td>0</td>\n",
       "      <td>85</td>\n",
       "      <td>2300</td>\n",
       "      <td>63</td>\n",
       "      <td>4399</td>\n",
       "      <td>2251</td>\n",
       "      <td>187</td>\n",
       "      <td>60</td>\n",
       "      <td>0</td>\n",
       "      <td>98</td>\n",
       "      <td>1765</td>\n",
       "      <td>105</td>\n",
       "      <td>4466</td>\n",
       "      <td>1</td>\n",
       "    </tr>\n",
       "    <tr>\n",
       "      <th>4</th>\n",
       "      <td>0</td>\n",
       "      <td>1410998400000</td>\n",
       "      <td>1597</td>\n",
       "      <td>199</td>\n",
       "      <td>53</td>\n",
       "      <td>0</td>\n",
       "      <td>80</td>\n",
       "      <td>2300</td>\n",
       "      <td>60</td>\n",
       "      <td>4289</td>\n",
       "      <td>2001</td>\n",
       "      <td>113</td>\n",
       "      <td>81</td>\n",
       "      <td>0</td>\n",
       "      <td>202</td>\n",
       "      <td>1101</td>\n",
       "      <td>71</td>\n",
       "      <td>3569</td>\n",
       "      <td>1</td>\n",
       "    </tr>\n",
       "  </tbody>\n",
       "</table>\n",
       "</div>"
      ],
      "text/plain": [
       "   achievement     diary_date  goal_calories  goal_carbs  goal_fat  \\\n",
       "0            0  1410652800000           3173         396       105   \n",
       "1            0  1410739200000           1572         196        52   \n",
       "2            1  1410825600000           1832         229        61   \n",
       "3            1  1410912000000           1685         210        56   \n",
       "4            0  1410998400000           1597         199        53   \n",
       "\n",
       "   goal_fiber  goal_protein  goal_sodium  goal_sugar  goal_sum  \\\n",
       "0           0           160         2300         119      6253   \n",
       "1           0            79         2300          59      4258   \n",
       "2           0            92         2300          69      4583   \n",
       "3           0            85         2300          63      4399   \n",
       "4           0            80         2300          60      4289   \n",
       "\n",
       "   total_calories  total_carbs  total_fat  total_fiber  total_protein  \\\n",
       "0            2924          340        114            0            186   \n",
       "1            2430           96         37            0             50   \n",
       "2            1862          158         54            0            114   \n",
       "3            2251          187         60            0             98   \n",
       "4            2001          113         81            0            202   \n",
       "\n",
       "   total_sodium  total_sugar  total_sum  userId  \n",
       "0          3658          109       7331       1  \n",
       "1           855           63       3531       1  \n",
       "2          2215          100       4503       1  \n",
       "3          1765          105       4466       1  \n",
       "4          1101           71       3569       1  "
      ]
     },
     "execution_count": 37,
     "metadata": {},
     "output_type": "execute_result"
    }
   ],
   "source": [
    "df.head()"
   ]
  },
  {
   "cell_type": "code",
   "execution_count": 39,
   "metadata": {},
   "outputs": [],
   "source": [
    "df['diary_date'] = pd.to_datetime(df['diary_date'])"
   ]
  },
  {
   "cell_type": "code",
   "execution_count": 40,
   "metadata": {},
   "outputs": [
    {
     "name": "stdout",
     "output_type": "stream",
     "text": [
      "<class 'pandas.core.frame.DataFrame'>\n",
      "RangeIndex: 587187 entries, 0 to 587186\n",
      "Data columns (total 19 columns):\n",
      "achievement       587187 non-null int64\n",
      "diary_date        587187 non-null datetime64[ns]\n",
      "goal_calories     587187 non-null int64\n",
      "goal_carbs        587187 non-null int64\n",
      "goal_fat          587187 non-null int64\n",
      "goal_fiber        587187 non-null int64\n",
      "goal_protein      587187 non-null int64\n",
      "goal_sodium       587187 non-null int64\n",
      "goal_sugar        587187 non-null int64\n",
      "goal_sum          587187 non-null int64\n",
      "total_calories    587187 non-null int64\n",
      "total_carbs       587187 non-null int64\n",
      "total_fat         587187 non-null int64\n",
      "total_fiber       587187 non-null int64\n",
      "total_protein     587187 non-null int64\n",
      "total_sodium      587187 non-null int64\n",
      "total_sugar       587187 non-null int64\n",
      "total_sum         587187 non-null int64\n",
      "userId            587187 non-null int64\n",
      "dtypes: datetime64[ns](1), int64(18)\n",
      "memory usage: 85.1 MB\n"
     ]
    }
   ],
   "source": [
    "df.info()"
   ]
  },
  {
   "cell_type": "code",
   "execution_count": null,
   "metadata": {},
   "outputs": [],
   "source": []
  },
  {
   "cell_type": "code",
   "execution_count": 28,
   "metadata": {},
   "outputs": [],
   "source": [
    "from sklearn.model_selection import train_test_split\n",
    "from sklearn.linear_model import LogisticRegression\n",
    "from sklearn.preprocessing import StandardScaler\n",
    "from sklearn.metrics import roc_curve, auc, precision_score, recall_score, accuracy_score, f1_score"
   ]
  },
  {
   "cell_type": "code",
   "execution_count": 29,
   "metadata": {},
   "outputs": [],
   "source": [
    "#Setting X and y variables, then Train Test Split\n",
    "X = final_df.drop(['achievement','diary_date','userId','goal_sum','total_sum',\n",
    "                   'goal_calories','goal_carbs','goal_fat','goal_fiber',\n",
    "                   'goal_protein','goal_sodium','goal_sugar'], axis=1)\n",
    "y = final_df.achievement\n",
    "\n",
    "X_train, X_test, y_train, y_test = train_test_split(X, y, test_size=0.25, random_state=1)"
   ]
  },
  {
   "cell_type": "code",
   "execution_count": 30,
   "metadata": {},
   "outputs": [],
   "source": [
    "loreg = LogisticRegression(solver='lbfgs', max_iter=1000)\n",
    "loreg.fit(X_train, y_train)\n",
    "loreg_preds = loreg.predict(X_test)"
   ]
  },
  {
   "cell_type": "code",
   "execution_count": 31,
   "metadata": {},
   "outputs": [
    {
     "name": "stdout",
     "output_type": "stream",
     "text": [
      "Precision Score: 0.2971922246220302\n",
      "Recall Score: 0.0221778092966282\n",
      "Accuracy Score: 0.7822775669802516\n",
      "F1 Score: 0.04127545969943306\n"
     ]
    }
   ],
   "source": [
    "def print_metrics(y, loreg_preds):\n",
    "    print(\"Precision Score: {}\".format(precision_score(y, loreg_preds)))\n",
    "    print(\"Recall Score: {}\".format(recall_score(y, loreg_preds)))\n",
    "    print(\"Accuracy Score: {}\".format(accuracy_score(y, loreg_preds)))\n",
    "    print(\"F1 Score: {}\".format(f1_score(y, loreg_preds)))\n",
    "    \n",
    "print_metrics(y_test, loreg_preds)"
   ]
  },
  {
   "cell_type": "code",
   "execution_count": null,
   "metadata": {},
   "outputs": [],
   "source": []
  },
  {
   "cell_type": "code",
   "execution_count": null,
   "metadata": {},
   "outputs": [],
   "source": []
  },
  {
   "cell_type": "code",
   "execution_count": null,
   "metadata": {},
   "outputs": [],
   "source": [
    "# json_dict.keys()[0]\n",
    "# Gives Error: 'dict_keys' object does not support indexing, hence needs to be set to a list to iterate."
   ]
  },
  {
   "cell_type": "markdown",
   "metadata": {},
   "source": [
    "### Goal:\n",
    "Create 1 column per dictionary in both total key and goal key\n",
    "\n",
    "- total\n",
    "    + total_calories\n",
    "    + total_carbs\n",
    "    + total_fat\n",
    "    + total_protein\n",
    "    + total_sodium\n",
    "    + total_sugar\n",
    "- goal\n",
    "    + goal_calories\n",
    "    + goal_carbs\n",
    "    + goal_fat\n",
    "    + goal_protein\n",
    "    + goal_sodium\n",
    "    + goal_sugar"
   ]
  },
  {
   "cell_type": "code",
   "execution_count": null,
   "metadata": {},
   "outputs": [],
   "source": [
    "# df = pd.DataFrame([[1, 4],\n",
    "#                    [2, 5],\n",
    "#                    [3, 6]],\n",
    "#                   columns=[\"a\", \"b\"])\n",
    "# df"
   ]
  },
  {
   "cell_type": "code",
   "execution_count": null,
   "metadata": {},
   "outputs": [],
   "source": [
    "# df[\"c\"] = df.apply(np.sum, axis=1)\n",
    "# df"
   ]
  },
  {
   "cell_type": "code",
   "execution_count": null,
   "metadata": {},
   "outputs": [],
   "source": []
  },
  {
   "cell_type": "code",
   "execution_count": null,
   "metadata": {},
   "outputs": [],
   "source": []
  },
  {
   "cell_type": "code",
   "execution_count": null,
   "metadata": {},
   "outputs": [],
   "source": []
  }
 ],
 "metadata": {
  "kernelspec": {
   "display_name": "Python 3",
   "language": "python",
   "name": "python3"
  },
  "language_info": {
   "codemirror_mode": {
    "name": "ipython",
    "version": 3
   },
   "file_extension": ".py",
   "mimetype": "text/x-python",
   "name": "python",
   "nbconvert_exporter": "python",
   "pygments_lexer": "ipython3",
   "version": "3.7.1"
  }
 },
 "nbformat": 4,
 "nbformat_minor": 2
}
